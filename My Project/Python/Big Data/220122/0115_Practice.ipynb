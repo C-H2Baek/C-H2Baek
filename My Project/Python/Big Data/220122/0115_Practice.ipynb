{
 "cells": [
  {
   "cell_type": "code",
   "execution_count": 42,
   "id": "6131e19d",
   "metadata": {},
   "outputs": [],
   "source": [
    "from bs4 import BeautifulSoup\n",
    "import requests"
   ]
  },
  {
   "cell_type": "code",
   "execution_count": 51,
   "id": "adb2605e",
   "metadata": {
    "scrolled": true
   },
   "outputs": [
    {
     "name": "stdout",
     "output_type": "stream",
     "text": [
      "['Vegetable Basket', 'This vegetable basket is the perfect gift for your health conscious (or overweight) friends!\\nNow with super-colorful bell peppers!', '$15.00', '../img/gifts/img1.jpg']\n",
      "\n",
      "['Russian Nesting Dolls', 'Hand-painted by trained monkeys, these exquisite dolls are priceless! And by \"priceless,\" we mean \"extremely expensive\"! 8 entire dolls per set! Octuple the presents!', '$10,000.52', '../img/gifts/img2.jpg']\n",
      "\n",
      "['Fish Painting', \"If something seems fishy about this painting, it's because it's a fish! Also hand-painted by trained monkeys!\", '$10,005.00', '../img/gifts/img3.jpg']\n",
      "\n",
      "['Dead Parrot', \"This is an ex-parrot! Or maybe he's only resting?\", '$0.50', '../img/gifts/img4.jpg']\n",
      "\n",
      "['Mystery Box', 'If you love suprises, this mystery box is for you! Do not place on light-colored surfaces. May cause oil staining. Keep your friends guessing!', '$1.50', '../img/gifts/img6.jpg']\n",
      "\n"
     ]
    }
   ],
   "source": [
    "Source = requests.get('https://pythonscraping.com/pages/page3.html')\n",
    "Soup = BeautifulSoup(Source.content,'html.parser') \n",
    "\n",
    "Lists = Soup.select('.gift')\n",
    "\n",
    "for i in Lists:\n",
    "    print(list(map(lambda x : x.text.strip() , list(i)[:-1])) + [i.find(name = 'img').attrs['src']])\n",
    "    print()\n",
    "    "
   ]
  },
  {
   "cell_type": "code",
   "execution_count": 8,
   "id": "842ef7f6",
   "metadata": {},
   "outputs": [
    {
     "data": {
      "text/plain": [
       "[<td>\n",
       " Mystery Box\n",
       " </td>]"
      ]
     },
     "execution_count": 8,
     "metadata": {},
     "output_type": "execute_result"
    }
   ],
   "source": [
    "Title = Soup.select('td:nth-child(1)')\n",
    "Title"
   ]
  },
  {
   "cell_type": "code",
   "execution_count": 10,
   "id": "45ad5fb1",
   "metadata": {},
   "outputs": [
    {
     "data": {
      "text/plain": [
       "[<td>\n",
       " If you love suprises, this mystery box is for you! Do not place on light-colored surfaces. May cause oil staining. <span class=\"excitingNote\">Keep your friends guessing!</span>\n",
       " </td>]"
      ]
     },
     "execution_count": 10,
     "metadata": {},
     "output_type": "execute_result"
    }
   ],
   "source": [
    "Description = Soup.select('td:nth-child(2)')\n",
    "Description"
   ]
  },
  {
   "cell_type": "code",
   "execution_count": 11,
   "id": "1433d050",
   "metadata": {},
   "outputs": [
    {
     "data": {
      "text/plain": [
       "[<td>\n",
       " $1.50\n",
       " </td>]"
      ]
     },
     "execution_count": 11,
     "metadata": {},
     "output_type": "execute_result"
    }
   ],
   "source": [
    "Cost = Soup.select('td:nth-child(3)')\n",
    "Cost"
   ]
  },
  {
   "cell_type": "code",
   "execution_count": 12,
   "id": "b0013471",
   "metadata": {},
   "outputs": [
    {
     "data": {
      "text/plain": [
       "'../img/gifts/img6.jpg'"
      ]
     },
     "execution_count": 12,
     "metadata": {},
     "output_type": "execute_result"
    }
   ],
   "source": [
    "Image = Soup.find(name = 'img' ).attrs['src']\n",
    "Image"
   ]
  },
  {
   "cell_type": "code",
   "execution_count": 41,
   "id": "1737b79f",
   "metadata": {
    "scrolled": true
   },
   "outputs": [
    {
     "name": "stdout",
     "output_type": "stream",
     "text": [
      "\n",
      "Title :\n",
      "Vegetable Basket\n",
      "\n",
      "Description :\n",
      "This vegetable basket is the perfect gift for your health conscious (or overweight) friends!\n",
      "Now with super-colorful bell peppers!\n",
      "\n",
      "Price :\n",
      "$15.00\n",
      "\n",
      "Img-Source :\n",
      "../img/gifts/img1.jpg\n",
      "\n",
      "Title :\n",
      "Russian Nesting Dolls\n",
      "\n",
      "Description :\n",
      "Hand-painted by trained monkeys, these exquisite dolls are priceless! And by \"priceless,\" we mean \"extremely expensive\"! 8 entire dolls per set! Octuple the presents!\n",
      "\n",
      "Price :\n",
      "$10,000.52\n",
      "\n",
      "Img-Source :\n",
      "../img/gifts/img2.jpg\n",
      "\n",
      "Title :\n",
      "Fish Painting\n",
      "\n",
      "Description :\n",
      "If something seems fishy about this painting, it's because it's a fish! Also hand-painted by trained monkeys!\n",
      "\n",
      "Price :\n",
      "$10,005.00\n",
      "\n",
      "Img-Source :\n",
      "../img/gifts/img3.jpg\n",
      "\n",
      "Title :\n",
      "Dead Parrot\n",
      "\n",
      "Description :\n",
      "This is an ex-parrot! Or maybe he's only resting?\n",
      "\n",
      "Price :\n",
      "$0.50\n",
      "\n",
      "Img-Source :\n",
      "../img/gifts/img4.jpg\n",
      "\n",
      "Title :\n",
      "Mystery Box\n",
      "\n",
      "Description :\n",
      "If you love suprises, this mystery box is for you! Do not place on light-colored surfaces. May cause oil staining. Keep your friends guessing!\n",
      "\n",
      "Price :\n",
      "$1.50\n",
      "\n",
      "Img-Source :\n",
      "../img/gifts/img6.jpg\n"
     ]
    }
   ],
   "source": [
    "Lists = Soup.select('.gift')\n",
    "for I in Lists:\n",
    "    Title = I.select_one('td').text\n",
    "    Des = I.select_one('td:nth-child(2)').text\n",
    "    Price = I.select_one('td:nth-child(3)').text\n",
    "    Img = I.find(name = 'img' ).attrs['src']\n",
    "    print(f'\\nTitle :{Title}\\nDescription :{Des}\\nPrice :{Price}\\nImg-Source :\\n{Img}')\n",
    "\n",
    "    \n",
    "    #gift1 > td:nth-child(4) > img"
   ]
  },
  {
   "cell_type": "code",
   "execution_count": 53,
   "id": "0fb9a5f1",
   "metadata": {},
   "outputs": [],
   "source": [
    "html_doc = \"\"\"<html><head><title>The Dormouse's story</title></head>\n",
    "<body>\n",
    "<p class=\"title\"><b>The Dormouse's story</b></p>\n",
    "\n",
    "<p class=\"story\">Once upon a time there were three little sisters; and their names were\n",
    "<a href=\"http://example.com/elsie\" class=\"sister\" id=\"link1\">Elsie</a>,\n",
    "<a href=\"http://example.com/lacie\" class=\"sister\" id=\"link2\">Lacie</a> and\n",
    "<a href=\"http://example.com/tillie\" class=\"sister\" id=\"link3\">Tillie</a>;\n",
    "and they lived at the bottom of a well.</p>\n",
    "\n",
    "<p class=\"story\">...</p>\n",
    "\"\"\""
   ]
  },
  {
   "cell_type": "code",
   "execution_count": 59,
   "id": "8126fa91",
   "metadata": {},
   "outputs": [
    {
     "name": "stdout",
     "output_type": "stream",
     "text": [
      "<html>\n",
      " <head>\n",
      "  <title>\n",
      "   The Dormouse's story\n",
      "  </title>\n",
      " </head>\n",
      " <body>\n",
      "  <p class=\"title\">\n",
      "   <b>\n",
      "    The Dormouse's story\n",
      "   </b>\n",
      "  </p>\n",
      "  <p class=\"story\">\n",
      "   Once upon a time there were three little sisters; and their names were\n",
      "   <a class=\"sister\" href=\"http://example.com/elsie\" id=\"link1\">\n",
      "    Elsie\n",
      "   </a>\n",
      "   ,\n",
      "   <a class=\"sister\" href=\"http://example.com/lacie\" id=\"link2\">\n",
      "    Lacie\n",
      "   </a>\n",
      "   and\n",
      "   <a class=\"sister\" href=\"http://example.com/tillie\" id=\"link3\">\n",
      "    Tillie\n",
      "   </a>\n",
      "   ;\n",
      "and they lived at the bottom of a well.\n",
      "  </p>\n",
      "  <p class=\"story\">\n",
      "   ...\n",
      "  </p>\n",
      " </body>\n",
      "</html>\n"
     ]
    }
   ],
   "source": [
    "htmlsoup = BeautifulSoup(html_doc, 'html.parser')\n",
    "print(htmlsoup.prettify())"
   ]
  },
  {
   "cell_type": "code",
   "execution_count": 60,
   "id": "25eea518",
   "metadata": {},
   "outputs": [
    {
     "data": {
      "text/plain": [
       "<title>The Dormouse's story</title>"
      ]
     },
     "execution_count": 60,
     "metadata": {},
     "output_type": "execute_result"
    }
   ],
   "source": [
    "htmlsoup.title"
   ]
  },
  {
   "cell_type": "code",
   "execution_count": 61,
   "id": "a3292660",
   "metadata": {},
   "outputs": [
    {
     "data": {
      "text/plain": [
       "\"The Dormouse's story\""
      ]
     },
     "execution_count": 61,
     "metadata": {},
     "output_type": "execute_result"
    }
   ],
   "source": [
    "htmlsoup.title.text"
   ]
  },
  {
   "cell_type": "code",
   "execution_count": 62,
   "id": "56cbbb92",
   "metadata": {},
   "outputs": [
    {
     "data": {
      "text/plain": [
       "<p class=\"title\"><b>The Dormouse's story</b></p>"
      ]
     },
     "execution_count": 62,
     "metadata": {},
     "output_type": "execute_result"
    }
   ],
   "source": [
    "htmlsoup.p"
   ]
  },
  {
   "cell_type": "markdown",
   "id": "d3263e3e",
   "metadata": {},
   "source": [
    "#### find_all, find()\n",
    "#### -태그를 이용하여 검색, all은 list형태를 반환\n",
    "#### select(), select_one()\n",
    "#### -css선택자를 이용하여 검색"
   ]
  },
  {
   "cell_type": "code",
   "execution_count": null,
   "id": "d8f9b1fd",
   "metadata": {},
   "outputs": [],
   "source": []
  },
  {
   "cell_type": "code",
   "execution_count": null,
   "id": "65f01826",
   "metadata": {},
   "outputs": [],
   "source": []
  },
  {
   "cell_type": "code",
   "execution_count": 70,
   "id": "51948fd4",
   "metadata": {},
   "outputs": [
    {
     "data": {
      "text/plain": [
       "<p class=\"title\"><b>The Dormouse's story</b></p>"
      ]
     },
     "execution_count": 70,
     "metadata": {},
     "output_type": "execute_result"
    }
   ],
   "source": [
    "html2 = htmlsoup.find('p','title')\n",
    "html2"
   ]
  },
  {
   "cell_type": "code",
   "execution_count": 71,
   "id": "1cbf9e4e",
   "metadata": {},
   "outputs": [
    {
     "data": {
      "text/plain": [
       "\"The Dormouse's story\""
      ]
     },
     "execution_count": 71,
     "metadata": {},
     "output_type": "execute_result"
    }
   ],
   "source": [
    "html2.text"
   ]
  },
  {
   "cell_type": "code",
   "execution_count": 73,
   "id": "f122693e",
   "metadata": {},
   "outputs": [
    {
     "data": {
      "text/plain": [
       "<title>The Dormouse's story</title>"
      ]
     },
     "execution_count": 73,
     "metadata": {},
     "output_type": "execute_result"
    }
   ],
   "source": [
    "# html하위 태그\n",
    "html2 = htmlsoup.select_one('html head title')\n",
    "html2"
   ]
  },
  {
   "cell_type": "code",
   "execution_count": null,
   "id": "a6274a06",
   "metadata": {},
   "outputs": [],
   "source": []
  },
  {
   "cell_type": "code",
   "execution_count": null,
   "id": "65b818de",
   "metadata": {},
   "outputs": [],
   "source": []
  }
 ],
 "metadata": {
  "kernelspec": {
   "display_name": "Python 3 (ipykernel)",
   "language": "python",
   "name": "python3"
  },
  "language_info": {
   "codemirror_mode": {
    "name": "ipython",
    "version": 3
   },
   "file_extension": ".py",
   "mimetype": "text/x-python",
   "name": "python",
   "nbconvert_exporter": "python",
   "pygments_lexer": "ipython3",
   "version": "3.9.7"
  }
 },
 "nbformat": 4,
 "nbformat_minor": 5
}
