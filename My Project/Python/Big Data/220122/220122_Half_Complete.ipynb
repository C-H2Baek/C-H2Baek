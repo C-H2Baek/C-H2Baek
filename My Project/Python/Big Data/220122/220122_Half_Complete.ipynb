{
 "cells": [
  {
   "cell_type": "code",
   "execution_count": 13,
   "id": "3e5f1060",
   "metadata": {},
   "outputs": [
    {
     "name": "stdout",
     "output_type": "stream",
     "text": [
      "검색어를 입력해주세요.학원\n",
      "검색어 : 학원\n",
      "순번 : 1\n",
      "한자 : (學員)\n",
      "품사 : 「명사」\n",
      "설명 : 공부하는인원.\n",
      "링크 : https://stdict.korean.go.kr/search/searchView.do?word_no=362856&searchKeywordTo=3\n",
      "----------------------------------------------------------------------------------------------\n",
      "검색어 : 학원\n",
      "순번 : 2\n",
      "한자 : (學院)\n",
      "품사 : 「명사」\n",
      "설명 : 『교육』일정한목적ㆍ교과과정ㆍ설비ㆍ제도및법규에의하여계속적으로학생에게교육을실시하는기관.=학교.\n",
      "링크 : https://stdict.korean.go.kr/search/searchView.do?word_no=503671&searchKeywordTo=3\n",
      "----------------------------------------------------------------------------------------------\n",
      "검색어 : 학원\n",
      "순번 : 3\n",
      "한자 : (學園)\n",
      "품사 : 「명사」\n",
      "설명 : 『교육』학교및기타교육기관을통틀어이르는말.\n",
      "링크 : https://stdict.korean.go.kr/search/searchView.do?word_no=362857&searchKeywordTo=3\n",
      "----------------------------------------------------------------------------------------------\n",
      "검색어 : 학원\n",
      "순번 : 4\n",
      "한자 : (學園)\n",
      "품사 : 「명사」\n",
      "설명 : 『문학』1919년에발간된최초의학생잡지.창가,소설따위가발표되어소년ㆍ소녀들에게처음으로문학적인분위기에접하는계기를만들어주었다.\n",
      "링크 : https://stdict.korean.go.kr/search/searchView.do?word_no=362858&searchKeywordTo=3\n",
      "----------------------------------------------------------------------------------------------\n"
     ]
    }
   ],
   "source": [
    "import  pandas as pd\n",
    "from selenium import webdriver\n",
    "from bs4 import BeautifulSoup\n",
    "import re \n",
    "import warnings\n",
    "warnings.filterwarnings(\"ignore\")\n",
    "\n",
    "\n",
    "# 크롤링한 데이터를 데이터 프레임으로 만들기 위해 준비\n",
    "columns = [\"검색어\", \"순번\", \"한자\",\"품사\",\"설명\",\"링크\"]\n",
    "df = pd.DataFrame(columns=columns)\n",
    "excutable_path = \"../Library/chromedriver.exe\"\n",
    "driver = webdriver.Chrome(executable_path=excutable_path)\n",
    "base_url = 'https://stdict.korean.go.kr'\n",
    "\n",
    "def urlmake(links):\n",
    "    source = links\n",
    "    driver.get(source)\n",
    "    req = driver.page_source\n",
    "    soup = BeautifulSoup(req, \"html.parser\") \n",
    "    return soup\n",
    "\n",
    "def listmake(word):\n",
    "    num = isNone(word.select_one('.t_blue1 > sup'))\n",
    "    china = isNone(word.select_one('dt> span'))\n",
    "    poumsa =  isNone(word.select_one('dt'))\n",
    "    content = isNone(word.select_one('font'))\n",
    "    link = word.select_one('a').attrs['href']\n",
    "    return num,china,poumsa,content,base_url +link\n",
    "\n",
    "def isNone(word):\n",
    "    if word != None and word.text != '':\n",
    "        if len(word) > 3:\n",
    "            index = startAndLast(re.sub('[\\t\\n\\s]','',word.text))\n",
    "            return re.sub('[\\t\\n\\s]','',word.text)[index[0]:index[1]]\n",
    "        return re.sub('[\\t\\n\\s]','',word.text)\n",
    "    else:\n",
    "        return \"Nope\"\n",
    "\n",
    "def startAndLast(word):\n",
    "    ok = True\n",
    "    start_index = 0\n",
    "    last_index = 0\n",
    "    for i in range(len(word)):\n",
    "        if ok and word[i] == '「':\n",
    "            start_index = i\n",
    "        if word[i] == '」':\n",
    "            last_index = i+1\n",
    "            return start_index,last_index\n",
    "\n",
    "        \n",
    "        \n",
    "        \n",
    "        \n",
    "search_data =  input(\"검색어를 입력해주세요.\")\n",
    "\n",
    "\n",
    "url = 'https://stdict.korean.go.kr/search/searchResult.do?pageSize=10&searchKeyword=' + str(search_data)\n",
    "\n",
    "num = 0\n",
    "\n",
    "search_soup = urlmake(url)\n",
    "\n",
    "title = search_soup.select_one('.t_blue2')\n",
    "if title != None:\n",
    "    title = title.text.strip()\n",
    "    words = search_soup.select('.result > li')\n",
    "    for word in words:\n",
    "        print(f'{columns[0]} : {title}')\n",
    "        for i in range(len(listmake(word))):\n",
    "            print(f'{columns[i+1]} : {listmake(word)[i]}') \n",
    "        print('----------------------------------------------------------------------------------------------')\n",
    "        row = [title,*listmake(word)]\n",
    "        series = pd.Series(row, index=df.columns)\n",
    "        df = df.append(series, ignore_index=True)\n",
    "else:\n",
    "    text = search_soup.select_one('.no_result>li>div')\n",
    "    if text == None:\n",
    "        print(search_soup.select_one('.no_result').text)\n",
    "    else:\n",
    "        print(text.text)\n",
    "        print('https://opendic.korean.go.kr/search/searchResult?query='+search_data)"
   ]
  },
  {
   "cell_type": "code",
   "execution_count": 8,
   "id": "07c1f79b",
   "metadata": {},
   "outputs": [
    {
     "name": "stdout",
     "output_type": "stream",
     "text": [
      "['학원\\n', '학교\\n', '역사\\n', '수학\\n', '소설']\n"
     ]
    }
   ],
   "source": [
    "file = open('words.txt', 'rt', encoding ='utf8')\n",
    "lines = file.readlines()\n",
    "print(lines)"
   ]
  },
  {
   "cell_type": "code",
   "execution_count": 9,
   "id": "347862c0",
   "metadata": {},
   "outputs": [
    {
     "name": "stdout",
     "output_type": "stream",
     "text": [
      "학원\n",
      "학교\n",
      "역사\n",
      "수학\n",
      "소설\n"
     ]
    }
   ],
   "source": [
    "f = open(\"words.txt\", 'r', encoding = 'utf8')\n",
    "lines = f.readlines()\n",
    "for line in lines:\n",
    "    line = line.strip()  \n",
    "    print(line)\n",
    "f.close()"
   ]
  },
  {
   "cell_type": "code",
   "execution_count": 14,
   "id": "a84a6446",
   "metadata": {},
   "outputs": [
    {
     "data": {
      "text/html": [
       "<div>\n",
       "<style scoped>\n",
       "    .dataframe tbody tr th:only-of-type {\n",
       "        vertical-align: middle;\n",
       "    }\n",
       "\n",
       "    .dataframe tbody tr th {\n",
       "        vertical-align: top;\n",
       "    }\n",
       "\n",
       "    .dataframe thead th {\n",
       "        text-align: right;\n",
       "    }\n",
       "</style>\n",
       "<table border=\"1\" class=\"dataframe\">\n",
       "  <thead>\n",
       "    <tr style=\"text-align: right;\">\n",
       "      <th></th>\n",
       "      <th>검색어</th>\n",
       "      <th>순번</th>\n",
       "      <th>한자</th>\n",
       "      <th>품사</th>\n",
       "      <th>설명</th>\n",
       "      <th>링크</th>\n",
       "    </tr>\n",
       "  </thead>\n",
       "  <tbody>\n",
       "    <tr>\n",
       "      <th>0</th>\n",
       "      <td>학원</td>\n",
       "      <td>1</td>\n",
       "      <td>(學員)</td>\n",
       "      <td>「명사」</td>\n",
       "      <td>공부하는인원.</td>\n",
       "      <td>https://stdict.korean.go.kr/search/searchView....</td>\n",
       "    </tr>\n",
       "    <tr>\n",
       "      <th>1</th>\n",
       "      <td>학원</td>\n",
       "      <td>2</td>\n",
       "      <td>(學院)</td>\n",
       "      <td>「명사」</td>\n",
       "      <td>『교육』일정한목적ㆍ교과과정ㆍ설비ㆍ제도및법규에의하여계속적으로학생에게교육을실시하는기관....</td>\n",
       "      <td>https://stdict.korean.go.kr/search/searchView....</td>\n",
       "    </tr>\n",
       "    <tr>\n",
       "      <th>2</th>\n",
       "      <td>학원</td>\n",
       "      <td>3</td>\n",
       "      <td>(學園)</td>\n",
       "      <td>「명사」</td>\n",
       "      <td>『교육』학교및기타교육기관을통틀어이르는말.</td>\n",
       "      <td>https://stdict.korean.go.kr/search/searchView....</td>\n",
       "    </tr>\n",
       "    <tr>\n",
       "      <th>3</th>\n",
       "      <td>학원</td>\n",
       "      <td>4</td>\n",
       "      <td>(學園)</td>\n",
       "      <td>「명사」</td>\n",
       "      <td>『문학』1919년에발간된최초의학생잡지.창가,소설따위가발표되어소년ㆍ소녀들에게처음으로문...</td>\n",
       "      <td>https://stdict.korean.go.kr/search/searchView....</td>\n",
       "    </tr>\n",
       "  </tbody>\n",
       "</table>\n",
       "</div>"
      ],
      "text/plain": [
       "  검색어 순번    한자    품사                                                 설명  \\\n",
       "0  학원  1  (學員)  「명사」                                            공부하는인원.   \n",
       "1  학원  2  (學院)  「명사」  『교육』일정한목적ㆍ교과과정ㆍ설비ㆍ제도및법규에의하여계속적으로학생에게교육을실시하는기관....   \n",
       "2  학원  3  (學園)  「명사」                             『교육』학교및기타교육기관을통틀어이르는말.   \n",
       "3  학원  4  (學園)  「명사」  『문학』1919년에발간된최초의학생잡지.창가,소설따위가발표되어소년ㆍ소녀들에게처음으로문...   \n",
       "\n",
       "                                                  링크  \n",
       "0  https://stdict.korean.go.kr/search/searchView....  \n",
       "1  https://stdict.korean.go.kr/search/searchView....  \n",
       "2  https://stdict.korean.go.kr/search/searchView....  \n",
       "3  https://stdict.korean.go.kr/search/searchView....  "
      ]
     },
     "execution_count": 14,
     "metadata": {},
     "output_type": "execute_result"
    }
   ],
   "source": [
    "df"
   ]
  },
  {
   "cell_type": "code",
   "execution_count": 16,
   "id": "1f287ca4",
   "metadata": {},
   "outputs": [],
   "source": [
    "df.to_csv('학원.csv',index=False, encoding ='utf8') "
   ]
  },
  {
   "cell_type": "code",
   "execution_count": null,
   "id": "cd22ed01",
   "metadata": {},
   "outputs": [],
   "source": [
    "from pymongo import MongoClient\n",
    "client = MongoClient('localhost', 27017)\n",
    "# client = MongoClient('mongodb://localhost:27017')\n",
    "db = client['test-database']\n",
    "# db = client.test_database\n",
    "collection = db['test-collection']\n",
    "# collection = db.test-collection"
   ]
  },
  {
   "cell_type": "code",
   "execution_count": null,
   "id": "dfa22ed6",
   "metadata": {},
   "outputs": [],
   "source": []
  }
 ],
 "metadata": {
  "kernelspec": {
   "display_name": "Python 3 (ipykernel)",
   "language": "python",
   "name": "python3"
  },
  "language_info": {
   "codemirror_mode": {
    "name": "ipython",
    "version": 3
   },
   "file_extension": ".py",
   "mimetype": "text/x-python",
   "name": "python",
   "nbconvert_exporter": "python",
   "pygments_lexer": "ipython3",
   "version": "3.9.7"
  }
 },
 "nbformat": 4,
 "nbformat_minor": 5
}
