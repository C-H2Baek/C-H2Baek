{
 "cells": [
  {
   "cell_type": "code",
   "execution_count": 1,
   "id": "7857e18c",
   "metadata": {},
   "outputs": [],
   "source": [
    "import requests"
   ]
  },
  {
   "cell_type": "code",
   "execution_count": 2,
   "id": "3c4e1f25",
   "metadata": {},
   "outputs": [],
   "source": [
    "from bs4 import BeautifulSoup"
   ]
  },
  {
   "cell_type": "code",
   "execution_count": 3,
   "id": "60f4cd82",
   "metadata": {},
   "outputs": [],
   "source": [
    "response = requests.get(\"http://www.naver.com\")"
   ]
  },
  {
   "cell_type": "code",
   "execution_count": 4,
   "id": "d9b7eba2",
   "metadata": {},
   "outputs": [],
   "source": [
    "html = response.text"
   ]
  },
  {
   "cell_type": "code",
   "execution_count": 5,
   "id": "78f08c0f",
   "metadata": {},
   "outputs": [
    {
     "name": "stdout",
     "output_type": "stream",
     "text": [
      "네이버를 시작페이지로\n"
     ]
    }
   ],
   "source": [
    "soup = BeautifulSoup(html, 'html.parser')\n",
    "word = soup.select_one('#NM_set_home_btn')\n",
    "\n",
    "print(word.text)"
   ]
  },
  {
   "cell_type": "code",
   "execution_count": 6,
   "id": "3d59d18f",
   "metadata": {},
   "outputs": [
    {
     "data": {
      "text/plain": [
       "'https://help.naver.com/support/welcomePage/guide.help'"
      ]
     },
     "execution_count": 6,
     "metadata": {},
     "output_type": "execute_result"
    }
   ],
   "source": [
    "word.attrs['href']"
   ]
  },
  {
   "cell_type": "code",
   "execution_count": 7,
   "id": "ce6802f0",
   "metadata": {
    "scrolled": true
   },
   "outputs": [
    {
     "data": {
      "text/plain": [
       "['link_set']"
      ]
     },
     "execution_count": 7,
     "metadata": {},
     "output_type": "execute_result"
    }
   ],
   "source": [
    "word.attrs['class']"
   ]
  },
  {
   "cell_type": "code",
   "execution_count": 8,
   "id": "3f6b8897",
   "metadata": {},
   "outputs": [
    {
     "data": {
      "text/plain": [
       "'top.mkhome'"
      ]
     },
     "execution_count": 8,
     "metadata": {},
     "output_type": "execute_result"
    }
   ],
   "source": [
    "word.attrs['data-clk']"
   ]
  },
  {
   "cell_type": "code",
   "execution_count": 9,
   "id": "ed085306",
   "metadata": {},
   "outputs": [
    {
     "data": {
      "text/plain": [
       "<strong class=\"title\">오늘 읽을만한 글</strong>"
      ]
     },
     "execution_count": 9,
     "metadata": {},
     "output_type": "execute_result"
    }
   ],
   "source": [
    "today = soup.select_one('.title')\n",
    "today"
   ]
  },
  {
   "cell_type": "code",
   "execution_count": 10,
   "id": "cf89dad0",
   "metadata": {},
   "outputs": [
    {
     "name": "stdout",
     "output_type": "stream",
     "text": [
      "오늘 읽을만한 글\n"
     ]
    }
   ],
   "source": [
    "print(today.text)"
   ]
  },
  {
   "cell_type": "code",
   "execution_count": 11,
   "id": "108dd22a",
   "metadata": {},
   "outputs": [
    {
     "name": "stdout",
     "output_type": "stream",
     "text": [
      "오늘 읽을만한 글\n",
      "부드럽고 달콤한 프렌치 밤 수프 한 그릇\n",
      "고기보다 맛있는 별미, 가지 갈비 만들기\n",
      "밥솥 카스텔라 폭신하고 부드러운 레시피\n",
      "전기밥솥 약밥 만드는법 초간단 쫀득하고 달콤한 약식 만들기\n",
      "2022 호랑이에게 잡아먹힌 신상 음료 6\n",
      "꾸덕꾸덕한 그릭요거트 만들기 밥솥으로 크림치즈 뺨치는 찐한 풍미 대박!\n",
      "다이어트가 저절로 되는 이색 애호박 요리\n",
      "라면 끓이기 만큼 쉬운 굴 떡국 만드는 법\n",
      "귤 보관법\n",
      "신선하다고 착각하기 쉬운 수산물 상식 4\n",
      "스지와 한우사태로 수육 삶는법  류수영 편스토랑 스지전골 끓이기 압력밥솥으로 15분이면 OK~\n",
      "통삼겹살 수육 압력밥솥 수육 삶기 편스토랑 오윤아 삼겹살 보쌈 삶는법\n",
      "무청 시래기밥과 양념간장 전기밥솥 요리로 부드러운 시래기나물밥 만드는법\n",
      "마음까지 채우는 클릭\n",
      "고소한 맛과 향이 일품인 명절 선물세트\n",
      "바삭하고 구수한 식감의 수제 누룽지\n",
      "추운 겨울 생각나는 따뜻한 뼈해장국\n",
      "연초에 즐기는 호랑이 기운 버섯 전골 밥상\n",
      "홀로 이겨내야 하는 외로운 설 명절\n",
      "오늘도 아픈 몸을 이끌고 폐지를 주우러 나갑니다\n",
      "인후통, 목감기에 좋은 요리/배숙, 배찜 만들기\n",
      "누룽지 닭백숙 삼계탕 전기밥솥 끓이는법 삼계탕닭손질\n",
      "새해 다이어트 소원을 빌어 주세요~! 아워홈이 이뤄 드립니다!\n",
      "새해 선물로 딱, 쫀득 홍삼 젤리 레시피\n",
      "이번 새해엔 꼭!! 이루고 싶은 소원을 남기면 뜨끈한 새해 몸보신 박스를 선물로 드릴게요 ( •͈ᴗ-)ᓂ-ෆ\n",
      "새해건강! 가볍게 맛있는 '백년동안 흑초'가 응원합니다\n",
      "SNS에서 호불호 난리 난 특이한 먹거리\n",
      "[차돌박이 숙주찜 2탄] 깻잎으로 말아 더 향긋하게 부추맛간장소스로 감칠맛 높이는비법 깻잎차돌박이숙주찜 만들기\n",
      "뱅쇼로 따뜻하게 마시기 좋은 한국 레드와인\n",
      "이연복 배추찜 만드는 법\n",
      "간장 찜닭 레시피 단짠 양념 소스 만들기\n",
      "소갈비찜 레시피 칭찬받는 소갈비찜 양념\n",
      "명란계란찜 만드는법 초간단 전자레인지 명란젓요리\n",
      "통삼겹살 김치찜 만들기 백종원 레시피 돼지고기 김치찜\n",
      "영등포 대한옥st 소꼬리찜 만들기 꿀맛 우니 레시피, 꿀팁\n",
      "아귀찜 만들기 매콤 양념 해물찜 술안주레시피\n",
      "술안주 베스트 바지락술찜 레시피 바지락 요리 해감까지\n",
      "석화찜 굴찜 딱 10분만 찌세요\n",
      "느타리버섯요리, 두부버섯샐러드 만드는 법, 다이어트 요리\n",
      "2021 외식 트렌드 총정리 #우리술 #오마카세 #도넛 #비건\n",
      "들깨 연근 샐러드 부드럽고 아삭한 식감의 연근들깨무침 연근 요리\n",
      "요즘 새롭게 부상하는 부산 스페셜티 커피 5\n",
      "야채샐러드 종류, 구운 버섯샐러드 만들기부터 발사믹 드레싱까지!\n",
      "배추 겉절이 샐러드 한 끼 뚝딱 만들기 쉬운 아삭한 배추 요리\n",
      "리코타치즈 만들기 간단한 아침샐러드로 리코타치즈샐러드 냠냠\n",
      "소고기샐러드 오리엔탈드레싱 만들기 소고기 요리\n",
      "토마토 카프레제 상큼한 발사믹 소스 만들기\n",
      "구운 늙은 호박 샐러드 만들기\n",
      "홈카페메뉴.. 부드럽고 고소한 고구마 샐러드 만드는법\n",
      "유린기 만드는법 유린기소스 바삭한 튀김옷 튀김반죽 닭가슴살튀김 요리 연말 홈파티 음식\n",
      "밥반찬도 가능한 맵지않은 지코바 만들기 레시피~\n",
      "꽃양파튀김! 블루밍 어니언 에어프라이어 양파튀김, 양파요리~\n",
      "콘치즈 만드는법 레시피  옥수수캔 요리 에어프라이어 맥주안주 만들기\n",
      "비빔당면 재료 당면 불리는 시간 삶는법  당면요리\n",
      "알배기배추전 만들기 야식메뉴~알배기배추요리\n",
      "떡꼬치 소스 만들기 추억의 분식 양념 그대로♪\n",
      "순두부열라면 끓이는 법 열라면 레시피\n",
      "[청파언덕집] 희망과 착한 소비가 있는곳 \n",
      "야식추천 백종원 잔치국수 만들기 육수 고명 양념장 소면 삶는법 시간까지\n",
      "백종원 국물 떡볶이 황금레시피 떡국떡 자취생 요리 야식 메뉴\n",
      "간편식도 프리미엄, 아주 특별한 면 한 그릇\n",
      "닭 가슴살 말고! 맛있게 건강한 프로틴 제품\n",
      "색다른 냉동만두 요리 깐풍만두\n",
      "희망클래스 #11 와인 어디까지 아세요? \n",
      "바싹 꼬투리전, 얼마나 바삭할까?\n",
      "저탄수화물 간식 [어묵프라이] 초간단 안주 빠삭이 만들기\n",
      "어묵말이 야채말이어묵 저탄고지다이어트 비건 레시피\n",
      "저탄고지 식단. 슬기로운 산촌생활 유연석 st 두부달걀전 만들기\n",
      "밀가루 없는 양배추다이어트 마르게리타 피자 저탄고지 식단\n",
      "[저탄고지 키토식단] 성시경 삼겹살 두부조림 (키토 버전)\n",
      "공지사항 \n",
      "Creators\n",
      "Partners\n",
      "Developers\n",
      "웨일 브라우저\n",
      "프로젝트 꽃\n"
     ]
    }
   ],
   "source": [
    "title = soup.select('.title')\n",
    "for one in title:\n",
    "    print(one.text)"
   ]
  },
  {
   "cell_type": "code",
   "execution_count": 12,
   "id": "8400680d",
   "metadata": {},
   "outputs": [],
   "source": [
    "## 삼성 뉴스 검색 제목 url 주소\n",
    "samsung = requests.get(\"https://search.naver.com/search.naver?where=news&sm=tab_jum&query=%EC%82%BC%EC%84%B1\")"
   ]
  },
  {
   "cell_type": "code",
   "execution_count": 13,
   "id": "dbddb3d8",
   "metadata": {},
   "outputs": [],
   "source": [
    "shtml=samsung.text"
   ]
  },
  {
   "cell_type": "code",
   "execution_count": 14,
   "id": "ee50246c",
   "metadata": {},
   "outputs": [],
   "source": [
    "samsungSoup = BeautifulSoup(shtml,'html.parser')\n",
    "samsungLink = samsungSoup.select('.news_tit')"
   ]
  },
  {
   "cell_type": "code",
   "execution_count": 15,
   "id": "8a34a98f",
   "metadata": {},
   "outputs": [
    {
     "name": "stdout",
     "output_type": "stream",
     "text": [
      "최근 5년간 美서 특허침해 소송만 403건…삼성 왜 '공공의 적' 됐나\n",
      "http://www.newsis.com/view/?id=NISX20220110_0001719216&cID=13001&pID=13000\n",
      "\"삼성 QD디스플레이, 어디서도 최고의 화질\"\n",
      "http://www.fnnews.com/news/202201101804280251\n",
      "'CES' 현장 달군 삼성 '더 프리스타일', 예약 판매 시작\n",
      "http://news.tf.co.kr/read/economy/1911595.htm\n",
      "\"경비대장이 해적된 셈\"…삼성에 칼 겨눈 '특허괴물', 前임원이었다\n",
      "http://news.mt.co.kr/mtview.php?no=2022010917285136339\n",
      "삼성전자 美CES 출장자 20여명 현지서 코로나 확진…전세기로 이송\n",
      "http://yna.kr/AKR20220111080800003?did=1195m\n",
      "삼성 포터블 스크린 `더 프리스타일` 예약판매 실시\n",
      "http://www.dt.co.kr/contents.html?article_no=2022011102109932078004&ref=naver\n",
      "삼성證, 퇴직연금 로보어드바이저 첫선\n",
      "http://news.heraldcorp.com/view.php?ud=20220111000575\n",
      "미래에셋, KB에 이어 삼성자산운용도 ETF 보수 인하 동참\n",
      "https://economist.co.kr/2022/01/11/stock/stockNormal/20220111120047477.html\n",
      "中 시안 봉쇄 장기화, 삼성·SK 메모리 몸값 끌어올렸다\n",
      "https://biz.chosun.com/it-science/ict/2022/01/11/GQJAM6INTBCHLBW6A5H75GUAAI/?utm_source=naver&utm_medium=original&utm_campaign=biz\n",
      "\"삼성폰 베끼는 것도 지긋\"…중국 아너, 갤폴드 똑 닮은 폴더블폰 공개\n",
      "http://news.mk.co.kr/newsRead.php?no=29779&year=2022\n"
     ]
    }
   ],
   "source": [
    "for sec in samsungLink:\n",
    "    print(sec.attrs['title'] + '\\n' + sec.attrs['href'])"
   ]
  },
  {
   "cell_type": "markdown",
   "id": "417e5c38",
   "metadata": {},
   "source": [
    "## 검색어에 따라 다른 결과 나타내기\n",
    "#### - 프로토콜, 도메인, 패스(경로) ,파라미터(서버의 추가적인 정보를 제공하기 위해서 사용, 키와 값으로 구성, & 로 구분)\n",
    "#### - query는 검색어에 해당됨\n",
    "#### - 파이썬에서 사용자에게 검색어를 입력받은 뒤 query값에 적용하면 검색어 변경 가능"
   ]
  },
  {
   "cell_type": "code",
   "execution_count": null,
   "id": "0d3fa098",
   "metadata": {},
   "outputs": [],
   "source": [
    "# 파이썬 기본 내장함수 input으로 사용자로부터 검색어 입력 받음\n",
    "keyword = input(\"insert keyword, 검색어를 입력하세요.\")\n",
    "\n",
    "# 뉴스의 url로 부터 응답요청\n",
    "#query의 값으로 사용자로부터 입력받은 keyword가 대입\n",
    "response = requests.get('https://search.naver.com/search.naver?where=news&sm=tab_jum&query='+keyword)\n",
    "# 웹 사이트의 html 소스 코드를 가져옴\n",
    "html = response.text\n",
    "# HTML 텍스트를 가져오기 쉽게 soup적용\n",
    "# html.parser (html 번역기로 해석)\n",
    "soup = BeautifulSoup(html, 'html.parser')\n",
    "\n",
    "# select는 여러개의 태그를 가져옴, select_one으로 원하는 태그 하나를 가져옴\n",
    "# select로 뉴스 기사 10개 가져옴\n",
    "# soup.select_one(\".news_tit\")\n",
    "links = soup.select(\".news_tit\") # 결과가 리스트 형태\n",
    "\n",
    "# 리스트의 값을 하나씩 for로 출력\n",
    "for link in links:\n",
    "    title = link.attrs['title'] # 태그 내 텍스트 요소 가져옴\n",
    "    url  = link.attrs['href'] # 속성 href의 값을 가져옴\n",
    "    print(title + '\\n' +  url)\n",
    "\n"
   ]
  },
  {
   "cell_type": "code",
   "execution_count": null,
   "id": "f20b74bd",
   "metadata": {},
   "outputs": [],
   "source": []
  }
 ],
 "metadata": {
  "kernelspec": {
   "display_name": "Python 3 (ipykernel)",
   "language": "python",
   "name": "python3"
  },
  "language_info": {
   "codemirror_mode": {
    "name": "ipython",
    "version": 3
   },
   "file_extension": ".py",
   "mimetype": "text/x-python",
   "name": "python",
   "nbconvert_exporter": "python",
   "pygments_lexer": "ipython3",
   "version": "3.9.7"
  }
 },
 "nbformat": 4,
 "nbformat_minor": 5
}
