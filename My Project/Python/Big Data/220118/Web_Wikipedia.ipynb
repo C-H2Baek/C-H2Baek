{
 "cells": [
  {
   "cell_type": "markdown",
   "id": "399c145e",
   "metadata": {},
   "source": [
    "## [ 웹크롤링 _ 위키피디아 사이트 분석 및 시각화 ]\n"
   ]
  },
  {
   "cell_type": "code",
   "execution_count": 2,
   "id": "df7e2dee",
   "metadata": {},
   "outputs": [],
   "source": [
    "# -*- coding: utf-8 -*-\n",
    "\n",
    "%matplotlib inline\n",
    "\n",
    "import pandas as pd\n",
    "import numpy as np\n",
    "import matplotlib.pyplot as plt\n",
    "\n",
    "import warnings\n",
    "warnings.filterwarnings(\"ignore\")"
   ]
  },
  {
   "cell_type": "code",
   "execution_count": 3,
   "id": "558f8a7a",
   "metadata": {
    "scrolled": false
   },
   "outputs": [],
   "source": [
    "from selenium import webdriver\n",
    "from bs4 import BeautifulSoup\n",
    "import re # 정규식 표현을 위한 모듈\n",
    "\n",
    "# 윈도우용 크롬 웹드라이버 실행 경로 (Windows) 지정\n",
    "excutable_path = \"chromedriver.exe\"\n",
    "driver = webdriver.Chrome(executable_path=excutable_path)\n",
    "\n",
    "# 사이트의 html 구조에 기반하여 크롤링을 수행\n",
    "source_url = \"https://ko.wikipedia.org/wiki/%ED%8A%B9%EC%88%98:%EC%B5%9C%EA%B7%BC%EB%B0%94%EB%80%9C\" # 크롤링할 사이트 주소를 정의\n",
    "driver.get(source_url)  # 크롬 드라이버를 통해 URL의 HTML 문서 가져옴\n",
    "\n",
    "# import time\n",
    "# time.sleep(10)\n",
    "\n",
    "req = driver.page_source\n",
    "soup = BeautifulSoup(req, \"html.parser\") # BeautifulSoup의 soup 객체로 변환\n",
    "#span_rows = soup.select(\"div ul.special li span.mw-changeslist-line-inner .mw-title\")\n",
    "span_rows = soup.select(\"span.mw-title\")"
   ]
  },
  {
   "cell_type": "code",
   "execution_count": 4,
   "id": "b6b3c613",
   "metadata": {},
   "outputs": [
    {
     "data": {
      "text/plain": [
       "48"
      ]
     },
     "execution_count": 4,
     "metadata": {},
     "output_type": "execute_result"
    }
   ],
   "source": [
    "len(span_rows)"
   ]
  },
  {
   "cell_type": "code",
   "execution_count": 5,
   "id": "95d05df2",
   "metadata": {},
   "outputs": [
    {
     "data": {
      "text/plain": [
       "[<span class=\"mw-title\"><a class=\"mw-changeslist-title\" href=\"/wiki/%EC%9C%A0%ED%95%9C%EC%86%94\" title=\"유한솔\">유한솔</a></span>,\n",
       " <span class=\"mw-title\"><a class=\"mw-changeslist-title\" href=\"/wiki/%EC%9C%84%ED%82%A4%EB%B0%B1%EA%B3%BC:%EC%82%AC%EB%9E%91%EB%B0%A9/2022%EB%85%84_%EC%A0%9C3%EC%A3%BC\" title=\"위키백과:사랑방/2022년 제3주\">위키백과:사랑방/2022년 제3주</a></span>,\n",
       " <span class=\"mw-title\"><a class=\"mw-changeslist-title\" href=\"/wiki/%EC%9C%84%ED%82%A4%EB%B0%B1%EA%B3%BC:%EC%82%AC%EB%9E%91%EB%B0%A9/2022%EB%85%84_%EC%A0%9C3%EC%A3%BC\" title=\"위키백과:사랑방/2022년 제3주\">위키백과:사랑방/2022년 제3주</a></span>,\n",
       " <span class=\"mw-title\"><a class=\"mw-changeslist-title\" href=\"/wiki/%EA%B9%80%EC%84%B1%EA%B0%95\" title=\"김성강\">김성강</a></span>,\n",
       " <span class=\"mw-title\"><a class=\"mw-changeslist-title\" href=\"/wiki/%ED%9C%B4%EA%B0%80%EB%82%98%EB%8B%A4_%EC%A7%80%EC%A7%84\" title=\"휴가나다 지진\">휴가나다 지진</a></span>,\n",
       " <span class=\"mw-title\"><a class=\"mw-changeslist-title\" href=\"/wiki/%EB%AA%85%ED%83%90%EC%A0%95_%EC%BD%94%EB%82%9C%EC%9D%98_%EB%8B%A8%ED%96%89%EB%B3%B8_%EB%AA%A9%EB%A1%9D\" title=\"명탐정 코난의 단행본 목록\">명탐정 코난의 단행본 목록</a></span>,\n",
       " <span class=\"mw-title\"><a class=\"mw-changeslist-title\" href=\"/wiki/%EC%82%AC%EC%9A%A9%EC%9E%90%ED%86%A0%EB%A1%A0:%EA%B3%A0%EB%9D%BC%EB%8B%88%EC%99%80_%EB%85%B8%EB%A3%A8\" title=\"사용자토론:고라니와 노루\">사용자토론:고라니와 노루</a></span>,\n",
       " <span class=\"mw-title\"><a class=\"mw-changeslist-title\" href=\"/wiki/%EC%B4%88%EC%95%88:512%EB%B6%84%EC%9D%8C%ED%91%9C\" title=\"초안:512분음표\">초안:512분음표</a></span>,\n",
       " <span class=\"mw-title\"><a class=\"mw-changeslist-title\" href=\"/wiki/%EB%82%9C%EC%B9%B4%EC%9D%B4_%ED%95%B4%EA%B3%A1_%EA%B1%B0%EB%8C%80%EC%A7%80%EC%A7%84\" title=\"난카이 해곡 거대지진\">난카이 해곡 거대지진</a></span>,\n",
       " <span class=\"mw-title\"><a class=\"mw-changeslist-title\" href=\"/wiki/%EA%B9%80%EC%84%B1%EA%B0%95\" title=\"김성강\">김성강</a></span>,\n",
       " <span class=\"mw-title\"><a class=\"mw-changeslist-title\" href=\"/wiki/%ED%8B%80:%EB%A1%AF%EB%8D%B0_%EC%9E%90%EC%9D%B4%EC%96%B8%EC%B8%A0_%EB%AA%85%EB%8B%A8\" title=\"틀:롯데 자이언츠 명단\">틀:롯데 자이언츠 명단</a></span>,\n",
       " <span class=\"mw-title\"><a class=\"mw-changeslist-title\" href=\"/wiki/%EC%9C%84%ED%82%A4%EB%B0%B1%EA%B3%BC:%EC%82%AD%EC%A0%9C_%ED%86%A0%EB%A1%A0/2022%EB%85%84_1%EC%9B%94\" title=\"위키백과:삭제 토론/2022년 1월\">위키백과:삭제 토론/2022년 1월</a></span>,\n",
       " <span class=\"mw-title\"><a class=\"mw-changeslist-title\" href=\"/wiki/%EC%9C%84%ED%82%A4%EB%B0%B1%EA%B3%BC:%EC%82%AD%EC%A0%9C_%ED%86%A0%EB%A1%A0/%EC%97%AD%EB%8C%80_%EB%8C%80%ED%95%9C%EB%AF%BC%EA%B5%AD_%EB%8C%80%ED%86%B5%EB%A0%B9_%EC%84%A0%EA%B1%B0_%EA%B2%B0%EA%B3%BC\" title=\"위키백과:삭제 토론/역대 대한민국 대통령 선거 결과\">위키백과:삭제 토론/역대 대한민국 대통령 선거 결과</a></span>,\n",
       " <span class=\"mw-title\"><a class=\"mw-changeslist-title\" href=\"/wiki/%EB%A1%9C%EC%9D%B4%EC%8A%A4_%EB%A7%81\" title=\"로이스 링\">로이스 링</a></span>,\n",
       " <span class=\"mw-title\"><a class=\"mw-changeslist-title\" href=\"/wiki/%EB%AC%B4%EC%9D%B8%EC%8B%9C%EB%8C%80_(%EB%93%9C%EB%9D%BC%EB%A7%88)\" title=\"무인시대 (드라마)\">무인시대 (드라마)</a></span>,\n",
       " <span class=\"mw-title\"><a class=\"mw-changeslist-title\" href=\"/wiki/%EB%AF%B8%EB%82%98%EB%AF%B8%EC%B9%B8%ED%86%A0_%EC%A7%81%ED%95%98%EC%A7%80%EC%A7%84\" title=\"미나미칸토 직하지진\">미나미칸토 직하지진</a></span>,\n",
       " <span class=\"mw-title\"><a class=\"mw-changeslist-title\" href=\"/wiki/%EC%B2%A0%EA%B6%8C_7\" title=\"철권 7\">철권 7</a></span>,\n",
       " <span class=\"mw-title\"><a class=\"mw-changeslist-title\" href=\"/wiki/%EC%B4%88%EC%95%88:%EC%83%81%EB%AA%BD%EA%B3%A8%EC%9D%B8\" title=\"초안:상몽골인\">초안:상몽골인</a></span>,\n",
       " <span class=\"mw-title\"><a class=\"mw-changeslist-title\" href=\"/wiki/%EC%B4%88%EC%95%88:%EC%83%81%EB%AA%BD%EA%B3%A8%EC%9D%B8\" title=\"초안:상몽골인\">초안:상몽골인</a></span>,\n",
       " <span class=\"mw-title\"><a class=\"mw-changeslist-title\" href=\"/wiki/%EC%82%AC%EA%B0%80%EB%AF%B8_%ED%95%B4%EA%B3%A1_%EA%B1%B0%EB%8C%80%EC%A7%80%EC%A7%84\" title=\"사가미 해곡 거대지진\">사가미 해곡 거대지진</a></span>,\n",
       " <span class=\"mw-title\"><a class=\"mw-changeslist-title\" href=\"/wiki/%EC%97%AD%EB%8C%80_%EB%8C%80%ED%95%9C%EB%AF%BC%EA%B5%AD_%EB%8C%80%ED%86%B5%EB%A0%B9_%EC%84%A0%EA%B1%B0_%EA%B2%B0%EA%B3%BC\" title=\"역대 대한민국 대통령 선거 결과\">역대 대한민국 대통령 선거 결과</a></span>,\n",
       " <span class=\"mw-title\"><a class=\"mw-changeslist-title\" href=\"/wiki/%EB%AF%B8%EB%8B%88%EC%8A%A4%ED%86%B1\" title=\"미니스톱\">미니스톱</a></span>,\n",
       " <span class=\"mw-title\"><a class=\"mw-changeslist-title\" href=\"/wiki/%EC%9D%B8%ED%84%B0%EB%9D%BC%EC%BC%84_%EB%8F%99%EC%97%AD\" title=\"인터라켄 동역\">인터라켄 동역</a></span>,\n",
       " <span class=\"mw-title\"><a class=\"mw-redirect mw-changeslist-title\" href=\"/w/index.php?title=BUSINFO&amp;redirect=no\" title=\"BUSINFO\">BUSINFO</a></span>,\n",
       " <span class=\"mw-title\"><a class=\"mw-changeslist-title\" href=\"/wiki/%ED%8B%80:%EC%9D%BC%EB%B3%B8%EC%9D%98_%EC%A7%80%EC%A7%84\" title=\"틀:일본의 지진\">틀:일본의 지진</a></span>,\n",
       " <span class=\"mw-title\"><a class=\"mw-changeslist-title\" href=\"/wiki/%EC%9C%A0%ED%9D%AC%EA%B4%80\" title=\"유희관\">유희관</a></span>,\n",
       " <span class=\"mw-title\"><a class=\"mw-changeslist-title\" href=\"/wiki/%EC%9C%A0%ED%9D%AC%EA%B4%80\" title=\"유희관\">유희관</a></span>,\n",
       " <span class=\"mw-title\"><a class=\"mw-changeslist-title\" href=\"/wiki/%EC%82%B0%EB%A6%AC%EC%BF%A0_%ED%95%B4%EC%97%AD_%EC%A7%80%EC%A7%84\" title=\"산리쿠 해역 지진\">산리쿠 해역 지진</a></span>,\n",
       " <span class=\"mw-title\"><a class=\"mw-changeslist-title\" href=\"/wiki/%EC%9C%84%ED%82%A4%EB%B0%B1%EA%B3%BC:%EB%8F%99%EC%9D%8C%EC%9D%B4%EC%9D%98%EC%96%B4_%EB%AC%B8%EC%84%9C%EC%9D%98_%EB%AA%A9%EB%A1%9D/%E3%84%B7\" title=\"위키백과:동음이의어 문서의 목록/ㄷ\">위키백과:동음이의어 문서의 목록/ㄷ</a></span>,\n",
       " <span class=\"mw-title\"><a class=\"mw-changeslist-title\" href=\"/wiki/%EC%9D%B8%ED%84%B0%EB%9D%BC%EC%BC%84_%EB%8F%99%EC%97%AD\" title=\"인터라켄 동역\">인터라켄 동역</a></span>,\n",
       " <span class=\"mw-title\"><a class=\"mw-redirect mw-changeslist-title\" href=\"/w/index.php?title=%EB%8B%A4%EC%A6%88_%EC%97%AD&amp;redirect=no\" title=\"다즈 역\">다즈 역</a></span>,\n",
       " <span class=\"mw-title\"><a class=\"mw-changeslist-title\" href=\"/wiki/%EC%B2%A0%EA%B6%8C_6\" title=\"철권 6\">철권 6</a></span>,\n",
       " <span class=\"mw-title\"><a class=\"mw-changeslist-title\" href=\"/wiki/%ED%86%A0%EB%A1%A0:%EB%8B%A4%EC%A6%88%EC%97%AD\" title=\"토론:다즈역\">토론:다즈역</a></span>,\n",
       " <span class=\"mw-title\"><a class=\"mw-changeslist-title\" href=\"/wiki/%EB%8B%A4%EC%A6%88%EC%97%AD\" title=\"다즈역\">다즈역</a></span>,\n",
       " <span class=\"mw-title\"><a class=\"mw-changeslist-title\" href=\"/wiki/%EB%AC%B4%EC%9D%B8%EC%8B%9C%EB%8C%80_(%EB%93%9C%EB%9D%BC%EB%A7%88)\" title=\"무인시대 (드라마)\">무인시대 (드라마)</a></span>,\n",
       " <span class=\"mw-title\"><a class=\"mw-changeslist-title\" href=\"/wiki/%EB%8B%A4%EC%A6%88%EC%97%AD_(%ED%83%80%EC%9D%B4%EB%B2%A0%EC%9D%B4%EC%8B%9C)\" title=\"다즈역 (타이베이시)\">다즈역 (타이베이시)</a></span>,\n",
       " <span class=\"mw-title\"><a class=\"mw-changeslist-title\" href=\"/wiki/%EB%AC%B4%EC%9D%B8%EC%8B%9C%EB%8C%80_(%EB%93%9C%EB%9D%BC%EB%A7%88)\" title=\"무인시대 (드라마)\">무인시대 (드라마)</a></span>,\n",
       " <span class=\"mw-title\"><a class=\"mw-changeslist-title\" href=\"/wiki/%EC%9D%B8%ED%84%B0%EB%9D%BC%EC%BC%84_%EB%8F%99%EC%97%AD\" title=\"인터라켄 동역\">인터라켄 동역</a></span>,\n",
       " <span class=\"mw-title\"><a class=\"mw-changeslist-title\" href=\"/wiki/%EC%B2%A0%EA%B6%8C_7\" title=\"철권 7\">철권 7</a></span>,\n",
       " <span class=\"mw-title\"><a class=\"mw-changeslist-title\" href=\"/wiki/%EC%82%AC%EC%9A%A9%EC%9E%90%ED%86%A0%EB%A1%A0:%EB%83%A5%EC%9D%B4%EC%9D%98_%EA%BF%88\" title=\"사용자토론:냥이의 꿈\">사용자토론:냥이의 꿈</a></span>,\n",
       " <span class=\"mw-title\"><a class=\"mw-changeslist-title\" href=\"/wiki/LG%EC%83%9D%ED%99%9C%EA%B1%B4%EA%B0%95\" title=\"LG생활건강\">LG생활건강</a></span>,\n",
       " <span class=\"mw-title\"><a class=\"mw-changeslist-title\" href=\"/wiki/%EC%9D%B8%ED%84%B0%EB%9D%BC%EC%BC%84_%EB%8F%99%EC%97%AD\" title=\"인터라켄 동역\">인터라켄 동역</a></span>,\n",
       " <span class=\"mw-title\"><a class=\"mw-changeslist-title\" href=\"/wiki/%EC%B2%A0%EA%B6%8C_6\" title=\"철권 6\">철권 6</a></span>,\n",
       " <span class=\"mw-title\"><a class=\"mw-changeslist-title\" href=\"/wiki/LG%EC%83%9D%ED%99%9C%EA%B1%B4%EA%B0%95\" title=\"LG생활건강\">LG생활건강</a></span>,\n",
       " <span class=\"mw-title\"><a class=\"mw-changeslist-title\" href=\"/wiki/%EA%B9%80%EC%98%81%EC%9E%84_(1977%EB%85%84)\" title=\"김영임 (1977년)\">김영임 (1977년)</a></span>,\n",
       " <span class=\"mw-title\"><a class=\"mw-changeslist-title\" href=\"/wiki/%EA%B8%B0%EC%95%84_%EC%8A%A4%ED%86%A0%EB%8B%89\" title=\"기아 스토닉\">기아 스토닉</a></span>,\n",
       " <span class=\"mw-title\"><a class=\"mw-changeslist-title\" href=\"/wiki/%EC%B2%A0%EA%B6%8C_6\" title=\"철권 6\">철권 6</a></span>,\n",
       " <span class=\"mw-title\"><a class=\"mw-changeslist-title\" href=\"/wiki/%ED%8B%80:%EC%82%B0%EC%BD%94_%EC%84%A0\" title=\"틀:산코 선\">틀:산코 선</a></span>]"
      ]
     },
     "execution_count": 5,
     "metadata": {},
     "output_type": "execute_result"
    }
   ],
   "source": [
    "span_rows"
   ]
  },
  {
   "cell_type": "code",
   "execution_count": 6,
   "id": "f61521f6",
   "metadata": {},
   "outputs": [
    {
     "name": "stdout",
     "output_type": "stream",
     "text": [
      "['https://ko.wikipedia.org/wiki/%EC%9C%A0%ED%95%9C%EC%86%94', 'https://ko.wikipedia.org/wiki/%EC%9C%84%ED%82%A4%EB%B0%B1%EA%B3%BC:%EC%82%AC%EB%9E%91%EB%B0%A9/2022%EB%85%84_%EC%A0%9C3%EC%A3%BC', 'https://ko.wikipedia.org/wiki/%EC%9C%84%ED%82%A4%EB%B0%B1%EA%B3%BC:%EC%82%AC%EB%9E%91%EB%B0%A9/2022%EB%85%84_%EC%A0%9C3%EC%A3%BC', 'https://ko.wikipedia.org/wiki/%EA%B9%80%EC%84%B1%EA%B0%95', 'https://ko.wikipedia.org/wiki/%ED%9C%B4%EA%B0%80%EB%82%98%EB%8B%A4_%EC%A7%80%EC%A7%84', 'https://ko.wikipedia.org/wiki/%EB%AA%85%ED%83%90%EC%A0%95_%EC%BD%94%EB%82%9C%EC%9D%98_%EB%8B%A8%ED%96%89%EB%B3%B8_%EB%AA%A9%EB%A1%9D', 'https://ko.wikipedia.org/wiki/%EC%82%AC%EC%9A%A9%EC%9E%90%ED%86%A0%EB%A1%A0:%EA%B3%A0%EB%9D%BC%EB%8B%88%EC%99%80_%EB%85%B8%EB%A3%A8', 'https://ko.wikipedia.org/wiki/%EC%B4%88%EC%95%88:512%EB%B6%84%EC%9D%8C%ED%91%9C', 'https://ko.wikipedia.org/wiki/%EB%82%9C%EC%B9%B4%EC%9D%B4_%ED%95%B4%EA%B3%A1_%EA%B1%B0%EB%8C%80%EC%A7%80%EC%A7%84', 'https://ko.wikipedia.org/wiki/%EA%B9%80%EC%84%B1%EA%B0%95', 'https://ko.wikipedia.org/wiki/%ED%8B%80:%EB%A1%AF%EB%8D%B0_%EC%9E%90%EC%9D%B4%EC%96%B8%EC%B8%A0_%EB%AA%85%EB%8B%A8', 'https://ko.wikipedia.org/wiki/%EC%9C%84%ED%82%A4%EB%B0%B1%EA%B3%BC:%EC%82%AD%EC%A0%9C_%ED%86%A0%EB%A1%A0/2022%EB%85%84_1%EC%9B%94', 'https://ko.wikipedia.org/wiki/%EC%9C%84%ED%82%A4%EB%B0%B1%EA%B3%BC:%EC%82%AD%EC%A0%9C_%ED%86%A0%EB%A1%A0/%EC%97%AD%EB%8C%80_%EB%8C%80%ED%95%9C%EB%AF%BC%EA%B5%AD_%EB%8C%80%ED%86%B5%EB%A0%B9_%EC%84%A0%EA%B1%B0_%EA%B2%B0%EA%B3%BC', 'https://ko.wikipedia.org/wiki/%EB%A1%9C%EC%9D%B4%EC%8A%A4_%EB%A7%81', 'https://ko.wikipedia.org/wiki/%EB%AC%B4%EC%9D%B8%EC%8B%9C%EB%8C%80_(%EB%93%9C%EB%9D%BC%EB%A7%88)', 'https://ko.wikipedia.org/wiki/%EB%AF%B8%EB%82%98%EB%AF%B8%EC%B9%B8%ED%86%A0_%EC%A7%81%ED%95%98%EC%A7%80%EC%A7%84', 'https://ko.wikipedia.org/wiki/%EC%B2%A0%EA%B6%8C_7', 'https://ko.wikipedia.org/wiki/%EC%B4%88%EC%95%88:%EC%83%81%EB%AA%BD%EA%B3%A8%EC%9D%B8', 'https://ko.wikipedia.org/wiki/%EC%B4%88%EC%95%88:%EC%83%81%EB%AA%BD%EA%B3%A8%EC%9D%B8', 'https://ko.wikipedia.org/wiki/%EC%82%AC%EA%B0%80%EB%AF%B8_%ED%95%B4%EA%B3%A1_%EA%B1%B0%EB%8C%80%EC%A7%80%EC%A7%84', 'https://ko.wikipedia.org/wiki/%EC%97%AD%EB%8C%80_%EB%8C%80%ED%95%9C%EB%AF%BC%EA%B5%AD_%EB%8C%80%ED%86%B5%EB%A0%B9_%EC%84%A0%EA%B1%B0_%EA%B2%B0%EA%B3%BC', 'https://ko.wikipedia.org/wiki/%EB%AF%B8%EB%8B%88%EC%8A%A4%ED%86%B1', 'https://ko.wikipedia.org/wiki/%EC%9D%B8%ED%84%B0%EB%9D%BC%EC%BC%84_%EB%8F%99%EC%97%AD', 'https://ko.wikipedia.org/w/index.php?title=BUSINFO&redirect=no', 'https://ko.wikipedia.org/wiki/%ED%8B%80:%EC%9D%BC%EB%B3%B8%EC%9D%98_%EC%A7%80%EC%A7%84', 'https://ko.wikipedia.org/wiki/%EC%9C%A0%ED%9D%AC%EA%B4%80', 'https://ko.wikipedia.org/wiki/%EC%9C%A0%ED%9D%AC%EA%B4%80', 'https://ko.wikipedia.org/wiki/%EC%82%B0%EB%A6%AC%EC%BF%A0_%ED%95%B4%EC%97%AD_%EC%A7%80%EC%A7%84', 'https://ko.wikipedia.org/wiki/%EC%9C%84%ED%82%A4%EB%B0%B1%EA%B3%BC:%EB%8F%99%EC%9D%8C%EC%9D%B4%EC%9D%98%EC%96%B4_%EB%AC%B8%EC%84%9C%EC%9D%98_%EB%AA%A9%EB%A1%9D/%E3%84%B7', 'https://ko.wikipedia.org/wiki/%EC%9D%B8%ED%84%B0%EB%9D%BC%EC%BC%84_%EB%8F%99%EC%97%AD', 'https://ko.wikipedia.org/w/index.php?title=%EB%8B%A4%EC%A6%88_%EC%97%AD&redirect=no', 'https://ko.wikipedia.org/wiki/%EC%B2%A0%EA%B6%8C_6', 'https://ko.wikipedia.org/wiki/%ED%86%A0%EB%A1%A0:%EB%8B%A4%EC%A6%88%EC%97%AD', 'https://ko.wikipedia.org/wiki/%EB%8B%A4%EC%A6%88%EC%97%AD', 'https://ko.wikipedia.org/wiki/%EB%AC%B4%EC%9D%B8%EC%8B%9C%EB%8C%80_(%EB%93%9C%EB%9D%BC%EB%A7%88)', 'https://ko.wikipedia.org/wiki/%EB%8B%A4%EC%A6%88%EC%97%AD_(%ED%83%80%EC%9D%B4%EB%B2%A0%EC%9D%B4%EC%8B%9C)', 'https://ko.wikipedia.org/wiki/%EB%AC%B4%EC%9D%B8%EC%8B%9C%EB%8C%80_(%EB%93%9C%EB%9D%BC%EB%A7%88)', 'https://ko.wikipedia.org/wiki/%EC%9D%B8%ED%84%B0%EB%9D%BC%EC%BC%84_%EB%8F%99%EC%97%AD', 'https://ko.wikipedia.org/wiki/%EC%B2%A0%EA%B6%8C_7', 'https://ko.wikipedia.org/wiki/%EC%82%AC%EC%9A%A9%EC%9E%90%ED%86%A0%EB%A1%A0:%EB%83%A5%EC%9D%B4%EC%9D%98_%EA%BF%88', 'https://ko.wikipedia.org/wiki/LG%EC%83%9D%ED%99%9C%EA%B1%B4%EA%B0%95', 'https://ko.wikipedia.org/wiki/%EC%9D%B8%ED%84%B0%EB%9D%BC%EC%BC%84_%EB%8F%99%EC%97%AD', 'https://ko.wikipedia.org/wiki/%EC%B2%A0%EA%B6%8C_6', 'https://ko.wikipedia.org/wiki/LG%EC%83%9D%ED%99%9C%EA%B1%B4%EA%B0%95', 'https://ko.wikipedia.org/wiki/%EA%B9%80%EC%98%81%EC%9E%84_(1977%EB%85%84)', 'https://ko.wikipedia.org/wiki/%EA%B8%B0%EC%95%84_%EC%8A%A4%ED%86%A0%EB%8B%89', 'https://ko.wikipedia.org/wiki/%EC%B2%A0%EA%B6%8C_6', 'https://ko.wikipedia.org/wiki/%ED%8B%80:%EC%82%B0%EC%BD%94_%EC%84%A0']\n",
      "['유한솔', '위키백과:사랑방/2022년 제3주', '위키백과:사랑방/2022년 제3주', '김성강', '휴가나다 지진', '명탐정 코난의 단행본 목록', '사용자토론:고라니와 노루', '초안:512분음표', '난카이 해곡 거대지진', '김성강', '틀:롯데 자이언츠 명단', '위키백과:삭제 토론/2022년 1월', '위키백과:삭제 토론/역대 대한민국 대통령 선거 결과', '로이스 링', '무인시대 (드라마)', '미나미칸토 직하지진', '철권 7', '초안:상몽골인', '초안:상몽골인', '사가미 해곡 거대지진', '역대 대한민국 대통령 선거 결과', '미니스톱', '인터라켄 동역', 'BUSINFO', '틀:일본의 지진', '유희관', '유희관', '산리쿠 해역 지진', '위키백과:동음이의어 문서의 목록/ㄷ', '인터라켄 동역', '다즈 역', '철권 6', '토론:다즈역', '다즈역', '무인시대 (드라마)', '다즈역 (타이베이시)', '무인시대 (드라마)', '인터라켄 동역', '철권 7', '사용자토론:냥이의 꿈', 'LG생활건강', '인터라켄 동역', '철권 6', 'LG생활건강', '김영임 (1977년)', '기아 스토닉', '철권 6', '틀:산코 선']\n"
     ]
    }
   ],
   "source": [
    "span_rows = soup.select(\"span.mw-title\")\n",
    "\n",
    "page_url_base = \"https://ko.wikipedia.org\" # 베이스 URL 정의\n",
    "page_urls = [] # href 속성값을 담기 위한 빈 리스트 생성 \n",
    "page_titles = [] # title 속성값을 담기 위한 빈 리스트 생성 \n",
    "\n",
    "for index in range(0, len(span_rows)):\n",
    "    url = span_rows[index].find_all(\"a\") \n",
    "    title = span_rows[index].text\n",
    "    page_titles.append(title)\n",
    "    if len(url) > 0:\n",
    "        page_url = page_url_base +url[0].attrs[\"href\"] \n",
    "        if \"png\" not in page_url:\n",
    "            page_urls.append(page_url)\n",
    "print(page_urls)\n",
    "print(page_titles)"
   ]
  },
  {
   "cell_type": "code",
   "execution_count": 7,
   "id": "d3a305c6",
   "metadata": {},
   "outputs": [
    {
     "data": {
      "text/plain": [
       "[<a class=\"mw-changeslist-title\" href=\"/wiki/%ED%8B%80:%EC%82%B0%EC%BD%94_%EC%84%A0\" title=\"틀:산코 선\">틀:산코 선</a>]"
      ]
     },
     "execution_count": 7,
     "metadata": {},
     "output_type": "execute_result"
    }
   ],
   "source": [
    "url"
   ]
  },
  {
   "cell_type": "code",
   "execution_count": 8,
   "id": "200ade6b",
   "metadata": {},
   "outputs": [
    {
     "data": {
      "text/plain": [
       "['https://ko.wikipedia.org/wiki/%EC%9C%A0%ED%95%9C%EC%86%94',\n",
       " 'https://ko.wikipedia.org/wiki/%EC%9C%84%ED%82%A4%EB%B0%B1%EA%B3%BC:%EC%82%AC%EB%9E%91%EB%B0%A9/2022%EB%85%84_%EC%A0%9C3%EC%A3%BC',\n",
       " 'https://ko.wikipedia.org/wiki/%EC%9C%84%ED%82%A4%EB%B0%B1%EA%B3%BC:%EC%82%AC%EB%9E%91%EB%B0%A9/2022%EB%85%84_%EC%A0%9C3%EC%A3%BC',\n",
       " 'https://ko.wikipedia.org/wiki/%EA%B9%80%EC%84%B1%EA%B0%95',\n",
       " 'https://ko.wikipedia.org/wiki/%ED%9C%B4%EA%B0%80%EB%82%98%EB%8B%A4_%EC%A7%80%EC%A7%84',\n",
       " 'https://ko.wikipedia.org/wiki/%EB%AA%85%ED%83%90%EC%A0%95_%EC%BD%94%EB%82%9C%EC%9D%98_%EB%8B%A8%ED%96%89%EB%B3%B8_%EB%AA%A9%EB%A1%9D',\n",
       " 'https://ko.wikipedia.org/wiki/%EC%82%AC%EC%9A%A9%EC%9E%90%ED%86%A0%EB%A1%A0:%EA%B3%A0%EB%9D%BC%EB%8B%88%EC%99%80_%EB%85%B8%EB%A3%A8',\n",
       " 'https://ko.wikipedia.org/wiki/%EC%B4%88%EC%95%88:512%EB%B6%84%EC%9D%8C%ED%91%9C',\n",
       " 'https://ko.wikipedia.org/wiki/%EB%82%9C%EC%B9%B4%EC%9D%B4_%ED%95%B4%EA%B3%A1_%EA%B1%B0%EB%8C%80%EC%A7%80%EC%A7%84',\n",
       " 'https://ko.wikipedia.org/wiki/%EA%B9%80%EC%84%B1%EA%B0%95',\n",
       " 'https://ko.wikipedia.org/wiki/%ED%8B%80:%EB%A1%AF%EB%8D%B0_%EC%9E%90%EC%9D%B4%EC%96%B8%EC%B8%A0_%EB%AA%85%EB%8B%A8',\n",
       " 'https://ko.wikipedia.org/wiki/%EC%9C%84%ED%82%A4%EB%B0%B1%EA%B3%BC:%EC%82%AD%EC%A0%9C_%ED%86%A0%EB%A1%A0/2022%EB%85%84_1%EC%9B%94',\n",
       " 'https://ko.wikipedia.org/wiki/%EC%9C%84%ED%82%A4%EB%B0%B1%EA%B3%BC:%EC%82%AD%EC%A0%9C_%ED%86%A0%EB%A1%A0/%EC%97%AD%EB%8C%80_%EB%8C%80%ED%95%9C%EB%AF%BC%EA%B5%AD_%EB%8C%80%ED%86%B5%EB%A0%B9_%EC%84%A0%EA%B1%B0_%EA%B2%B0%EA%B3%BC',\n",
       " 'https://ko.wikipedia.org/wiki/%EB%A1%9C%EC%9D%B4%EC%8A%A4_%EB%A7%81',\n",
       " 'https://ko.wikipedia.org/wiki/%EB%AC%B4%EC%9D%B8%EC%8B%9C%EB%8C%80_(%EB%93%9C%EB%9D%BC%EB%A7%88)',\n",
       " 'https://ko.wikipedia.org/wiki/%EB%AF%B8%EB%82%98%EB%AF%B8%EC%B9%B8%ED%86%A0_%EC%A7%81%ED%95%98%EC%A7%80%EC%A7%84',\n",
       " 'https://ko.wikipedia.org/wiki/%EC%B2%A0%EA%B6%8C_7',\n",
       " 'https://ko.wikipedia.org/wiki/%EC%B4%88%EC%95%88:%EC%83%81%EB%AA%BD%EA%B3%A8%EC%9D%B8',\n",
       " 'https://ko.wikipedia.org/wiki/%EC%B4%88%EC%95%88:%EC%83%81%EB%AA%BD%EA%B3%A8%EC%9D%B8',\n",
       " 'https://ko.wikipedia.org/wiki/%EC%82%AC%EA%B0%80%EB%AF%B8_%ED%95%B4%EA%B3%A1_%EA%B1%B0%EB%8C%80%EC%A7%80%EC%A7%84',\n",
       " 'https://ko.wikipedia.org/wiki/%EC%97%AD%EB%8C%80_%EB%8C%80%ED%95%9C%EB%AF%BC%EA%B5%AD_%EB%8C%80%ED%86%B5%EB%A0%B9_%EC%84%A0%EA%B1%B0_%EA%B2%B0%EA%B3%BC',\n",
       " 'https://ko.wikipedia.org/wiki/%EB%AF%B8%EB%8B%88%EC%8A%A4%ED%86%B1',\n",
       " 'https://ko.wikipedia.org/wiki/%EC%9D%B8%ED%84%B0%EB%9D%BC%EC%BC%84_%EB%8F%99%EC%97%AD',\n",
       " 'https://ko.wikipedia.org/w/index.php?title=BUSINFO&redirect=no',\n",
       " 'https://ko.wikipedia.org/wiki/%ED%8B%80:%EC%9D%BC%EB%B3%B8%EC%9D%98_%EC%A7%80%EC%A7%84',\n",
       " 'https://ko.wikipedia.org/wiki/%EC%9C%A0%ED%9D%AC%EA%B4%80',\n",
       " 'https://ko.wikipedia.org/wiki/%EC%9C%A0%ED%9D%AC%EA%B4%80',\n",
       " 'https://ko.wikipedia.org/wiki/%EC%82%B0%EB%A6%AC%EC%BF%A0_%ED%95%B4%EC%97%AD_%EC%A7%80%EC%A7%84',\n",
       " 'https://ko.wikipedia.org/wiki/%EC%9C%84%ED%82%A4%EB%B0%B1%EA%B3%BC:%EB%8F%99%EC%9D%8C%EC%9D%B4%EC%9D%98%EC%96%B4_%EB%AC%B8%EC%84%9C%EC%9D%98_%EB%AA%A9%EB%A1%9D/%E3%84%B7',\n",
       " 'https://ko.wikipedia.org/wiki/%EC%9D%B8%ED%84%B0%EB%9D%BC%EC%BC%84_%EB%8F%99%EC%97%AD',\n",
       " 'https://ko.wikipedia.org/w/index.php?title=%EB%8B%A4%EC%A6%88_%EC%97%AD&redirect=no',\n",
       " 'https://ko.wikipedia.org/wiki/%EC%B2%A0%EA%B6%8C_6',\n",
       " 'https://ko.wikipedia.org/wiki/%ED%86%A0%EB%A1%A0:%EB%8B%A4%EC%A6%88%EC%97%AD',\n",
       " 'https://ko.wikipedia.org/wiki/%EB%8B%A4%EC%A6%88%EC%97%AD',\n",
       " 'https://ko.wikipedia.org/wiki/%EB%AC%B4%EC%9D%B8%EC%8B%9C%EB%8C%80_(%EB%93%9C%EB%9D%BC%EB%A7%88)',\n",
       " 'https://ko.wikipedia.org/wiki/%EB%8B%A4%EC%A6%88%EC%97%AD_(%ED%83%80%EC%9D%B4%EB%B2%A0%EC%9D%B4%EC%8B%9C)',\n",
       " 'https://ko.wikipedia.org/wiki/%EB%AC%B4%EC%9D%B8%EC%8B%9C%EB%8C%80_(%EB%93%9C%EB%9D%BC%EB%A7%88)',\n",
       " 'https://ko.wikipedia.org/wiki/%EC%9D%B8%ED%84%B0%EB%9D%BC%EC%BC%84_%EB%8F%99%EC%97%AD',\n",
       " 'https://ko.wikipedia.org/wiki/%EC%B2%A0%EA%B6%8C_7',\n",
       " 'https://ko.wikipedia.org/wiki/%EC%82%AC%EC%9A%A9%EC%9E%90%ED%86%A0%EB%A1%A0:%EB%83%A5%EC%9D%B4%EC%9D%98_%EA%BF%88',\n",
       " 'https://ko.wikipedia.org/wiki/LG%EC%83%9D%ED%99%9C%EA%B1%B4%EA%B0%95',\n",
       " 'https://ko.wikipedia.org/wiki/%EC%9D%B8%ED%84%B0%EB%9D%BC%EC%BC%84_%EB%8F%99%EC%97%AD',\n",
       " 'https://ko.wikipedia.org/wiki/%EC%B2%A0%EA%B6%8C_6',\n",
       " 'https://ko.wikipedia.org/wiki/LG%EC%83%9D%ED%99%9C%EA%B1%B4%EA%B0%95',\n",
       " 'https://ko.wikipedia.org/wiki/%EA%B9%80%EC%98%81%EC%9E%84_(1977%EB%85%84)',\n",
       " 'https://ko.wikipedia.org/wiki/%EA%B8%B0%EC%95%84_%EC%8A%A4%ED%86%A0%EB%8B%89',\n",
       " 'https://ko.wikipedia.org/wiki/%EC%B2%A0%EA%B6%8C_6',\n",
       " 'https://ko.wikipedia.org/wiki/%ED%8B%80:%EC%82%B0%EC%BD%94_%EC%84%A0']"
      ]
     },
     "execution_count": 8,
     "metadata": {},
     "output_type": "execute_result"
    }
   ],
   "source": [
    "page_urls"
   ]
  },
  {
   "cell_type": "code",
   "execution_count": 9,
   "id": "24988f0c",
   "metadata": {},
   "outputs": [
    {
     "data": {
      "text/plain": [
       "['유한솔',\n",
       " '위키백과:사랑방/2022년 제3주',\n",
       " '위키백과:사랑방/2022년 제3주',\n",
       " '김성강',\n",
       " '휴가나다 지진',\n",
       " '명탐정 코난의 단행본 목록',\n",
       " '사용자토론:고라니와 노루',\n",
       " '초안:512분음표',\n",
       " '난카이 해곡 거대지진',\n",
       " '김성강',\n",
       " '틀:롯데 자이언츠 명단',\n",
       " '위키백과:삭제 토론/2022년 1월',\n",
       " '위키백과:삭제 토론/역대 대한민국 대통령 선거 결과',\n",
       " '로이스 링',\n",
       " '무인시대 (드라마)',\n",
       " '미나미칸토 직하지진',\n",
       " '철권 7',\n",
       " '초안:상몽골인',\n",
       " '초안:상몽골인',\n",
       " '사가미 해곡 거대지진',\n",
       " '역대 대한민국 대통령 선거 결과',\n",
       " '미니스톱',\n",
       " '인터라켄 동역',\n",
       " 'BUSINFO',\n",
       " '틀:일본의 지진',\n",
       " '유희관',\n",
       " '유희관',\n",
       " '산리쿠 해역 지진',\n",
       " '위키백과:동음이의어 문서의 목록/ㄷ',\n",
       " '인터라켄 동역',\n",
       " '다즈 역',\n",
       " '철권 6',\n",
       " '토론:다즈역',\n",
       " '다즈역',\n",
       " '무인시대 (드라마)',\n",
       " '다즈역 (타이베이시)',\n",
       " '무인시대 (드라마)',\n",
       " '인터라켄 동역',\n",
       " '철권 7',\n",
       " '사용자토론:냥이의 꿈',\n",
       " 'LG생활건강',\n",
       " '인터라켄 동역',\n",
       " '철권 6',\n",
       " 'LG생활건강',\n",
       " '김영임 (1977년)',\n",
       " '기아 스토닉',\n",
       " '철권 6',\n",
       " '틀:산코 선']"
      ]
     },
     "execution_count": 9,
     "metadata": {},
     "output_type": "execute_result"
    }
   ],
   "source": [
    "page_titles"
   ]
  },
  {
   "cell_type": "code",
   "execution_count": 11,
   "id": "93d2631c",
   "metadata": {},
   "outputs": [
    {
     "name": "stdout",
     "output_type": "stream",
     "text": [
      "원하는 검색수를 입력하세요.5\n",
      "title: \t사용자토론:Killer F\n",
      "url: \thttps://ko.wikipedia.org//wiki/%EC%82%AC%EC%9A%A9%EC%9E%90%ED%86%A0%EB%A1%A0:Killer_F\n",
      "contents: \n",
      "-- 환영합니다 (토론) 2020년 10월 4일 (일) 03:24 (KST)[답변]\n",
      "\n",
      "title: \t유한솔\n",
      "url: \thttps://ko.wikipedia.org//wiki/%EC%9C%A0%ED%95%9C%EC%86%94\n",
      "contents: \n",
      "유한솔(1986년 9월 11일 ~ )은 대한민국의 전 G1, 안동MBC, 현 MBN 아나운서이다.\n",
      "\n",
      "title: \t위키백과:사랑방/2022년 제3주\n",
      "url: \thttps://ko.wikipedia.org//wiki/%EC%9C%84%ED%82%A4%EB%B0%B1%EA%B3%BC:%EC%82%AC%EB%9E%91%EB%B0%A9/2022%EB%85%84_%EC%A0%9C3%EC%A3%BC\n",
      "contents: \n",
      "--YKo (WMF) (토론) 2022년 1월 18일 (화) 15:58 (KST)[답변]\n",
      "\n",
      "title: \t위키백과:사랑방/2022년 제3주\n",
      "url: \thttps://ko.wikipedia.org//wiki/%EC%9C%84%ED%82%A4%EB%B0%B1%EA%B3%BC:%EC%82%AC%EB%9E%91%EB%B0%A9/2022%EB%85%84_%EC%A0%9C3%EC%A3%BC\n",
      "contents: \n",
      "--YKo (WMF) (토론) 2022년 1월 18일 (화) 15:58 (KST)[답변]\n",
      "\n",
      "title: \t김성강\n",
      "url: \thttps://ko.wikipedia.org//wiki/%EA%B9%80%EC%84%B1%EA%B0%95\n",
      "contents: \n",
      "김성강(金成刚, 1975년 ~ )은 대한민국의 배우이다. 중국동포 출신이다.\n",
      "\n",
      "----------------------------------------------\n"
     ]
    },
    {
     "data": {
      "text/html": [
       "<div>\n",
       "<style scoped>\n",
       "    .dataframe tbody tr th:only-of-type {\n",
       "        vertical-align: middle;\n",
       "    }\n",
       "\n",
       "    .dataframe tbody tr th {\n",
       "        vertical-align: top;\n",
       "    }\n",
       "\n",
       "    .dataframe thead th {\n",
       "        text-align: right;\n",
       "    }\n",
       "</style>\n",
       "<table border=\"1\" class=\"dataframe\">\n",
       "  <thead>\n",
       "    <tr style=\"text-align: right;\">\n",
       "      <th></th>\n",
       "      <th>title</th>\n",
       "      <th>url</th>\n",
       "      <th>content_text</th>\n",
       "    </tr>\n",
       "  </thead>\n",
       "  <tbody>\n",
       "    <tr>\n",
       "      <th>0</th>\n",
       "      <td>사용자토론:Killer F</td>\n",
       "      <td>https://ko.wikipedia.org//wiki/%EC%82%AC%EC%9A...</td>\n",
       "      <td>-- 환영합니다 (토론) 2020년 10월 4일 (일) 03:24 (KST)[답변] ,</td>\n",
       "    </tr>\n",
       "    <tr>\n",
       "      <th>1</th>\n",
       "      <td>유한솔</td>\n",
       "      <td>https://ko.wikipedia.org//wiki/%EC%9C%A0%ED%95...</td>\n",
       "      <td>유한솔(1986년 9월 11일 ~ )은 대한민국의 전 G1, 안동MBC, 현 MBN...</td>\n",
       "    </tr>\n",
       "    <tr>\n",
       "      <th>2</th>\n",
       "      <td>위키백과:사랑방/2022년 제3주</td>\n",
       "      <td>https://ko.wikipedia.org//wiki/%EC%9C%84%ED%82...</td>\n",
       "      <td>--YKo (WMF) (토론) 2022년 1월 18일 (화) 15:58 (KST)[...</td>\n",
       "    </tr>\n",
       "    <tr>\n",
       "      <th>3</th>\n",
       "      <td>위키백과:사랑방/2022년 제3주</td>\n",
       "      <td>https://ko.wikipedia.org//wiki/%EC%9C%84%ED%82...</td>\n",
       "      <td>--YKo (WMF) (토론) 2022년 1월 18일 (화) 15:58 (KST)[...</td>\n",
       "    </tr>\n",
       "    <tr>\n",
       "      <th>4</th>\n",
       "      <td>김성강</td>\n",
       "      <td>https://ko.wikipedia.org//wiki/%EA%B9%80%EC%84...</td>\n",
       "      <td>김성강(金成刚, 1975년 ~ )은 대한민국의 배우이다. 중국동포 출신이다. ,</td>\n",
       "    </tr>\n",
       "  </tbody>\n",
       "</table>\n",
       "</div>"
      ],
      "text/plain": [
       "                title                                                url  \\\n",
       "0      사용자토론:Killer F  https://ko.wikipedia.org//wiki/%EC%82%AC%EC%9A...   \n",
       "1                 유한솔  https://ko.wikipedia.org//wiki/%EC%9C%A0%ED%95...   \n",
       "2  위키백과:사랑방/2022년 제3주  https://ko.wikipedia.org//wiki/%EC%9C%84%ED%82...   \n",
       "3  위키백과:사랑방/2022년 제3주  https://ko.wikipedia.org//wiki/%EC%9C%84%ED%82...   \n",
       "4                 김성강  https://ko.wikipedia.org//wiki/%EA%B9%80%EC%84...   \n",
       "\n",
       "                                        content_text  \n",
       "0  -- 환영합니다 (토론) 2020년 10월 4일 (일) 03:24 (KST)[답변] ,   \n",
       "1  유한솔(1986년 9월 11일 ~ )은 대한민국의 전 G1, 안동MBC, 현 MBN...  \n",
       "2  --YKo (WMF) (토론) 2022년 1월 18일 (화) 15:58 (KST)[...  \n",
       "3  --YKo (WMF) (토론) 2022년 1월 18일 (화) 15:58 (KST)[...  \n",
       "4      김성강(金成刚, 1975년 ~ )은 대한민국의 배우이다. 중국동포 출신이다. ,   "
      ]
     },
     "execution_count": 11,
     "metadata": {},
     "output_type": "execute_result"
    }
   ],
   "source": [
    "# 크롤링한 데이터를 데이터 프레임으로 만들기 위해 준비\n",
    "columns = [\"title\", \"url\", \"content_text\"]\n",
    "df = pd.DataFrame(columns=columns)\n",
    "\n",
    "excutable_path = \"chromedriver.exe\"\n",
    "\n",
    "base_url = 'https://ko.wikipedia.org/'\n",
    "\n",
    "def urlmake(links):\n",
    "    source = base_url + links\n",
    "    driver.get(source)\n",
    "    req = driver.page_source\n",
    "    soup = BeautifulSoup(req, \"html.parser\") \n",
    "    return soup\n",
    "\n",
    "driver = webdriver.Chrome(executable_path=excutable_path)\n",
    "\n",
    "base_link = \"wiki/%ED%8A%B9%EC%88%98:%EC%B5%9C%EA%B7%BC%EB%B0%94%EB%80%9C?hidebots=1&hidecategorization=1&hideWikibase=1&limit=50&days=7&urlversion=2\"\n",
    "\n",
    "title_list = urlmake(base_link).select('.mw-title')\n",
    "\n",
    "keyword = input(f\"원하는 검색수를 입력하세요.\")\n",
    "\n",
    "num = 0\n",
    "\n",
    "for i in range(int(keyword)):\n",
    "    title = title_list[i].select_one('.mw-changeslist-title').text\n",
    "    link = title_list[i].select_one('a').attrs['href']\n",
    "    contents = urlmake(link).select_one('.mw-parser-output>p')\n",
    "    num += 1\n",
    "    # 그냥 주피터에서 출력 시 \n",
    "    \n",
    "    print(f'title: \\t{title}\\nurl: \\t{base_url+link}')\n",
    "    if(contents != None and contents != ''):\n",
    "        print(f'contents: \\n{contents.text}')\n",
    "    else:\n",
    "        print('contents : NOPE')\n",
    "    if(num == int(keyword)):\n",
    "\n",
    "        print(f'----------------------------------------------')\n",
    "\n",
    "    # 데이터 프레임으로 만들고 싶을시\n",
    "    if contents == None:\n",
    "        contents = ''\n",
    "    else:\n",
    "        contents = contents.text\n",
    "    row = [title,base_url+link,re.sub('\\n',' , ',contents)]\n",
    "    series = pd.Series(row, index=df.columns)\n",
    "    df = df.append(series, ignore_index=True)\n",
    "df"
   ]
  },
  {
   "cell_type": "code",
   "execution_count": null,
   "id": "a39cad62",
   "metadata": {},
   "outputs": [],
   "source": []
  }
 ],
 "metadata": {
  "kernelspec": {
   "display_name": "Python 3 (ipykernel)",
   "language": "python",
   "name": "python3"
  },
  "language_info": {
   "codemirror_mode": {
    "name": "ipython",
    "version": 3
   },
   "file_extension": ".py",
   "mimetype": "text/x-python",
   "name": "python",
   "nbconvert_exporter": "python",
   "pygments_lexer": "ipython3",
   "version": "3.9.7"
  }
 },
 "nbformat": 4,
 "nbformat_minor": 5
}
