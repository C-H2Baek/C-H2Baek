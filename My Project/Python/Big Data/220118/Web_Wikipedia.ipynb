{
 "cells": [
  {
   "cell_type": "markdown",
   "id": "399c145e",
   "metadata": {},
   "source": [
    "## [ 웹크롤링 _ 위키피디아 사이트 분석 및 시각화 ]\n"
   ]
  },
  {
   "cell_type": "code",
   "execution_count": 1,
   "id": "df7e2dee",
   "metadata": {},
   "outputs": [],
   "source": [
    "# -*- coding: utf-8 -*-\n",
    "\n",
    "%matplotlib inline\n",
    "\n",
    "import pandas as pd\n",
    "import numpy as np\n",
    "import matplotlib.pyplot as plt\n",
    "\n",
    "import warnings\n",
    "warnings.filterwarnings(\"ignore\")"
   ]
  },
  {
   "cell_type": "code",
   "execution_count": 2,
   "id": "558f8a7a",
   "metadata": {
    "scrolled": false
   },
   "outputs": [],
   "source": [
    "from selenium import webdriver\n",
    "from bs4 import BeautifulSoup\n",
    "import re # 정규식 표현을 위한 모듈\n",
    "\n",
    "# 윈도우용 크롬 웹드라이버 실행 경로 (Windows) 지정\n",
    "excutable_path = \"chromedriver.exe\"\n",
    "driver = webdriver.Chrome(executable_path=excutable_path)\n",
    "\n",
    "# 사이트의 html 구조에 기반하여 크롤링을 수행\n",
    "source_url = \"https://ko.wikipedia.org/wiki/%ED%8A%B9%EC%88%98:%EC%B5%9C%EA%B7%BC%EB%B0%94%EB%80%9C\" # 크롤링할 사이트 주소를 정의\n",
    "driver.get(source_url)  # 크롬 드라이버를 통해 URL의 HTML 문서 가져옴\n",
    "\n",
    "# import time\n",
    "# time.sleep(10)\n",
    "\n",
    "req = driver.page_source\n",
    "soup = BeautifulSoup(req, \"html.parser\") # BeautifulSoup의 soup 객체로 변환\n",
    "#span_rows = soup.select(\"div ul.special li span.mw-changeslist-line-inner .mw-title\")\n",
    "span_rows = soup.select(\"span.mw-title\")"
   ]
  },
  {
   "cell_type": "code",
   "execution_count": 3,
   "id": "b6b3c613",
   "metadata": {},
   "outputs": [
    {
     "data": {
      "text/plain": [
       "49"
      ]
     },
     "execution_count": 3,
     "metadata": {},
     "output_type": "execute_result"
    }
   ],
   "source": [
    "len(span_rows)"
   ]
  },
  {
   "cell_type": "code",
   "execution_count": 4,
   "id": "95d05df2",
   "metadata": {},
   "outputs": [
    {
     "data": {
      "text/plain": [
       "[<span class=\"mw-title\"><a class=\"mw-changeslist-title\" href=\"/wiki/MBC_100%EB%B6%84_%ED%86%A0%EB%A1%A0\" title=\"MBC 100분 토론\">MBC 100분 토론</a></span>,\n",
       " <span class=\"mw-title\"><a class=\"mw-changeslist-title\" href=\"/wiki/%ED%95%9C%EA%B5%AD%EB%B0%A9%EC%86%A1_%EC%84%B1%EC%9A%B0%EA%B7%B9%ED%9A%8C\" title=\"한국방송 성우극회\">한국방송 성우극회</a></span>,\n",
       " <span class=\"mw-title\"><a class=\"mw-changeslist-title\" href=\"/wiki/%EC%82%AC%EB%9E%91%EC%9D%98_%EA%BD%88%EB%B0%B0%EA%B8%B0\" title=\"사랑의 꽈배기\">사랑의 꽈배기</a></span>,\n",
       " <span class=\"mw-title\"><a class=\"mw-changeslist-title\" href=\"/wiki/%EB%A0%88%EB%93%9C_%EC%BD%A4%ED%94%8C%EB%A0%89%EC%8A%A4\" title=\"레드 콤플렉스\">레드 콤플렉스</a></span>,\n",
       " <span class=\"mw-title\"><a class=\"mw-changeslist-title\" href=\"/wiki/%EC%9D%B4%EC%83%81%ED%95%9C_%EA%B3%BC%EC%9E%90%EA%B0%80%EA%B2%8C_%EC%A0%84%EC%B2%9C%EB%8B%B9\" title=\"이상한 과자가게 전천당\">이상한 과자가게 전천당</a></span>,\n",
       " <span class=\"mw-title\"><a class=\"mw-changeslist-title\" href=\"/wiki/%EC%9E%A5%EC%98%81%EC%88%98\" title=\"장영수\">장영수</a></span>,\n",
       " <span class=\"mw-title\"><a class=\"mw-changeslist-title\" href=\"/wiki/%EA%B5%AD%EA%B0%80%EB%8C%80%ED%91%9C_%EC%99%80%EC%9D%B4%ED%94%84\" title=\"국가대표 와이프\">국가대표 와이프</a></span>,\n",
       " <span class=\"mw-title\"><a class=\"mw-changeslist-title\" href=\"/wiki/%EC%9C%84%ED%82%A4%EB%B0%B1%EA%B3%BC:%EC%9C%84%ED%82%A4%ED%94%84%EB%A1%9C%EC%A0%9D%ED%8A%B8/%EC%A0%9C%EC%95%88\" title=\"위키백과:위키프로젝트/제안\">위키백과:위키프로젝트/제안</a></span>,\n",
       " <span class=\"mw-title\"><a class=\"mw-changeslist-title\" href=\"/wiki/%EB%B2%B5%EC%97%94%EC%97%AD\" title=\"벵엔역\">벵엔역</a></span>,\n",
       " <span class=\"mw-title\"><a class=\"mw-changeslist-title\" href=\"/wiki/%EC%9E%A5%EC%9E%AC%EC%98%81_(1945%EB%85%84)\" title=\"장재영 (1945년)\">장재영 (1945년)</a></span>,\n",
       " <span class=\"mw-title\"><a class=\"mw-changeslist-title\" href=\"/wiki/%EA%B7%B8%EB%A6%B0%EB%8D%B8%EB%B0%9C%ED%8A%B8\" title=\"그린델발트\">그린델발트</a></span>,\n",
       " <span class=\"mw-title\"><a class=\"mw-changeslist-title\" href=\"/wiki/%EC%82%B0%EB%8B%A8%EB%A1%9C\" title=\"산단로\">산단로</a></span>,\n",
       " <span class=\"mw-title\"><a class=\"mw-changeslist-title\" href=\"/wiki/%EB%AC%B8%EB%AC%B8\" title=\"문문\">문문</a></span>,\n",
       " <span class=\"mw-title\"><a class=\"mw-changeslist-title\" href=\"/wiki/%EC%9C%84%ED%82%A4%EB%B0%B1%EA%B3%BC:%EC%82%AC%EB%9E%91%EB%B0%A9/2022%EB%85%84_%EC%A0%9C3%EC%A3%BC\" title=\"위키백과:사랑방/2022년 제3주\">위키백과:사랑방/2022년 제3주</a></span>,\n",
       " <span class=\"mw-title\"><a class=\"mw-changeslist-title\" href=\"/wiki/%EB%AC%B8%EB%AC%B8\" title=\"문문\">문문</a></span>,\n",
       " <span class=\"mw-title\"><a class=\"mw-changeslist-title\" href=\"/wiki/%EB%B2%B5%EC%97%94\" title=\"벵엔\">벵엔</a></span>,\n",
       " <span class=\"mw-title\"><a class=\"mw-changeslist-title\" href=\"/wiki/2022%EB%85%84_KBO_%EB%A6%AC%EA%B7%B8\" title=\"2022년 KBO 리그\">2022년 KBO 리그</a></span>,\n",
       " <span class=\"mw-title\"><a class=\"mw-changeslist-title\" href=\"/wiki/%EA%B8%B0%EB%8F%85%EA%B5%90_%EC%84%A0%EA%B5%90%EB%8B%A8%EC%B2%B4\" title=\"기독교 선교단체\">기독교 선교단체</a></span>,\n",
       " <span class=\"mw-title\"><a class=\"mw-changeslist-title\" href=\"/wiki/%EB%B2%B5%EC%97%94\" title=\"벵엔\">벵엔</a></span>,\n",
       " <span class=\"mw-title\"><a class=\"mw-changeslist-title\" href=\"/wiki/%EA%B8%B0%EB%B6%84_%EC%A2%8B%EC%9D%80_%EB%82%A0_(MBC)%EC%9D%98_%EC%97%90%ED%94%BC%EC%86%8C%EB%93%9C_%EB%AA%A9%EB%A1%9D_(2022%EB%85%84)\" title=\"기분 좋은 날 (MBC)의 에피소드 목록 (2022년)\">기분 좋은 날 (MBC)의 에피소드 목록 (2022년)</a></span>,\n",
       " <span class=\"mw-title\"><a class=\"mw-changeslist-title\" href=\"/wiki/PD%EC%88%98%EC%B2%A9\" title=\"PD수첩\">PD수첩</a></span>,\n",
       " <span class=\"mw-title\"><a class=\"mw-changeslist-title\" href=\"/wiki/%EA%B3%84%EC%82%B0_%EB%B6%88%EA%B0%80%EB%8A%A5_%EC%84%9C%EC%88%98\" title=\"계산 불가능 서수\">계산 불가능 서수</a></span>,\n",
       " <span class=\"mw-title\"><a class=\"mw-changeslist-title\" href=\"/wiki/%EA%B8%B0%EB%8F%85%EA%B5%90_%EC%84%A0%EA%B5%90%EB%8B%A8%EC%B2%B4\" title=\"기독교 선교단체\">기독교 선교단체</a></span>,\n",
       " <span class=\"mw-title\"><a class=\"mw-changeslist-title\" href=\"/wiki/%EC%9D%B4%ED%83%9C%EC%98%A4\" title=\"이태오\">이태오</a></span>,\n",
       " <span class=\"mw-title\"><a class=\"mw-changeslist-title\" href=\"/wiki/%ED%95%9C%EA%B5%AD%EB%B0%A9%EC%86%A1_%EC%84%B1%EC%9A%B0%EA%B7%B9%ED%9A%8C\" title=\"한국방송 성우극회\">한국방송 성우극회</a></span>,\n",
       " <span class=\"mw-title\"><a class=\"mw-changeslist-title\" href=\"/wiki/%EA%B8%B0%EB%8F%85%EA%B5%90_%EC%84%A0%EA%B5%90%EB%8B%A8%EC%B2%B4\" title=\"기독교 선교단체\">기독교 선교단체</a></span>,\n",
       " <span class=\"mw-title\"><a class=\"mw-changeslist-title\" href=\"/wiki/%EB%9D%BC%EC%9A%B0%ED%84%B0%EB%B8%8C%EB%A3%A8%EB%84%A8\" title=\"라우터브루넨\">라우터브루넨</a></span>,\n",
       " <span class=\"mw-title\"><a class=\"mw-changeslist-title\" href=\"/wiki/%ED%8F%AC%EC%B9%B4%EB%A6%AC_%EC%8A%A4%EC%9B%A8%ED%8A%B8\" title=\"포카리 스웨트\">포카리 스웨트</a></span>,\n",
       " <span class=\"mw-title\"><a class=\"mw-changeslist-title\" href=\"/wiki/%EC%BD%9C_%EC%98%A4%EB%B8%8C_%EB%93%80%ED%8B%B0:_%EB%B1%85%EA%B0%80%EB%93%9C\" title=\"콜 오브 듀티: 뱅가드\">콜 오브 듀티: 뱅가드</a></span>,\n",
       " <span class=\"mw-title\"><a class=\"mw-changeslist-title\" href=\"/wiki/2016%EB%85%84_%EC%98%81%EA%B5%AD_%EC%A7%80%EB%B0%A9_%EC%84%A0%EA%B1%B0\" title=\"2016년 영국 지방 선거\">2016년 영국 지방 선거</a></span>,\n",
       " <span class=\"mw-title\"><a class=\"mw-changeslist-title\" href=\"/wiki/%EC%9C%84%ED%82%A4%EB%B0%B1%EA%B3%BC:%EC%9C%84%ED%82%A4%ED%94%84%EB%A1%9C%EC%A0%9D%ED%8A%B8/%EC%A0%9C%EC%95%88\" title=\"위키백과:위키프로젝트/제안\">위키백과:위키프로젝트/제안</a></span>,\n",
       " <span class=\"mw-title\"><a class=\"mw-changeslist-title\" href=\"/wiki/%EC%82%AC%EC%9E%A5%EB%8B%98_%EA%B7%80%EB%8A%94_%EB%8B%B9%EB%82%98%EA%B7%80_%EA%B7%80\" title=\"사장님 귀는 당나귀 귀\">사장님 귀는 당나귀 귀</a></span>,\n",
       " <span class=\"mw-title\"><a class=\"mw-changeslist-title\" href=\"/wiki/%ED%95%9C%EA%B5%AD%EB%B0%A9%EC%86%A1_%EC%84%B1%EC%9A%B0%EA%B7%B9%ED%9A%8C\" title=\"한국방송 성우극회\">한국방송 성우극회</a></span>,\n",
       " <span class=\"mw-title\"><a class=\"mw-changeslist-title\" href=\"/wiki/2%25_%EB%B6%80%EC%A1%B1%ED%95%A0%EB%95%8C\" title=\"2% 부족할때\">2% 부족할때</a></span>,\n",
       " <span class=\"mw-title\"><a class=\"mw-changeslist-title\" href=\"/wiki/%EB%9D%BC%EC%9A%B0%ED%84%B0%EB%B8%8C%EB%A3%A8%EB%84%A8\" title=\"라우터브루넨\">라우터브루넨</a></span>,\n",
       " <span class=\"mw-title\"><a class=\"mw-changeslist-title\" href=\"/wiki/2%25_%EB%B6%80%EC%A1%B1%ED%95%A0%EB%95%8C\" title=\"2% 부족할때\">2% 부족할때</a></span>,\n",
       " <span class=\"mw-title\"><a class=\"mw-changeslist-title\" href=\"/wiki/%EB%9D%BC%EC%9A%B0%ED%84%B0%EB%B8%8C%EB%A3%A8%EB%84%A8\" title=\"라우터브루넨\">라우터브루넨</a></span>,\n",
       " <span class=\"mw-title\"><a class=\"mw-changeslist-title\" href=\"/wiki/%EC%B5%9C%EC%9A%A9%EB%93%9D\" title=\"최용득\">최용득</a></span>,\n",
       " <span class=\"mw-title\"><a class=\"mw-changeslist-title\" href=\"/wiki/%EA%B2%8C%ED%86%A0%EB%A0%88%EC%9D%B4\" title=\"게토레이\">게토레이</a></span>,\n",
       " <span class=\"mw-title\"><a class=\"mw-changeslist-title\" href=\"/wiki/%EB%9D%BC%EC%9A%B0%ED%84%B0%EB%B8%8C%EB%A3%A8%EB%84%A8\" title=\"라우터브루넨\">라우터브루넨</a></span>,\n",
       " <span class=\"mw-title\"><a class=\"mw-changeslist-title\" href=\"/wiki/%EA%B2%8C%ED%86%A0%EB%A0%88%EC%9D%B4\" title=\"게토레이\">게토레이</a></span>,\n",
       " <span class=\"mw-title\"><a class=\"mw-changeslist-title\" href=\"/wiki/%EC%B5%9C%EC%9A%A9%EB%93%9D\" title=\"최용득\">최용득</a></span>,\n",
       " <span class=\"mw-title\"><a class=\"mw-changeslist-title\" href=\"/wiki/%EA%B9%80%EC%83%81%EB%91%90\" title=\"김상두\">김상두</a></span>,\n",
       " <span class=\"mw-title\"><a class=\"mw-changeslist-title\" href=\"/wiki/%ED%95%9C%EA%B5%AD%EB%B0%A9%EC%86%A1_%EC%84%B1%EC%9A%B0%EA%B7%B9%ED%9A%8C\" title=\"한국방송 성우극회\">한국방송 성우극회</a></span>,\n",
       " <span class=\"mw-title\"><a class=\"mw-changeslist-title\" href=\"/wiki/%EC%9C%84%ED%82%A4%EB%B0%B1%EA%B3%BC:%EC%82%AC%EB%9E%91%EB%B0%A9/2022%EB%85%84_%EC%A0%9C3%EC%A3%BC\" title=\"위키백과:사랑방/2022년 제3주\">위키백과:사랑방/2022년 제3주</a></span>,\n",
       " <span class=\"mw-title\"><a class=\"mw-changeslist-title\" href=\"/wiki/%EC%B2%9C%EA%B6%88%EC%BF%A4\" title=\"천궈쿤\">천궈쿤</a></span>,\n",
       " <span class=\"mw-title\"><a class=\"mw-changeslist-title\" href=\"/wiki/%EB%9D%BC%EC%9A%B0%ED%84%B0%EB%B8%8C%EB%A3%A8%EB%84%A8\" title=\"라우터브루넨\">라우터브루넨</a></span>,\n",
       " <span class=\"mw-title\"><a class=\"mw-changeslist-title\" href=\"/wiki/%EC%9E%84%EC%84%A4\" title=\"임설\">임설</a></span>,\n",
       " <span class=\"mw-title\"><a class=\"mw-changeslist-title\" href=\"/wiki/%EA%B3%84%EC%82%B0_%EB%B6%88%EA%B0%80%EB%8A%A5_%EC%84%9C%EC%88%98\" title=\"계산 불가능 서수\">계산 불가능 서수</a></span>]"
      ]
     },
     "execution_count": 4,
     "metadata": {},
     "output_type": "execute_result"
    }
   ],
   "source": [
    "span_rows"
   ]
  },
  {
   "cell_type": "code",
   "execution_count": 5,
   "id": "f61521f6",
   "metadata": {},
   "outputs": [
    {
     "name": "stdout",
     "output_type": "stream",
     "text": [
      "['https://ko.wikipedia.org/wiki/MBC_100%EB%B6%84_%ED%86%A0%EB%A1%A0', 'https://ko.wikipedia.org/wiki/%ED%95%9C%EA%B5%AD%EB%B0%A9%EC%86%A1_%EC%84%B1%EC%9A%B0%EA%B7%B9%ED%9A%8C', 'https://ko.wikipedia.org/wiki/%EC%82%AC%EB%9E%91%EC%9D%98_%EA%BD%88%EB%B0%B0%EA%B8%B0', 'https://ko.wikipedia.org/wiki/%EB%A0%88%EB%93%9C_%EC%BD%A4%ED%94%8C%EB%A0%89%EC%8A%A4', 'https://ko.wikipedia.org/wiki/%EC%9D%B4%EC%83%81%ED%95%9C_%EA%B3%BC%EC%9E%90%EA%B0%80%EA%B2%8C_%EC%A0%84%EC%B2%9C%EB%8B%B9', 'https://ko.wikipedia.org/wiki/%EC%9E%A5%EC%98%81%EC%88%98', 'https://ko.wikipedia.org/wiki/%EA%B5%AD%EA%B0%80%EB%8C%80%ED%91%9C_%EC%99%80%EC%9D%B4%ED%94%84', 'https://ko.wikipedia.org/wiki/%EC%9C%84%ED%82%A4%EB%B0%B1%EA%B3%BC:%EC%9C%84%ED%82%A4%ED%94%84%EB%A1%9C%EC%A0%9D%ED%8A%B8/%EC%A0%9C%EC%95%88', 'https://ko.wikipedia.org/wiki/%EB%B2%B5%EC%97%94%EC%97%AD', 'https://ko.wikipedia.org/wiki/%EC%9E%A5%EC%9E%AC%EC%98%81_(1945%EB%85%84)', 'https://ko.wikipedia.org/wiki/%EA%B7%B8%EB%A6%B0%EB%8D%B8%EB%B0%9C%ED%8A%B8', 'https://ko.wikipedia.org/wiki/%EC%82%B0%EB%8B%A8%EB%A1%9C', 'https://ko.wikipedia.org/wiki/%EB%AC%B8%EB%AC%B8', 'https://ko.wikipedia.org/wiki/%EC%9C%84%ED%82%A4%EB%B0%B1%EA%B3%BC:%EC%82%AC%EB%9E%91%EB%B0%A9/2022%EB%85%84_%EC%A0%9C3%EC%A3%BC', 'https://ko.wikipedia.org/wiki/%EB%AC%B8%EB%AC%B8', 'https://ko.wikipedia.org/wiki/%EB%B2%B5%EC%97%94', 'https://ko.wikipedia.org/wiki/2022%EB%85%84_KBO_%EB%A6%AC%EA%B7%B8', 'https://ko.wikipedia.org/wiki/%EA%B8%B0%EB%8F%85%EA%B5%90_%EC%84%A0%EA%B5%90%EB%8B%A8%EC%B2%B4', 'https://ko.wikipedia.org/wiki/%EB%B2%B5%EC%97%94', 'https://ko.wikipedia.org/wiki/%EA%B8%B0%EB%B6%84_%EC%A2%8B%EC%9D%80_%EB%82%A0_(MBC)%EC%9D%98_%EC%97%90%ED%94%BC%EC%86%8C%EB%93%9C_%EB%AA%A9%EB%A1%9D_(2022%EB%85%84)', 'https://ko.wikipedia.org/wiki/PD%EC%88%98%EC%B2%A9', 'https://ko.wikipedia.org/wiki/%EA%B3%84%EC%82%B0_%EB%B6%88%EA%B0%80%EB%8A%A5_%EC%84%9C%EC%88%98', 'https://ko.wikipedia.org/wiki/%EA%B8%B0%EB%8F%85%EA%B5%90_%EC%84%A0%EA%B5%90%EB%8B%A8%EC%B2%B4', 'https://ko.wikipedia.org/wiki/%EC%9D%B4%ED%83%9C%EC%98%A4', 'https://ko.wikipedia.org/wiki/%ED%95%9C%EA%B5%AD%EB%B0%A9%EC%86%A1_%EC%84%B1%EC%9A%B0%EA%B7%B9%ED%9A%8C', 'https://ko.wikipedia.org/wiki/%EA%B8%B0%EB%8F%85%EA%B5%90_%EC%84%A0%EA%B5%90%EB%8B%A8%EC%B2%B4', 'https://ko.wikipedia.org/wiki/%EB%9D%BC%EC%9A%B0%ED%84%B0%EB%B8%8C%EB%A3%A8%EB%84%A8', 'https://ko.wikipedia.org/wiki/%ED%8F%AC%EC%B9%B4%EB%A6%AC_%EC%8A%A4%EC%9B%A8%ED%8A%B8', 'https://ko.wikipedia.org/wiki/%EC%BD%9C_%EC%98%A4%EB%B8%8C_%EB%93%80%ED%8B%B0:_%EB%B1%85%EA%B0%80%EB%93%9C', 'https://ko.wikipedia.org/wiki/2016%EB%85%84_%EC%98%81%EA%B5%AD_%EC%A7%80%EB%B0%A9_%EC%84%A0%EA%B1%B0', 'https://ko.wikipedia.org/wiki/%EC%9C%84%ED%82%A4%EB%B0%B1%EA%B3%BC:%EC%9C%84%ED%82%A4%ED%94%84%EB%A1%9C%EC%A0%9D%ED%8A%B8/%EC%A0%9C%EC%95%88', 'https://ko.wikipedia.org/wiki/%EC%82%AC%EC%9E%A5%EB%8B%98_%EA%B7%80%EB%8A%94_%EB%8B%B9%EB%82%98%EA%B7%80_%EA%B7%80', 'https://ko.wikipedia.org/wiki/%ED%95%9C%EA%B5%AD%EB%B0%A9%EC%86%A1_%EC%84%B1%EC%9A%B0%EA%B7%B9%ED%9A%8C', 'https://ko.wikipedia.org/wiki/2%25_%EB%B6%80%EC%A1%B1%ED%95%A0%EB%95%8C', 'https://ko.wikipedia.org/wiki/%EB%9D%BC%EC%9A%B0%ED%84%B0%EB%B8%8C%EB%A3%A8%EB%84%A8', 'https://ko.wikipedia.org/wiki/2%25_%EB%B6%80%EC%A1%B1%ED%95%A0%EB%95%8C', 'https://ko.wikipedia.org/wiki/%EB%9D%BC%EC%9A%B0%ED%84%B0%EB%B8%8C%EB%A3%A8%EB%84%A8', 'https://ko.wikipedia.org/wiki/%EC%B5%9C%EC%9A%A9%EB%93%9D', 'https://ko.wikipedia.org/wiki/%EA%B2%8C%ED%86%A0%EB%A0%88%EC%9D%B4', 'https://ko.wikipedia.org/wiki/%EB%9D%BC%EC%9A%B0%ED%84%B0%EB%B8%8C%EB%A3%A8%EB%84%A8', 'https://ko.wikipedia.org/wiki/%EA%B2%8C%ED%86%A0%EB%A0%88%EC%9D%B4', 'https://ko.wikipedia.org/wiki/%EC%B5%9C%EC%9A%A9%EB%93%9D', 'https://ko.wikipedia.org/wiki/%EA%B9%80%EC%83%81%EB%91%90', 'https://ko.wikipedia.org/wiki/%ED%95%9C%EA%B5%AD%EB%B0%A9%EC%86%A1_%EC%84%B1%EC%9A%B0%EA%B7%B9%ED%9A%8C', 'https://ko.wikipedia.org/wiki/%EC%9C%84%ED%82%A4%EB%B0%B1%EA%B3%BC:%EC%82%AC%EB%9E%91%EB%B0%A9/2022%EB%85%84_%EC%A0%9C3%EC%A3%BC', 'https://ko.wikipedia.org/wiki/%EC%B2%9C%EA%B6%88%EC%BF%A4', 'https://ko.wikipedia.org/wiki/%EB%9D%BC%EC%9A%B0%ED%84%B0%EB%B8%8C%EB%A3%A8%EB%84%A8', 'https://ko.wikipedia.org/wiki/%EC%9E%84%EC%84%A4', 'https://ko.wikipedia.org/wiki/%EA%B3%84%EC%82%B0_%EB%B6%88%EA%B0%80%EB%8A%A5_%EC%84%9C%EC%88%98']\n",
      "['MBC 100분 토론', '한국방송 성우극회', '사랑의 꽈배기', '레드 콤플렉스', '이상한 과자가게 전천당', '장영수', '국가대표 와이프', '위키백과:위키프로젝트/제안', '벵엔역', '장재영 (1945년)', '그린델발트', '산단로', '문문', '위키백과:사랑방/2022년 제3주', '문문', '벵엔', '2022년 KBO 리그', '기독교 선교단체', '벵엔', '기분 좋은 날 (MBC)의 에피소드 목록 (2022년)', 'PD수첩', '계산 불가능 서수', '기독교 선교단체', '이태오', '한국방송 성우극회', '기독교 선교단체', '라우터브루넨', '포카리 스웨트', '콜 오브 듀티: 뱅가드', '2016년 영국 지방 선거', '위키백과:위키프로젝트/제안', '사장님 귀는 당나귀 귀', '한국방송 성우극회', '2% 부족할때', '라우터브루넨', '2% 부족할때', '라우터브루넨', '최용득', '게토레이', '라우터브루넨', '게토레이', '최용득', '김상두', '한국방송 성우극회', '위키백과:사랑방/2022년 제3주', '천궈쿤', '라우터브루넨', '임설', '계산 불가능 서수']\n"
     ]
    }
   ],
   "source": [
    "span_rows = soup.select(\"span.mw-title\")\n",
    "\n",
    "page_url_base = \"https://ko.wikipedia.org\" # 베이스 URL 정의\n",
    "page_urls = [] # href 속성값을 담기 위한 빈 리스트 생성 \n",
    "page_titles = [] # title 속성값을 담기 위한 빈 리스트 생성 \n",
    "\n",
    "for index in range(0, len(span_rows)):\n",
    "    url = span_rows[index].find_all(\"a\") \n",
    "    title = span_rows[index].text\n",
    "    page_titles.append(title)\n",
    "    if len(url) > 0:\n",
    "        page_url = page_url_base +url[0].attrs[\"href\"] \n",
    "        if \"png\" not in page_url:\n",
    "            page_urls.append(page_url)\n",
    "print(page_urls)\n",
    "print(page_titles)"
   ]
  },
  {
   "cell_type": "code",
   "execution_count": 6,
   "id": "d3a305c6",
   "metadata": {},
   "outputs": [
    {
     "data": {
      "text/plain": [
       "[<a class=\"mw-changeslist-title\" href=\"/wiki/%EA%B3%84%EC%82%B0_%EB%B6%88%EA%B0%80%EB%8A%A5_%EC%84%9C%EC%88%98\" title=\"계산 불가능 서수\">계산 불가능 서수</a>]"
      ]
     },
     "execution_count": 6,
     "metadata": {},
     "output_type": "execute_result"
    }
   ],
   "source": [
    "url"
   ]
  },
  {
   "cell_type": "code",
   "execution_count": 7,
   "id": "200ade6b",
   "metadata": {},
   "outputs": [
    {
     "data": {
      "text/plain": [
       "['https://ko.wikipedia.org/wiki/MBC_100%EB%B6%84_%ED%86%A0%EB%A1%A0',\n",
       " 'https://ko.wikipedia.org/wiki/%ED%95%9C%EA%B5%AD%EB%B0%A9%EC%86%A1_%EC%84%B1%EC%9A%B0%EA%B7%B9%ED%9A%8C',\n",
       " 'https://ko.wikipedia.org/wiki/%EC%82%AC%EB%9E%91%EC%9D%98_%EA%BD%88%EB%B0%B0%EA%B8%B0',\n",
       " 'https://ko.wikipedia.org/wiki/%EB%A0%88%EB%93%9C_%EC%BD%A4%ED%94%8C%EB%A0%89%EC%8A%A4',\n",
       " 'https://ko.wikipedia.org/wiki/%EC%9D%B4%EC%83%81%ED%95%9C_%EA%B3%BC%EC%9E%90%EA%B0%80%EA%B2%8C_%EC%A0%84%EC%B2%9C%EB%8B%B9',\n",
       " 'https://ko.wikipedia.org/wiki/%EC%9E%A5%EC%98%81%EC%88%98',\n",
       " 'https://ko.wikipedia.org/wiki/%EA%B5%AD%EA%B0%80%EB%8C%80%ED%91%9C_%EC%99%80%EC%9D%B4%ED%94%84',\n",
       " 'https://ko.wikipedia.org/wiki/%EC%9C%84%ED%82%A4%EB%B0%B1%EA%B3%BC:%EC%9C%84%ED%82%A4%ED%94%84%EB%A1%9C%EC%A0%9D%ED%8A%B8/%EC%A0%9C%EC%95%88',\n",
       " 'https://ko.wikipedia.org/wiki/%EB%B2%B5%EC%97%94%EC%97%AD',\n",
       " 'https://ko.wikipedia.org/wiki/%EC%9E%A5%EC%9E%AC%EC%98%81_(1945%EB%85%84)',\n",
       " 'https://ko.wikipedia.org/wiki/%EA%B7%B8%EB%A6%B0%EB%8D%B8%EB%B0%9C%ED%8A%B8',\n",
       " 'https://ko.wikipedia.org/wiki/%EC%82%B0%EB%8B%A8%EB%A1%9C',\n",
       " 'https://ko.wikipedia.org/wiki/%EB%AC%B8%EB%AC%B8',\n",
       " 'https://ko.wikipedia.org/wiki/%EC%9C%84%ED%82%A4%EB%B0%B1%EA%B3%BC:%EC%82%AC%EB%9E%91%EB%B0%A9/2022%EB%85%84_%EC%A0%9C3%EC%A3%BC',\n",
       " 'https://ko.wikipedia.org/wiki/%EB%AC%B8%EB%AC%B8',\n",
       " 'https://ko.wikipedia.org/wiki/%EB%B2%B5%EC%97%94',\n",
       " 'https://ko.wikipedia.org/wiki/2022%EB%85%84_KBO_%EB%A6%AC%EA%B7%B8',\n",
       " 'https://ko.wikipedia.org/wiki/%EA%B8%B0%EB%8F%85%EA%B5%90_%EC%84%A0%EA%B5%90%EB%8B%A8%EC%B2%B4',\n",
       " 'https://ko.wikipedia.org/wiki/%EB%B2%B5%EC%97%94',\n",
       " 'https://ko.wikipedia.org/wiki/%EA%B8%B0%EB%B6%84_%EC%A2%8B%EC%9D%80_%EB%82%A0_(MBC)%EC%9D%98_%EC%97%90%ED%94%BC%EC%86%8C%EB%93%9C_%EB%AA%A9%EB%A1%9D_(2022%EB%85%84)',\n",
       " 'https://ko.wikipedia.org/wiki/PD%EC%88%98%EC%B2%A9',\n",
       " 'https://ko.wikipedia.org/wiki/%EA%B3%84%EC%82%B0_%EB%B6%88%EA%B0%80%EB%8A%A5_%EC%84%9C%EC%88%98',\n",
       " 'https://ko.wikipedia.org/wiki/%EA%B8%B0%EB%8F%85%EA%B5%90_%EC%84%A0%EA%B5%90%EB%8B%A8%EC%B2%B4',\n",
       " 'https://ko.wikipedia.org/wiki/%EC%9D%B4%ED%83%9C%EC%98%A4',\n",
       " 'https://ko.wikipedia.org/wiki/%ED%95%9C%EA%B5%AD%EB%B0%A9%EC%86%A1_%EC%84%B1%EC%9A%B0%EA%B7%B9%ED%9A%8C',\n",
       " 'https://ko.wikipedia.org/wiki/%EA%B8%B0%EB%8F%85%EA%B5%90_%EC%84%A0%EA%B5%90%EB%8B%A8%EC%B2%B4',\n",
       " 'https://ko.wikipedia.org/wiki/%EB%9D%BC%EC%9A%B0%ED%84%B0%EB%B8%8C%EB%A3%A8%EB%84%A8',\n",
       " 'https://ko.wikipedia.org/wiki/%ED%8F%AC%EC%B9%B4%EB%A6%AC_%EC%8A%A4%EC%9B%A8%ED%8A%B8',\n",
       " 'https://ko.wikipedia.org/wiki/%EC%BD%9C_%EC%98%A4%EB%B8%8C_%EB%93%80%ED%8B%B0:_%EB%B1%85%EA%B0%80%EB%93%9C',\n",
       " 'https://ko.wikipedia.org/wiki/2016%EB%85%84_%EC%98%81%EA%B5%AD_%EC%A7%80%EB%B0%A9_%EC%84%A0%EA%B1%B0',\n",
       " 'https://ko.wikipedia.org/wiki/%EC%9C%84%ED%82%A4%EB%B0%B1%EA%B3%BC:%EC%9C%84%ED%82%A4%ED%94%84%EB%A1%9C%EC%A0%9D%ED%8A%B8/%EC%A0%9C%EC%95%88',\n",
       " 'https://ko.wikipedia.org/wiki/%EC%82%AC%EC%9E%A5%EB%8B%98_%EA%B7%80%EB%8A%94_%EB%8B%B9%EB%82%98%EA%B7%80_%EA%B7%80',\n",
       " 'https://ko.wikipedia.org/wiki/%ED%95%9C%EA%B5%AD%EB%B0%A9%EC%86%A1_%EC%84%B1%EC%9A%B0%EA%B7%B9%ED%9A%8C',\n",
       " 'https://ko.wikipedia.org/wiki/2%25_%EB%B6%80%EC%A1%B1%ED%95%A0%EB%95%8C',\n",
       " 'https://ko.wikipedia.org/wiki/%EB%9D%BC%EC%9A%B0%ED%84%B0%EB%B8%8C%EB%A3%A8%EB%84%A8',\n",
       " 'https://ko.wikipedia.org/wiki/2%25_%EB%B6%80%EC%A1%B1%ED%95%A0%EB%95%8C',\n",
       " 'https://ko.wikipedia.org/wiki/%EB%9D%BC%EC%9A%B0%ED%84%B0%EB%B8%8C%EB%A3%A8%EB%84%A8',\n",
       " 'https://ko.wikipedia.org/wiki/%EC%B5%9C%EC%9A%A9%EB%93%9D',\n",
       " 'https://ko.wikipedia.org/wiki/%EA%B2%8C%ED%86%A0%EB%A0%88%EC%9D%B4',\n",
       " 'https://ko.wikipedia.org/wiki/%EB%9D%BC%EC%9A%B0%ED%84%B0%EB%B8%8C%EB%A3%A8%EB%84%A8',\n",
       " 'https://ko.wikipedia.org/wiki/%EA%B2%8C%ED%86%A0%EB%A0%88%EC%9D%B4',\n",
       " 'https://ko.wikipedia.org/wiki/%EC%B5%9C%EC%9A%A9%EB%93%9D',\n",
       " 'https://ko.wikipedia.org/wiki/%EA%B9%80%EC%83%81%EB%91%90',\n",
       " 'https://ko.wikipedia.org/wiki/%ED%95%9C%EA%B5%AD%EB%B0%A9%EC%86%A1_%EC%84%B1%EC%9A%B0%EA%B7%B9%ED%9A%8C',\n",
       " 'https://ko.wikipedia.org/wiki/%EC%9C%84%ED%82%A4%EB%B0%B1%EA%B3%BC:%EC%82%AC%EB%9E%91%EB%B0%A9/2022%EB%85%84_%EC%A0%9C3%EC%A3%BC',\n",
       " 'https://ko.wikipedia.org/wiki/%EC%B2%9C%EA%B6%88%EC%BF%A4',\n",
       " 'https://ko.wikipedia.org/wiki/%EB%9D%BC%EC%9A%B0%ED%84%B0%EB%B8%8C%EB%A3%A8%EB%84%A8',\n",
       " 'https://ko.wikipedia.org/wiki/%EC%9E%84%EC%84%A4',\n",
       " 'https://ko.wikipedia.org/wiki/%EA%B3%84%EC%82%B0_%EB%B6%88%EA%B0%80%EB%8A%A5_%EC%84%9C%EC%88%98']"
      ]
     },
     "execution_count": 7,
     "metadata": {},
     "output_type": "execute_result"
    }
   ],
   "source": [
    "page_urls"
   ]
  },
  {
   "cell_type": "code",
   "execution_count": 8,
   "id": "24988f0c",
   "metadata": {},
   "outputs": [
    {
     "data": {
      "text/plain": [
       "['MBC 100분 토론',\n",
       " '한국방송 성우극회',\n",
       " '사랑의 꽈배기',\n",
       " '레드 콤플렉스',\n",
       " '이상한 과자가게 전천당',\n",
       " '장영수',\n",
       " '국가대표 와이프',\n",
       " '위키백과:위키프로젝트/제안',\n",
       " '벵엔역',\n",
       " '장재영 (1945년)',\n",
       " '그린델발트',\n",
       " '산단로',\n",
       " '문문',\n",
       " '위키백과:사랑방/2022년 제3주',\n",
       " '문문',\n",
       " '벵엔',\n",
       " '2022년 KBO 리그',\n",
       " '기독교 선교단체',\n",
       " '벵엔',\n",
       " '기분 좋은 날 (MBC)의 에피소드 목록 (2022년)',\n",
       " 'PD수첩',\n",
       " '계산 불가능 서수',\n",
       " '기독교 선교단체',\n",
       " '이태오',\n",
       " '한국방송 성우극회',\n",
       " '기독교 선교단체',\n",
       " '라우터브루넨',\n",
       " '포카리 스웨트',\n",
       " '콜 오브 듀티: 뱅가드',\n",
       " '2016년 영국 지방 선거',\n",
       " '위키백과:위키프로젝트/제안',\n",
       " '사장님 귀는 당나귀 귀',\n",
       " '한국방송 성우극회',\n",
       " '2% 부족할때',\n",
       " '라우터브루넨',\n",
       " '2% 부족할때',\n",
       " '라우터브루넨',\n",
       " '최용득',\n",
       " '게토레이',\n",
       " '라우터브루넨',\n",
       " '게토레이',\n",
       " '최용득',\n",
       " '김상두',\n",
       " '한국방송 성우극회',\n",
       " '위키백과:사랑방/2022년 제3주',\n",
       " '천궈쿤',\n",
       " '라우터브루넨',\n",
       " '임설',\n",
       " '계산 불가능 서수']"
      ]
     },
     "execution_count": 8,
     "metadata": {},
     "output_type": "execute_result"
    }
   ],
   "source": [
    "page_titles"
   ]
  },
  {
   "cell_type": "code",
   "execution_count": 10,
   "id": "a39cad62",
   "metadata": {},
   "outputs": [
    {
     "name": "stdout",
     "output_type": "stream",
     "text": [
      "원하는 검색수를 입력하세요.3\n",
      "title: \t한국방송 성우극회\n",
      "url: \thttps://ko.wikipedia.org//wiki/%ED%95%9C%EA%B5%AD%EB%B0%A9%EC%86%A1_%EC%84%B1%EC%9A%B0%EA%B7%B9%ED%9A%8C\n",
      "contents: \n",
      "한국방송 성우극회(韓國放送 聲優劇會)는 한국방송공사에서 운영하는 대한민국 방송의 성우 단체이다.\n",
      "\n",
      "title: \t김일손\n",
      "url: \thttps://ko.wikipedia.org//wiki/%EA%B9%80%EC%9D%BC%EC%86%90\n",
      "contents: \n",
      "김일손(金馹孫, 1464년 2월 13일(음력 1월 7일)~ 1498년 8월 14일(음력 7월 27일))은 조선 성종·연산군 때의 문신이며 학자, 사관, 시인이다. 본관은 김해이며, 자는 계운(季雲), 호는 탁영(濯纓)[2], 소미산인(少微山人)이다. 시호는 문민(文愍)이다.\n",
      "\n",
      "title: \t금비 (신비아파트)\n",
      "url: \thttps://ko.wikipedia.org//wiki/%EA%B8%88%EB%B9%84_(%EC%8B%A0%EB%B9%84%EC%95%84%ED%8C%8C%ED%8A%B8)\n",
      "contents: \n",
      "금비는 신비아파트에 등장하는 가공의 인물이다. 신비, 주비, 물도깨비와 같은 도깨비로 성별은 여자이며 신비의 친구이다.\n",
      "\n",
      "----------------------------------------------\n"
     ]
    },
    {
     "data": {
      "text/html": [
       "<div>\n",
       "<style scoped>\n",
       "    .dataframe tbody tr th:only-of-type {\n",
       "        vertical-align: middle;\n",
       "    }\n",
       "\n",
       "    .dataframe tbody tr th {\n",
       "        vertical-align: top;\n",
       "    }\n",
       "\n",
       "    .dataframe thead th {\n",
       "        text-align: right;\n",
       "    }\n",
       "</style>\n",
       "<table border=\"1\" class=\"dataframe\">\n",
       "  <thead>\n",
       "    <tr style=\"text-align: right;\">\n",
       "      <th></th>\n",
       "      <th>title</th>\n",
       "      <th>url</th>\n",
       "      <th>content_text</th>\n",
       "    </tr>\n",
       "  </thead>\n",
       "  <tbody>\n",
       "    <tr>\n",
       "      <th>0</th>\n",
       "      <td>한국방송 성우극회</td>\n",
       "      <td>https://ko.wikipedia.org//wiki/%ED%95%9C%EA%B5...</td>\n",
       "      <td>한국방송 성우극회(韓國放送 聲優劇會)는 한국방송공사에서 운영하는 대한민국 방송의 성...</td>\n",
       "    </tr>\n",
       "    <tr>\n",
       "      <th>1</th>\n",
       "      <td>김일손</td>\n",
       "      <td>https://ko.wikipedia.org//wiki/%EA%B9%80%EC%9D...</td>\n",
       "      <td>김일손(金馹孫, 1464년 2월 13일(음력 1월 7일)~ 1498년 8월 14일(...</td>\n",
       "    </tr>\n",
       "    <tr>\n",
       "      <th>2</th>\n",
       "      <td>금비 (신비아파트)</td>\n",
       "      <td>https://ko.wikipedia.org//wiki/%EA%B8%88%EB%B9...</td>\n",
       "      <td>금비는 신비아파트에 등장하는 가공의 인물이다. 신비, 주비, 물도깨비와 같은 도깨비...</td>\n",
       "    </tr>\n",
       "  </tbody>\n",
       "</table>\n",
       "</div>"
      ],
      "text/plain": [
       "        title                                                url  \\\n",
       "0   한국방송 성우극회  https://ko.wikipedia.org//wiki/%ED%95%9C%EA%B5...   \n",
       "1         김일손  https://ko.wikipedia.org//wiki/%EA%B9%80%EC%9D...   \n",
       "2  금비 (신비아파트)  https://ko.wikipedia.org//wiki/%EA%B8%88%EB%B9...   \n",
       "\n",
       "                                        content_text  \n",
       "0  한국방송 성우극회(韓國放送 聲優劇會)는 한국방송공사에서 운영하는 대한민국 방송의 성...  \n",
       "1  김일손(金馹孫, 1464년 2월 13일(음력 1월 7일)~ 1498년 8월 14일(...  \n",
       "2  금비는 신비아파트에 등장하는 가공의 인물이다. 신비, 주비, 물도깨비와 같은 도깨비...  "
      ]
     },
     "execution_count": 10,
     "metadata": {},
     "output_type": "execute_result"
    }
   ],
   "source": [
    "# 크롤링한 데이터를 데이터 프레임으로 만들기 위해 준비\n",
    "columns = [\"title\", \"url\", \"content_text\"]\n",
    "df = pd.DataFrame(columns=columns)\n",
    "\n",
    "excutable_path = \"chromedriver.exe\"\n",
    "\n",
    "base_url = 'https://ko.wikipedia.org/'\n",
    "\n",
    "def urlmake(links):\n",
    "    source = base_url + links\n",
    "    driver.get(source)\n",
    "    req = driver.page_source\n",
    "    soup = BeautifulSoup(req, \"html.parser\") \n",
    "    return soup\n",
    "\n",
    "driver = webdriver.Chrome(executable_path=excutable_path)\n",
    "\n",
    "base_link = \"wiki/%ED%8A%B9%EC%88%98:%EC%B5%9C%EA%B7%BC%EB%B0%94%EB%80%9C?hidebots=1&hidecategorization=1&hideWikibase=1&limit=50&days=7&urlversion=2\"\n",
    "\n",
    "title_list = urlmake(base_link).select('.mw-title')\n",
    "\n",
    "keyword = input(f\"원하는 검색수를 입력하세요.\")\n",
    "\n",
    "num = 0\n",
    "\n",
    "for i in range(int(keyword)):\n",
    "    title = title_list[i].select_one('.mw-changeslist-title').text\n",
    "    link = title_list[i].select_one('a').attrs['href']\n",
    "    contents = urlmake(link).select_one('.mw-parser-output>p')\n",
    "    num += 1\n",
    "    # 그냥 주피터에서 출력 시 \n",
    "    \n",
    "    print(f'title: \\t{title}\\nurl: \\t{base_url+link}')\n",
    "    if(contents != None and contents != ''):\n",
    "        print(f'contents: \\n{contents.text}')\n",
    "    else:\n",
    "        print('contents : NOPE')\n",
    "    if(num == int(keyword)):\n",
    "\n",
    "        print(f'----------------------------------------------')\n",
    "\n",
    "    # 데이터 프레임으로 만들고 싶을시\n",
    "    if contents == None:\n",
    "        contents = ''\n",
    "    else:\n",
    "        contents = contents.text\n",
    "    row = [title,base_url+link,re.sub('\\n',' , ',contents)]\n",
    "    series = pd.Series(row, index=df.columns)\n",
    "    df = df.append(series, ignore_index=True)\n",
    "df"
   ]
  },
  {
   "cell_type": "code",
   "execution_count": null,
   "id": "82f99a34",
   "metadata": {},
   "outputs": [],
   "source": []
  }
 ],
 "metadata": {
  "kernelspec": {
   "display_name": "Python 3 (ipykernel)",
   "language": "python",
   "name": "python3"
  },
  "language_info": {
   "codemirror_mode": {
    "name": "ipython",
    "version": 3
   },
   "file_extension": ".py",
   "mimetype": "text/x-python",
   "name": "python",
   "nbconvert_exporter": "python",
   "pygments_lexer": "ipython3",
   "version": "3.9.7"
  }
 },
 "nbformat": 4,
 "nbformat_minor": 5
}
