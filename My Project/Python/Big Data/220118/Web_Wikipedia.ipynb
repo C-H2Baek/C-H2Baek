{
 "cells": [
  {
   "cell_type": "markdown",
   "id": "399c145e",
   "metadata": {},
   "source": [
    "## [ 웹크롤링 _ 위키피디아 사이트 분석 및 시각화 ]\n"
   ]
  },
  {
   "cell_type": "code",
   "execution_count": 16,
   "id": "df7e2dee",
   "metadata": {},
   "outputs": [],
   "source": [
    "# -*- coding: utf-8 -*-\n",
    "\n",
    "%matplotlib inline\n",
    "\n",
    "import pandas as pd\n",
    "import numpy as np\n",
    "import matplotlib.pyplot as plt\n",
    "\n",
    "import warnings\n",
    "warnings.filterwarnings(\"ignore\")"
   ]
  },
  {
   "cell_type": "code",
   "execution_count": 17,
   "id": "558f8a7a",
   "metadata": {
    "scrolled": false
   },
   "outputs": [],
   "source": [
    "from selenium import webdriver\n",
    "from bs4 import BeautifulSoup\n",
    "import re # 정규식 표현을 위한 모듈\n",
    "\n",
    "# 윈도우용 크롬 웹드라이버 실행 경로 (Windows) 지정\n",
    "excutable_path = \"../chromedriver.exe\"\n",
    "driver = webdriver.Chrome(executable_path=excutable_path)\n",
    "\n",
    "# 사이트의 html 구조에 기반하여 크롤링을 수행\n",
    "source_url = \"https://ko.wikipedia.org/wiki/%ED%8A%B9%EC%88%98:%EC%B5%9C%EA%B7%BC%EB%B0%94%EB%80%9C\" # 크롤링할 사이트 주소를 정의\n",
    "driver.get(source_url)  # 크롬 드라이버를 통해 URL의 HTML 문서 가져옴\n",
    "\n",
    "# import time\n",
    "# time.sleep(10)\n",
    "\n",
    "req = driver.page_source\n",
    "soup = BeautifulSoup(req, \"html.parser\") # BeautifulSoup의 soup 객체로 변환\n",
    "#span_rows = soup.select(\"div ul.special li span.mw-changeslist-line-inner .mw-title\")\n",
    "span_rows = soup.select(\"span.mw-title\")"
   ]
  },
  {
   "cell_type": "code",
   "execution_count": 18,
   "id": "b6b3c613",
   "metadata": {},
   "outputs": [
    {
     "data": {
      "text/plain": [
       "44"
      ]
     },
     "execution_count": 18,
     "metadata": {},
     "output_type": "execute_result"
    }
   ],
   "source": [
    "len(span_rows)"
   ]
  },
  {
   "cell_type": "code",
   "execution_count": 19,
   "id": "95d05df2",
   "metadata": {},
   "outputs": [
    {
     "data": {
      "text/plain": [
       "[<span class=\"mw-title\"><a class=\"mw-changeslist-title\" href=\"/wiki/%EC%98%81%EC%83%81%EC%95%A8%EB%B2%94_%EC%82%B0\" title=\"영상앨범 산\">영상앨범 산</a></span>,\n",
       " <span class=\"mw-title\"><a class=\"mw-changeslist-title\" href=\"/wiki/%EC%99%9C_%EC%98%A4%EC%88%98%EC%9E%AC%EC%9D%B8%EA%B0%80%3F\" title=\"왜 오수재인가?\">왜 오수재인가?</a></span>,\n",
       " <span class=\"mw-title\"><a class=\"mw-changeslist-title\" href=\"/wiki/%EC%B2%9C%EC%9B%90%EC%A7%9C%EB%A6%AC_%EB%B3%80%ED%98%B8%EC%82%AC\" title=\"천원짜리 변호사\">천원짜리 변호사</a></span>,\n",
       " <span class=\"mw-title\"><a class=\"mw-changeslist-title\" href=\"/wiki/%EC%86%8C%EB%B0%A9%EC%84%9C_%EC%98%86_%EA%B2%BD%EC%B0%B0%EC%84%9C\" title=\"소방서 옆 경찰서\">소방서 옆 경찰서</a></span>,\n",
       " <span class=\"mw-title\"><a class=\"mw-changeslist-title\" href=\"/wiki/%EC%95%88%ED%86%A0%EB%8B%88%EB%88%84%EC%8A%A4_%ED%94%BC%EC%9A%B0%EC%8A%A4\" title=\"안토니누스 피우스\">안토니누스 피우스</a></span>,\n",
       " <span class=\"mw-title\"><a class=\"mw-changeslist-title\" href=\"/wiki/%EB%B0%95%EC%88%98%EC%B9%A0_%EB%95%8C_%EB%96%A0%EB%82%98%EB%9D%BC\" title=\"박수칠 때 떠나라\">박수칠 때 떠나라</a></span>,\n",
       " <span class=\"mw-title\"><a class=\"mw-changeslist-title\" href=\"/wiki/%EC%99%9C_%EC%98%A4%EC%88%98%EC%9E%AC%EC%9D%B8%EA%B0%80%3F\" title=\"왜 오수재인가?\">왜 오수재인가?</a></span>,\n",
       " <span class=\"mw-title\"><a class=\"mw-changeslist-title\" href=\"/wiki/%EA%B7%B8%EB%A6%AC%EC%8A%A4%EB%8F%84_%EC%88%98%EB%8F%84%ED%9A%8C\" title=\"그리스도 수도회\">그리스도 수도회</a></span>,\n",
       " <span class=\"mw-title\"><a class=\"mw-changeslist-title\" href=\"/wiki/%EB%82%B4_%EB%82%A8%EC%9E%90%EB%8A%94_%ED%81%90%ED%94%BC%EB%93%9C\" title=\"내 남자는 큐피드\">내 남자는 큐피드</a></span>,\n",
       " <span class=\"mw-title\"><a class=\"mw-changeslist-title\" href=\"/wiki/%EC%9C%88%EB%8F%84%EC%9A%B0_%EC%B9%B4%EB%A9%94%EB%9D%BC\" title=\"윈도우 카메라\">윈도우 카메라</a></span>,\n",
       " <span class=\"mw-title\"><a class=\"mw-changeslist-title\" href=\"/wiki/%EC%99%9C_%EC%98%A4%EC%88%98%EC%9E%AC%EC%9D%B8%EA%B0%80%3F\" title=\"왜 오수재인가?\">왜 오수재인가?</a></span>,\n",
       " <span class=\"mw-title\"><a class=\"mw-changeslist-title\" href=\"/wiki/%EC%9C%88%EB%8F%84%EC%9A%B0_%EC%B9%B4%EB%A9%94%EB%9D%BC\" title=\"윈도우 카메라\">윈도우 카메라</a></span>,\n",
       " <span class=\"mw-title\"><a class=\"mw-changeslist-title\" href=\"/wiki/%EC%98%81%EC%83%81%EC%95%A8%EB%B2%94_%EC%82%B0\" title=\"영상앨범 산\">영상앨범 산</a></span>,\n",
       " <span class=\"mw-title\"><a class=\"mw-changeslist-title\" href=\"/wiki/%EB%82%B4_%EB%82%A8%EC%9E%90%EB%8A%94_%ED%81%90%ED%94%BC%EB%93%9C\" title=\"내 남자는 큐피드\">내 남자는 큐피드</a></span>,\n",
       " <span class=\"mw-title\"><a class=\"mw-changeslist-title\" href=\"/wiki/%EC%B5%9C%EB%8F%88%EC%A0%95\" title=\"최돈정\">최돈정</a></span>,\n",
       " <span class=\"mw-title\"><a class=\"mw-changeslist-title\" href=\"/wiki/%EB%82%B4_%EB%82%A8%EC%9E%90%EB%8A%94_%ED%81%90%ED%94%BC%EB%93%9C\" title=\"내 남자는 큐피드\">내 남자는 큐피드</a></span>,\n",
       " <span class=\"mw-title\"><a class=\"mw-changeslist-title\" href=\"/wiki/%EC%84%B8%EC%83%81%EC%9D%80_%EB%84%93%EB%8B%A4%EC%9D%98_%EC%97%90%ED%94%BC%EC%86%8C%EB%93%9C_%EB%AA%A9%EB%A1%9D\" title=\"세상은 넓다의 에피소드 목록\">세상은 넓다의 에피소드 목록</a></span>,\n",
       " <span class=\"mw-title\"><a class=\"mw-changeslist-title\" href=\"/wiki/%EC%9C%84%ED%82%A4%EB%B0%B1%EA%B3%BC%EC%9D%98_%EA%B2%80%EC%97%B4\" title=\"위키백과의 검열\">위키백과의 검열</a></span>,\n",
       " <span class=\"mw-title\"><a class=\"mw-changeslist-title\" href=\"/wiki/%EC%93%B0%EB%A6%AC%EC%95%A0%EB%8B%88%EC%95%84%EC%9D%B4%EC%95%A4%EC%8B%9C\" title=\"쓰리애니아이앤시\">쓰리애니아이앤시</a></span>,\n",
       " <span class=\"mw-title\"><a class=\"mw-changeslist-title\" href=\"/wiki/%EC%9C%84%ED%82%A4%EB%B0%B1%EA%B3%BC%EC%9D%98_%EA%B2%80%EC%97%B4\" title=\"위키백과의 검열\">위키백과의 검열</a></span>,\n",
       " <span class=\"mw-title\"><a class=\"mw-changeslist-title\" href=\"/wiki/%EC%A4%91%EA%B5%AD%EC%96%B4\" title=\"중국어\">중국어</a></span>,\n",
       " <span class=\"mw-title\"><a class=\"mw-changeslist-title\" href=\"/wiki/%EB%B9%84%EB%B9%84_(%EB%8C%80%ED%95%9C%EB%AF%BC%EA%B5%AD%EC%9D%98_%EA%B0%80%EC%88%98)\" title=\"비비 (대한민국의 가수)\">비비 (대한민국의 가수)</a></span>,\n",
       " <span class=\"mw-title\"><a class=\"mw-changeslist-title\" href=\"/wiki/%EC%BA%90%EC%B9%98!_%ED%8B%B0%EB%8B%88%ED%95%91\" title=\"캐치! 티니핑\">캐치! 티니핑</a></span>,\n",
       " <span class=\"mw-title\"><a class=\"mw-changeslist-title\" href=\"/wiki/%EB%B0%95%EC%88%98%EC%B9%A0_%EB%95%8C_%EB%96%A0%EB%82%98%EB%9D%BC\" title=\"박수칠 때 떠나라\">박수칠 때 떠나라</a></span>,\n",
       " <span class=\"mw-title\"><a class=\"mw-changeslist-title\" href=\"/wiki/%EC%9C%84%ED%82%A4%EB%B0%B1%EA%B3%BC:%EA%B3%84%EC%A0%95_%EC%9D%B4%EB%A6%84\" title=\"위키백과:계정 이름\">위키백과:계정 이름</a></span>,\n",
       " <span class=\"mw-title\"><a class=\"mw-changeslist-title\" href=\"/wiki/%ED%98%BC%EB%8B%A4_HR-V\" title=\"혼다 HR-V\">혼다 HR-V</a></span>,\n",
       " <span class=\"mw-title\"><a class=\"mw-changeslist-title\" href=\"/wiki/%EA%B7%B8%EB%A6%AC%EC%8A%A4%EB%8F%84_%EC%88%98%EB%8F%84%ED%9A%8C\" title=\"그리스도 수도회\">그리스도 수도회</a></span>,\n",
       " <span class=\"mw-title\"><a class=\"mw-redirect mw-changeslist-title\" href=\"/w/index.php?title=%EB%A7%88%EC%9D%B4%ED%81%AC%EB%A1%9C%EC%86%8C%ED%94%84%ED%8A%B8_%EC%9C%88%EB%8F%84%EC%9A%B0_%EC%B9%B4%EB%A9%94%EB%9D%BC&amp;redirect=no\" title=\"마이크로소프트 윈도우 카메라\">마이크로소프트 윈도우 카메라</a></span>,\n",
       " <span class=\"mw-title\"><a class=\"mw-redirect mw-changeslist-title\" href=\"/w/index.php?title=%EB%A7%88%EC%9D%B4%ED%81%AC%EB%A1%9C%EC%86%8C%ED%94%84%ED%8A%B8_%EC%9C%88%EB%8F%84_%EC%B9%B4%EB%A9%94%EB%9D%BC&amp;redirect=no\" title=\"마이크로소프트 윈도 카메라\">마이크로소프트 윈도 카메라</a></span>,\n",
       " <span class=\"mw-title\"><a class=\"mw-changeslist-title\" href=\"/wiki/%ED%83%80%EB%B8%94%EB%A1%9C\" title=\"타블로\">타블로</a></span>,\n",
       " <span class=\"mw-title\"><a class=\"mw-redirect mw-changeslist-title\" href=\"/w/index.php?title=%EC%9C%88%EB%8F%84_%EC%B9%B4%EB%A9%94%EB%9D%BC&amp;redirect=no\" title=\"윈도 카메라\">윈도 카메라</a></span>,\n",
       " <span class=\"mw-title\"><a class=\"mw-changeslist-title\" href=\"/wiki/%EC%8A%A4%ED%94%BC%EB%85%B8%EC%82%AC%EC%9A%B0%EB%A3%A8%EC%8A%A4\" title=\"스피노사우루스\">스피노사우루스</a></span>,\n",
       " <span class=\"mw-title\"><a class=\"mw-changeslist-title\" href=\"/wiki/%ED%83%80%EB%B8%94%EB%A1%9C\" title=\"타블로\">타블로</a></span>,\n",
       " <span class=\"mw-title\"><a class=\"mw-changeslist-title\" href=\"/wiki/%EC%82%AC%EC%9A%A9%EC%9E%90:%EB%A6%AC%EC%96%BC%EC%8B%9C%ED%81%90/%EC%97%B0%EC%8A%B5%EC%9E%A5\" title=\"사용자:리얼시큐/연습장\">사용자:리얼시큐/연습장</a></span>,\n",
       " <span class=\"mw-title\"><a class=\"mw-changeslist-title\" href=\"/wiki/%EC%A0%95%EC%9D%80%EC%B1%84\" title=\"정은채\">정은채</a></span>,\n",
       " <span class=\"mw-title\"><a class=\"mw-changeslist-title\" href=\"/wiki/%EC%95%84%EC%B9%A8%EB%A7%88%EB%8B%B9%EC%9D%98_%EC%97%90%ED%94%BC%EC%86%8C%EB%93%9C_%EB%AA%A9%EB%A1%9D_(2022%EB%85%84)\" title=\"아침마당의 에피소드 목록 (2022년)\">아침마당의 에피소드 목록 (2022년)</a></span>,\n",
       " <span class=\"mw-title\"><a class=\"mw-changeslist-title\" href=\"/wiki/%EC%93%B0%EB%A6%AC%EC%95%A0%EB%8B%88%EC%95%84%EC%9D%B4%EC%95%A4%EC%8B%9C\" title=\"쓰리애니아이앤시\">쓰리애니아이앤시</a></span>,\n",
       " <span class=\"mw-title\"><a class=\"mw-changeslist-title\" href=\"/wiki/%EC%A0%95%EC%9D%80%EC%B1%84\" title=\"정은채\">정은채</a></span>,\n",
       " <span class=\"mw-title\"><a class=\"mw-changeslist-title\" href=\"/wiki/%EC%95%88%ED%86%A0%EB%8B%88%EB%88%84%EC%8A%A4_%ED%94%BC%EC%9A%B0%EC%8A%A4\" title=\"안토니누스 피우스\">안토니누스 피우스</a></span>,\n",
       " <span class=\"mw-title\"><a class=\"mw-changeslist-title\" href=\"/wiki/%EC%9C%88%EB%8F%84%EC%9A%B0_%EC%B9%B4%EB%A9%94%EB%9D%BC\" title=\"윈도우 카메라\">윈도우 카메라</a></span>,\n",
       " <span class=\"mw-title\"><a class=\"mw-changeslist-title\" href=\"/wiki/%EA%B7%B8%EB%A6%AC%EC%8A%A4%EB%8F%84_%EC%88%98%EB%8F%84%ED%9A%8C\" title=\"그리스도 수도회\">그리스도 수도회</a></span>,\n",
       " <span class=\"mw-title\"><a class=\"mw-changeslist-title\" href=\"/wiki/%EC%A0%95%EC%9D%80%EC%B1%84\" title=\"정은채\">정은채</a></span>,\n",
       " <span class=\"mw-title\"><a class=\"mw-changeslist-title\" href=\"/wiki/%EC%82%AC%EC%9A%A9%EC%9E%90:KeySpace/%EC%9C%A0%EC%A0%80%EB%B0%95%EC%8A%A4_%EB%AA%A8%EC%9D%8C\" title=\"사용자:KeySpace/유저박스 모음\">사용자:KeySpace/유저박스 모음</a></span>,\n",
       " <span class=\"mw-title\"><a class=\"mw-changeslist-title\" href=\"/wiki/%EC%82%AC%EC%9A%A9%EC%9E%90:%EB%A6%AC%EC%96%BC%EC%8B%9C%ED%81%90/%EC%97%B0%EC%8A%B5%EC%9E%A5\" title=\"사용자:리얼시큐/연습장\">사용자:리얼시큐/연습장</a></span>]"
      ]
     },
     "execution_count": 19,
     "metadata": {},
     "output_type": "execute_result"
    }
   ],
   "source": [
    "span_rows"
   ]
  },
  {
   "cell_type": "code",
   "execution_count": 20,
   "id": "f61521f6",
   "metadata": {},
   "outputs": [
    {
     "name": "stdout",
     "output_type": "stream",
     "text": [
      "['https://ko.wikipedia.org/wiki/%EC%98%81%EC%83%81%EC%95%A8%EB%B2%94_%EC%82%B0', 'https://ko.wikipedia.org/wiki/%EC%99%9C_%EC%98%A4%EC%88%98%EC%9E%AC%EC%9D%B8%EA%B0%80%3F', 'https://ko.wikipedia.org/wiki/%EC%B2%9C%EC%9B%90%EC%A7%9C%EB%A6%AC_%EB%B3%80%ED%98%B8%EC%82%AC', 'https://ko.wikipedia.org/wiki/%EC%86%8C%EB%B0%A9%EC%84%9C_%EC%98%86_%EA%B2%BD%EC%B0%B0%EC%84%9C', 'https://ko.wikipedia.org/wiki/%EC%95%88%ED%86%A0%EB%8B%88%EB%88%84%EC%8A%A4_%ED%94%BC%EC%9A%B0%EC%8A%A4', 'https://ko.wikipedia.org/wiki/%EB%B0%95%EC%88%98%EC%B9%A0_%EB%95%8C_%EB%96%A0%EB%82%98%EB%9D%BC', 'https://ko.wikipedia.org/wiki/%EC%99%9C_%EC%98%A4%EC%88%98%EC%9E%AC%EC%9D%B8%EA%B0%80%3F', 'https://ko.wikipedia.org/wiki/%EA%B7%B8%EB%A6%AC%EC%8A%A4%EB%8F%84_%EC%88%98%EB%8F%84%ED%9A%8C', 'https://ko.wikipedia.org/wiki/%EB%82%B4_%EB%82%A8%EC%9E%90%EB%8A%94_%ED%81%90%ED%94%BC%EB%93%9C', 'https://ko.wikipedia.org/wiki/%EC%9C%88%EB%8F%84%EC%9A%B0_%EC%B9%B4%EB%A9%94%EB%9D%BC', 'https://ko.wikipedia.org/wiki/%EC%99%9C_%EC%98%A4%EC%88%98%EC%9E%AC%EC%9D%B8%EA%B0%80%3F', 'https://ko.wikipedia.org/wiki/%EC%9C%88%EB%8F%84%EC%9A%B0_%EC%B9%B4%EB%A9%94%EB%9D%BC', 'https://ko.wikipedia.org/wiki/%EC%98%81%EC%83%81%EC%95%A8%EB%B2%94_%EC%82%B0', 'https://ko.wikipedia.org/wiki/%EB%82%B4_%EB%82%A8%EC%9E%90%EB%8A%94_%ED%81%90%ED%94%BC%EB%93%9C', 'https://ko.wikipedia.org/wiki/%EC%B5%9C%EB%8F%88%EC%A0%95', 'https://ko.wikipedia.org/wiki/%EB%82%B4_%EB%82%A8%EC%9E%90%EB%8A%94_%ED%81%90%ED%94%BC%EB%93%9C', 'https://ko.wikipedia.org/wiki/%EC%84%B8%EC%83%81%EC%9D%80_%EB%84%93%EB%8B%A4%EC%9D%98_%EC%97%90%ED%94%BC%EC%86%8C%EB%93%9C_%EB%AA%A9%EB%A1%9D', 'https://ko.wikipedia.org/wiki/%EC%9C%84%ED%82%A4%EB%B0%B1%EA%B3%BC%EC%9D%98_%EA%B2%80%EC%97%B4', 'https://ko.wikipedia.org/wiki/%EC%93%B0%EB%A6%AC%EC%95%A0%EB%8B%88%EC%95%84%EC%9D%B4%EC%95%A4%EC%8B%9C', 'https://ko.wikipedia.org/wiki/%EC%9C%84%ED%82%A4%EB%B0%B1%EA%B3%BC%EC%9D%98_%EA%B2%80%EC%97%B4', 'https://ko.wikipedia.org/wiki/%EC%A4%91%EA%B5%AD%EC%96%B4', 'https://ko.wikipedia.org/wiki/%EB%B9%84%EB%B9%84_(%EB%8C%80%ED%95%9C%EB%AF%BC%EA%B5%AD%EC%9D%98_%EA%B0%80%EC%88%98)', 'https://ko.wikipedia.org/wiki/%EC%BA%90%EC%B9%98!_%ED%8B%B0%EB%8B%88%ED%95%91', 'https://ko.wikipedia.org/wiki/%EB%B0%95%EC%88%98%EC%B9%A0_%EB%95%8C_%EB%96%A0%EB%82%98%EB%9D%BC', 'https://ko.wikipedia.org/wiki/%EC%9C%84%ED%82%A4%EB%B0%B1%EA%B3%BC:%EA%B3%84%EC%A0%95_%EC%9D%B4%EB%A6%84', 'https://ko.wikipedia.org/wiki/%ED%98%BC%EB%8B%A4_HR-V', 'https://ko.wikipedia.org/wiki/%EA%B7%B8%EB%A6%AC%EC%8A%A4%EB%8F%84_%EC%88%98%EB%8F%84%ED%9A%8C', 'https://ko.wikipedia.org/w/index.php?title=%EB%A7%88%EC%9D%B4%ED%81%AC%EB%A1%9C%EC%86%8C%ED%94%84%ED%8A%B8_%EC%9C%88%EB%8F%84%EC%9A%B0_%EC%B9%B4%EB%A9%94%EB%9D%BC&redirect=no', 'https://ko.wikipedia.org/w/index.php?title=%EB%A7%88%EC%9D%B4%ED%81%AC%EB%A1%9C%EC%86%8C%ED%94%84%ED%8A%B8_%EC%9C%88%EB%8F%84_%EC%B9%B4%EB%A9%94%EB%9D%BC&redirect=no', 'https://ko.wikipedia.org/wiki/%ED%83%80%EB%B8%94%EB%A1%9C', 'https://ko.wikipedia.org/w/index.php?title=%EC%9C%88%EB%8F%84_%EC%B9%B4%EB%A9%94%EB%9D%BC&redirect=no', 'https://ko.wikipedia.org/wiki/%EC%8A%A4%ED%94%BC%EB%85%B8%EC%82%AC%EC%9A%B0%EB%A3%A8%EC%8A%A4', 'https://ko.wikipedia.org/wiki/%ED%83%80%EB%B8%94%EB%A1%9C', 'https://ko.wikipedia.org/wiki/%EC%82%AC%EC%9A%A9%EC%9E%90:%EB%A6%AC%EC%96%BC%EC%8B%9C%ED%81%90/%EC%97%B0%EC%8A%B5%EC%9E%A5', 'https://ko.wikipedia.org/wiki/%EC%A0%95%EC%9D%80%EC%B1%84', 'https://ko.wikipedia.org/wiki/%EC%95%84%EC%B9%A8%EB%A7%88%EB%8B%B9%EC%9D%98_%EC%97%90%ED%94%BC%EC%86%8C%EB%93%9C_%EB%AA%A9%EB%A1%9D_(2022%EB%85%84)', 'https://ko.wikipedia.org/wiki/%EC%93%B0%EB%A6%AC%EC%95%A0%EB%8B%88%EC%95%84%EC%9D%B4%EC%95%A4%EC%8B%9C', 'https://ko.wikipedia.org/wiki/%EC%A0%95%EC%9D%80%EC%B1%84', 'https://ko.wikipedia.org/wiki/%EC%95%88%ED%86%A0%EB%8B%88%EB%88%84%EC%8A%A4_%ED%94%BC%EC%9A%B0%EC%8A%A4', 'https://ko.wikipedia.org/wiki/%EC%9C%88%EB%8F%84%EC%9A%B0_%EC%B9%B4%EB%A9%94%EB%9D%BC', 'https://ko.wikipedia.org/wiki/%EA%B7%B8%EB%A6%AC%EC%8A%A4%EB%8F%84_%EC%88%98%EB%8F%84%ED%9A%8C', 'https://ko.wikipedia.org/wiki/%EC%A0%95%EC%9D%80%EC%B1%84', 'https://ko.wikipedia.org/wiki/%EC%82%AC%EC%9A%A9%EC%9E%90:KeySpace/%EC%9C%A0%EC%A0%80%EB%B0%95%EC%8A%A4_%EB%AA%A8%EC%9D%8C', 'https://ko.wikipedia.org/wiki/%EC%82%AC%EC%9A%A9%EC%9E%90:%EB%A6%AC%EC%96%BC%EC%8B%9C%ED%81%90/%EC%97%B0%EC%8A%B5%EC%9E%A5']\n",
      "['영상앨범 산', '왜 오수재인가?', '천원짜리 변호사', '소방서 옆 경찰서', '안토니누스 피우스', '박수칠 때 떠나라', '왜 오수재인가?', '그리스도 수도회', '내 남자는 큐피드', '윈도우 카메라', '왜 오수재인가?', '윈도우 카메라', '영상앨범 산', '내 남자는 큐피드', '최돈정', '내 남자는 큐피드', '세상은 넓다의 에피소드 목록', '위키백과의 검열', '쓰리애니아이앤시', '위키백과의 검열', '중국어', '비비 (대한민국의 가수)', '캐치! 티니핑', '박수칠 때 떠나라', '위키백과:계정 이름', '혼다 HR-V', '그리스도 수도회', '마이크로소프트 윈도우 카메라', '마이크로소프트 윈도 카메라', '타블로', '윈도 카메라', '스피노사우루스', '타블로', '사용자:리얼시큐/연습장', '정은채', '아침마당의 에피소드 목록 (2022년)', '쓰리애니아이앤시', '정은채', '안토니누스 피우스', '윈도우 카메라', '그리스도 수도회', '정은채', '사용자:KeySpace/유저박스 모음', '사용자:리얼시큐/연습장']\n"
     ]
    }
   ],
   "source": [
    "span_rows = soup.select(\"span.mw-title\")\n",
    "\n",
    "page_url_base = \"https://ko.wikipedia.org\" # 베이스 URL 정의\n",
    "page_urls = [] # href 속성값을 담기 위한 빈 리스트 생성 \n",
    "page_titles = [] # title 속성값을 담기 위한 빈 리스트 생성 \n",
    "\n",
    "for index in range(0, len(span_rows)):\n",
    "    url = span_rows[index].find_all(\"a\") \n",
    "    title = span_rows[index].text\n",
    "    page_titles.append(title)\n",
    "    if len(url) > 0:\n",
    "        page_url = page_url_base +url[0].attrs[\"href\"] \n",
    "        if \"png\" not in page_url:\n",
    "            page_urls.append(page_url)\n",
    "print(page_urls)\n",
    "print(page_titles)"
   ]
  },
  {
   "cell_type": "code",
   "execution_count": 21,
   "id": "d3a305c6",
   "metadata": {},
   "outputs": [
    {
     "data": {
      "text/plain": [
       "[<a class=\"mw-changeslist-title\" href=\"/wiki/%EC%82%AC%EC%9A%A9%EC%9E%90:%EB%A6%AC%EC%96%BC%EC%8B%9C%ED%81%90/%EC%97%B0%EC%8A%B5%EC%9E%A5\" title=\"사용자:리얼시큐/연습장\">사용자:리얼시큐/연습장</a>]"
      ]
     },
     "execution_count": 21,
     "metadata": {},
     "output_type": "execute_result"
    }
   ],
   "source": [
    "url"
   ]
  },
  {
   "cell_type": "code",
   "execution_count": 22,
   "id": "200ade6b",
   "metadata": {},
   "outputs": [
    {
     "data": {
      "text/plain": [
       "['https://ko.wikipedia.org/wiki/%EC%98%81%EC%83%81%EC%95%A8%EB%B2%94_%EC%82%B0',\n",
       " 'https://ko.wikipedia.org/wiki/%EC%99%9C_%EC%98%A4%EC%88%98%EC%9E%AC%EC%9D%B8%EA%B0%80%3F',\n",
       " 'https://ko.wikipedia.org/wiki/%EC%B2%9C%EC%9B%90%EC%A7%9C%EB%A6%AC_%EB%B3%80%ED%98%B8%EC%82%AC',\n",
       " 'https://ko.wikipedia.org/wiki/%EC%86%8C%EB%B0%A9%EC%84%9C_%EC%98%86_%EA%B2%BD%EC%B0%B0%EC%84%9C',\n",
       " 'https://ko.wikipedia.org/wiki/%EC%95%88%ED%86%A0%EB%8B%88%EB%88%84%EC%8A%A4_%ED%94%BC%EC%9A%B0%EC%8A%A4',\n",
       " 'https://ko.wikipedia.org/wiki/%EB%B0%95%EC%88%98%EC%B9%A0_%EB%95%8C_%EB%96%A0%EB%82%98%EB%9D%BC',\n",
       " 'https://ko.wikipedia.org/wiki/%EC%99%9C_%EC%98%A4%EC%88%98%EC%9E%AC%EC%9D%B8%EA%B0%80%3F',\n",
       " 'https://ko.wikipedia.org/wiki/%EA%B7%B8%EB%A6%AC%EC%8A%A4%EB%8F%84_%EC%88%98%EB%8F%84%ED%9A%8C',\n",
       " 'https://ko.wikipedia.org/wiki/%EB%82%B4_%EB%82%A8%EC%9E%90%EB%8A%94_%ED%81%90%ED%94%BC%EB%93%9C',\n",
       " 'https://ko.wikipedia.org/wiki/%EC%9C%88%EB%8F%84%EC%9A%B0_%EC%B9%B4%EB%A9%94%EB%9D%BC',\n",
       " 'https://ko.wikipedia.org/wiki/%EC%99%9C_%EC%98%A4%EC%88%98%EC%9E%AC%EC%9D%B8%EA%B0%80%3F',\n",
       " 'https://ko.wikipedia.org/wiki/%EC%9C%88%EB%8F%84%EC%9A%B0_%EC%B9%B4%EB%A9%94%EB%9D%BC',\n",
       " 'https://ko.wikipedia.org/wiki/%EC%98%81%EC%83%81%EC%95%A8%EB%B2%94_%EC%82%B0',\n",
       " 'https://ko.wikipedia.org/wiki/%EB%82%B4_%EB%82%A8%EC%9E%90%EB%8A%94_%ED%81%90%ED%94%BC%EB%93%9C',\n",
       " 'https://ko.wikipedia.org/wiki/%EC%B5%9C%EB%8F%88%EC%A0%95',\n",
       " 'https://ko.wikipedia.org/wiki/%EB%82%B4_%EB%82%A8%EC%9E%90%EB%8A%94_%ED%81%90%ED%94%BC%EB%93%9C',\n",
       " 'https://ko.wikipedia.org/wiki/%EC%84%B8%EC%83%81%EC%9D%80_%EB%84%93%EB%8B%A4%EC%9D%98_%EC%97%90%ED%94%BC%EC%86%8C%EB%93%9C_%EB%AA%A9%EB%A1%9D',\n",
       " 'https://ko.wikipedia.org/wiki/%EC%9C%84%ED%82%A4%EB%B0%B1%EA%B3%BC%EC%9D%98_%EA%B2%80%EC%97%B4',\n",
       " 'https://ko.wikipedia.org/wiki/%EC%93%B0%EB%A6%AC%EC%95%A0%EB%8B%88%EC%95%84%EC%9D%B4%EC%95%A4%EC%8B%9C',\n",
       " 'https://ko.wikipedia.org/wiki/%EC%9C%84%ED%82%A4%EB%B0%B1%EA%B3%BC%EC%9D%98_%EA%B2%80%EC%97%B4',\n",
       " 'https://ko.wikipedia.org/wiki/%EC%A4%91%EA%B5%AD%EC%96%B4',\n",
       " 'https://ko.wikipedia.org/wiki/%EB%B9%84%EB%B9%84_(%EB%8C%80%ED%95%9C%EB%AF%BC%EA%B5%AD%EC%9D%98_%EA%B0%80%EC%88%98)',\n",
       " 'https://ko.wikipedia.org/wiki/%EC%BA%90%EC%B9%98!_%ED%8B%B0%EB%8B%88%ED%95%91',\n",
       " 'https://ko.wikipedia.org/wiki/%EB%B0%95%EC%88%98%EC%B9%A0_%EB%95%8C_%EB%96%A0%EB%82%98%EB%9D%BC',\n",
       " 'https://ko.wikipedia.org/wiki/%EC%9C%84%ED%82%A4%EB%B0%B1%EA%B3%BC:%EA%B3%84%EC%A0%95_%EC%9D%B4%EB%A6%84',\n",
       " 'https://ko.wikipedia.org/wiki/%ED%98%BC%EB%8B%A4_HR-V',\n",
       " 'https://ko.wikipedia.org/wiki/%EA%B7%B8%EB%A6%AC%EC%8A%A4%EB%8F%84_%EC%88%98%EB%8F%84%ED%9A%8C',\n",
       " 'https://ko.wikipedia.org/w/index.php?title=%EB%A7%88%EC%9D%B4%ED%81%AC%EB%A1%9C%EC%86%8C%ED%94%84%ED%8A%B8_%EC%9C%88%EB%8F%84%EC%9A%B0_%EC%B9%B4%EB%A9%94%EB%9D%BC&redirect=no',\n",
       " 'https://ko.wikipedia.org/w/index.php?title=%EB%A7%88%EC%9D%B4%ED%81%AC%EB%A1%9C%EC%86%8C%ED%94%84%ED%8A%B8_%EC%9C%88%EB%8F%84_%EC%B9%B4%EB%A9%94%EB%9D%BC&redirect=no',\n",
       " 'https://ko.wikipedia.org/wiki/%ED%83%80%EB%B8%94%EB%A1%9C',\n",
       " 'https://ko.wikipedia.org/w/index.php?title=%EC%9C%88%EB%8F%84_%EC%B9%B4%EB%A9%94%EB%9D%BC&redirect=no',\n",
       " 'https://ko.wikipedia.org/wiki/%EC%8A%A4%ED%94%BC%EB%85%B8%EC%82%AC%EC%9A%B0%EB%A3%A8%EC%8A%A4',\n",
       " 'https://ko.wikipedia.org/wiki/%ED%83%80%EB%B8%94%EB%A1%9C',\n",
       " 'https://ko.wikipedia.org/wiki/%EC%82%AC%EC%9A%A9%EC%9E%90:%EB%A6%AC%EC%96%BC%EC%8B%9C%ED%81%90/%EC%97%B0%EC%8A%B5%EC%9E%A5',\n",
       " 'https://ko.wikipedia.org/wiki/%EC%A0%95%EC%9D%80%EC%B1%84',\n",
       " 'https://ko.wikipedia.org/wiki/%EC%95%84%EC%B9%A8%EB%A7%88%EB%8B%B9%EC%9D%98_%EC%97%90%ED%94%BC%EC%86%8C%EB%93%9C_%EB%AA%A9%EB%A1%9D_(2022%EB%85%84)',\n",
       " 'https://ko.wikipedia.org/wiki/%EC%93%B0%EB%A6%AC%EC%95%A0%EB%8B%88%EC%95%84%EC%9D%B4%EC%95%A4%EC%8B%9C',\n",
       " 'https://ko.wikipedia.org/wiki/%EC%A0%95%EC%9D%80%EC%B1%84',\n",
       " 'https://ko.wikipedia.org/wiki/%EC%95%88%ED%86%A0%EB%8B%88%EB%88%84%EC%8A%A4_%ED%94%BC%EC%9A%B0%EC%8A%A4',\n",
       " 'https://ko.wikipedia.org/wiki/%EC%9C%88%EB%8F%84%EC%9A%B0_%EC%B9%B4%EB%A9%94%EB%9D%BC',\n",
       " 'https://ko.wikipedia.org/wiki/%EA%B7%B8%EB%A6%AC%EC%8A%A4%EB%8F%84_%EC%88%98%EB%8F%84%ED%9A%8C',\n",
       " 'https://ko.wikipedia.org/wiki/%EC%A0%95%EC%9D%80%EC%B1%84',\n",
       " 'https://ko.wikipedia.org/wiki/%EC%82%AC%EC%9A%A9%EC%9E%90:KeySpace/%EC%9C%A0%EC%A0%80%EB%B0%95%EC%8A%A4_%EB%AA%A8%EC%9D%8C',\n",
       " 'https://ko.wikipedia.org/wiki/%EC%82%AC%EC%9A%A9%EC%9E%90:%EB%A6%AC%EC%96%BC%EC%8B%9C%ED%81%90/%EC%97%B0%EC%8A%B5%EC%9E%A5']"
      ]
     },
     "execution_count": 22,
     "metadata": {},
     "output_type": "execute_result"
    }
   ],
   "source": [
    "page_urls"
   ]
  },
  {
   "cell_type": "code",
   "execution_count": 23,
   "id": "24988f0c",
   "metadata": {},
   "outputs": [
    {
     "data": {
      "text/plain": [
       "['영상앨범 산',\n",
       " '왜 오수재인가?',\n",
       " '천원짜리 변호사',\n",
       " '소방서 옆 경찰서',\n",
       " '안토니누스 피우스',\n",
       " '박수칠 때 떠나라',\n",
       " '왜 오수재인가?',\n",
       " '그리스도 수도회',\n",
       " '내 남자는 큐피드',\n",
       " '윈도우 카메라',\n",
       " '왜 오수재인가?',\n",
       " '윈도우 카메라',\n",
       " '영상앨범 산',\n",
       " '내 남자는 큐피드',\n",
       " '최돈정',\n",
       " '내 남자는 큐피드',\n",
       " '세상은 넓다의 에피소드 목록',\n",
       " '위키백과의 검열',\n",
       " '쓰리애니아이앤시',\n",
       " '위키백과의 검열',\n",
       " '중국어',\n",
       " '비비 (대한민국의 가수)',\n",
       " '캐치! 티니핑',\n",
       " '박수칠 때 떠나라',\n",
       " '위키백과:계정 이름',\n",
       " '혼다 HR-V',\n",
       " '그리스도 수도회',\n",
       " '마이크로소프트 윈도우 카메라',\n",
       " '마이크로소프트 윈도 카메라',\n",
       " '타블로',\n",
       " '윈도 카메라',\n",
       " '스피노사우루스',\n",
       " '타블로',\n",
       " '사용자:리얼시큐/연습장',\n",
       " '정은채',\n",
       " '아침마당의 에피소드 목록 (2022년)',\n",
       " '쓰리애니아이앤시',\n",
       " '정은채',\n",
       " '안토니누스 피우스',\n",
       " '윈도우 카메라',\n",
       " '그리스도 수도회',\n",
       " '정은채',\n",
       " '사용자:KeySpace/유저박스 모음',\n",
       " '사용자:리얼시큐/연습장']"
      ]
     },
     "execution_count": 23,
     "metadata": {},
     "output_type": "execute_result"
    }
   ],
   "source": [
    "page_titles"
   ]
  },
  {
   "cell_type": "code",
   "execution_count": 25,
   "id": "a39cad62",
   "metadata": {},
   "outputs": [
    {
     "name": "stdout",
     "output_type": "stream",
     "text": [
      "원하는 검색수를 입력하세요.5\n",
      "title: \t영상앨범 산\n",
      "url: \thttps://ko.wikipedia.org//wiki/%EC%98%81%EC%83%81%EC%95%A8%EB%B2%94_%EC%82%B0\n",
      "contents: \n",
      "《영상앨범 산》은 매주 일요일 아침 7시 20분에 방송되는 시사 및 교양 전문 프로그램이다.\n",
      "\n",
      "title: \t윈도우 카메라\n",
      "url: \thttps://ko.wikipedia.org//wiki/%EC%9C%88%EB%8F%84%EC%9A%B0_%EC%B9%B4%EB%A9%94%EB%9D%BC\n",
      "contents: \n",
      "윈도우 카메라(Windows Camera)는 최신 버전의 윈도우와 모바일 버전에 포함된 이미지 및 비디오 캡처 유틸리티이다. 윈도우 기반 모바일 장치에 카메라 하드웨어가 포함된 이후로 존재해 왔으며 윈도우 8과 함께 윈도우 PC에 도입되어 웹캠 하드웨어와 상호 작용할 수 있는 최초의 내장 카메라를 사용자에게 제공하였다.[4] iOS 및 안드로이드 카메라 앱과 구조 및 기능이 유사하다.\n",
      "\n",
      "title: \t영상앨범 산\n",
      "url: \thttps://ko.wikipedia.org//wiki/%EC%98%81%EC%83%81%EC%95%A8%EB%B2%94_%EC%82%B0\n",
      "contents: \n",
      "《영상앨범 산》은 매주 일요일 아침 7시 20분에 방송되는 시사 및 교양 전문 프로그램이다.\n",
      "\n",
      "title: \t왜 오수재인가?\n",
      "url: \thttps://ko.wikipedia.org//wiki/%EC%99%9C_%EC%98%A4%EC%88%98%EC%9E%AC%EC%9D%B8%EA%B0%80%3F\n",
      "contents: \n",
      "《왜 오수재인가》는 2022년 3월부터 방송 예정인 SBS 금토드라마이다.\n",
      "\n",
      "title: \t천원짜리 변호사\n",
      "url: \thttps://ko.wikipedia.org//wiki/%EC%B2%9C%EC%9B%90%EC%A7%9C%EB%A6%AC_%EB%B3%80%ED%98%B8%EC%82%AC\n",
      "contents: \n",
      "《천원짜리 변호사》는 2022년 6월에 방송 예정인 SBS 금토 드라마이다.\n",
      "\n",
      "----------------------------------------------\n"
     ]
    },
    {
     "data": {
      "text/html": [
       "<div>\n",
       "<style scoped>\n",
       "    .dataframe tbody tr th:only-of-type {\n",
       "        vertical-align: middle;\n",
       "    }\n",
       "\n",
       "    .dataframe tbody tr th {\n",
       "        vertical-align: top;\n",
       "    }\n",
       "\n",
       "    .dataframe thead th {\n",
       "        text-align: right;\n",
       "    }\n",
       "</style>\n",
       "<table border=\"1\" class=\"dataframe\">\n",
       "  <thead>\n",
       "    <tr style=\"text-align: right;\">\n",
       "      <th></th>\n",
       "      <th>title</th>\n",
       "      <th>url</th>\n",
       "      <th>content_text</th>\n",
       "    </tr>\n",
       "  </thead>\n",
       "  <tbody>\n",
       "    <tr>\n",
       "      <th>0</th>\n",
       "      <td>영상앨범 산</td>\n",
       "      <td>https://ko.wikipedia.org//wiki/%EC%98%81%EC%83...</td>\n",
       "      <td>《영상앨범 산》은 매주 일요일 아침 7시 20분에 방송되는 시사 및 교양 전문 프로...</td>\n",
       "    </tr>\n",
       "    <tr>\n",
       "      <th>1</th>\n",
       "      <td>윈도우 카메라</td>\n",
       "      <td>https://ko.wikipedia.org//wiki/%EC%9C%88%EB%8F...</td>\n",
       "      <td>윈도우 카메라(Windows Camera)는 최신 버전의 윈도우와 모바일 버전에 포...</td>\n",
       "    </tr>\n",
       "    <tr>\n",
       "      <th>2</th>\n",
       "      <td>영상앨범 산</td>\n",
       "      <td>https://ko.wikipedia.org//wiki/%EC%98%81%EC%83...</td>\n",
       "      <td>《영상앨범 산》은 매주 일요일 아침 7시 20분에 방송되는 시사 및 교양 전문 프로...</td>\n",
       "    </tr>\n",
       "    <tr>\n",
       "      <th>3</th>\n",
       "      <td>왜 오수재인가?</td>\n",
       "      <td>https://ko.wikipedia.org//wiki/%EC%99%9C_%EC%9...</td>\n",
       "      <td>《왜 오수재인가》는 2022년 3월부터 방송 예정인 SBS 금토드라마이다. ,</td>\n",
       "    </tr>\n",
       "    <tr>\n",
       "      <th>4</th>\n",
       "      <td>천원짜리 변호사</td>\n",
       "      <td>https://ko.wikipedia.org//wiki/%EC%B2%9C%EC%9B...</td>\n",
       "      <td>《천원짜리 변호사》는 2022년 6월에 방송 예정인 SBS 금토 드라마이다. ,</td>\n",
       "    </tr>\n",
       "  </tbody>\n",
       "</table>\n",
       "</div>"
      ],
      "text/plain": [
       "      title                                                url  \\\n",
       "0    영상앨범 산  https://ko.wikipedia.org//wiki/%EC%98%81%EC%83...   \n",
       "1   윈도우 카메라  https://ko.wikipedia.org//wiki/%EC%9C%88%EB%8F...   \n",
       "2    영상앨범 산  https://ko.wikipedia.org//wiki/%EC%98%81%EC%83...   \n",
       "3  왜 오수재인가?  https://ko.wikipedia.org//wiki/%EC%99%9C_%EC%9...   \n",
       "4  천원짜리 변호사  https://ko.wikipedia.org//wiki/%EC%B2%9C%EC%9B...   \n",
       "\n",
       "                                        content_text  \n",
       "0  《영상앨범 산》은 매주 일요일 아침 7시 20분에 방송되는 시사 및 교양 전문 프로...  \n",
       "1  윈도우 카메라(Windows Camera)는 최신 버전의 윈도우와 모바일 버전에 포...  \n",
       "2  《영상앨범 산》은 매주 일요일 아침 7시 20분에 방송되는 시사 및 교양 전문 프로...  \n",
       "3       《왜 오수재인가》는 2022년 3월부터 방송 예정인 SBS 금토드라마이다. ,   \n",
       "4      《천원짜리 변호사》는 2022년 6월에 방송 예정인 SBS 금토 드라마이다. ,   "
      ]
     },
     "execution_count": 25,
     "metadata": {},
     "output_type": "execute_result"
    }
   ],
   "source": [
    "# 크롤링한 데이터를 데이터 프레임으로 만들기 위해 준비\n",
    "columns = [\"title\", \"url\", \"content_text\"]\n",
    "df = pd.DataFrame(columns=columns)\n",
    "\n",
    "excutable_path = \"../chromedriver.exe\"\n",
    "\n",
    "base_url = 'https://ko.wikipedia.org/'\n",
    "\n",
    "def urlmake(links):\n",
    "    source = base_url + links\n",
    "    driver.get(source)\n",
    "    req = driver.page_source\n",
    "    soup = BeautifulSoup(req, \"html.parser\") \n",
    "    return soup\n",
    "\n",
    "driver = webdriver.Chrome(executable_path=excutable_path)\n",
    "\n",
    "base_link = \"wiki/%ED%8A%B9%EC%88%98:%EC%B5%9C%EA%B7%BC%EB%B0%94%EB%80%9C?hidebots=1&hidecategorization=1&hideWikibase=1&limit=50&days=7&urlversion=2\"\n",
    "\n",
    "title_list = urlmake(base_link).select('.mw-title')\n",
    "\n",
    "keyword = input(f\"원하는 검색수를 입력하세요.\")\n",
    "\n",
    "num = 0\n",
    "\n",
    "for i in range(int(keyword)):\n",
    "    title = title_list[i].select_one('.mw-changeslist-title').text\n",
    "    link = title_list[i].select_one('a').attrs['href']\n",
    "    contents = urlmake(link).select_one('.mw-parser-output>p')\n",
    "    num += 1\n",
    "    # 그냥 주피터에서 출력 시 \n",
    "    \n",
    "    print(f'title: \\t{title}\\nurl: \\t{base_url+link}')\n",
    "    if(contents != None and contents != ''):\n",
    "        print(f'contents: \\n{contents.text}')\n",
    "    else:\n",
    "        print('contents : NOPE')\n",
    "    if(num == int(keyword)):\n",
    "\n",
    "        print(f'----------------------------------------------')\n",
    "\n",
    "    # 데이터 프레임으로 만들고 싶을시\n",
    "    if contents == None:\n",
    "        contents = ''\n",
    "    else:\n",
    "        contents = contents.text\n",
    "    row = [title,base_url+link,re.sub('\\n',' , ',contents)]\n",
    "    series = pd.Series(row, index=df.columns)\n",
    "    df = df.append(series, ignore_index=True)\n",
    "df"
   ]
  },
  {
   "cell_type": "code",
   "execution_count": null,
   "id": "82f99a34",
   "metadata": {},
   "outputs": [],
   "source": []
  },
  {
   "cell_type": "code",
   "execution_count": null,
   "id": "6211bc78",
   "metadata": {},
   "outputs": [],
   "source": []
  },
  {
   "cell_type": "code",
   "execution_count": null,
   "id": "11eeff29",
   "metadata": {},
   "outputs": [],
   "source": []
  },
  {
   "cell_type": "code",
   "execution_count": null,
   "id": "b2d822d5",
   "metadata": {},
   "outputs": [],
   "source": []
  }
 ],
 "metadata": {
  "kernelspec": {
   "display_name": "Python 3 (ipykernel)",
   "language": "python",
   "name": "python3"
  },
  "language_info": {
   "codemirror_mode": {
    "name": "ipython",
    "version": 3
   },
   "file_extension": ".py",
   "mimetype": "text/x-python",
   "name": "python",
   "nbconvert_exporter": "python",
   "pygments_lexer": "ipython3",
   "version": "3.9.7"
  }
 },
 "nbformat": 4,
 "nbformat_minor": 5
}
