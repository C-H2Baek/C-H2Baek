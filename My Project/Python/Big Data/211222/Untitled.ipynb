{
 "cells": [
  {
   "cell_type": "code",
   "execution_count": 11,
   "id": "5eec12c7",
   "metadata": {},
   "outputs": [],
   "source": [
    "import pandas as pd\n",
    "import numpy as np\n",
    "import matplotlib.pyplot as plt"
   ]
  },
  {
   "cell_type": "code",
   "execution_count": 43,
   "id": "f3742360",
   "metadata": {},
   "outputs": [],
   "source": [
    "from matplotlib import font_manager, rc # font_manager을 import\n",
    "font_path = \"C:/Windows/Fonts/H2HDRM.TTF\" # font의 지정 경로\n",
    "font = font_manager.FontProperties(fname=font_path).get_name()\n",
    "rc('font', family=font)"
   ]
  },
  {
   "cell_type": "code",
   "execution_count": 193,
   "id": "d445907d",
   "metadata": {},
   "outputs": [],
   "source": [
    "file_path = '../Data/Income_per_all.csv'\n",
    "file_path_1 = '../Data/Income_per1.csv'\n",
    "file_path_10 = '../Data/Income_per10.csv'\n",
    "Income = pd.read_csv(file_path) \n",
    "Income_1 = pd.read_csv(file_path_1) \n",
    "Income_10 = pd.read_csv(file_path_10) "
   ]
  },
  {
   "cell_type": "code",
   "execution_count": 194,
   "id": "9f7a7e70",
   "metadata": {},
   "outputs": [
    {
     "data": {
      "text/html": [
       "<div>\n",
       "<style scoped>\n",
       "    .dataframe tbody tr th:only-of-type {\n",
       "        vertical-align: middle;\n",
       "    }\n",
       "\n",
       "    .dataframe tbody tr th {\n",
       "        vertical-align: top;\n",
       "    }\n",
       "\n",
       "    .dataframe thead th {\n",
       "        text-align: right;\n",
       "    }\n",
       "</style>\n",
       "<table border=\"1\" class=\"dataframe\">\n",
       "  <thead>\n",
       "    <tr style=\"text-align: right;\">\n",
       "      <th></th>\n",
       "      <th>Percent</th>\n",
       "      <th>Quanity</th>\n",
       "      <th>Reference</th>\n",
       "      <th>Annual_Income</th>\n",
       "    </tr>\n",
       "  </thead>\n",
       "  <tbody>\n",
       "    <tr>\n",
       "      <th>0</th>\n",
       "      <td>1</td>\n",
       "      <td>191672</td>\n",
       "      <td>518366</td>\n",
       "      <td>270446</td>\n",
       "    </tr>\n",
       "    <tr>\n",
       "      <th>1</th>\n",
       "      <td>2</td>\n",
       "      <td>191673</td>\n",
       "      <td>268974</td>\n",
       "      <td>14033</td>\n",
       "    </tr>\n",
       "    <tr>\n",
       "      <th>2</th>\n",
       "      <td>3</td>\n",
       "      <td>191673</td>\n",
       "      <td>229513</td>\n",
       "      <td>11974</td>\n",
       "    </tr>\n",
       "    <tr>\n",
       "      <th>3</th>\n",
       "      <td>4</td>\n",
       "      <td>191672</td>\n",
       "      <td>207166</td>\n",
       "      <td>10808</td>\n",
       "    </tr>\n",
       "    <tr>\n",
       "      <th>4</th>\n",
       "      <td>5</td>\n",
       "      <td>191673</td>\n",
       "      <td>191091</td>\n",
       "      <td>9970</td>\n",
       "    </tr>\n",
       "    <tr>\n",
       "      <th>5</th>\n",
       "      <td>6</td>\n",
       "      <td>191673</td>\n",
       "      <td>179197</td>\n",
       "      <td>9349</td>\n",
       "    </tr>\n",
       "    <tr>\n",
       "      <th>6</th>\n",
       "      <td>7</td>\n",
       "      <td>191673</td>\n",
       "      <td>170135</td>\n",
       "      <td>8876</td>\n",
       "    </tr>\n",
       "    <tr>\n",
       "      <th>7</th>\n",
       "      <td>8</td>\n",
       "      <td>191672</td>\n",
       "      <td>162736</td>\n",
       "      <td>8490</td>\n",
       "    </tr>\n",
       "    <tr>\n",
       "      <th>8</th>\n",
       "      <td>9</td>\n",
       "      <td>191673</td>\n",
       "      <td>156169</td>\n",
       "      <td>8148</td>\n",
       "    </tr>\n",
       "    <tr>\n",
       "      <th>9</th>\n",
       "      <td>10</td>\n",
       "      <td>191673</td>\n",
       "      <td>150077</td>\n",
       "      <td>7830</td>\n",
       "    </tr>\n",
       "  </tbody>\n",
       "</table>\n",
       "</div>"
      ],
      "text/plain": [
       "   Percent  Quanity  Reference  Annual_Income\n",
       "0        1   191672     518366         270446\n",
       "1        2   191673     268974          14033\n",
       "2        3   191673     229513          11974\n",
       "3        4   191672     207166          10808\n",
       "4        5   191673     191091           9970\n",
       "5        6   191673     179197           9349\n",
       "6        7   191673     170135           8876\n",
       "7        8   191672     162736           8490\n",
       "8        9   191673     156169           8148\n",
       "9       10   191673     150077           7830"
      ]
     },
     "execution_count": 194,
     "metadata": {},
     "output_type": "execute_result"
    }
   ],
   "source": [
    "Income.head(10)"
   ]
  },
  {
   "cell_type": "code",
   "execution_count": 195,
   "id": "7c2cb49a",
   "metadata": {},
   "outputs": [
    {
     "data": {
      "text/html": [
       "<div>\n",
       "<style scoped>\n",
       "    .dataframe tbody tr th:only-of-type {\n",
       "        vertical-align: middle;\n",
       "    }\n",
       "\n",
       "    .dataframe tbody tr th {\n",
       "        vertical-align: top;\n",
       "    }\n",
       "\n",
       "    .dataframe thead th {\n",
       "        text-align: right;\n",
       "    }\n",
       "</style>\n",
       "<table border=\"1\" class=\"dataframe\">\n",
       "  <thead>\n",
       "    <tr style=\"text-align: right;\">\n",
       "      <th></th>\n",
       "      <th>Percent</th>\n",
       "      <th>Quanity</th>\n",
       "      <th>Reference</th>\n",
       "      <th>Annual_Income</th>\n",
       "    </tr>\n",
       "  </thead>\n",
       "  <tbody>\n",
       "    <tr>\n",
       "      <th>0</th>\n",
       "      <td>0.1</td>\n",
       "      <td>19167</td>\n",
       "      <td>147132</td>\n",
       "      <td>76763</td>\n",
       "    </tr>\n",
       "    <tr>\n",
       "      <th>1</th>\n",
       "      <td>0.2</td>\n",
       "      <td>19167</td>\n",
       "      <td>65714</td>\n",
       "      <td>34285</td>\n",
       "    </tr>\n",
       "    <tr>\n",
       "      <th>2</th>\n",
       "      <td>0.3</td>\n",
       "      <td>19167</td>\n",
       "      <td>52032</td>\n",
       "      <td>27147</td>\n",
       "    </tr>\n",
       "    <tr>\n",
       "      <th>3</th>\n",
       "      <td>0.4</td>\n",
       "      <td>19168</td>\n",
       "      <td>44933</td>\n",
       "      <td>23442</td>\n",
       "    </tr>\n",
       "    <tr>\n",
       "      <th>4</th>\n",
       "      <td>0.5</td>\n",
       "      <td>19167</td>\n",
       "      <td>40407</td>\n",
       "      <td>21082</td>\n",
       "    </tr>\n",
       "    <tr>\n",
       "      <th>5</th>\n",
       "      <td>0.6</td>\n",
       "      <td>19167</td>\n",
       "      <td>37314</td>\n",
       "      <td>19468</td>\n",
       "    </tr>\n",
       "    <tr>\n",
       "      <th>6</th>\n",
       "      <td>0.7</td>\n",
       "      <td>19167</td>\n",
       "      <td>35019</td>\n",
       "      <td>18270</td>\n",
       "    </tr>\n",
       "    <tr>\n",
       "      <th>7</th>\n",
       "      <td>0.8</td>\n",
       "      <td>19168</td>\n",
       "      <td>33271</td>\n",
       "      <td>17358</td>\n",
       "    </tr>\n",
       "    <tr>\n",
       "      <th>8</th>\n",
       "      <td>0.9</td>\n",
       "      <td>19167</td>\n",
       "      <td>31848</td>\n",
       "      <td>16616</td>\n",
       "    </tr>\n",
       "    <tr>\n",
       "      <th>9</th>\n",
       "      <td>1.0</td>\n",
       "      <td>19167</td>\n",
       "      <td>30696</td>\n",
       "      <td>16015</td>\n",
       "    </tr>\n",
       "  </tbody>\n",
       "</table>\n",
       "</div>"
      ],
      "text/plain": [
       "   Percent  Quanity  Reference  Annual_Income\n",
       "0      0.1    19167     147132          76763\n",
       "1      0.2    19167      65714          34285\n",
       "2      0.3    19167      52032          27147\n",
       "3      0.4    19168      44933          23442\n",
       "4      0.5    19167      40407          21082\n",
       "5      0.6    19167      37314          19468\n",
       "6      0.7    19167      35019          18270\n",
       "7      0.8    19168      33271          17358\n",
       "8      0.9    19167      31848          16616\n",
       "9      1.0    19167      30696          16015"
      ]
     },
     "execution_count": 195,
     "metadata": {},
     "output_type": "execute_result"
    }
   ],
   "source": [
    "Income_1.head(10)"
   ]
  },
  {
   "cell_type": "code",
   "execution_count": 201,
   "id": "6d830b65",
   "metadata": {
    "scrolled": true
   },
   "outputs": [
    {
     "data": {
      "text/html": [
       "<div>\n",
       "<style scoped>\n",
       "    .dataframe tbody tr th:only-of-type {\n",
       "        vertical-align: middle;\n",
       "    }\n",
       "\n",
       "    .dataframe tbody tr th {\n",
       "        vertical-align: top;\n",
       "    }\n",
       "\n",
       "    .dataframe thead th {\n",
       "        text-align: right;\n",
       "    }\n",
       "</style>\n",
       "<table border=\"1\" class=\"dataframe\">\n",
       "  <thead>\n",
       "    <tr style=\"text-align: right;\">\n",
       "      <th></th>\n",
       "      <th>Percent</th>\n",
       "      <th>Quanity</th>\n",
       "      <th>Reference</th>\n",
       "      <th>Annual_Income</th>\n",
       "    </tr>\n",
       "  </thead>\n",
       "  <tbody>\n",
       "    <tr>\n",
       "      <th>0</th>\n",
       "      <td>10</td>\n",
       "      <td>1916727</td>\n",
       "      <td>2233424</td>\n",
       "      <td>359924</td>\n",
       "    </tr>\n",
       "    <tr>\n",
       "      <th>1</th>\n",
       "      <td>20</td>\n",
       "      <td>1916727</td>\n",
       "      <td>1244962</td>\n",
       "      <td>64953</td>\n",
       "    </tr>\n",
       "    <tr>\n",
       "      <th>2</th>\n",
       "      <td>30</td>\n",
       "      <td>1916727</td>\n",
       "      <td>927321</td>\n",
       "      <td>48382</td>\n",
       "    </tr>\n",
       "    <tr>\n",
       "      <th>3</th>\n",
       "      <td>40</td>\n",
       "      <td>1916727</td>\n",
       "      <td>729883</td>\n",
       "      <td>38082</td>\n",
       "    </tr>\n",
       "    <tr>\n",
       "      <th>4</th>\n",
       "      <td>50</td>\n",
       "      <td>1916727</td>\n",
       "      <td>604385</td>\n",
       "      <td>31533</td>\n",
       "    </tr>\n",
       "    <tr>\n",
       "      <th>5</th>\n",
       "      <td>60</td>\n",
       "      <td>1916727</td>\n",
       "      <td>496242</td>\n",
       "      <td>25889</td>\n",
       "    </tr>\n",
       "    <tr>\n",
       "      <th>6</th>\n",
       "      <td>70</td>\n",
       "      <td>1916727</td>\n",
       "      <td>417215</td>\n",
       "      <td>21766</td>\n",
       "    </tr>\n",
       "    <tr>\n",
       "      <th>7</th>\n",
       "      <td>80</td>\n",
       "      <td>1916727</td>\n",
       "      <td>324075</td>\n",
       "      <td>16908</td>\n",
       "    </tr>\n",
       "    <tr>\n",
       "      <th>8</th>\n",
       "      <td>90</td>\n",
       "      <td>1916727</td>\n",
       "      <td>210320</td>\n",
       "      <td>10972</td>\n",
       "    </tr>\n",
       "    <tr>\n",
       "      <th>9</th>\n",
       "      <td>100</td>\n",
       "      <td>1916727</td>\n",
       "      <td>80573</td>\n",
       "      <td>4203</td>\n",
       "    </tr>\n",
       "  </tbody>\n",
       "</table>\n",
       "</div>"
      ],
      "text/plain": [
       "   Percent  Quanity  Reference  Annual_Income\n",
       "0       10  1916727    2233424         359924\n",
       "1       20  1916727    1244962          64953\n",
       "2       30  1916727     927321          48382\n",
       "3       40  1916727     729883          38082\n",
       "4       50  1916727     604385          31533\n",
       "5       60  1916727     496242          25889\n",
       "6       70  1916727     417215          21766\n",
       "7       80  1916727     324075          16908\n",
       "8       90  1916727     210320          10972\n",
       "9      100  1916727      80573           4203"
      ]
     },
     "execution_count": 201,
     "metadata": {},
     "output_type": "execute_result"
    }
   ],
   "source": [
    "Income_10.head(10)"
   ]
  },
  {
   "cell_type": "code",
   "execution_count": 198,
   "id": "9fe18ddc",
   "metadata": {},
   "outputs": [
    {
     "name": "stdout",
     "output_type": "stream",
     "text": [
      "<class 'pandas.core.frame.DataFrame'>\n",
      "RangeIndex: 10 entries, 0 to 9\n",
      "Data columns (total 4 columns):\n",
      " #   Column         Non-Null Count  Dtype\n",
      "---  ------         --------------  -----\n",
      " 0   Percent        10 non-null     int64\n",
      " 1   Quanity        10 non-null     int64\n",
      " 2   Reference      10 non-null     int64\n",
      " 3   Annual_Income  10 non-null     int64\n",
      "dtypes: int64(4)\n",
      "memory usage: 448.0 bytes\n"
     ]
    }
   ],
   "source": [
    "Income_10.info()"
   ]
  },
  {
   "cell_type": "code",
   "execution_count": 203,
   "id": "d170bfea",
   "metadata": {},
   "outputs": [],
   "source": [
    "Income_Average = Income.groupby('Annual_Income').mean()"
   ]
  },
  {
   "cell_type": "code",
   "execution_count": 204,
   "id": "ecd671f6",
   "metadata": {},
   "outputs": [
    {
     "data": {
      "text/html": [
       "<div>\n",
       "<style scoped>\n",
       "    .dataframe tbody tr th:only-of-type {\n",
       "        vertical-align: middle;\n",
       "    }\n",
       "\n",
       "    .dataframe tbody tr th {\n",
       "        vertical-align: top;\n",
       "    }\n",
       "\n",
       "    .dataframe thead th {\n",
       "        text-align: right;\n",
       "    }\n",
       "</style>\n",
       "<table border=\"1\" class=\"dataframe\">\n",
       "  <thead>\n",
       "    <tr style=\"text-align: right;\">\n",
       "      <th></th>\n",
       "      <th>Percent</th>\n",
       "      <th>Quanity</th>\n",
       "      <th>Reference</th>\n",
       "    </tr>\n",
       "    <tr>\n",
       "      <th>Annual_Income</th>\n",
       "      <th></th>\n",
       "      <th></th>\n",
       "      <th></th>\n",
       "    </tr>\n",
       "  </thead>\n",
       "  <tbody>\n",
       "    <tr>\n",
       "      <th>10</th>\n",
       "      <td>100.0</td>\n",
       "      <td>191673.0</td>\n",
       "      <td>199.0</td>\n",
       "    </tr>\n",
       "    <tr>\n",
       "      <th>71</th>\n",
       "      <td>99.0</td>\n",
       "      <td>191673.0</td>\n",
       "      <td>1356.0</td>\n",
       "    </tr>\n",
       "    <tr>\n",
       "      <th>134</th>\n",
       "      <td>98.0</td>\n",
       "      <td>191673.0</td>\n",
       "      <td>2578.0</td>\n",
       "    </tr>\n",
       "    <tr>\n",
       "      <th>190</th>\n",
       "      <td>97.0</td>\n",
       "      <td>191672.0</td>\n",
       "      <td>3641.0</td>\n",
       "    </tr>\n",
       "    <tr>\n",
       "      <th>249</th>\n",
       "      <td>96.0</td>\n",
       "      <td>191673.0</td>\n",
       "      <td>4773.0</td>\n",
       "    </tr>\n",
       "    <tr>\n",
       "      <th>...</th>\n",
       "      <td>...</td>\n",
       "      <td>...</td>\n",
       "      <td>...</td>\n",
       "    </tr>\n",
       "    <tr>\n",
       "      <th>9970</th>\n",
       "      <td>5.0</td>\n",
       "      <td>191673.0</td>\n",
       "      <td>191091.0</td>\n",
       "    </tr>\n",
       "    <tr>\n",
       "      <th>10808</th>\n",
       "      <td>4.0</td>\n",
       "      <td>191672.0</td>\n",
       "      <td>207166.0</td>\n",
       "    </tr>\n",
       "    <tr>\n",
       "      <th>11974</th>\n",
       "      <td>3.0</td>\n",
       "      <td>191673.0</td>\n",
       "      <td>229513.0</td>\n",
       "    </tr>\n",
       "    <tr>\n",
       "      <th>14033</th>\n",
       "      <td>2.0</td>\n",
       "      <td>191673.0</td>\n",
       "      <td>268974.0</td>\n",
       "    </tr>\n",
       "    <tr>\n",
       "      <th>270446</th>\n",
       "      <td>1.0</td>\n",
       "      <td>191672.0</td>\n",
       "      <td>518366.0</td>\n",
       "    </tr>\n",
       "  </tbody>\n",
       "</table>\n",
       "<p>100 rows × 3 columns</p>\n",
       "</div>"
      ],
      "text/plain": [
       "               Percent   Quanity  Reference\n",
       "Annual_Income                              \n",
       "10               100.0  191673.0      199.0\n",
       "71                99.0  191673.0     1356.0\n",
       "134               98.0  191673.0     2578.0\n",
       "190               97.0  191672.0     3641.0\n",
       "249               96.0  191673.0     4773.0\n",
       "...                ...       ...        ...\n",
       "9970               5.0  191673.0   191091.0\n",
       "10808              4.0  191672.0   207166.0\n",
       "11974              3.0  191673.0   229513.0\n",
       "14033              2.0  191673.0   268974.0\n",
       "270446             1.0  191672.0   518366.0\n",
       "\n",
       "[100 rows x 3 columns]"
      ]
     },
     "execution_count": 204,
     "metadata": {},
     "output_type": "execute_result"
    }
   ],
   "source": [
    "Income_Average"
   ]
  },
  {
   "cell_type": "code",
   "execution_count": 205,
   "id": "523c6bf6",
   "metadata": {},
   "outputs": [],
   "source": [
    "Income_10Inner = Income_Average[Income_Average.Percent <= 10]"
   ]
  },
  {
   "cell_type": "code",
   "execution_count": 206,
   "id": "9044aaf8",
   "metadata": {},
   "outputs": [
    {
     "data": {
      "text/html": [
       "<div>\n",
       "<style scoped>\n",
       "    .dataframe tbody tr th:only-of-type {\n",
       "        vertical-align: middle;\n",
       "    }\n",
       "\n",
       "    .dataframe tbody tr th {\n",
       "        vertical-align: top;\n",
       "    }\n",
       "\n",
       "    .dataframe thead th {\n",
       "        text-align: right;\n",
       "    }\n",
       "</style>\n",
       "<table border=\"1\" class=\"dataframe\">\n",
       "  <thead>\n",
       "    <tr style=\"text-align: right;\">\n",
       "      <th></th>\n",
       "      <th>Percent</th>\n",
       "      <th>Quanity</th>\n",
       "      <th>Reference</th>\n",
       "    </tr>\n",
       "    <tr>\n",
       "      <th>Annual_Income</th>\n",
       "      <th></th>\n",
       "      <th></th>\n",
       "      <th></th>\n",
       "    </tr>\n",
       "  </thead>\n",
       "  <tbody>\n",
       "    <tr>\n",
       "      <th>7830</th>\n",
       "      <td>10.0</td>\n",
       "      <td>191673.0</td>\n",
       "      <td>150077.0</td>\n",
       "    </tr>\n",
       "    <tr>\n",
       "      <th>8148</th>\n",
       "      <td>9.0</td>\n",
       "      <td>191673.0</td>\n",
       "      <td>156169.0</td>\n",
       "    </tr>\n",
       "    <tr>\n",
       "      <th>8490</th>\n",
       "      <td>8.0</td>\n",
       "      <td>191672.0</td>\n",
       "      <td>162736.0</td>\n",
       "    </tr>\n",
       "    <tr>\n",
       "      <th>8876</th>\n",
       "      <td>7.0</td>\n",
       "      <td>191673.0</td>\n",
       "      <td>170135.0</td>\n",
       "    </tr>\n",
       "    <tr>\n",
       "      <th>9349</th>\n",
       "      <td>6.0</td>\n",
       "      <td>191673.0</td>\n",
       "      <td>179197.0</td>\n",
       "    </tr>\n",
       "    <tr>\n",
       "      <th>9970</th>\n",
       "      <td>5.0</td>\n",
       "      <td>191673.0</td>\n",
       "      <td>191091.0</td>\n",
       "    </tr>\n",
       "    <tr>\n",
       "      <th>10808</th>\n",
       "      <td>4.0</td>\n",
       "      <td>191672.0</td>\n",
       "      <td>207166.0</td>\n",
       "    </tr>\n",
       "    <tr>\n",
       "      <th>11974</th>\n",
       "      <td>3.0</td>\n",
       "      <td>191673.0</td>\n",
       "      <td>229513.0</td>\n",
       "    </tr>\n",
       "    <tr>\n",
       "      <th>14033</th>\n",
       "      <td>2.0</td>\n",
       "      <td>191673.0</td>\n",
       "      <td>268974.0</td>\n",
       "    </tr>\n",
       "    <tr>\n",
       "      <th>270446</th>\n",
       "      <td>1.0</td>\n",
       "      <td>191672.0</td>\n",
       "      <td>518366.0</td>\n",
       "    </tr>\n",
       "  </tbody>\n",
       "</table>\n",
       "</div>"
      ],
      "text/plain": [
       "               Percent   Quanity  Reference\n",
       "Annual_Income                              \n",
       "7830              10.0  191673.0   150077.0\n",
       "8148               9.0  191673.0   156169.0\n",
       "8490               8.0  191672.0   162736.0\n",
       "8876               7.0  191673.0   170135.0\n",
       "9349               6.0  191673.0   179197.0\n",
       "9970               5.0  191673.0   191091.0\n",
       "10808              4.0  191672.0   207166.0\n",
       "11974              3.0  191673.0   229513.0\n",
       "14033              2.0  191673.0   268974.0\n",
       "270446             1.0  191672.0   518366.0"
      ]
     },
     "execution_count": 206,
     "metadata": {},
     "output_type": "execute_result"
    }
   ],
   "source": [
    "Income_10Inner"
   ]
  },
  {
   "cell_type": "code",
   "execution_count": 176,
   "id": "22863019",
   "metadata": {},
   "outputs": [],
   "source": [
    "Total_Avg = Income.Annual_Income.mean()"
   ]
  },
  {
   "cell_type": "code",
   "execution_count": 177,
   "id": "37679457",
   "metadata": {},
   "outputs": [
    {
     "data": {
      "text/plain": [
       "6177.55"
      ]
     },
     "execution_count": 177,
     "metadata": {},
     "output_type": "execute_result"
    }
   ],
   "source": [
    "Total_Avg"
   ]
  },
  {
   "cell_type": "code",
   "execution_count": 178,
   "id": "3fe1ebdb",
   "metadata": {},
   "outputs": [],
   "source": [
    "Per_Avg = Income.groupby('Percent')['Annual_Income'].mean()"
   ]
  },
  {
   "cell_type": "code",
   "execution_count": 179,
   "id": "72f6d8aa",
   "metadata": {
    "scrolled": true
   },
   "outputs": [
    {
     "data": {
      "text/plain": [
       "Percent\n",
       "1     270446.0\n",
       "2      14033.0\n",
       "3      11974.0\n",
       "4      10808.0\n",
       "5       9970.0\n",
       "6       9349.0\n",
       "7       8876.0\n",
       "8       8490.0\n",
       "9       8148.0\n",
       "10      7830.0\n",
       "11      7536.0\n",
       "12      7268.0\n",
       "13      7021.0\n",
       "14      6784.0\n",
       "15      6556.0\n",
       "16      6340.0\n",
       "17      6134.0\n",
       "18      5948.0\n",
       "19      5769.0\n",
       "20      5597.0\n",
       "21      5436.0\n",
       "22      5285.0\n",
       "23      5142.0\n",
       "24      5006.0\n",
       "25      4876.0\n",
       "26      4756.0\n",
       "27      4638.0\n",
       "28      4523.0\n",
       "29      4414.0\n",
       "30      4306.0\n",
       "Name: Annual_Income, dtype: float64"
      ]
     },
     "execution_count": 179,
     "metadata": {},
     "output_type": "execute_result"
    }
   ],
   "source": [
    "Per_Avg.head(30)"
   ]
  },
  {
   "cell_type": "code",
   "execution_count": 216,
   "id": "d12e0d9a",
   "metadata": {},
   "outputs": [
    {
     "name": "stderr",
     "output_type": "stream",
     "text": [
      "No handles with labels found to put in legend.\n"
     ]
    },
    {
     "data": {
      "image/png": "[encoded data removed]",
      "text/plain": [
       "<Figure size 432x288 with 1 Axes>"
      ]
     },
     "metadata": {
      "needs_background": "light"
     },
     "output_type": "display_data"
    }
   ],
   "source": [
    "x = Income['Percent']\n",
    "y = Income['Annual_Income']\n",
    "plt.bar(x, y)\n",
    "plt.xlabel('Percent')\n",
    "plt.ylabel('Annual Income')\n",
    "plt.title(\"모든 단위별 소득\")\n",
    "plt.legend(loc='lower right')\n",
    "plt.show()"
   ]
  },
  {
   "cell_type": "code",
   "execution_count": 213,
   "id": "e4cc2510",
   "metadata": {},
   "outputs": [
    {
     "data": {
      "image/png": "[encoded data removed]",
      "text/plain": [
       "<Figure size 432x288 with 1 Axes>"
      ]
     },
     "metadata": {
      "needs_background": "light"
     },
     "output_type": "display_data"
    }
   ],
   "source": [
    "x = Income_1['Percent']\n",
    "y = Income_1['Annual_Income']\n",
    "plt.bar(x, y)\n",
    "plt.xlabel('Percent')\n",
    "plt.ylabel('Annual Income')\n",
    "plt.title(\"1프로 이내의 소득\")\n",
    "plt.show()"
   ]
  },
  {
   "cell_type": "code",
   "execution_count": 214,
   "id": "8df87225",
   "metadata": {},
   "outputs": [
    {
     "data": {
      "image/png": "[encoded data removed]",
      "text/plain": [
       "<Figure size 432x288 with 1 Axes>"
      ]
     },
     "metadata": {
      "needs_background": "light"
     },
     "output_type": "display_data"
    }
   ],
   "source": [
    "x = Income_10['Percent']\n",
    "y = Income_10['Annual_Income']\n",
    "plt.bar(x, y)\n",
    "plt.xlabel('Percent')\n",
    "plt.ylabel('Annual Income')\n",
    "plt.title(\"10프로 단위의 소득\")\n",
    "plt.show()"
   ]
  },
  {
   "cell_type": "code",
   "execution_count": null,
   "id": "0a32cf38",
   "metadata": {},
   "outputs": [],
   "source": []
  },
  {
   "cell_type": "code",
   "execution_count": null,
   "id": "18cda4b2",
   "metadata": {},
   "outputs": [],
   "source": []
  },
  {
   "cell_type": "code",
   "execution_count": null,
   "id": "aa30b87d",
   "metadata": {},
   "outputs": [],
   "source": []
  },
  {
   "cell_type": "code",
   "execution_count": null,
   "id": "c271922c",
   "metadata": {},
   "outputs": [],
   "source": []
  },
  {
   "cell_type": "code",
   "execution_count": null,
   "id": "73890ed1",
   "metadata": {},
   "outputs": [],
   "source": []
  },
  {
   "cell_type": "code",
   "execution_count": null,
   "id": "2e950e0b",
   "metadata": {},
   "outputs": [],
   "source": []
  },
  {
   "cell_type": "code",
   "execution_count": null,
   "id": "0301b015",
   "metadata": {},
   "outputs": [],
   "source": []
  },
  {
   "cell_type": "code",
   "execution_count": null,
   "id": "323bbfd1",
   "metadata": {},
   "outputs": [],
   "source": []
  },
  {
   "cell_type": "code",
   "execution_count": null,
   "id": "54f7bdab",
   "metadata": {},
   "outputs": [],
   "source": []
  },
  {
   "cell_type": "code",
   "execution_count": null,
   "id": "8f9367ca",
   "metadata": {},
   "outputs": [],
   "source": []
  },
  {
   "cell_type": "code",
   "execution_count": null,
   "id": "0ea09b2e",
   "metadata": {},
   "outputs": [],
   "source": []
  },
  {
   "cell_type": "code",
   "execution_count": null,
   "id": "544e2683",
   "metadata": {},
   "outputs": [],
   "source": []
  },
  {
   "cell_type": "code",
   "execution_count": null,
   "id": "672893d9",
   "metadata": {},
   "outputs": [],
   "source": []
  },
  {
   "cell_type": "code",
   "execution_count": null,
   "id": "cc2c59e0",
   "metadata": {},
   "outputs": [],
   "source": []
  },
  {
   "cell_type": "code",
   "execution_count": null,
   "id": "611a5bc0",
   "metadata": {},
   "outputs": [],
   "source": []
  },
  {
   "cell_type": "code",
   "execution_count": null,
   "id": "b1f18f08",
   "metadata": {},
   "outputs": [],
   "source": []
  },
  {
   "cell_type": "code",
   "execution_count": null,
   "id": "3b8b9890",
   "metadata": {},
   "outputs": [],
   "source": []
  },
  {
   "cell_type": "code",
   "execution_count": null,
   "id": "bfa392b7",
   "metadata": {},
   "outputs": [],
   "source": []
  },
  {
   "cell_type": "code",
   "execution_count": null,
   "id": "64aae5e4",
   "metadata": {},
   "outputs": [],
   "source": []
  },
  {
   "cell_type": "code",
   "execution_count": null,
   "id": "814f6f18",
   "metadata": {},
   "outputs": [],
   "source": []
  },
  {
   "cell_type": "code",
   "execution_count": null,
   "id": "3950c929",
   "metadata": {},
   "outputs": [],
   "source": []
  },
  {
   "cell_type": "code",
   "execution_count": null,
   "id": "df9da248",
   "metadata": {},
   "outputs": [],
   "source": []
  },
  {
   "cell_type": "code",
   "execution_count": null,
   "id": "49f1f02e",
   "metadata": {},
   "outputs": [],
   "source": []
  },
  {
   "cell_type": "code",
   "execution_count": null,
   "id": "e68fb18f",
   "metadata": {},
   "outputs": [],
   "source": []
  },
  {
   "cell_type": "code",
   "execution_count": null,
   "id": "8067831d",
   "metadata": {},
   "outputs": [],
   "source": []
  },
  {
   "cell_type": "code",
   "execution_count": null,
   "id": "a7dcc1ef",
   "metadata": {},
   "outputs": [],
   "source": []
  },
  {
   "cell_type": "code",
   "execution_count": null,
   "id": "2e08cd79",
   "metadata": {},
   "outputs": [],
   "source": []
  },
  {
   "cell_type": "code",
   "execution_count": null,
   "id": "cead64bc",
   "metadata": {},
   "outputs": [],
   "source": []
  },
  {
   "cell_type": "code",
   "execution_count": null,
   "id": "9911cf63",
   "metadata": {},
   "outputs": [],
   "source": []
  },
  {
   "cell_type": "code",
   "execution_count": null,
   "id": "b2c9652b",
   "metadata": {},
   "outputs": [],
   "source": []
  },
  {
   "cell_type": "code",
   "execution_count": null,
   "id": "86a859ca",
   "metadata": {},
   "outputs": [],
   "source": []
  },
  {
   "cell_type": "code",
   "execution_count": null,
   "id": "61f8e663",
   "metadata": {},
   "outputs": [],
   "source": []
  },
  {
   "cell_type": "code",
   "execution_count": null,
   "id": "50ceaa07",
   "metadata": {},
   "outputs": [],
   "source": []
  },
  {
   "cell_type": "code",
   "execution_count": null,
   "id": "8bb3e5a3",
   "metadata": {},
   "outputs": [],
   "source": []
  },
  {
   "cell_type": "code",
   "execution_count": null,
   "id": "65c3d53e",
   "metadata": {},
   "outputs": [],
   "source": []
  }
 ],
 "metadata": {
  "kernelspec": {
   "display_name": "Python 3 (ipykernel)",
   "language": "python",
   "name": "python3"
  },
  "language_info": {
   "codemirror_mode": {
    "name": "ipython",
    "version": 3
   },
   "file_extension": ".py",
   "mimetype": "text/x-python",
   "name": "python",
   "nbconvert_exporter": "python",
   "pygments_lexer": "ipython3",
   "version": "3.9.7"
  }
 },
 "nbformat": 4,
 "nbformat_minor": 5
}
