{
 "cells": [
  {
   "cell_type": "markdown",
   "id": "f6f2d44c",
   "metadata": {},
   "source": [
    "### 웹 크롤링 나무위키 사이트 분석 및 시각화\n",
    "<Step1 . 크롤링> : 크롤링으로 웹 데이터 가져오기\n",
    "\n",
    "[웹크롤링 라이버러시 사용하기]\n",
    "- beautifulsoup, requests 라이브러리로 웹 크롤러를 만듬\n",
    "- request는 특정 url로 부터 html 문서를 가져오는 작업 수행\n",
    "- 나무위키와 같은 페이지는 html문서가 javascript 동적 로딩되는 경우 가능\n",
    "- request대신 셀레니움(selenium) 라이브러리를 이용해 크롬 브라우저로 동적 웹크롤링 수행\n",
    "- selenium은 웹브라우저를 자동으로 구동해주는 라이브러리\n",
    "- selenium을 사용하기 위해 크롬 드라이버를 이용해 크롬 브라우저 자동으로 구동 -> 크롬드라이버 필요\n",
    "\n",
    "[beautifulsoup과 selenium을 이용한 웹 크롤링]\n",
    "- anaconda prompt 혹은 cmd에서 패키지 설치\n",
    "- pip install selenium\n",
    "- pip install beautifulsoup4\n",
    " \n",
    "[크롬 브라우저 업데이트 및 크롬 드라이버 설치]\n",
    "- 크롬 브라우저 설정에서 최신 버전으로 업데이트\n",
    "- 크롬 드라이버 사이트에서 브라우저에 맞는 드라이버 다운로드\n",
    "- chromedriver.exe 파일을 노트북 파일 경로에 이동"
   ]
  },
  {
   "cell_type": "code",
   "execution_count": 1,
   "id": "0afc3b1e",
   "metadata": {},
   "outputs": [],
   "source": [
    "%matplotlib inline\n",
    "import pandas as pd\n",
    "import numpy as np\n",
    "import matplotlib.pyplot as plt\n",
    "import warnings\n",
    "warnings.filterwarnings(\"ignore\")"
   ]
  },
  {
   "cell_type": "markdown",
   "id": "25552ac2",
   "metadata": {},
   "source": [
    "[ BeautifulSoup의 select() VS find_add()]\n",
    "- html의 특정요소 선택\n",
    "- select, select_one의 경우 CSS 선택자를 이용하는 것처럼 사용 가능\n",
    "- select의 경우 후손이나 자손 요소를 CSS 처럼 선택 가능\n",
    "- 예) soup.select(\"dl > dt > a\")\n",
    "- find_all, find 의 경우 하나의 태그(name=\"table\")나 하나의 클래스(class=\"tables\")를 선택\n",
    "- find의 경우 후손이나 자손 요소를 직접 선택할 수 없어 한번 더 변수에 담든지 루프 문을 이용하애 함\n",
    "- find_all(class=\"ah_roll\"), find(name=\"table\")"
   ]
  },
  {
   "cell_type": "code",
   "execution_count": 2,
   "id": "d594917c",
   "metadata": {},
   "outputs": [],
   "source": [
    "from selenium import webdriver\n",
    "from selenium.webdriver.common.by import By\n",
    "from selenium.webdriver.support.ui import WebDriverWait\n",
    "from selenium.webdriver.support import expected_conditions as EC\n",
    "\n",
    "from bs4 import BeautifulSoup\n",
    "import re # 정규식 표현을 위한 모듈\n",
    "\n",
    "# 윈도우용 크롬 웹드라이버 실행 경로 (Windows) 지정\n",
    "excutable_path = \"chromedriver.exe\"\n",
    "driver = webdriver.Chrome(executable_path = excutable_path)\n",
    "\n",
    "# 사이트의 html 구조에 기반하여 크롤링을 수행\n",
    "source_url= \"https://namu.wiki/RecentChanges\" # 크롱링할 사이트 주소 정의\n",
    "driver.get(source_url)\n",
    "element = WebDriverWait(driver, 10).until(EC.presence_of_element_located((By.CLASS_NAME,\"app\")))\n",
    "\n",
    "# case 2\n",
    "#import time\n",
    "#time.sleep(10)\n",
    "\n",
    "req = driver.page_source\n",
    "soup = BeautifulSoup(req, \"html.parser\") # BeautifulSoup의 soup 객체로 변환\n",
    "\n",
    "# find 사용\n",
    "#contents_table = soup.find(name = \"table\")\n",
    "#table_body = contents_table.find(name=\"tbody\")\n",
    "#table_rows = table_body.find_all(name=\"tr\")\n",
    "table_rows = soup.select(\"table tbody tr\")"
   ]
  },
  {
   "cell_type": "code",
   "execution_count": 3,
   "id": "91ae9a2d",
   "metadata": {},
   "outputs": [
    {
     "data": {
      "text/plain": [
       "113"
      ]
     },
     "execution_count": 3,
     "metadata": {},
     "output_type": "execute_result"
    }
   ],
   "source": [
    "len(table_rows)"
   ]
  },
  {
   "cell_type": "markdown",
   "id": "965fdc3a",
   "metadata": {},
   "source": [
    "[페이지 링크주소 리스트 가져오기]"
   ]
  },
  {
   "cell_type": "code",
   "execution_count": 4,
   "id": "a023102c",
   "metadata": {},
   "outputs": [],
   "source": [
    "page_url_base = \"https://namu.wiki\" # 베이스 URL \n",
    "page_urls = [] # herf 속성값을 담기 위한 빈 리스트 생성\n",
    "\n",
    "\n",
    "for index in range(0, len(table_rows)):\n",
    "    first_td = table_rows[index].find_all(\"td\")[0]\n",
    "    td_url = first_td.find_all(\"a\")\n",
    "    if len(td_url) > 0:\n",
    "        page_url = page_url_base + td_url[0].get(\"href\")\n",
    "        if \"png\" not in page_url:\n",
    "            page_urls.append(page_url)"
   ]
  },
  {
   "cell_type": "code",
   "execution_count": 5,
   "id": "9f7513c1",
   "metadata": {},
   "outputs": [
    {
     "data": {
      "text/plain": [
       "92"
      ]
     },
     "execution_count": 5,
     "metadata": {},
     "output_type": "execute_result"
    }
   ],
   "source": [
    "len(page_urls)"
   ]
  },
  {
   "cell_type": "code",
   "execution_count": 6,
   "id": "d091202d",
   "metadata": {},
   "outputs": [
    {
     "data": {
      "text/plain": [
       "['https://namu.wiki/w/%EC%98%A4%EC%97%B4',\n",
       " 'https://namu.wiki/w/%ED%82%B4%EB%B2%8C%EB%A6%AC%20%EC%95%A4%20%EC%BA%A0%EB%B2%A8',\n",
       " 'https://namu.wiki/w/%EA%B4%80%EC%83%81%EC%96%B4',\n",
       " 'https://namu.wiki/w/%EC%83%9D%EC%84%B1%EC%A0%81%20%EC%A0%81%EB%8C%80%20%EC%8B%A0%EA%B2%BD%EB%A7%9D',\n",
       " 'https://namu.wiki/w/%ED%8C%8C%EC%9D%B4%EB%84%90%20%ED%8C%90%ED%83%80%EC%A7%80%205/%EC%A7%81%EC%97%85',\n",
       " 'https://namu.wiki/w/%ED%97%AC%ED%85%8C%EC%9D%B4%EC%BB%A4',\n",
       " 'https://namu.wiki/w/%ED%8C%8C%EC%9D%BC:%EB%8D%B0%EB%A9%94%EC%98%A4%20%EC%A0%84%EC%82%AC.jpg',\n",
       " 'https://namu.wiki/w/%EB%85%B8%EC%9D%B8%EB%B3%B5%EC%A7%80%EC%9D%98%20%EC%97%AD%EC%82%AC',\n",
       " 'https://namu.wiki/w/%EB%B2%A0%EC%86%8C',\n",
       " 'https://namu.wiki/w/%EB%B9%84%EC%86%8C',\n",
       " 'https://namu.wiki/w/%EC%A7%84%EB%AA%85%EC%97%AC%EC%9E%90%EA%B3%A0%EB%93%B1%ED%95%99%EA%B5%90%20%EA%B5%B0%EC%9D%B8%20%EC%A1%B0%EB%A1%B1%20%EC%9C%84%EB%AC%B8%ED%8E%B8%EC%A7%80%20%EB%85%BC%EB%9E%80',\n",
       " 'https://namu.wiki/w/%EA%B0%80%ED%86%A8%EB%A6%AD%EA%B4%80%EB%8F%99%EB%8C%80%ED%95%99%EA%B5%90',\n",
       " 'https://namu.wiki/w/%EC%84%B8%EC%A2%85',\n",
       " 'https://namu.wiki/w/%EC%9E%AD%20%ED%81%B4%EB%A0%88%EC%9D%B4%ED%8A%BC',\n",
       " 'https://namu.wiki/w/%ED%82%B4%EB%B2%8C%EB%A6%AC%20%EC%95%A4%20%EC%BA%A0%EB%B2%A8',\n",
       " 'https://namu.wiki/w/%ED%8B%80:%EC%9B%A8%EC%8A%A4%ED%8A%B8%ED%96%84%20%EC%9C%A0%EB%82%98%EC%9D%B4%ED%8B%B0%EB%93%9C%20FC/%EA%B0%84%EB%9E%B5',\n",
       " 'https://namu.wiki/w/Bee%20Swarm%20Simulator/%EC%A7%80%EC%97%AD',\n",
       " 'https://namu.wiki/w/%EC%84%80%EB%8F%84%EC%9A%B0%EB%B2%84%EC%8A%A4/%EC%B9%B4%EB%93%9C%EC%9D%BC%EB%9E%8C/%EB%93%9C%EB%9E%98%EA%B3%A4/Renascent%20Chronicles',\n",
       " 'https://namu.wiki/w/%EC%A4%91%EB%85%84%EA%B2%8C%EC%9D%B4%EB%A8%B8%20%EA%B9%80%EC%8B%A4%EC%9E%A5/%EC%98%81%EC%83%81%20%EB%AA%A9%EB%A1%9D',\n",
       " 'https://namu.wiki/w/%ED%83%80%EC%9D%B4%ED%83%84(%EB%8B%A4%ED%81%AC%20%EC%8A%A4%ED%86%A0%EB%A6%AC%20%EC%8B%9C%EB%A6%AC%EC%A6%88)',\n",
       " 'https://namu.wiki/w/%EC%8B%A0%EA%B8%B0%EB%8F%99%EC%A0%84%EA%B8%B0%20%EA%B1%B4%EB%8B%B4%20W%20%EC%97%94%EB%93%A4%EB%A6%AC%EC%8A%A4%20%EB%93%80%EC%96%BC',\n",
       " 'https://namu.wiki/w/%EC%9B%8C%ED%82%B9%20%EB%8D%B0%EB%93%9C(%EB%93%9C%EB%9D%BC%EB%A7%88)/%EB%93%B1%EC%9E%A5%EC%9D%B8%EB%AC%BC',\n",
       " 'https://namu.wiki/w/AMD/GPU/RX%206000%20%EC%8B%9C%EB%A6%AC%EC%A6%88',\n",
       " 'https://namu.wiki/w/%ED%8B%80:%EA%B0%80%ED%86%A8%EB%A6%AD%EA%B4%80%EB%8F%99%EB%8C%80%ED%95%99%EA%B5%90%EC%9D%98%20%EB%8B%A8%EA%B3%BC%EB%8C%80%ED%95%99',\n",
       " 'https://namu.wiki/w/%ED%8B%80:%EC%98%A4%ED%98%B8%EC%8B%AD%EC%9C%A1%EA%B5%AD%20%EC%99%95%EC%A1%B0',\n",
       " 'https://namu.wiki/w/%EC%9A%B8%EC%82%B0%20%ED%98%84%EB%8C%80/2022%EB%85%84',\n",
       " 'https://namu.wiki/w/LIL%2027%20CLUB',\n",
       " 'https://namu.wiki/w/%EA%B0%95%EB%A0%AC%ED%95%9C%20%ED%9E%98%EC%9D%98%20%EA%B2%B0%EC%A0%95',\n",
       " 'https://namu.wiki/w/%ED%9E%88%EC%96%B4%EB%A1%9C%EC%A6%88%20%EC%98%A4%EB%B8%8C%20%EB%A7%88%EC%9D%B4%ED%8A%B8%20%EC%95%A4%20%EB%A7%A4%EC%A7%81%205/%EB%84%A4%ED%81%AC%EB%A1%9C%ED%8F%B4%EB%A6%AC%EC%8A%A4',\n",
       " 'https://namu.wiki/w/%EB%82%A8%EC%9D%BC%EC%A4%91%ED%95%99%EA%B5%90',\n",
       " 'https://namu.wiki/w/%EC%8A%A4%EB%8B%A4%20%EB%A7%88%EC%82%AC%ED%82%A4',\n",
       " 'https://namu.wiki/w/%EC%B2%B8%20%EB%8D%94%20%ED%99%80%EB%A3%BD%EB%8D%B0%EC%9D%B4',\n",
       " 'https://namu.wiki/w/%EC%8B%A0%EC%84%B8%EA%B3%84%EA%B7%B8%EB%A3%B9%20%EC%A0%95%EC%9A%A9%EC%A7%84%20SNS%20%EB%A9%B8%EA%B3%B5%20%EB%B0%9C%EC%96%B8%20%EA%B2%8C%EC%8B%9C%20%EB%85%BC%EB%9E%80',\n",
       " 'https://namu.wiki/w/%EB%A7%98%EB%A7%88%EB%AF%B8%EC%95%88(%EC%98%88%EB%8A%A5)',\n",
       " 'https://namu.wiki/w/%EB%83%A5%EC%BD%94%20%EB%8C%80%EC%A0%84%EC%9F%81/%EC%8B%A0%20%EB%A0%88%EC%A0%84%EB%93%9C%20%EC%8A%A4%ED%86%A0%EB%A6%AC',\n",
       " 'https://namu.wiki/w/%EC%BF%A0%EB%A1%9C%ED%82%A4%20%EA%B2%90%EC%82%AC%EC%9D%B4',\n",
       " 'https://namu.wiki/w/RC',\n",
       " 'https://namu.wiki/w/%EC%96%BC%EA%B5%B4%EA%B0%92%EC%9D%84%20%EB%AA%BB%20%ED%95%98%EB%8A%94%20%EC%82%AC%EB%9E%8C',\n",
       " 'https://namu.wiki/w/%ED%95%9C%EC%9E%90/%ED%8A%B9%EC%9D%B4%ED%95%9C%20%ED%95%9C%EC%9E%90',\n",
       " 'https://namu.wiki/w/%ED%8C%8C%EC%9D%BC:3f6fa570691c4bbb84e72979d86da17c_1641881184.jpg',\n",
       " 'https://namu.wiki/w/%EB%B4%89%EB%91%90%EC%99%84',\n",
       " 'https://namu.wiki/w/%EC%8A%A4%ED%82%AC%20%EC%BB%A4%EC%8A%A4%ED%84%B0%EB%A7%88%EC%9D%B4%EC%A7%95/%EC%96%B4%EC%8D%B0%ED%8A%B8',\n",
       " 'https://namu.wiki/w/%EB%9D%BC%EB%94%94%EC%98%A4%20%EC%8A%A4%ED%83%80(%ED%99%A9%EA%B8%88%EC%96%B4%EC%9E%A5)/2022%EB%85%84%20%EC%83%81%EB%B0%98%EA%B8%B0',\n",
       " 'https://namu.wiki/w/%EC%84%B8%ED%82%A4%EB%A1%9C:%20%EC%84%80%EB%8F%84%EC%9A%B0%20%EB%8B%A4%EC%9D%B4%20%ED%8A%B8%EC%99%80%EC%9D%B4%EC%8A%A4',\n",
       " 'https://namu.wiki/w/%EC%99%95%EB%94%B0',\n",
       " 'https://namu.wiki/w/%EC%8A%A4%EB%8B%A4%20%EB%A7%88%EC%82%AC%ED%82%A4',\n",
       " 'https://namu.wiki/w/9%EC%9B%94%209%EC%9D%BC',\n",
       " 'https://namu.wiki/w/%EC%84%9D%EC%A3%BC%EA%B0%88%EC%A3%BC',\n",
       " 'https://namu.wiki/w/%EC%A7%80%EC%A0%A4(aespa)',\n",
       " 'https://namu.wiki/w/%EB%A7%AC%EB%9F%AC%EC%B9%B4%EC%9D%B4%20%EB%B8%94%EB%9E%99',\n",
       " 'https://namu.wiki/w/%ED%95%98%EC%9D%B4%EB%A1%9C(%EA%B7%80%EB%A9%B8%EC%9D%98%20%EC%B9%BC%EB%82%A0)',\n",
       " 'https://namu.wiki/w/%EC%8A%A4%EB%8B%A4%20%EB%A7%88%EC%82%AC%ED%82%A4',\n",
       " 'https://namu.wiki/w/%EC%A1%B0%EB%B2%A1',\n",
       " 'https://namu.wiki/w/%ED%8C%8C%EC%9D%BC:8332a88363d54c0798123dc6e690d8ea_1641881174.jpg',\n",
       " 'https://namu.wiki/w/%EC%95%BC%EB%A7%88%EB%8B%A4%20%EB%AF%B8%ED%82%A4',\n",
       " 'https://namu.wiki/w/%EC%B9%BC%EA%B5%AD%EC%88%98',\n",
       " 'https://namu.wiki/w/%EC%B2%B4%EB%A5%B4%EB%85%B8%EB%B9%8C(%EB%93%9C%EB%9D%BC%EB%A7%88)',\n",
       " 'https://namu.wiki/w/%EC%8A%A4%EB%8B%A4%20%EB%A7%88%EC%82%AC%ED%82%A4',\n",
       " 'https://namu.wiki/w/SCP-173',\n",
       " 'https://namu.wiki/w/%EC%9D%B4%EB%8C%80%EC%9D%80',\n",
       " 'https://namu.wiki/w/%EB%8C%80%ED%95%99%EC%88%98%ED%95%99%EB%8A%A5%EB%A0%A5%EC%8B%9C%ED%97%98/%EC%88%98%ED%95%99%20%EC%98%81%EC%97%AD/%EC%97%AC%EB%8B%B4',\n",
       " 'https://namu.wiki/w/%EC%84%9D%EC%A3%BC%EA%B0%88%EC%A3%BC',\n",
       " 'https://namu.wiki/w/%ED%87%B4%EC%A7%81%EA%B8%88',\n",
       " 'https://namu.wiki/w/%EC%84%B8%ED%82%A4%EB%A1%9C:%20%EC%84%80%EB%8F%84%EC%9A%B0%20%EB%8B%A4%EC%9D%B4%20%ED%8A%B8%EC%99%80%EC%9D%B4%EC%8A%A4',\n",
       " 'https://namu.wiki/w/GOAT',\n",
       " 'https://namu.wiki/w/%ED%8C%8C%EC%9D%BC:1bd13c2a80bd47eb817f5f2dbbf9b167_1641881162.jpg',\n",
       " 'https://namu.wiki/w/%EB%B6%80%EC%89%AC%EC%9B%A8%EC%BB%A4%EC%8A%A4',\n",
       " 'https://namu.wiki/w/%EB%A9%94%ED%83%88%EC%8A%AC%EB%9F%AC%EA%B7%B8%20%EC%8B%9C%EB%A6%AC%EC%A6%88/%EC%A0%81',\n",
       " 'https://namu.wiki/w/%EC%98%88%EC%88%98%EC%B2%9C%EA%B5%AD%20%EB%B6%88%EC%8B%A0%EC%A7%80%EC%98%A5(%EC%86%8C%EC%84%A4)',\n",
       " 'https://namu.wiki/w/%ED%8C%8C%EC%9D%BC:%EB%9D%BC%EC%9D%B4%EC%98%A8_%EB%8B%A4%ED%81%AC%EB%A0%88%EC%9D%B4%EB%94%94.jpg',\n",
       " 'https://namu.wiki/w/%EC%98%A4%EC%97%B4',\n",
       " 'https://namu.wiki/w/%EB%A7%88%ED%82%A4%EC%8B%9C%EB%A7%88%20%EC%B9%B4%EB%A0%8C',\n",
       " 'https://namu.wiki/w/%EC%8A%A4%EB%8B%A4%20%EB%A7%88%EC%82%AC%ED%82%A4',\n",
       " 'https://namu.wiki/w/%EC%9D%B4%EB%8F%99%ED%98%84(2007)/LOUD:%20%EB%9D%BC%EC%9A%B0%EB%93%9C',\n",
       " 'https://namu.wiki/w/Warframe/%ED%80%98%EC%8A%A4%ED%8A%B8/%EB%A9%94%EC%9D%B8%20%ED%80%98%EC%8A%A4%ED%8A%B8/%EC%83%88%EB%A1%9C%EC%9A%B4%20%EC%A0%84%EC%9F%81',\n",
       " 'https://namu.wiki/w/%ED%9A%A8%EC%A0%95',\n",
       " 'https://namu.wiki/w/%EC%97%B0%EC%84%B8%EB%8C%80%ED%95%99%EA%B5%90/%EC%B4%9D%ED%95%99%EC%83%9D%ED%9A%8C',\n",
       " 'https://namu.wiki/w/%EC%8A%A4%ED%82%AC%20%EC%BB%A4%EC%8A%A4%ED%84%B0%EB%A7%88%EC%9D%B4%EC%A7%95/%EC%96%B4%EC%8D%B0%ED%8A%B8',\n",
       " 'https://namu.wiki/w/Never%20Gonna%20Give%20You%20Up',\n",
       " 'https://namu.wiki/w/SCP-173',\n",
       " 'https://namu.wiki/w/%EC%84%9D%EC%A3%BC%EA%B0%88%EC%A3%BC',\n",
       " 'https://namu.wiki/w/%EB%B2%84%EC%B8%84%EC%96%BC%20%EC%9C%A0%ED%8A%9C%EB%B2%84',\n",
       " 'https://namu.wiki/w/%EA%B9%80%EB%8F%99%EC%B2%A0',\n",
       " 'https://namu.wiki/w/%ED%8C%8C%EC%9D%BC:d9ebc43febe648d2be7fed605b15dc85_1641883255.jpg',\n",
       " 'https://namu.wiki/w/%EC%8A%A4%EB%8B%A4%20%EB%A7%88%EC%82%AC%ED%82%A4',\n",
       " 'https://namu.wiki/w/%EB%8D%B0%EB%A9%94%EC%98%A4:%20%EB%8D%98%EC%A0%84%20%ED%81%AC%EB%A1%A4%EB%9F%AC%20VR',\n",
       " 'https://namu.wiki/w/%ED%95%9C%EC%88%98%EC%98%81',\n",
       " 'https://namu.wiki/w/%EC%8A%A4%ED%82%AC%20%EC%BB%A4%EC%8A%A4%ED%84%B0%EB%A7%88%EC%9D%B4%EC%A7%95/%EC%96%B4%EC%8D%B0%ED%8A%B8',\n",
       " 'https://namu.wiki/w/%EA%B5%AD%EC%96%B4%EC%9D%98%20%EB%A1%9C%EB%A7%88%EC%9E%90%20%ED%91%9C%EA%B8%B0%EB%B2%95/%EB%AC%B8%EC%A0%9C%EC%A0%90%20%EB%B0%8F%20%EB%B9%84%ED%8C%90',\n",
       " 'https://namu.wiki/w/%ED%86%A0%ED%83%88%20%EC%9B%8C:%20%EB%A1%9C%EB%A7%882/%EC%97%85%EC%A0%81',\n",
       " 'https://namu.wiki/w/%EC%98%88%EC%88%98%EC%B2%9C%EA%B5%AD%20%EB%B6%88%EC%8B%A0%EC%A7%80%EC%98%A5(%EC%86%8C%EC%84%A4)',\n",
       " 'https://namu.wiki/w/%ED%8C%8C%EC%9D%B4%20%EC%9C%88%EC%B2%B4%EC%8A%A4%ED%84%B0']"
      ]
     },
     "execution_count": 6,
     "metadata": {},
     "output_type": "execute_result"
    }
   ],
   "source": [
    "page_urls"
   ]
  }
 ],
 "metadata": {
  "kernelspec": {
   "display_name": "Python 3 (ipykernel)",
   "language": "python",
   "name": "python3"
  },
  "language_info": {
   "codemirror_mode": {
    "name": "ipython",
    "version": 3
   },
   "file_extension": ".py",
   "mimetype": "text/x-python",
   "name": "python",
   "nbconvert_exporter": "python",
   "pygments_lexer": "ipython3",
   "version": "3.9.7"
  }
 },
 "nbformat": 4,
 "nbformat_minor": 5
}
