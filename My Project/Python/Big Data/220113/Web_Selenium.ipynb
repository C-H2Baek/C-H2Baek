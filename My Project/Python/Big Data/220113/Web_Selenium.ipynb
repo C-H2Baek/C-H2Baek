{
 "cells": [
  {
   "cell_type": "markdown",
   "id": "f6f2d44c",
   "metadata": {},
   "source": [
    "### 웹 크롤링 나무위키 사이트 분석 및 시각화\n",
    "<Step1 . 크롤링> : 크롤링으로 웹 데이터 가져오기\n",
    "\n",
    "[웹크롤링 라이버러시 사용하기]\n",
    "- beautifulsoup, requests 라이브러리로 웹 크롤러를 만듬\n",
    "- request는 특정 url로 부터 html 문서를 가져오는 작업 수행\n",
    "- 나무위키와 같은 페이지는 html문서가 javascript 동적 로딩되는 경우 가능\n",
    "- request대신 셀레니움(selenium) 라이브러리를 이용해 크롬 브라우저로 동적 웹크롤링 수행\n",
    "- selenium은 웹브라우저를 자동으로 구동해주는 라이브러리\n",
    "- selenium을 사용하기 위해 크롬 드라이버를 이용해 크롬 브라우저 자동으로 구동 -> 크롬드라이버 필요\n",
    "\n",
    "[beautifulsoup과 selenium을 이용한 웹 크롤링]\n",
    "- anaconda prompt 혹은 cmd에서 패키지 설치\n",
    "- pip install selenium\n",
    "- pip install beautifulsoup4\n",
    " \n",
    "[크롬 브라우저 업데이트 및 크롬 드라이버 설치]\n",
    "- 크롬 브라우저 설정에서 최신 버전으로 업데이트\n",
    "- 크롬 드라이버 사이트에서 브라우저에 맞는 드라이버 다운로드\n",
    "- chromedriver.exe 파일을 노트북 파일 경로에 이동"
   ]
  },
  {
   "cell_type": "code",
   "execution_count": 1,
   "id": "0afc3b1e",
   "metadata": {},
   "outputs": [],
   "source": [
    "%matplotlib inline\n",
    "import pandas as pd\n",
    "import numpy as np\n",
    "import matplotlib.pyplot as plt\n",
    "import warnings\n",
    "warnings.filterwarnings(\"ignore\")"
   ]
  },
  {
   "cell_type": "markdown",
   "id": "25552ac2",
   "metadata": {},
   "source": [
    "[ BeautifulSoup의 select() VS find_add()]\n",
    "- html의 특정요소 선택\n",
    "- select, select_one의 경우 CSS 선택자를 이용하는 것처럼 사용 가능\n",
    "- select의 경우 후손이나 자손 요소를 CSS 처럼 선택 가능\n",
    "- 예) soup.select(\"dl > dt > a\")\n",
    "- find_all, find 의 경우 하나의 태그(name=\"table\")나 하나의 클래스(class=\"tables\")를 선택\n",
    "- find의 경우 후손이나 자손 요소를 직접 선택할 수 없어 한번 더 변수에 담든지 루프 문을 이용하애 함\n",
    "- find_all(class=\"ah_roll\"), find(name=\"table\")"
   ]
  },
  {
   "cell_type": "code",
   "execution_count": 2,
   "id": "d594917c",
   "metadata": {},
   "outputs": [],
   "source": [
    "from selenium import webdriver\n",
    "from selenium.webdriver.common.by import By\n",
    "from selenium.webdriver.support.ui import WebDriverWait\n",
    "from selenium.webdriver.support import expected_conditions as EC\n",
    "\n",
    "from bs4 import BeautifulSoup\n",
    "import re # 정규식 표현을 위한 모듈\n",
    "\n",
    "# 윈도우용 크롬 웹드라이버 실행 경로 (Windows) 지정\n",
    "excutable_path = \"chromedriver.exe\"\n",
    "driver = webdriver.Chrome(executable_path = excutable_path)\n",
    "\n",
    "# 사이트의 html 구조에 기반하여 크롤링을 수행\n",
    "source_url= \"https://namu.wiki/RecentChanges\" # 크롱링할 사이트 주소 정의\n",
    "driver.get(source_url)\n",
    "element = WebDriverWait(driver, 10).until(EC.presence_of_element_located((By.CLASS_NAME,\"app\")))\n",
    "\n",
    "# case 2\n",
    "#import time\n",
    "#time.sleep(10)\n",
    "\n",
    "req = driver.page_source\n",
    "soup = BeautifulSoup(req, \"html.parser\") # BeautifulSoup의 soup 객체로 변환\n",
    "\n",
    "# find 사용\n",
    "#contents_table = soup.find(name = \"table\")\n",
    "#table_body = contents_table.find(name=\"tbody\")\n",
    "#table_rows = table_body.find_all(name=\"tr\")\n",
    "table_rows = soup.select(\"table tbody tr\")"
   ]
  },
  {
   "cell_type": "code",
   "execution_count": 3,
   "id": "91ae9a2d",
   "metadata": {},
   "outputs": [
    {
     "data": {
      "text/plain": [
       "108"
      ]
     },
     "execution_count": 3,
     "metadata": {},
     "output_type": "execute_result"
    }
   ],
   "source": [
    "len(table_rows)"
   ]
  },
  {
   "cell_type": "markdown",
   "id": "965fdc3a",
   "metadata": {},
   "source": [
    "[페이지 링크주소 리스트 가져오기]"
   ]
  },
  {
   "cell_type": "code",
   "execution_count": 4,
   "id": "a023102c",
   "metadata": {},
   "outputs": [],
   "source": [
    "page_url_base = \"https://namu.wiki\" # 베이스 URL \n",
    "page_urls = [] # herf 속성값을 담기 위한 빈 리스트 생성\n",
    "\n",
    "\n",
    "for index in range(0, len(table_rows)):\n",
    "    first_td = table_rows[index].find_all(\"td\")[0]\n",
    "    td_url = first_td.find_all(\"a\")\n",
    "    if len(td_url) > 0:\n",
    "        page_url = page_url_base + td_url[0].get(\"href\")\n",
    "        if \"png\" not in page_url:\n",
    "            page_urls.append(page_url)"
   ]
  },
  {
   "cell_type": "code",
   "execution_count": 5,
   "id": "9f7513c1",
   "metadata": {},
   "outputs": [
    {
     "data": {
      "text/plain": [
       "99"
      ]
     },
     "execution_count": 5,
     "metadata": {},
     "output_type": "execute_result"
    }
   ],
   "source": [
    "len(page_urls)"
   ]
  },
  {
   "cell_type": "code",
   "execution_count": 6,
   "id": "d091202d",
   "metadata": {},
   "outputs": [
    {
     "data": {
      "text/plain": [
       "['https://namu.wiki/w/9%EC%9B%94%2025%EC%9D%BC',\n",
       " 'https://namu.wiki/w/%EA%B8%89%EC%8B%9D%EC%99%95%20%26%20%EA%B8%89%EC%8B%9D%EA%B1%B8%EC%A6%88/%EB%93%B1%EC%9E%A5%EC%9D%B8%EB%AC%BC/%EA%B8%89%EC%8B%9D%EC%99%95%20%ED%95%99%EA%B5%90',\n",
       " 'https://namu.wiki/w/%ED%8B%80:%EB%AF%B8%EA%B5%AD%EC%9D%98%20%EA%B3%A0%EB%93%B1%20%EA%B5%B0%EC%82%AC%EB%8C%80%ED%95%99',\n",
       " 'https://namu.wiki/w/NT%EB%85%B8%EB%B2%A8',\n",
       " 'https://namu.wiki/w/%EB%B2%84%EC%B8%84%EC%96%BC%20%EC%9C%A0%ED%8A%9C%EB%B2%84/%EB%AA%A9%EB%A1%9D/%ED%95%9C%EA%B5%AD',\n",
       " 'https://namu.wiki/w/%EC%9D%B4%EB%B0%A9%EC%9B%90(%ED%83%9C%EC%A2%85%20%EC%9D%B4%EB%B0%A9%EC%9B%90)',\n",
       " 'https://namu.wiki/w/%EC%8B%B8%EC%9D%B4(%ED%95%9C%EB%B0%98%EB%8F%84%EC%9D%98%20%EA%B3%B5%EB%A3%A1%20%EC%8B%9C%EB%A6%AC%EC%A6%88)',\n",
       " 'https://namu.wiki/w/%EB%AA%A8%EC%95%BC(%EC%9D%B8%ED%84%B0%EB%84%B7%20%EB%B0%A9%EC%86%A1%EC%9D%B8)',\n",
       " 'https://namu.wiki/w/%EB%AC%BC%EC%A0%81%EB%B6%84%ED%95%A0',\n",
       " 'https://namu.wiki/w/%ED%95%98%EC%BD%94%EC%A6%88%EB%A9%94%20~%ED%8C%8C%EC%B6%9C%EC%86%8C%20%EC%97%AC%EC%9E%90%EB%93%A4%EC%9D%98%20%EC%97%AD%EC%8A%B5~/%EC%95%A0%EB%8B%88%EB%A9%94%EC%9D%B4%EC%85%98',\n",
       " 'https://namu.wiki/w/%EA%B9%A1%EC%B9%98%202',\n",
       " 'https://namu.wiki/w/%EC%95%84%EC%8B%9C%EC%95%84%EC%9D%98%20%EC%9B%94%EB%93%9C%EC%BB%B5%20%EB%8F%84%EC%A0%84%EC%82%AC',\n",
       " 'https://namu.wiki/w/%ED%8C%8C%EC%9D%BC:%EB%AA%A8%EC%95%BC(%EC%9D%B8%ED%84%B0%EB%84%B7%20%EB%B0%A9%EC%86%A1%EC%9D%B8)%20%ED%94%84%EB%A1%9C%ED%95%84%20%EC%82%AC%EC%A7%84.jpg',\n",
       " 'https://namu.wiki/w/%EC%B2%9C%EC%95%94%EB%B9%84%EC%84%9C',\n",
       " 'https://namu.wiki/w/%EC%9D%B4%EA%B5%AD%EC%A3%BC',\n",
       " 'https://namu.wiki/w/%EB%A1%9C%EC%97%B4%20%EB%A1%9C%EB%93%9C/%EC%95%84%EC%9D%B4%ED%85%9C',\n",
       " 'https://namu.wiki/w/%EC%84%9C%ED%8D%BC',\n",
       " 'https://namu.wiki/w/%EC%95%84%EC%8B%9C%EC%95%84%EC%9D%98%20%EC%9B%94%EB%93%9C%EC%BB%B5%20%EB%8F%84%EC%A0%84%EC%82%AC',\n",
       " 'https://namu.wiki/w/%EC%A0%84%ED%88%AC%ED%83%9C%EA%B6%8C%EB%8F%84',\n",
       " 'https://namu.wiki/w/%ED%95%98%EC%BD%94%EC%A6%88%EB%A9%94%20~%ED%8C%8C%EC%B6%9C%EC%86%8C%20%EC%97%AC%EC%9E%90%EB%93%A4%EC%9D%98%20%EC%97%AD%EC%8A%B5~/%EC%95%A0%EB%8B%88%EB%A9%94%EC%9D%B4%EC%85%98',\n",
       " 'https://namu.wiki/w/%EC%88%98%EB%82%98%EB%9D%BC',\n",
       " 'https://namu.wiki/w/Mac/Apple%20Silicon%20%EC%9D%B4%EC%A3%BC',\n",
       " 'https://namu.wiki/w/%EC%9D%B4%EC%83%81%ED%98%B8(%EC%8A%A4%EB%85%B8%EB%B3%B4%EB%93%9C)',\n",
       " 'https://namu.wiki/w/%EC%8B%9C%EB%A6%B4%20%EA%B0%80%EB%84%A4',\n",
       " 'https://namu.wiki/w/%ED%8C%8C%EB%B9%84%EC%95%88%20%EB%A3%A8%EC%9D%B4%EC%8A%A4',\n",
       " 'https://namu.wiki/w/%EB%B6%80%EC%82%B0%20%EB%B2%84%EC%8A%A4%20%EB%B6%81%EA%B5%AC2',\n",
       " \"https://namu.wiki/w/Friday%20Night%20Funkin'/%EB%AA%A8%EB%93%9C/2021%EB%85%84/1%EB%B6%84%EA%B8%B0\",\n",
       " 'https://namu.wiki/w/%EA%B7%B8%EB%A0%88%EC%9D%B4%EC%8A%A4%20%EB%A1%A4%EB%A0%89',\n",
       " 'https://namu.wiki/w/%EC%9D%80%ED%98%BC/%EC%A0%9C%EB%AA%A9',\n",
       " 'https://namu.wiki/w/%EA%B3%A0%EC%8A%A4%ED%8A%B8%20%EB%8B%A5%ED%84%B0/%EB%93%B1%EC%9E%A5%EC%9D%B8%EB%AC%BC',\n",
       " 'https://namu.wiki/w/MBC/%EB%85%BC%EB%9E%80%20%EB%B0%8F%20%EC%82%AC%EA%B1%B4%EC%82%AC%EA%B3%A0',\n",
       " 'https://namu.wiki/w/%EC%95%84%EC%88%98%EB%9D%BC%EB%8F%84',\n",
       " 'https://namu.wiki/w/%EB%B4%84%20%EB%8F%84%EB%91%91',\n",
       " 'https://namu.wiki/w/%EC%9D%B4%EC%84%B8%EA%B3%84%EB%8A%94%20%EC%8A%A4%EB%A7%88%ED%8A%B8%ED%8F%B0%EA%B3%BC%20%ED%95%A8%EA%BB%98.',\n",
       " 'https://namu.wiki/w/%EC%88%98%EB%82%98%EB%9D%BC',\n",
       " 'https://namu.wiki/w/%EC%9C%A0%EA%B0%80%EB%A0%B9',\n",
       " 'https://namu.wiki/w/%ED%8A%B8%EB%A0%8C%ED%8A%B8%20%EC%95%8C%EB%A0%89%EC%82%B0%EB%8D%94%EC%95%84%EB%86%80%EB%93%9C',\n",
       " 'https://namu.wiki/w/%EB%A1%9C%EC%97%B4%20%EB%A1%9C%EB%93%9C/%EC%95%84%EC%9D%B4%ED%85%9C',\n",
       " 'https://namu.wiki/w/%EB%AA%A8%EC%95%BC(%EC%9D%B8%ED%84%B0%EB%84%B7%20%EB%B0%A9%EC%86%A1%EC%9D%B8)',\n",
       " 'https://namu.wiki/w/%EA%B7%B8%EB%9E%80%EC%A0%A0%EC%B9%B4%20:%20%EB%B0%A9%EC%B9%98%20%EB%A1%9C%EB%B4%87%20%ED%82%A4%EC%9A%B0%EA%B8%B0/%EC%9E%A5%EB%B9%84',\n",
       " 'https://namu.wiki/w/%EA%B3%A1%EC%82%AC%EC%A0%95',\n",
       " 'https://namu.wiki/w/%EC%8A%A4%ED%83%80%EC%9B%8C%EC%A6%88:%20%EB%B9%84%EC%A0%84%EC%8A%A4',\n",
       " 'https://namu.wiki/w/%EB%82%98%EC%9D%98%20%ED%9E%88%EC%96%B4%EB%A1%9C%20%EC%95%84%EC%B9%B4%EB%8D%B0%EB%AF%B8%EC%95%84%20%EB%8D%94%20%EB%AC%B4%EB%B9%84:%20%EC%9B%94%EB%93%9C%20%ED%9E%88%EC%96%B4%EB%A1%9C%EC%A6%88%20%EB%AF%B8%EC%85%98',\n",
       " 'https://namu.wiki/w/%EC%9D%B4%EA%B3%B5%EA%B0%84',\n",
       " 'https://namu.wiki/w/%ED%95%98%EC%BD%94%EC%A6%88%EB%A9%94%20~%ED%8C%8C%EC%B6%9C%EC%86%8C%20%EC%97%AC%EC%9E%90%EB%93%A4%EC%9D%98%20%EC%97%AD%EC%8A%B5~/%EC%95%A0%EB%8B%88%EB%A9%94%EC%9D%B4%EC%85%98',\n",
       " 'https://namu.wiki/w/%EC%8B%AC%EC%A7%84%EC%84%A0',\n",
       " 'https://namu.wiki/w/Ring%20of%20Pain',\n",
       " 'https://namu.wiki/w/%ED%8B%80:%EB%AF%B8%EA%B5%AD%EC%9D%98%20%EC%97%B0%EB%B0%A9%20%EC%82%AC%EA%B4%80%ED%95%99%EA%B5%90',\n",
       " 'https://namu.wiki/w/%EA%B7%B8%20%ED%95%B4%20%EC%9A%B0%EB%A6%AC%EB%8A%94/%EB%B0%A9%EC%98%81%20%EB%AA%A9%EB%A1%9D',\n",
       " 'https://namu.wiki/w/League%20of%20Legends%20European%20Championship',\n",
       " 'https://namu.wiki/w/8%EC%9B%94%205%EC%9D%BC',\n",
       " 'https://namu.wiki/w/%EC%BB%B5%20%EC%98%A4%EB%B8%8C%20%ED%8B%B0%20%ED%94%84%EB%A1%9C%EB%8D%95%EC%85%98',\n",
       " 'https://namu.wiki/w/%EC%9E%84%EB%8B%A4%ED%98%9C',\n",
       " 'https://namu.wiki/w/%EC%98%A4%EC%8A%A4%EC%B9%B4%EB%A5%B4%20%EB%A1%9C%EB%93%9C%EB%A6%AC%EA%B2%8C%EC%8A%A4',\n",
       " 'https://namu.wiki/w/%ED%86%A0%EB%8B%88%ED%86%A0%EB%8B%88%20%EC%B5%B8%ED%8C%8C/%EA%B8%B0%EC%88%A0',\n",
       " 'https://namu.wiki/w/%EC%95%BD%EC%88%98(%EC%88%98%ED%95%99)',\n",
       " 'https://namu.wiki/w/%ED%82%A4%EB%88%84%EA%B0%80%EC%99%80%EC%98%A8%EC%B2%9C%20%EB%A1%9C%ED%94%84%EC%9B%A8%EC%9D%B4',\n",
       " 'https://namu.wiki/w/%EC%99%84%EB%8B%A4%EB%B9%84%EC%A0%84/%EC%A4%84%EA%B1%B0%EB%A6%AC',\n",
       " 'https://namu.wiki/w/%EC%A3%BC%ED%8C%90',\n",
       " 'https://namu.wiki/w/%EC%9A%B8%ED%94%84(%EC%8A%A4%EB%A7%A4%EC%8B%9C%EB%B8%8C%EB%9D%BC%EB%8D%94%EC%8A%A4%20%EC%8B%9C%EB%A6%AC%EC%A6%88)',\n",
       " 'https://namu.wiki/w/%EC%98%A4%EB%AA%A8%EC%8A%A4',\n",
       " 'https://namu.wiki/w/%EC%BA%98%EB%A6%AC%ED%8F%AC%EB%8B%88%EC%95%84%20%EA%B3%A0%EC%86%8D%EC%B2%A0%EB%8F%84',\n",
       " 'https://namu.wiki/w/%EA%B7%B8%EB%9E%80%EB%8F%88%20%EB%B6%80%EB%8C%80',\n",
       " 'https://namu.wiki/w/%EC%98%A4%EC%A7%95%EC%96%B4%20%EA%B2%8C%EC%9E%84/%EB%93%B1%EC%9E%A5%EC%9D%B8%EB%AC%BC/%EA%B8%B0%ED%83%80%20%EC%B0%B8%EA%B0%80%EC%9E%90/300%EB%B2%88%EB%8C%80',\n",
       " 'https://namu.wiki/w/%EB%85%B8%ED%8B%B8%EB%9F%AC%EC%8A%A4(%EC%9A%94%EB%A3%A8%EC%8B%9C%EC%B9%B4)',\n",
       " 'https://namu.wiki/w/%EB%AF%BC%EC%A7%84%EA%B8%B0',\n",
       " 'https://namu.wiki/w/%EC%82%BC%EC%84%B1%20%EC%97%91%EC%8B%9C%EB%85%B8%EC%8A%A4/10%20%EC%8B%9C%EB%A6%AC%EC%A6%88',\n",
       " 'https://namu.wiki/w/%ED%8B%80:%EB%AF%B8%EA%B5%AD%EC%9D%98%20%EA%B3%A0%EB%93%B1%20%EA%B5%B0%EC%82%AC%EB%8C%80%ED%95%99',\n",
       " 'https://namu.wiki/w/%EC%84%9C%EC%9C%A0%EB%A6%AC(%ED%81%B4%EB%A1%9C%EC%A0%80%EC%8A%A4)/%EC%8A%A4%ED%82%AC',\n",
       " 'https://namu.wiki/w/%EA%B3%A1%EC%82%AC%EC%A0%95',\n",
       " 'https://namu.wiki/w/LESSERAFIM',\n",
       " 'https://namu.wiki/w/%ED%8C%8C%EC%9D%BC:surv15_epi09_3.jpg',\n",
       " 'https://namu.wiki/w/%EB%A1%9C%EC%97%B4%20%EB%A1%9C%EB%93%9C/%EC%95%84%EC%9D%B4%ED%85%9C',\n",
       " 'https://namu.wiki/w/%EB%B2%84%EC%B8%84%EC%96%BC%20%EC%9C%A0%ED%8A%9C%EB%B2%84/%EB%AA%A9%EB%A1%9D/%ED%95%9C%EA%B5%AD',\n",
       " 'https://namu.wiki/w/%ED%8C%8C%EC%9D%BC:surv15_epi09_2.jpg',\n",
       " 'https://namu.wiki/w/%EC%9C%A0%ED%9D%AC%EC%99%95%20VRAINS/2%EA%B8%B0',\n",
       " 'https://namu.wiki/w/We%20are%20all%20crazy%20boy',\n",
       " 'https://namu.wiki/w/%ED%8C%8C%EC%9A%B4%EB%8D%B0%EC%9D%B4%EC%85%98(%EB%93%9C%EB%9D%BC%EB%A7%88)',\n",
       " 'https://namu.wiki/w/CM%20%ED%8E%91%ED%81%AC',\n",
       " 'https://namu.wiki/w/Ready%20or%20Not(%EA%B2%8C%EC%9E%84)/%EB%AC%B4%EA%B8%B0%20%EB%B0%8F%20%EC%9E%A5%EB%B9%84',\n",
       " 'https://namu.wiki/w/%EC%A0%9C%EC%8B%9D%EB%AC%B4%EC%88%A0',\n",
       " 'https://namu.wiki/w/%EC%9D%B4%EC%9E%AC%EB%AA%85/%EB%B3%84%EB%AA%85',\n",
       " 'https://namu.wiki/w/%EA%B7%B8%20%ED%95%B4%20%EC%9A%B0%EB%A6%AC%EB%8A%94/%EB%B0%A9%EC%98%81%20%EB%AA%A9%EB%A1%9D',\n",
       " 'https://namu.wiki/w/%EB%A5%98%ED%95%9C%EB%B9%84',\n",
       " 'https://namu.wiki/w/10%EC%9B%94%2022%EC%9D%BC',\n",
       " 'https://namu.wiki/w/%ED%8C%8C%EC%9D%BC:surv15_epi09_1.jpg',\n",
       " \"https://namu.wiki/w/Friday%20Night%20Funkin'/%EB%AA%A8%EB%93%9C/The%20Full-Ass%20Tricky%20Mod\",\n",
       " 'https://namu.wiki/w/%EA%B9%80%EC%96%91%EC%9E%AC',\n",
       " 'https://namu.wiki/w/%EC%82%BC%EC%84%B1%20%EC%97%91%EC%8B%9C%EB%85%B8%EC%8A%A4/10%20%EC%8B%9C%EB%A6%AC%EC%A6%88',\n",
       " 'https://namu.wiki/w/%ED%95%A0%EB%A6%AC%EC%9A%B0%EB%93%9C%20%EB%B2%84%EB%B1%85%ED%81%AC%20%EA%B3%B5%ED%95%AD',\n",
       " 'https://namu.wiki/w/%EC%9D%B4%EA%B5%AD%EC%A3%BC',\n",
       " 'https://namu.wiki/w/%ED%8C%8C%EC%9D%BC:surv15_epi08_3.jpg',\n",
       " 'https://namu.wiki/w/%EA%B7%B8%EB%9E%80%EB%8F%88%20%EB%B6%80%EB%8C%80',\n",
       " 'https://namu.wiki/w/%EB%B4%84%20%EB%8F%84%EB%91%91',\n",
       " 'https://namu.wiki/w/%ED%8C%8C%EC%9D%BC:surv15_epi08_2.jpg',\n",
       " 'https://namu.wiki/w/%EC%B9%B4%ED%85%8C%EA%B3%A0%EB%A6%AC%EC%95%84%20%EC%88%98%ED%8E%98%EB%A6%AC%EC%98%A4%EB%A0%88',\n",
       " 'https://namu.wiki/w/%EB%82%98%EB%AC%B4%EC%9C%84%ED%82%A4:%EB%AC%B8%EC%84%9C%20%EC%9E%91%EC%84%B1%20%EC%9A%94%EC%B2%AD',\n",
       " 'https://namu.wiki/w/%EC%A2%85%EB%A6%AC%EC%9A%B0',\n",
       " 'https://namu.wiki/w/%EB%B8%8C%EB%A1%A4%EC%8A%A4%ED%83%80%EC%A6%88/%EA%B2%8C%EC%9E%84%20%EB%AA%A8%EB%93%9C/%EB%93%80%EC%96%BC']"
      ]
     },
     "execution_count": 6,
     "metadata": {},
     "output_type": "execute_result"
    }
   ],
   "source": [
    "page_urls"
   ]
  },
  {
   "cell_type": "code",
   "execution_count": null,
   "id": "573421a0",
   "metadata": {},
   "outputs": [],
   "source": []
  }
 ],
 "metadata": {
  "kernelspec": {
   "display_name": "Python 3 (ipykernel)",
   "language": "python",
   "name": "python3"
  },
  "language_info": {
   "codemirror_mode": {
    "name": "ipython",
    "version": 3
   },
   "file_extension": ".py",
   "mimetype": "text/x-python",
   "name": "python",
   "nbconvert_exporter": "python",
   "pygments_lexer": "ipython3",
   "version": "3.9.7"
  }
 },
 "nbformat": 4,
 "nbformat_minor": 5
}
