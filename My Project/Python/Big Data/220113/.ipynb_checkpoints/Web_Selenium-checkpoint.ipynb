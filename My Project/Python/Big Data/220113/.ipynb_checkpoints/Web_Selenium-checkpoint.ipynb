{
 "cells": [
  {
   "cell_type": "markdown",
   "id": "f6f2d44c",
   "metadata": {},
   "source": [
    "### 웹 크롤링 나무위키 사이트 분석 및 시각화\n",
    "<Step1 . 크롤링> : 크롤링으로 웹 데이터 가져오기\n",
    "\n",
    "[웹크롤링 라이버러시 사용하기]\n",
    "- beautifulsoup, requests 라이브러리로 웹 크롤러를 만듬\n",
    "- request는 특정 url로 부터 html 문서를 가져오는 작업 수행\n",
    "- 나무위키와 같은 페이지는 html문서가 javascript 동적 로딩되는 경우 가능\n",
    "- request대신 셀레니움(selenium) 라이브러리를 이용해 크롬 브라우저로 동적 웹크롤링 수행\n",
    "- selenium은 웹브라우저를 자동으로 구동해주는 라이브러리\n",
    "- selenium을 사용하기 위해 크롬 드라이버를 이용해 크롬 브라우저 자동으로 구동 -> 크롬드라이버 필요\n",
    "\n",
    "[beautifulsoup과 selenium을 이용한 웹 크롤링]\n",
    "- anaconda prompt 혹은 cmd에서 패키지 설치\n",
    "- pip install selenium\n",
    "- pip install beautifulsoup4\n",
    " \n",
    "[크롬 브라우저 업데이트 및 크롬 드라이버 설치]\n",
    "- 크롬 브라우저 설정에서 최신 버전으로 업데이트\n",
    "- 크롬 드라이버 사이트에서 브라우저에 맞는 드라이버 다운로드\n",
    "- chromedriver.exe 파일을 노트북 파일 경로에 이동"
   ]
  },
  {
   "cell_type": "code",
   "execution_count": 39,
   "id": "0afc3b1e",
   "metadata": {},
   "outputs": [],
   "source": [
    "%matplotlib inline\n",
    "import pandas as pd\n",
    "import numpy as np\n",
    "import matplotlib.pyplot as plt\n",
    "import warnings\n",
    "warnings.filterwarnings(\"ignore\")"
   ]
  },
  {
   "cell_type": "markdown",
   "id": "25552ac2",
   "metadata": {},
   "source": [
    "[ BeautifulSoup의 select() VS find_add()]\n",
    "- html의 특정요소 선택\n",
    "- select, select_one의 경우 CSS 선택자를 이용하는 것처럼 사용 가능\n",
    "- select의 경우 후손이나 자손 요소를 CSS 처럼 선택 가능\n",
    "- 예) soup.select(\"dl > dt > a\")\n",
    "- find_all, find 의 경우 하나의 태그(name=\"table\")나 하나의 클래스(class=\"tables\")를 선택\n",
    "- find의 경우 후손이나 자손 요소를 직접 선택할 수 없어 한번 더 변수에 담든지 루프 문을 이용하애 함\n",
    "- find_all(class=\"ah_roll\"), find(name=\"table\")"
   ]
  },
  {
   "cell_type": "code",
   "execution_count": null,
   "id": "d594917c",
   "metadata": {},
   "outputs": [],
   "source": [
    "from selenium import webdriver\n",
    "from selenium.webdriver.common.by import By\n",
    "from selenium.webdriver.support.ui import WebDriverWait\n",
    "from selenium.webdriver.support import expected_conditions as EC\n",
    "\n",
    "from bs4 import BeautifulSoup\n",
    "import re # 정규식 표현을 위한 모듈\n",
    "\n",
    "# 윈도우용 크롬 웹드라이버 실행 경로 (Windows) 지정\n",
    "excutable_path = \"chromedriver.exe\"\n",
    "driver = webdriver.Chrome(executable_path = excutable_path)\n",
    "\n",
    "# 사이트의 html 구조에 기반하여 크롤링을 수행\n",
    "source_url= \"https://namu.wiki/RecentChanges\" # 크롱링할 사이트 주소 정의\n",
    "driver.get(source_url)\n",
    "element = WebDriverWait(driver, 10).until(EC.presence_of_element_located((By.CLASS_NAME,\"app\")))\n",
    "\n",
    "# case 2\n",
    "#import time\n",
    "#time.sleep(10)\n",
    "\n",
    "req = driver.page_source\n",
    "soup = BeautifulSoup(req, \"html.parser\") # BeautifulSoup의 soup 객체로 변환\n",
    "\n",
    "# find 사용\n",
    "#contents_table = soup.find(name = \"table\")\n",
    "#table_body = contents_table.find(name=\"tbody\")\n",
    "#table_rows = table_body.find_all(name=\"tr\")\n",
    "table_rows = soup.select(\"table tbody tr\")"
   ]
  },
  {
   "cell_type": "code",
   "execution_count": 86,
   "id": "91ae9a2d",
   "metadata": {},
   "outputs": [
    {
     "data": {
      "text/plain": [
       "109"
      ]
     },
     "execution_count": 86,
     "metadata": {},
     "output_type": "execute_result"
    }
   ],
   "source": [
    "len(table_rows)"
   ]
  },
  {
   "cell_type": "markdown",
   "id": "965fdc3a",
   "metadata": {},
   "source": [
    "[페이지 링크주소 리스트 가져오기]"
   ]
  },
  {
   "cell_type": "code",
   "execution_count": 83,
   "id": "a023102c",
   "metadata": {},
   "outputs": [],
   "source": [
    "page_url_base = \"https://namu.wiki\" # 베이스 URL \n",
    "page_urls = [] # herf 속성값을 담기 위한 빈 리스트 생성\n",
    "\n",
    "\n",
    "for index in range(0, len(table_rows)):\n",
    "    first_td = table_rows[index].find_all(\"td\")[0]\n",
    "    td_url = first_td.find_all(\"a\")\n",
    "    if len(td_url) > 0:\n",
    "        page_url = page_url_base + td_url[0].get(\"href\")\n",
    "        if \"png\" not in page_url:\n",
    "            page_urls.append(page_url)"
   ]
  },
  {
   "cell_type": "code",
   "execution_count": 78,
   "id": "9f7513c1",
   "metadata": {},
   "outputs": [
    {
     "data": {
      "text/plain": [
       "98"
      ]
     },
     "execution_count": 78,
     "metadata": {},
     "output_type": "execute_result"
    }
   ],
   "source": [
    "len(page_urls)"
   ]
  },
  {
   "cell_type": "code",
   "execution_count": 79,
   "id": "d091202d",
   "metadata": {},
   "outputs": [
    {
     "data": {
      "text/plain": [
       "['https://namu.wiki/w/%EB%B6%81%ED%95%9C/%EB%8C%80%EB%82%A8%20%EB%8F%84%EB%B0%9C',\n",
       " 'https://namu.wiki/w/%EC%84%AC/%EB%AA%A9%EB%A1%9D/%EC%84%B8%EA%B3%84',\n",
       " 'https://namu.wiki/w/%E9%99%BD%E3%81%A0%E3%81%BE%E3%82%8A%E3%83%AD%E3%83%BC%E3%83%89%E3%83%8A%E3%82%A4%E3%83%88',\n",
       " 'https://namu.wiki/w/%ED%99%94%EC%97%84%EC%82%AC%EC%A7%84%EC%9E%85%EB%8F%84%EB%A1%9C',\n",
       " 'https://namu.wiki/w/%EC%A2%8B%EC%A2%8B%EC%86%8C',\n",
       " 'https://namu.wiki/w/%EC%98%A4%EC%98%A4%ED%86%A0%EB%A6%AC%20%EC%97%90%EB%AC%B4',\n",
       " 'https://namu.wiki/w/Marques%20Brownlee',\n",
       " 'https://namu.wiki/w/%EC%9A%94%EC%A0%88/%EB%AA%A9%EB%A1%9D',\n",
       " 'https://namu.wiki/w/%EC%84%A0%EC%9A%B0(ENHYPEN)',\n",
       " 'https://namu.wiki/w/The%20Waters%20of%20Mars',\n",
       " 'https://namu.wiki/w/%EB%8D%B0%EB%A9%94%EC%98%A4:%20%EB%8D%98%EC%A0%84%20%ED%81%AC%EB%A1%A4%EB%9F%AC%20VR',\n",
       " 'https://namu.wiki/w/%EC%93%B0%EA%B0%80%EB%A3%A8%20%ED%95%B4%ED%98%91',\n",
       " 'https://namu.wiki/w/%EC%8A%A4%ED%83%80%ED%8C%85%20%ED%8F%AC%EC%BC%93%EB%AA%AC/%ED%98%B8%EC%97%B0%EC%A7%80%EB%B0%A9',\n",
       " 'https://namu.wiki/w/%EB%8D%B4%EB%AC%B4%20%EB%8D%B4%EB%85%B8',\n",
       " 'https://namu.wiki/w/%ED%98%84%EC%8A%B9%EC%9B%90',\n",
       " 'https://namu.wiki/w/%EC%8B%AC%EC%83%81%EC%A0%95',\n",
       " 'https://namu.wiki/w/%EB%8D%94%EB%B3%B4%EC%9D%B4%EC%A6%88',\n",
       " 'https://namu.wiki/w/%EC%9C%84%EC%97%90%ED%99%94%EC%97%94%ED%84%B0%ED%85%8C%EC%9D%B8%EB%A8%BC%ED%8A%B8',\n",
       " 'https://namu.wiki/w/%EB%B1%85%EB%93%9C%EB%A6%BC!%20%EA%B1%B8%EC%A6%88%20%EB%B0%B4%EB%93%9C%20%ED%8C%8C%ED%8B%B0!/%EB%82%9C%EC%9D%B4%EB%8F%84%20%ED%91%9C%EA%B8%B0%20%EB%AC%B8%EC%A0%9C',\n",
       " 'https://namu.wiki/w/%ED%8C%8C%EC%9D%BC:manga-nl964694.jpg',\n",
       " 'https://namu.wiki/w/%EB%A7%88%EC%8A%A4%ED%84%B0%20%EC%9D%B4',\n",
       " 'https://namu.wiki/w/%EA%B0%95%EB%8F%84%EC%A3%84',\n",
       " 'https://namu.wiki/w/%EC%83%A4%EC%98%A4%EC%9E%94',\n",
       " 'https://namu.wiki/w/%ED%8C%8C%EC%9D%BC:%EC%84%A0%EC%9A%B0-%EB%B9%84%EC%A3%BC%EC%96%BC.gif',\n",
       " 'https://namu.wiki/w/%EB%A7%8C%EB%AC%BC%EC%9D%98%20%EC%98%81%EC%9E%A5/%EB%93%B1%EC%9E%A5%EC%9D%B8%EB%AC%BC',\n",
       " 'https://namu.wiki/w/%ED%98%84%EC%8A%B9%EC%9B%90',\n",
       " 'https://namu.wiki/w/Maru%20Gaming/%EB%B0%B0%ED%8B%80%EA%B7%B8%EB%9D%BC%EC%9A%B4%EB%93%9C',\n",
       " 'https://namu.wiki/w/%EA%B1%8D%20%ED%95%98%EB%8A%94%20%EA%B1%B0%EC%95%BC',\n",
       " 'https://namu.wiki/w/%ED%95%98%EB%8B%A4',\n",
       " 'https://namu.wiki/w/%EC%B9%B8%EB%AA%AC%20%ED%95%B4%ED%98%91',\n",
       " 'https://namu.wiki/w/%EC%97%AD%EC%B2%B4%EC%9B%90',\n",
       " 'https://namu.wiki/w/%E9%99%BD%E3%81%A0%E3%81%BE%E3%82%8A%E3%83%AD%E3%83%BC%E3%83%89%E3%83%8A%E3%82%A4%E3%83%88',\n",
       " 'https://namu.wiki/w/%EC%9C%A0%EC%A6%88%ED%82%A4%20%EC%B4%88%EC%BD%94',\n",
       " 'https://namu.wiki/w/%EC%96%B8%ED%84%B4%EB%93%9C/%EC%95%84%EC%9D%B4%ED%85%9C/%EB%AC%B4%EA%B8%B0%EB%A5%98',\n",
       " 'https://namu.wiki/w/%EC%82%BC%EB%8C%80%EA%B8%B0%EC%9C%A8%20%ED%8C%94%ED%95%AD%EC%A3%BC%EC%9D%98',\n",
       " 'https://namu.wiki/w/ARK:%20Lost%20Island',\n",
       " 'https://namu.wiki/w/%EB%9F%AC%EC%8B%9C%EC%95%84%20%EC%A0%9C%EA%B5%AD/%EC%97%AD%EC%82%AC',\n",
       " 'https://namu.wiki/w/%ED%96%89%EC%83%81%EC%9D%B8',\n",
       " 'https://namu.wiki/w/%ED%95%B4%ED%94%BC%20%ED%9E%88%EC%96%B4%EB%A1%9C%20%EC%97%B0%ED%95%A9',\n",
       " 'https://namu.wiki/w/%EB%8F%85%EC%9D%BC%20%EC%9E%AC%ED%86%B5%EC%9D%BC',\n",
       " 'https://namu.wiki/w/%ED%8C%8C%EC%9D%B4%20%EC%9C%88%EC%B2%B4%EC%8A%A4%ED%84%B0/%EC%8A%A4%ED%82%AC',\n",
       " 'https://namu.wiki/w/%EB%89%B4%EC%9A%95%20%EB%A9%94%EC%B8%A0/2022%EB%85%84/%EC%98%A4%ED%94%84%EC%8B%9C%EC%A6%8C',\n",
       " 'https://namu.wiki/w/%EC%B9%B4%EC%99%80%EB%B0%94%ED%83%80%20%EC%97%90%EB%A3%A8%ED%82%A8',\n",
       " 'https://namu.wiki/w/%ED%95%98%EB%8B%A4',\n",
       " 'https://namu.wiki/w/%EB%AF%BC%ED%98%84/%EC%97%AC%EB%8B%B4',\n",
       " 'https://namu.wiki/w/%EB%B3%B4%ED%86%A8%EB%9D%BC',\n",
       " 'https://namu.wiki/w/GNL%20ESPORTS',\n",
       " 'https://namu.wiki/w/%EB%82%98%EC%98%B9(%ED%8F%AC%EC%BC%93%EB%AA%AC%EC%8A%A4%ED%84%B0%20%EC%95%A0%EB%8B%88%EB%A9%94%EC%9D%B4%EC%85%98%20%EC%8B%9C%EB%A6%AC%EC%A6%88)',\n",
       " 'https://namu.wiki/w/Cloudybay',\n",
       " 'https://namu.wiki/w/%EB%9F%AC%EC%8B%9C%EC%95%84%20%EC%A0%9C%EA%B5%AD/%EC%97%AD%EC%82%AC',\n",
       " 'https://namu.wiki/w/%ED%8C%8C%EC%9D%BC:FE13%20cutscene4.gif',\n",
       " 'https://namu.wiki/w/%EC%83%A4%EC%98%A4%EC%9E%94',\n",
       " 'https://namu.wiki/w/%ED%82%B9%20%EC%98%A4%EB%B8%8C%20%EB%93%9C%EB%9E%98%EA%B3%A4%EC%A6%88',\n",
       " 'https://namu.wiki/w/%EA%B9%80%EC%9A%A9%EC%9D%BC(%ED%8A%B8%EB%A0%88%EC%9D%B4%EB%84%88)',\n",
       " 'https://namu.wiki/w/%EC%97%AC%EA%B3%A0%EC%B6%94%EB%A6%AC%EB%B0%98/11~12%ED%99%94',\n",
       " 'https://namu.wiki/w/%EB%94%94%EC%A6%88%EB%8B%88%2B/%EC%98%A4%EB%A6%AC%EC%A7%80%EB%84%90%20%EC%8B%9C%EB%A6%AC%EC%A6%88%20%EB%AA%A9%EB%A1%9D',\n",
       " 'https://namu.wiki/w/%EC%B2%A8%EB%8B%A8%EA%B3%B5%ED%8F%AC%EC%A6%9D',\n",
       " 'https://namu.wiki/w/%EC%9D%B4%EC%9D%B8%EC%A0%9C',\n",
       " 'https://namu.wiki/w/%ED%8B%80:Stray%20Kids/%EC%9D%8C%EB%B0%98%EB%B3%84%20%EC%98%81%EC%83%81',\n",
       " 'https://namu.wiki/w/%EB%A5%98%EC%A7%80%ED%98%84(%EC%95%BC%EA%B5%AC)/2022%EB%85%84',\n",
       " 'https://namu.wiki/w/2016-2017%EB%85%84%20%EB%B6%81%ED%95%9C%20%EB%AF%B8%EC%82%AC%EC%9D%BC%20%EB%8F%84%EB%B0%9C',\n",
       " 'https://namu.wiki/w/%EB%89%B4%EB%9D%B5',\n",
       " 'https://namu.wiki/w/%EA%B5%AD%EB%A6%BD%EC%A4%91%EC%95%99%EB%8F%84%EC%84%9C%EA%B4%80',\n",
       " 'https://namu.wiki/w/KBO%20%EB%A6%AC%EA%B7%B8/%EC%97%AD%EB%8C%80%20FA/2023',\n",
       " 'https://namu.wiki/w/%EB%A9%80%EB%A6%B0(%ED%99%95%EC%82%B0%EC%84%B1%20%EB%B0%80%EB%A6%AC%EC%96%B8%EC%95%84%EC%84%9C)',\n",
       " 'https://namu.wiki/w/%ED%98%84%EC%8A%B9%EC%9B%90',\n",
       " 'https://namu.wiki/w/%EB%AF%B8%EC%93%B0%EB%B0%B1',\n",
       " 'https://namu.wiki/w/%EB%82%98%ED%98%9C%EC%84%9D',\n",
       " 'https://namu.wiki/w/%E3%81%BC%E3%81%AA%E3%81%BA%E3%81%A6%E3%81%83%E3%83%BC%E3%81%A8%E2%99%A1S',\n",
       " 'https://namu.wiki/w/%ED%8B%80:%EB%A8%B8%EB%9D%BC%EC%9D%B4%EC%96%B4%20%EC%BA%90%EB%A6%AC/%EC%9D%8C%EB%B0%98',\n",
       " 'https://namu.wiki/w/%EB%B6%80%EA%B0%80%ED%8B%B0%20%EB%B2%A0%EC%9D%B4%EB%A1%A0/%ED%8C%8C%EC%83%9D%20%EB%AA%A8%EB%8D%B8',\n",
       " 'https://namu.wiki/w/%EC%A7%84%EB%AA%85%EC%97%AC%EC%9E%90%EA%B3%A0%EB%93%B1%ED%95%99%EA%B5%90%20%EA%B5%B0%EC%9D%B8%20%EC%A1%B0%EB%A1%B1%20%EC%9C%84%EB%AC%B8%ED%8E%B8%EC%A7%80%20%EB%85%BC%EB%9E%80',\n",
       " 'https://namu.wiki/w/%ED%8C%8C%EC%9D%BC:%EB%8D%94%20%EB%9D%BC%EC%8A%A4%ED%8A%B8%2014%EA%B6%8C.jpg',\n",
       " 'https://namu.wiki/w/%EA%B8%89%EC%8B%9D%EC%99%95%20%26%20%EA%B8%89%EC%8B%9D%EA%B1%B8%EC%A6%88/%EB%93%B1%EC%9E%A5%EC%9D%B8%EB%AC%BC/%EA%B8%89%EC%8B%9D%EC%99%95%20%ED%95%99%EA%B5%90',\n",
       " 'https://namu.wiki/w/%EB%A7%88%EC%9D%B8%ED%81%AC%EB%9E%98%ED%94%84%ED%8A%B8/%EB%A7%88%EB%B2%95%20%EB%B6%80%EC%97%AC',\n",
       " 'https://namu.wiki/w/RAZYBOYOCEAN',\n",
       " 'https://namu.wiki/w/Fate/Grand%20Order/%EC%84%9C%EB%B2%88%ED%8A%B8/%EC%95%84%EC%B2%98',\n",
       " 'https://namu.wiki/w/%EA%B7%B8%20%ED%95%B4%20%EC%9A%B0%EB%A6%AC%EB%8A%94/%EB%AA%85%EB%8C%80%EC%82%AC',\n",
       " 'https://namu.wiki/w/KBO%20%EB%A6%AC%EA%B7%B8/%EC%97%AD%EB%8C%80%20FA/2021',\n",
       " 'https://namu.wiki/w/%ED%8B%80:%EC%95%84%ED%94%84%EB%A6%AC%EC%B9%B4%EC%9D%98%20%EC%A3%BC%EC%9A%94%20%EC%B6%95%EA%B5%AC%EB%A6%AC%EA%B7%B8',\n",
       " 'https://namu.wiki/w/KBO%20%EB%A6%AC%EA%B7%B8/%EC%97%AD%EB%8C%80%20FA/2020',\n",
       " 'https://namu.wiki/w/%EC%9D%BC%EB%B3%B8%20%EC%97%AC%EA%B6%8C',\n",
       " 'https://namu.wiki/w/%EC%BF%A0%EB%82%98%EC%8B%9C%EB%A5%B4%20%ED%95%B4%ED%98%91',\n",
       " 'https://namu.wiki/w/kt%20wiz/2022%EB%85%84',\n",
       " 'https://namu.wiki/w/%EB%B0%95%EC%84%B8%ED%99%98(%EA%B5%B0%EC%9D%B8)',\n",
       " 'https://namu.wiki/w/%EC%97%B0%EA%BD%83',\n",
       " 'https://namu.wiki/w/%EC%A7%80%EB%B0%A9%EB%8C%80',\n",
       " 'https://namu.wiki/w/KN-09',\n",
       " 'https://namu.wiki/w/%EC%97%98%ED%94%BC%EC%8A%A4%20%EC%A0%84%EA%B8%B0:%20%EB%8D%94%20%EB%9D%BC%EC%8A%A4%ED%8A%B8',\n",
       " 'https://namu.wiki/w/KBO%20%EB%A6%AC%EA%B7%B8/%EC%97%AD%EB%8C%80%20FA/2019',\n",
       " 'https://namu.wiki/w/%ED%95%B4%ED%94%BC%20%ED%9E%88%EC%96%B4%EB%A1%9C%20%EC%97%B0%ED%95%A9',\n",
       " 'https://namu.wiki/w/%EC%A7%84%EB%AA%85%EC%97%AC%EC%9E%90%EA%B3%A0%EB%93%B1%ED%95%99%EA%B5%90%20%EA%B5%B0%EC%9D%B8%20%EC%A1%B0%EB%A1%B1%20%EC%9C%84%EB%AC%B8%ED%8E%B8%EC%A7%80%20%EB%85%BC%EB%9E%80',\n",
       " 'https://namu.wiki/w/%EB%B3%B4%ED%86%A8%EB%9D%BC',\n",
       " 'https://namu.wiki/w/M24%20%EC%B1%84%ED%94%BC',\n",
       " 'https://namu.wiki/w/%EB%A9%80%EB%A6%B0(%ED%99%95%EC%82%B0%EC%84%B1%20%EB%B0%80%EB%A6%AC%EC%96%B8%EC%95%84%EC%84%9C)',\n",
       " 'https://namu.wiki/w/NMB48',\n",
       " 'https://namu.wiki/w/%EC%97%AC%EA%B3%A0%EC%B6%94%EB%A6%AC%EB%B0%98/11~12%ED%99%94',\n",
       " 'https://namu.wiki/w/%EB%89%B4%EB%9D%B5']"
      ]
     },
     "execution_count": 79,
     "metadata": {},
     "output_type": "execute_result"
    }
   ],
   "source": [
    "page_urls"
   ]
  }
 ],
 "metadata": {
  "kernelspec": {
   "display_name": "Python 3 (ipykernel)",
   "language": "python",
   "name": "python3"
  },
  "language_info": {
   "codemirror_mode": {
    "name": "ipython",
    "version": 3
   },
   "file_extension": ".py",
   "mimetype": "text/x-python",
   "name": "python",
   "nbconvert_exporter": "python",
   "pygments_lexer": "ipython3",
   "version": "3.9.7"
  }
 },
 "nbformat": 4,
 "nbformat_minor": 5
}
