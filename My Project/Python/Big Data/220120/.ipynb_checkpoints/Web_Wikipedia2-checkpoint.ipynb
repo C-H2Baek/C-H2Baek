{
 "cells": [
  {
   "cell_type": "markdown",
   "id": "399c145e",
   "metadata": {},
   "source": [
    "## [ 웹크롤링 _ 위키피디아 사이트 분석 및 시각화 ]\n"
   ]
  },
  {
   "cell_type": "code",
   "execution_count": 116,
   "id": "df7e2dee",
   "metadata": {},
   "outputs": [],
   "source": [
    "# -*- coding: utf-8 -*-\n",
    "\n",
    "%matplotlib inline\n",
    "\n",
    "import pandas as pd\n",
    "import numpy as np\n",
    "import matplotlib.pyplot as plt\n",
    "\n",
    "import warnings\n",
    "warnings.filterwarnings(\"ignore\")"
   ]
  },
  {
   "cell_type": "code",
   "execution_count": 117,
   "id": "558f8a7a",
   "metadata": {
    "scrolled": false
   },
   "outputs": [],
   "source": [
    "from selenium import webdriver\n",
    "from bs4 import BeautifulSoup\n",
    "import re # 정규식 표현을 위한 모듈"
   ]
  },
  {
   "cell_type": "code",
   "execution_count": 118,
   "id": "f69f3391",
   "metadata": {},
   "outputs": [
    {
     "name": "stdout",
     "output_type": "stream",
     "text": [
      "검색 수 : 10\n"
     ]
    },
    {
     "data": {
      "text/html": [
       "<div>\n",
       "<style scoped>\n",
       "    .dataframe tbody tr th:only-of-type {\n",
       "        vertical-align: middle;\n",
       "    }\n",
       "\n",
       "    .dataframe tbody tr th {\n",
       "        vertical-align: top;\n",
       "    }\n",
       "\n",
       "    .dataframe thead th {\n",
       "        text-align: right;\n",
       "    }\n",
       "</style>\n",
       "<table border=\"1\" class=\"dataframe\">\n",
       "  <thead>\n",
       "    <tr style=\"text-align: right;\">\n",
       "      <th></th>\n",
       "      <th>title</th>\n",
       "      <th>category</th>\n",
       "      <th>content_text</th>\n",
       "    </tr>\n",
       "  </thead>\n",
       "  <tbody>\n",
       "    <tr>\n",
       "      <th>0</th>\n",
       "      <td>심호</td>\n",
       "      <td>1668년 출생</td>\n",
       "      <td>심호(沈浩, 1668년 ~ 1704년)는 조선의 문신이자, 경종의 국구(장인)로, ...</td>\n",
       "    </tr>\n",
       "    <tr>\n",
       "      <th>1</th>\n",
       "      <td>심호</td>\n",
       "      <td>1668년 출생</td>\n",
       "      <td>심호(沈浩, 1668년 ~ 1704년)는 조선의 문신이자, 경종의 국구(장인)로, ...</td>\n",
       "    </tr>\n",
       "    <tr>\n",
       "      <th>2</th>\n",
       "      <td>제주신화월드</td>\n",
       "      <td>대한민국의 계획 도시</td>\n",
       "      <td>제주신화월드(濟州神話世界, 영어: Jeju Shinhwa World)는 제주특별자치...</td>\n",
       "    </tr>\n",
       "    <tr>\n",
       "      <th>3</th>\n",
       "      <td>김주신</td>\n",
       "      <td>조선의 문신</td>\n",
       "      <td>김주신(金柱臣, 1661년 음력 10월 4일 ~ 1721년 음력 7월 24일)은 조...</td>\n",
       "    </tr>\n",
       "    <tr>\n",
       "      <th>4</th>\n",
       "      <td>김주신</td>\n",
       "      <td>조선의 문신</td>\n",
       "      <td>김주신(金柱臣, 1661년 음력 10월 4일 ~ 1721년 음력 7월 24일)은 조...</td>\n",
       "    </tr>\n",
       "    <tr>\n",
       "      <th>5</th>\n",
       "      <td>장형 (역관)</td>\n",
       "      <td>1623년 출생</td>\n",
       "      <td>장형(張烱[주 1], 1623년 2월 25일 ~ 1669년 1월 12일)은 조선시대...</td>\n",
       "    </tr>\n",
       "    <tr>\n",
       "      <th>6</th>\n",
       "      <td>차투라지</td>\n",
       "      <td>차투랑가계 게임</td>\n",
       "      <td>차투라지는 차투랑가를 4인용으로 변형해 만든 보드게임이다. 돛단배, 말, 코끼리, ...</td>\n",
       "    </tr>\n",
       "    <tr>\n",
       "      <th>7</th>\n",
       "      <td>K리그 2022 시즌 이적 명단</td>\n",
       "      <td>K리그 이적</td>\n",
       "      <td>이 문서는 K리그1 2022시즌, K리그2 2022시즌에서 발생한 선수 이동을 정리...</td>\n",
       "    </tr>\n",
       "    <tr>\n",
       "      <th>8</th>\n",
       "      <td>김우명</td>\n",
       "      <td>1619년 출생</td>\n",
       "      <td>김우명(金佑明, 1619년 음력 2월 9일 ~ 1675년 음력 6월 18일)은 조선...</td>\n",
       "    </tr>\n",
       "    <tr>\n",
       "      <th>9</th>\n",
       "      <td>김우명</td>\n",
       "      <td>1619년 출생</td>\n",
       "      <td>김우명(金佑明, 1619년 음력 2월 9일 ~ 1675년 음력 6월 18일)은 조선...</td>\n",
       "    </tr>\n",
       "  </tbody>\n",
       "</table>\n",
       "</div>"
      ],
      "text/plain": [
       "               title     category  \\\n",
       "0                 심호     1668년 출생   \n",
       "1                 심호     1668년 출생   \n",
       "2             제주신화월드  대한민국의 계획 도시   \n",
       "3                김주신       조선의 문신   \n",
       "4                김주신       조선의 문신   \n",
       "5            장형 (역관)     1623년 출생   \n",
       "6               차투라지     차투랑가계 게임   \n",
       "7  K리그 2022 시즌 이적 명단       K리그 이적   \n",
       "8                김우명     1619년 출생   \n",
       "9                김우명     1619년 출생   \n",
       "\n",
       "                                        content_text  \n",
       "0  심호(沈浩, 1668년 ~ 1704년)는 조선의 문신이자, 경종의 국구(장인)로, ...  \n",
       "1  심호(沈浩, 1668년 ~ 1704년)는 조선의 문신이자, 경종의 국구(장인)로, ...  \n",
       "2  제주신화월드(濟州神話世界, 영어: Jeju Shinhwa World)는 제주특별자치...  \n",
       "3  김주신(金柱臣, 1661년 음력 10월 4일 ~ 1721년 음력 7월 24일)은 조...  \n",
       "4  김주신(金柱臣, 1661년 음력 10월 4일 ~ 1721년 음력 7월 24일)은 조...  \n",
       "5  장형(張烱[주 1], 1623년 2월 25일 ~ 1669년 1월 12일)은 조선시대...  \n",
       "6  차투라지는 차투랑가를 4인용으로 변형해 만든 보드게임이다. 돛단배, 말, 코끼리, ...  \n",
       "7  이 문서는 K리그1 2022시즌, K리그2 2022시즌에서 발생한 선수 이동을 정리...  \n",
       "8  김우명(金佑明, 1619년 음력 2월 9일 ~ 1675년 음력 6월 18일)은 조선...  \n",
       "9  김우명(金佑明, 1619년 음력 2월 9일 ~ 1675년 음력 6월 18일)은 조선...  "
      ]
     },
     "execution_count": 118,
     "metadata": {},
     "output_type": "execute_result"
    }
   ],
   "source": [
    "# 크롤링한 데이터를 데이터 프레임으로 만들기 위해 준비\n",
    "excutable_path = \"chromedriver.exe\"\n",
    "base_url = 'https://ko.wikipedia.org/'\n",
    "driver = webdriver.Chrome(executable_path=excutable_path)\n",
    "columns = [\"title\", \"category\", \"content_text\"]\n",
    "df = pd.DataFrame(columns=columns)\n",
    "title_list = urlmake(base_link).select('.mw-title')\n",
    "searchnum = input(\"검색 수 : \")\n",
    "\n",
    "num = 0\n",
    "for i in range(int(searchnum)):\n",
    "    title = title_list[i].select_one('.mw-changeslist-title').text\n",
    "    link = title_list[i].select_one('a').attrs['href']\n",
    "    contents = urlmake(link).select_one('.mw-parser-output>p')\n",
    "    category = urlmake(link).select_one('.mw-normal-catlinks > ul > li')\n",
    "    num += 1\n",
    "    \n",
    "    if category == None:\n",
    "        category = ''\n",
    "    else:\n",
    "        category = category.text\n",
    "        \n",
    "    if contents == None:\n",
    "        contents = ''\n",
    "    else:\n",
    "        contents = contents.text\n",
    "    \n",
    "    row = [title,category,re.sub(r'[\\n]',' , ',contents)]                    \n",
    "    series = pd.Series(row, index=df.columns)\n",
    "    df = df.append(series, ignore_index=True)\n",
    "df"
   ]
  },
  {
   "cell_type": "code",
   "execution_count": 122,
   "id": "ec4de41b",
   "metadata": {},
   "outputs": [
    {
     "data": {
      "text/plain": [
       "[<li><a href=\"/wiki/%EB%B6%84%EB%A5%98:1619%EB%85%84_%EC%B6%9C%EC%83%9D\" title=\"분류:1619년 출생\">1619년 출생</a></li>,\n",
       " <li><a href=\"/wiki/%EB%B6%84%EB%A5%98:1675%EB%85%84_%EC%82%AC%EB%A7%9D\" title=\"분류:1675년 사망\">1675년 사망</a></li>,\n",
       " <li><a href=\"/wiki/%EB%B6%84%EB%A5%98:%EC%9D%8C%EC%84%9C\" title=\"분류:음서\">음서</a></li>,\n",
       " <li><a href=\"/wiki/%EB%B6%84%EB%A5%98:%EC%A1%B0%EC%84%A0%EC%9D%98_%EB%AC%B8%EC%8B%A0\" title=\"분류:조선의 문신\">조선의 문신</a></li>,\n",
       " <li><a href=\"/wiki/%EB%B6%84%EB%A5%98:%EC%A1%B0%EC%84%A0%EC%9D%98_%EC%A0%95%EC%B9%98%EC%9D%B8\" title=\"분류:조선의 정치인\">조선의 정치인</a></li>,\n",
       " <li><a href=\"/wiki/%EB%B6%84%EB%A5%98:%EC%A1%B0%EC%84%A0%EC%9D%98_%EB%B6%80%EC%9B%90%EA%B5%B0\" title=\"분류:조선의 부원군\">조선의 부원군</a></li>,\n",
       " <li><a href=\"/wiki/%EB%B6%84%EB%A5%98:%EC%98%88%EC%86%A1_%EB%85%BC%EC%9F%81_%EA%B4%80%EB%A0%A8%EC%9E%90\" title=\"분류:예송 논쟁 관련자\">예송 논쟁 관련자</a></li>,\n",
       " <li><a href=\"/wiki/%EB%B6%84%EB%A5%98:%EC%9D%B8%EC%87%84\" title=\"분류:인쇄\">인쇄</a></li>,\n",
       " <li><a href=\"/wiki/%EB%B6%84%EB%A5%98:%EC%86%A1%EC%8B%9C%EC%97%B4\" title=\"분류:송시열\">송시열</a></li>,\n",
       " <li><a href=\"/wiki/%EB%B6%84%EB%A5%98:%EA%B9%80%EC%9C%A1\" title=\"분류:김육\">김육</a></li>,\n",
       " <li><a href=\"/wiki/%EB%B6%84%EB%A5%98:%ED%97%88%EB%AA%A9\" title=\"분류:허목\">허목</a></li>,\n",
       " <li><a href=\"/wiki/%EB%B6%84%EB%A5%98:%EC%B2%AD%ED%92%8D_%EA%B9%80%EC%94%A8\" title=\"분류:청풍 김씨\">청풍 김씨</a></li>,\n",
       " <li><a href=\"/wiki/%EB%B6%84%EB%A5%98:%EB%B3%91%EC%82%AC%ED%95%9C_%EC%82%AC%EB%9E%8C\" title=\"분류:병사한 사람\">병사한 사람</a></li>,\n",
       " <li><a href=\"/wiki/%EB%B6%84%EB%A5%98:%EC%95%8C%EC%BD%9C_%EB%8F%85%EC%9C%BC%EB%A1%9C_%EC%A3%BD%EC%9D%80_%EC%82%AC%EB%9E%8C\" title=\"분류:알콜 독으로 죽은 사람\">알콜 독으로 죽은 사람</a></li>,\n",
       " <li><a href=\"/wiki/%EB%B6%84%EB%A5%98:%EC%84%9C%EC%9D%B8\" title=\"분류:서인\">서인</a></li>,\n",
       " <li><a href=\"/wiki/%EB%B6%84%EB%A5%98:17%EC%84%B8%EA%B8%B0_%ED%95%9C%EA%B5%AD_%EC%82%AC%EB%9E%8C\" title=\"분류:17세기 한국 사람\">17세기 한국 사람</a></li>]"
      ]
     },
     "execution_count": 122,
     "metadata": {},
     "output_type": "execute_result"
    }
   ],
   "source": [
    "category = urlmake(link).select('#mw-normal-catlinks > ul > li')\n",
    "category"
   ]
  },
  {
   "cell_type": "code",
   "execution_count": 126,
   "id": "2d847c46",
   "metadata": {},
   "outputs": [
    {
     "data": {
      "text/plain": [
       "'김우명(金佑明, 1619년 음력 2월 9일 ~ 1675년 음력 6월 18일)은 조선의 문신며, 현종의 왕비인 명성왕후의 아버지이다. 명성왕후가 세자빈으로 간택 된 뒤 왕비에 오르면서 국구로서 청풍부원군(淸風府院君)에 봉작되었다. 자는 이정(以定)이다.\\n'"
      ]
     },
     "execution_count": 126,
     "metadata": {},
     "output_type": "execute_result"
    }
   ],
   "source": [
    "contents"
   ]
  },
  {
   "cell_type": "code",
   "execution_count": 130,
   "id": "7b4c4ce7",
   "metadata": {},
   "outputs": [
    {
     "data": {
      "text/plain": [
       "'/wiki/%EA%B9%80%EC%9A%B0%EB%AA%85'"
      ]
     },
     "execution_count": 130,
     "metadata": {},
     "output_type": "execute_result"
    }
   ],
   "source": [
    "link"
   ]
  },
  {
   "cell_type": "raw",
   "id": "ef115714",
   "metadata": {},
   "source": []
  }
 ],
 "metadata": {
  "kernelspec": {
   "display_name": "Python 3 (ipykernel)",
   "language": "python",
   "name": "python3"
  },
  "language_info": {
   "codemirror_mode": {
    "name": "ipython",
    "version": 3
   },
   "file_extension": ".py",
   "mimetype": "text/x-python",
   "name": "python",
   "nbconvert_exporter": "python",
   "pygments_lexer": "ipython3",
   "version": "3.9.7"
  }
 },
 "nbformat": 4,
 "nbformat_minor": 5
}
