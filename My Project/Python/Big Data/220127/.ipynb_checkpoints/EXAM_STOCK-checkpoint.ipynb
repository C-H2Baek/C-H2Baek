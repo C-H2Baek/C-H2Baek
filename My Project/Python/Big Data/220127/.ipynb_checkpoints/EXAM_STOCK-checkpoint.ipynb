{
 "cells": [
  {
   "cell_type": "code",
   "execution_count": 1,
   "id": "e5ce01c8",
   "metadata": {},
   "outputs": [],
   "source": [
    "import requests\n",
    "from bs4 import BeautifulSoup\n",
    "import pandas as pd\n",
    "import numpy as np\n",
    "import re\n",
    "import requests\n",
    "from urllib.request import urlopen\n",
    "import lxml.html\n",
    "import time\n",
    "import json\n",
    "from wordcloud import WordCloud\n",
    "import matplotlib.pyplot as plt\n",
    "import csv\n",
    "from PIL import Image\n",
    "import random"
   ]
  },
  {
   "cell_type": "code",
   "execution_count": 7,
   "id": "bc677de5",
   "metadata": {},
   "outputs": [],
   "source": [
    "PI_URL = \"https://finance.naver.com/sise/sise_market_sum.nhn?sosok=1&page=1\"\n",
    "DAQ_URL = \"https://finance.naver.com/sise/sise_market_sum.nhn?sosok=0&page=1\""
   ]
  },
  {
   "cell_type": "code",
   "execution_count": 8,
   "id": "95b15891",
   "metadata": {},
   "outputs": [
    {
     "ename": "NameError",
     "evalue": "name 'urllib' is not defined",
     "output_type": "error",
     "traceback": [
      "\u001b[1;31m---------------------------------------------------------------------------\u001b[0m",
      "\u001b[1;31mNameError\u001b[0m                                 Traceback (most recent call last)",
      "\u001b[1;32m~\\AppData\\Local\\Temp/ipykernel_12496/1209658777.py\u001b[0m in \u001b[0;36m<module>\u001b[1;34m\u001b[0m\n\u001b[1;32m----> 1\u001b[1;33m \u001b[0mRES\u001b[0m \u001b[1;33m=\u001b[0m \u001b[0murllib\u001b[0m\u001b[1;33m.\u001b[0m\u001b[0mrequest\u001b[0m\u001b[1;33m.\u001b[0m\u001b[0murlopen\u001b[0m\u001b[1;33m(\u001b[0m\u001b[0mPI_URL\u001b[0m\u001b[1;33m)\u001b[0m\u001b[1;33m\u001b[0m\u001b[1;33m\u001b[0m\u001b[0m\n\u001b[0m\u001b[0;32m      2\u001b[0m \u001b[0mRES2\u001b[0m \u001b[1;33m=\u001b[0m \u001b[0murllib\u001b[0m\u001b[1;33m.\u001b[0m\u001b[0mrequest\u001b[0m\u001b[1;33m.\u001b[0m\u001b[0murlopen\u001b[0m\u001b[1;33m(\u001b[0m\u001b[0mDAQ_URL\u001b[0m\u001b[1;33m)\u001b[0m\u001b[1;33m\u001b[0m\u001b[1;33m\u001b[0m\u001b[0m\n\u001b[0;32m      3\u001b[0m \u001b[0mREAD_PI\u001b[0m \u001b[1;33m=\u001b[0m \u001b[0mRES\u001b[0m\u001b[1;33m.\u001b[0m\u001b[0mread\u001b[0m\u001b[1;33m(\u001b[0m\u001b[1;33m)\u001b[0m\u001b[1;33m\u001b[0m\u001b[1;33m\u001b[0m\u001b[0m\n\u001b[0;32m      4\u001b[0m \u001b[0mREAD_DAQ\u001b[0m \u001b[1;33m=\u001b[0m \u001b[0mRES2\u001b[0m\u001b[1;33m.\u001b[0m\u001b[0mread\u001b[0m\u001b[1;33m(\u001b[0m\u001b[1;33m)\u001b[0m\u001b[1;33m\u001b[0m\u001b[1;33m\u001b[0m\u001b[0m\n\u001b[0;32m      5\u001b[0m \u001b[0mSOUP_PI\u001b[0m \u001b[1;33m=\u001b[0m \u001b[0mbs\u001b[0m\u001b[1;33m(\u001b[0m\u001b[0mREAD_PI\u001b[0m\u001b[1;33m)\u001b[0m\u001b[1;33m\u001b[0m\u001b[1;33m\u001b[0m\u001b[0m\n",
      "\u001b[1;31mNameError\u001b[0m: name 'urllib' is not defined"
     ]
    }
   ],
   "source": [
    "RES = urllib.request.urlopen(PI_URL)\n",
    "RES2 = urllib.request.urlopen(DAQ_URL)\n",
    "READ_PI = RES.read()\n",
    "READ_DAQ = RES2.read()\n",
    "SOUP_PI = bs(READ_PI)\n",
    "SOUP_DAQ = bs(READ_DAQ)\n",
    "SOUP_PI"
   ]
  },
  {
   "cell_type": "code",
   "execution_count": 9,
   "id": "2ceebfde",
   "metadata": {},
   "outputs": [
    {
     "ename": "NameError",
     "evalue": "name 'SOUP_DAQ' is not defined",
     "output_type": "error",
     "traceback": [
      "\u001b[1;31m---------------------------------------------------------------------------\u001b[0m",
      "\u001b[1;31mNameError\u001b[0m                                 Traceback (most recent call last)",
      "\u001b[1;32m~\\AppData\\Local\\Temp/ipykernel_12496/3806278766.py\u001b[0m in \u001b[0;36m<module>\u001b[1;34m\u001b[0m\n\u001b[1;32m----> 1\u001b[1;33m \u001b[0mSOUP_DAQ\u001b[0m\u001b[1;33m\u001b[0m\u001b[1;33m\u001b[0m\u001b[0m\n\u001b[0m",
      "\u001b[1;31mNameError\u001b[0m: name 'SOUP_DAQ' is not defined"
     ]
    }
   ],
   "source": [
    "SOUP_DAQ"
   ]
  },
  {
   "cell_type": "code",
   "execution_count": 10,
   "id": "13004f15",
   "metadata": {},
   "outputs": [
    {
     "ename": "NameError",
     "evalue": "name 'SOUP_PI' is not defined",
     "output_type": "error",
     "traceback": [
      "\u001b[1;31m---------------------------------------------------------------------------\u001b[0m",
      "\u001b[1;31mNameError\u001b[0m                                 Traceback (most recent call last)",
      "\u001b[1;32m~\\AppData\\Local\\Temp/ipykernel_12496/3336466486.py\u001b[0m in \u001b[0;36m<module>\u001b[1;34m\u001b[0m\n\u001b[1;32m----> 1\u001b[1;33m \u001b[0mALL_TR_PI\u001b[0m \u001b[1;33m=\u001b[0m \u001b[0mSOUP_PI\u001b[0m\u001b[1;33m.\u001b[0m\u001b[0mfindAll\u001b[0m\u001b[1;33m(\u001b[0m\u001b[1;34m'tr'\u001b[0m\u001b[1;33m)\u001b[0m\u001b[1;33m\u001b[0m\u001b[1;33m\u001b[0m\u001b[0m\n\u001b[0m\u001b[0;32m      2\u001b[0m \u001b[0mALL_TR_DAQ\u001b[0m \u001b[1;33m=\u001b[0m \u001b[0mSOUP_DAQ\u001b[0m\u001b[1;33m.\u001b[0m\u001b[0mfindAll\u001b[0m\u001b[1;33m(\u001b[0m\u001b[1;34m'tr'\u001b[0m\u001b[1;33m)\u001b[0m\u001b[1;33m\u001b[0m\u001b[1;33m\u001b[0m\u001b[0m\n",
      "\u001b[1;31mNameError\u001b[0m: name 'SOUP_PI' is not defined"
     ]
    }
   ],
   "source": [
    "ALL_TR_PI = SOUP_PI.findAll('tr')\n",
    "ALL_TR_DAQ = SOUP_DAQ.findAll('tr')"
   ]
  },
  {
   "cell_type": "code",
   "execution_count": null,
   "id": "b3cfff97",
   "metadata": {},
   "outputs": [],
   "source": [
    "ALL_TR_PI"
   ]
  },
  {
   "cell_type": "code",
   "execution_count": 3,
   "id": "cb2104d1",
   "metadata": {},
   "outputs": [
    {
     "ename": "NameError",
     "evalue": "name 'SOUP_PI' is not defined",
     "output_type": "error",
     "traceback": [
      "\u001b[1;31m---------------------------------------------------------------------------\u001b[0m",
      "\u001b[1;31mNameError\u001b[0m                                 Traceback (most recent call last)",
      "\u001b[1;32m~\\AppData\\Local\\Temp/ipykernel_12496/2910716836.py\u001b[0m in \u001b[0;36m<module>\u001b[1;34m\u001b[0m\n\u001b[0;32m      1\u001b[0m \u001b[0mPI_LIST\u001b[0m \u001b[1;33m=\u001b[0m \u001b[1;33m[\u001b[0m\u001b[1;33m]\u001b[0m\u001b[1;33m\u001b[0m\u001b[1;33m\u001b[0m\u001b[0m\n\u001b[0;32m      2\u001b[0m \u001b[1;33m\u001b[0m\u001b[0m\n\u001b[1;32m----> 3\u001b[1;33m \u001b[1;32mfor\u001b[0m \u001b[0mtr\u001b[0m \u001b[1;32min\u001b[0m \u001b[0mSOUP_PI\u001b[0m\u001b[1;33m.\u001b[0m\u001b[0mfindAll\u001b[0m\u001b[1;33m(\u001b[0m\u001b[1;34m'tr'\u001b[0m\u001b[1;33m)\u001b[0m\u001b[1;33m:\u001b[0m\u001b[1;33m\u001b[0m\u001b[1;33m\u001b[0m\u001b[0m\n\u001b[0m\u001b[0;32m      4\u001b[0m     \u001b[0mPI_NAME\u001b[0m \u001b[1;33m=\u001b[0m \u001b[0mtr\u001b[0m\u001b[1;33m.\u001b[0m\u001b[0mfindAll\u001b[0m\u001b[1;33m(\u001b[0m\u001b[1;34m'a'\u001b[0m\u001b[1;33m,\u001b[0m \u001b[0mattrs\u001b[0m\u001b[1;33m=\u001b[0m\u001b[1;33m{\u001b[0m\u001b[1;34m'class'\u001b[0m\u001b[1;33m,\u001b[0m \u001b[1;34m'tltle'\u001b[0m\u001b[1;33m}\u001b[0m\u001b[1;33m)\u001b[0m\u001b[1;33m\u001b[0m\u001b[1;33m\u001b[0m\u001b[0m\n\u001b[0;32m      5\u001b[0m     \u001b[1;32mif\u001b[0m \u001b[0mPI_NAME\u001b[0m \u001b[1;32mis\u001b[0m \u001b[1;32mNone\u001b[0m \u001b[1;32mor\u001b[0m \u001b[0mPI_NAME\u001b[0m \u001b[1;33m==\u001b[0m \u001b[1;33m[\u001b[0m\u001b[1;33m]\u001b[0m\u001b[1;33m:\u001b[0m\u001b[1;33m\u001b[0m\u001b[1;33m\u001b[0m\u001b[0m\n",
      "\u001b[1;31mNameError\u001b[0m: name 'SOUP_PI' is not defined"
     ]
    }
   ],
   "source": [
    "PI_LIST = []\n",
    "\n",
    "for tr in SOUP_PI.findAll('tr'):\n",
    "    PI_NAME = tr.findAll('a', attrs={'class', 'tltle'})\n",
    "    if PI_NAME is None or PI_NAME == []:\n",
    "        pass\n",
    "    else:\n",
    "        print(PI_NAME[0].contents[-1])\n",
    "        PI_LIST.append(PI_NAME)\n",
    "    \n",
    "PI_LIST"
   ]
  },
  {
   "cell_type": "code",
   "execution_count": 4,
   "id": "1b3101be",
   "metadata": {},
   "outputs": [
    {
     "ename": "NameError",
     "evalue": "name 'SOUP_DAQ' is not defined",
     "output_type": "error",
     "traceback": [
      "\u001b[1;31m---------------------------------------------------------------------------\u001b[0m",
      "\u001b[1;31mNameError\u001b[0m                                 Traceback (most recent call last)",
      "\u001b[1;32m~\\AppData\\Local\\Temp/ipykernel_12496/449266007.py\u001b[0m in \u001b[0;36m<module>\u001b[1;34m\u001b[0m\n\u001b[0;32m      1\u001b[0m \u001b[0mDAQ_LIST\u001b[0m \u001b[1;33m=\u001b[0m \u001b[1;33m[\u001b[0m\u001b[1;33m]\u001b[0m\u001b[1;33m\u001b[0m\u001b[1;33m\u001b[0m\u001b[0m\n\u001b[0;32m      2\u001b[0m \u001b[1;33m\u001b[0m\u001b[0m\n\u001b[1;32m----> 3\u001b[1;33m \u001b[1;32mfor\u001b[0m \u001b[0mtr\u001b[0m \u001b[1;32min\u001b[0m \u001b[0mSOUP_DAQ\u001b[0m\u001b[1;33m.\u001b[0m\u001b[0mfindAll\u001b[0m\u001b[1;33m(\u001b[0m\u001b[1;34m'tr'\u001b[0m\u001b[1;33m)\u001b[0m\u001b[1;33m:\u001b[0m\u001b[1;33m\u001b[0m\u001b[1;33m\u001b[0m\u001b[0m\n\u001b[0m\u001b[0;32m      4\u001b[0m     \u001b[0mDAQ_NAME\u001b[0m \u001b[1;33m=\u001b[0m \u001b[0mtr\u001b[0m\u001b[1;33m.\u001b[0m\u001b[0mfindAll\u001b[0m\u001b[1;33m(\u001b[0m\u001b[1;34m'a'\u001b[0m\u001b[1;33m,\u001b[0m \u001b[0mattrs\u001b[0m\u001b[1;33m=\u001b[0m\u001b[1;33m{\u001b[0m\u001b[1;34m'class'\u001b[0m\u001b[1;33m,\u001b[0m \u001b[1;34m'tltle'\u001b[0m\u001b[1;33m}\u001b[0m\u001b[1;33m)\u001b[0m\u001b[1;33m\u001b[0m\u001b[1;33m\u001b[0m\u001b[0m\n\u001b[0;32m      5\u001b[0m     \u001b[1;32mif\u001b[0m \u001b[0mDAQ_NAME\u001b[0m \u001b[1;32mis\u001b[0m \u001b[1;32mNone\u001b[0m \u001b[1;32mor\u001b[0m \u001b[0mDAQ_NAME\u001b[0m \u001b[1;33m==\u001b[0m \u001b[1;33m[\u001b[0m\u001b[1;33m]\u001b[0m\u001b[1;33m:\u001b[0m\u001b[1;33m\u001b[0m\u001b[1;33m\u001b[0m\u001b[0m\n",
      "\u001b[1;31mNameError\u001b[0m: name 'SOUP_DAQ' is not defined"
     ]
    }
   ],
   "source": [
    "DAQ_LIST = []\n",
    "\n",
    "for tr in SOUP_DAQ.findAll('tr'):\n",
    "    DAQ_NAME = tr.findAll('a', attrs={'class', 'tltle'})\n",
    "    if DAQ_NAME is None or DAQ_NAME == []:\n",
    "        pass\n",
    "    else:\n",
    "        print(DAQ_NAME[0].contents[-1])\n",
    "        DAQ_LIST.append(DAQ_NAME)\n",
    "    \n",
    "DAQ_LIST"
   ]
  },
  {
   "cell_type": "code",
   "execution_count": null,
   "id": "cd2153cc",
   "metadata": {},
   "outputs": [],
   "source": [
    "def one_page_list(sosok, page):\n",
    "    STOCKLIST_URL = \"https://finance.naver.com/sise/sise_market_sum.nhn?sosok={}&page={}\".format(sosok, page) #주소설정\n",
    "    \n",
    "    response = urllib.request.urlopen(STOCKLIST_URL)\n",
    "    STOCKLIST_HTML = response.read()\n",
    "    \n",
    "    soup = bs(STOCKLIST_HTML)\n",
    "\n",
    "    STOCK_NAME_LIST = []\n",
    "    STOCK_PRICE_LIST = []\n",
    "    STOCK_CT_LIST = []\n",
    "\n",
    "    for tr in soup.findAll('tr'):\n",
    "        stockName = tr.findAll('a', attrs={'class', 'tltle'})\n",
    "        if stockName is None or stockName == []:\n",
    "            pass\n",
    "        else:\n",
    "            stockName = stockName[0].contents[-1]\n",
    "            STOCK_NAME_LIST.append(stockName)\n",
    "\n",
    "        stockPrice = tr.findAll('td', attrs={'class', 'number'})\n",
    "        if stockPrice is None or stockPrice == []:\n",
    "            pass\n",
    "        else:\n",
    "            stockPrice = stockPrice[0].contents[-1]\n",
    "            stockPrice = stockPrice.replace(\",\",\"\")\n",
    "            STOCK_PRICE_LIST.append(stockPrice)\n",
    "\n",
    "    STOCK_LIST = []\n",
    "\n",
    "    for i in range(len(STOCK_NAME_LIST)):\n",
    "        stockInfo = [STOCK_NAME_LIST[i], int(STOCK_PRICE_LIST[i]), STOCK_CT_LIST]\n",
    "        STOCK_LIST.append(stockInfo)\n",
    "\n",
    "    return pd.DataFrame(STOCK_LIST, columns=('종목명','현재가',''))\n",
    "\n",
    "one_page_list(0, 1)"
   ]
  },
  {
   "cell_type": "code",
   "execution_count": null,
   "id": "f4377190",
   "metadata": {},
   "outputs": [],
   "source": [
    "print(ALL_STOCK_LIST)"
   ]
  },
  {
   "cell_type": "code",
   "execution_count": null,
   "id": "927b1777",
   "metadata": {},
   "outputs": [],
   "source": [
    "one_page_list(1, 5)"
   ]
  },
  {
   "cell_type": "code",
   "execution_count": null,
   "id": "092254ea",
   "metadata": {},
   "outputs": [],
   "source": [
    "import time\n",
    "from itertools import count\n",
    "\n",
    "def all_page_list():\n",
    "\n",
    "    FINAL_LIST = []\n",
    "\n",
    "    for sosok in range(2):\n",
    "        for page in range(33):\n",
    "            one_page_data = one_page_list(sosok, page+1)\n",
    "            print(\"{}소속 {}페이지 진행 중 입니다.\".format(sosok, page+1))\n",
    "            \n",
    "            if one_page_data is None:\n",
    "                break\n",
    "            \n",
    "            FINAL_LIST.append(one_page_data)\n",
    "            time.sleep(1)\n",
    "    \n",
    "    return pd.concat(FINAL_LIST)\n",
    "\n",
    "ALL_STOCK_LIST = all_page_list()\n",
    "\n",
    "ALL_STOCK_LIST"
   ]
  },
  {
   "cell_type": "code",
   "execution_count": null,
   "id": "597cda3e",
   "metadata": {},
   "outputs": [],
   "source": [
    "CONTENT_URL = \"https://finance.naver.com/item/main.naver?code=005930\"\n",
    "    \n",
    "RES3 = urllib.request.urlopen(CONTENT_URL)\n",
    "READ_CONTENT = RES3.read()\n",
    "SOUP_CONTENT = bs(READ_CONTENT)"
   ]
  },
  {
   "cell_type": "code",
   "execution_count": null,
   "id": "6b974eed",
   "metadata": {},
   "outputs": [],
   "source": [
    "CON = SOUP_CONTENT.select('div.sub_section.right .txt')\n",
    "CON"
   ]
  },
  {
   "cell_type": "code",
   "execution_count": null,
   "id": "734d6642",
   "metadata": {},
   "outputs": [],
   "source": [
    "CON_o = SOUP_CONTENT.select_one('div.sub_section.right .txt').text.strip()\n",
    "CON_o"
   ]
  }
 ],
 "metadata": {
  "kernelspec": {
   "display_name": "Python 3 (ipykernel)",
   "language": "python",
   "name": "python3"
  },
  "language_info": {
   "codemirror_mode": {
    "name": "ipython",
    "version": 3
   },
   "file_extension": ".py",
   "mimetype": "text/x-python",
   "name": "python",
   "nbconvert_exporter": "python",
   "pygments_lexer": "ipython3",
   "version": "3.9.7"
  }
 },
 "nbformat": 4,
 "nbformat_minor": 5
}
