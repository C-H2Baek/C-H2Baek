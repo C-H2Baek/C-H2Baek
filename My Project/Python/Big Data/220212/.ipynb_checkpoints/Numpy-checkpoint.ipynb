{
 "cells": [
  {
   "cell_type": "code",
   "execution_count": 1,
   "id": "f2c85d3c",
   "metadata": {},
   "outputs": [],
   "source": [
    "import numpy as np\n",
    "import warnings\n",
    "warnings.filterwarnings(\"ignore\")"
   ]
  },
  {
   "cell_type": "code",
   "execution_count": 22,
   "id": "97d22ade",
   "metadata": {},
   "outputs": [
    {
     "data": {
      "text/plain": [
       "array([[0.66335133, 0.03012951],\n",
       "       [0.46500682, 0.47238441]])"
      ]
     },
     "execution_count": 22,
     "metadata": {},
     "output_type": "execute_result"
    }
   ],
   "source": [
    "a = np.random.rand(2,2)\n",
    "a"
   ]
  },
  {
   "cell_type": "code",
   "execution_count": 18,
   "id": "868cd3b8",
   "metadata": {},
   "outputs": [
    {
     "data": {
      "text/plain": [
       "array([-0.50790258, -2.69002024,  0.65190825, -1.3241899 , -0.31275038])"
      ]
     },
     "execution_count": 18,
     "metadata": {},
     "output_type": "execute_result"
    }
   ],
   "source": [
    "b = np.random.randn(5)\n",
    "b"
   ]
  },
  {
   "cell_type": "code",
   "execution_count": 31,
   "id": "2abfe56d",
   "metadata": {},
   "outputs": [
    {
     "data": {
      "text/plain": [
       "array([[15, 28],\n",
       "       [39, 36]])"
      ]
     },
     "execution_count": 31,
     "metadata": {},
     "output_type": "execute_result"
    }
   ],
   "source": [
    "c = np.random.randint(10,50 , size=(2,2))\n",
    "c"
   ]
  },
  {
   "cell_type": "code",
   "execution_count": 55,
   "id": "3e76becb",
   "metadata": {},
   "outputs": [
    {
     "data": {
      "text/plain": [
       "array([ 0.44122749, -0.33087015,  2.43077119, -0.25209213,  0.10960984])"
      ]
     },
     "execution_count": 55,
     "metadata": {},
     "output_type": "execute_result"
    }
   ],
   "source": [
    "# seed -> 동일한 값\n",
    "np.random.seed(5)\n",
    "d = np.random.randn(5)\n",
    "d"
   ]
  },
  {
   "cell_type": "code",
   "execution_count": 79,
   "id": "b795a6c5",
   "metadata": {},
   "outputs": [
    {
     "data": {
      "text/plain": [
       "array([7, 6, 0])"
      ]
     },
     "execution_count": 79,
     "metadata": {},
     "output_type": "execute_result"
    }
   ],
   "source": [
    "e = np.random.choice(10,3)  # , 파라미터 True or False\n",
    "e"
   ]
  },
  {
   "cell_type": "code",
   "execution_count": 106,
   "id": "618edd77",
   "metadata": {},
   "outputs": [
    {
     "data": {
      "text/plain": [
       "array([[0.67227856, 0.4880784 ],\n",
       "       [0.82549517, 0.03144639],\n",
       "       [0.80804996, 0.56561742]])"
      ]
     },
     "execution_count": 106,
     "metadata": {},
     "output_type": "execute_result"
    }
   ],
   "source": [
    "# 임의의 값으로 (3,2) 형태의 ndarray를 생성\n",
    "np.random.seed(99)\n",
    "f = np.random.rand(3,2)\n",
    "f"
   ]
  },
  {
   "cell_type": "code",
   "execution_count": 137,
   "id": "d66cce28",
   "metadata": {},
   "outputs": [
    {
     "data": {
      "text/plain": [
       "array([18,  3, 35, 31, 40, 26])"
      ]
     },
     "execution_count": 137,
     "metadata": {},
     "output_type": "execute_result"
    }
   ],
   "source": [
    "g = np.random.choice(45,6, False)+1  # , 파라미터 True or False\n",
    "g"
   ]
  },
  {
   "cell_type": "code",
   "execution_count": 143,
   "id": "33bc1e13",
   "metadata": {},
   "outputs": [
    {
     "data": {
      "text/plain": [
       "array([2, 3, 7, 6, 8, 7, 7, 6, 6, 4, 6, 3])"
      ]
     },
     "execution_count": 143,
     "metadata": {},
     "output_type": "execute_result"
    }
   ],
   "source": [
    "h = np.random.choice(10,12)\n",
    "h       "
   ]
  },
  {
   "cell_type": "code",
   "execution_count": 144,
   "id": "28317b03",
   "metadata": {},
   "outputs": [
    {
     "data": {
      "text/plain": [
       "array([[2, 3, 7, 6],\n",
       "       [8, 7, 7, 6],\n",
       "       [6, 4, 6, 3]])"
      ]
     },
     "execution_count": 144,
     "metadata": {},
     "output_type": "execute_result"
    }
   ],
   "source": [
    "i = h.reshape(3,4)\n",
    "i"
   ]
  },
  {
   "cell_type": "code",
   "execution_count": 148,
   "id": "c5ff30b7",
   "metadata": {},
   "outputs": [
    {
     "data": {
      "text/plain": [
       "array([[[2, 3],\n",
       "        [7, 6],\n",
       "        [8, 7]],\n",
       "\n",
       "       [[7, 6],\n",
       "        [6, 4],\n",
       "        [6, 3]]])"
      ]
     },
     "execution_count": 148,
     "metadata": {},
     "output_type": "execute_result"
    }
   ],
   "source": [
    "j = h.reshape(2,3,2)\n",
    "j"
   ]
  },
  {
   "cell_type": "code",
   "execution_count": 150,
   "id": "733cbdc3",
   "metadata": {},
   "outputs": [
    {
     "data": {
      "text/plain": [
       "array([[[2, 3, 7],\n",
       "        [6, 8, 7]],\n",
       "\n",
       "       [[7, 6, 6],\n",
       "        [4, 6, 3]]])"
      ]
     },
     "execution_count": 150,
     "metadata": {},
     "output_type": "execute_result"
    }
   ],
   "source": [
    "k = h.reshape(2,-1,3)\n",
    "k"
   ]
  },
  {
   "cell_type": "code",
   "execution_count": 156,
   "id": "99be0c48",
   "metadata": {},
   "outputs": [
    {
     "name": "stdout",
     "output_type": "stream",
     "text": [
      "[ 1  2  3  4  5  6  7  8  9 10]\n"
     ]
    },
    {
     "data": {
      "text/plain": [
       "6"
      ]
     },
     "execution_count": 156,
     "metadata": {},
     "output_type": "execute_result"
    }
   ],
   "source": [
    "l = np.arange(1, 11)\n",
    "print(l)\n",
    "l[5]"
   ]
  },
  {
   "cell_type": "code",
   "execution_count": 204,
   "id": "ef4618b2",
   "metadata": {},
   "outputs": [],
   "source": [
    "m = np.arange(1,9).reshape(2,2,-1)"
   ]
  },
  {
   "cell_type": "code",
   "execution_count": 194,
   "id": "b2120f6f",
   "metadata": {},
   "outputs": [
    {
     "name": "stdout",
     "output_type": "stream",
     "text": [
      "[[[1 2]\n",
      "  [3 4]]\n",
      "\n",
      " [[5 6]\n",
      "  [7 8]]]\n",
      "7\n"
     ]
    }
   ],
   "source": [
    "print(m)\n",
    "print(m[1,1,0])"
   ]
  },
  {
   "cell_type": "code",
   "execution_count": 205,
   "id": "c795ad02",
   "metadata": {},
   "outputs": [
    {
     "data": {
      "text/plain": [
       "array([[1, 2, 3],\n",
       "       [4, 5, 6],\n",
       "       [7, 8, 9]])"
      ]
     },
     "execution_count": 205,
     "metadata": {},
     "output_type": "execute_result"
    }
   ],
   "source": [
    "n = np.arange(1,10).reshape(3,3)\n",
    "n"
   ]
  },
  {
   "cell_type": "code",
   "execution_count": 244,
   "id": "79f339d2",
   "metadata": {},
   "outputs": [
    {
     "name": "stdout",
     "output_type": "stream",
     "text": [
      "[[2 3]]\n",
      "[[5 6]]\n"
     ]
    }
   ],
   "source": [
    "print(n[0:1,1:3])\n",
    "print(n[1:2,1:3])"
   ]
  },
  {
   "cell_type": "code",
   "execution_count": 228,
   "id": "aea9d6c6",
   "metadata": {},
   "outputs": [
    {
     "data": {
      "text/plain": [
       "array([[[ 1,  2,  3],\n",
       "        [ 4,  5,  6],\n",
       "        [ 7,  8,  9]],\n",
       "\n",
       "       [[10, 11, 12],\n",
       "        [13, 14, 15],\n",
       "        [16, 17, 18]],\n",
       "\n",
       "       [[19, 20, 21],\n",
       "        [22, 23, 24],\n",
       "        [25, 26, 27]]])"
      ]
     },
     "execution_count": 228,
     "metadata": {},
     "output_type": "execute_result"
    }
   ],
   "source": [
    "o = np.arange(1,28).reshape(3,3,3)\n",
    "o"
   ]
  },
  {
   "cell_type": "code",
   "execution_count": 229,
   "id": "7192feb2",
   "metadata": {},
   "outputs": [
    {
     "data": {
      "text/plain": [
       "array([[[19, 20],\n",
       "        [22, 23],\n",
       "        [25, 26]]])"
      ]
     },
     "execution_count": 229,
     "metadata": {},
     "output_type": "execute_result"
    }
   ],
   "source": [
    "o[2:3,:,0:2]"
   ]
  },
  {
   "cell_type": "code",
   "execution_count": 230,
   "id": "f4e16507",
   "metadata": {},
   "outputs": [
    {
     "data": {
      "text/plain": [
       "array([[19, 20],\n",
       "       [22, 23],\n",
       "       [25, 26]])"
      ]
     },
     "execution_count": 230,
     "metadata": {},
     "output_type": "execute_result"
    }
   ],
   "source": [
    "o[2,:,0:2]"
   ]
  },
  {
   "cell_type": "code",
   "execution_count": 256,
   "id": "44a36565",
   "metadata": {},
   "outputs": [
    {
     "data": {
      "text/plain": [
       "array([[1, 2, 3],\n",
       "       [4, 5, 6],\n",
       "       [7, 8, 9]])"
      ]
     },
     "execution_count": 256,
     "metadata": {},
     "output_type": "execute_result"
    }
   ],
   "source": [
    "p = np.arange(1,10).reshape(3,3)\n",
    "p"
   ]
  },
  {
   "cell_type": "code",
   "execution_count": 257,
   "id": "7499ab83",
   "metadata": {},
   "outputs": [
    {
     "name": "stdout",
     "output_type": "stream",
     "text": [
      "[[1 2 3]\n",
      " [7 8 9]]\n",
      "[3 9]\n"
     ]
    }
   ],
   "source": [
    "print(p[[0,2],:])\n",
    "print(p[[0,2],2])"
   ]
  },
  {
   "cell_type": "code",
   "execution_count": 270,
   "id": "f5ade63f",
   "metadata": {},
   "outputs": [
    {
     "name": "stdout",
     "output_type": "stream",
     "text": [
      "[[1 2 3]\n",
      " [4 5 6]\n",
      " [7 8 9]]\n"
     ]
    },
    {
     "data": {
      "text/plain": [
       "array([[False, False, False],\n",
       "       [ True,  True,  True],\n",
       "       [ True,  True,  True]])"
      ]
     },
     "execution_count": 270,
     "metadata": {},
     "output_type": "execute_result"
    }
   ],
   "source": [
    "# Boolean Index\n",
    "q = p > 3\n",
    "print(p)\n",
    "q"
   ]
  },
  {
   "cell_type": "code",
   "execution_count": 271,
   "id": "7a848087",
   "metadata": {},
   "outputs": [
    {
     "data": {
      "text/plain": [
       "array([4, 5, 6, 7, 8, 9])"
      ]
     },
     "execution_count": 271,
     "metadata": {},
     "output_type": "execute_result"
    }
   ],
   "source": [
    "mask = p > 3\n",
    "p[mask]"
   ]
  },
  {
   "cell_type": "code",
   "execution_count": null,
   "id": "26978fbb",
   "metadata": {},
   "outputs": [],
   "source": []
  },
  {
   "cell_type": "code",
   "execution_count": null,
   "id": "f786e6ec",
   "metadata": {},
   "outputs": [],
   "source": []
  },
  {
   "cell_type": "code",
   "execution_count": null,
   "id": "07a4514f",
   "metadata": {},
   "outputs": [],
   "source": []
  },
  {
   "cell_type": "code",
   "execution_count": null,
   "id": "174d5092",
   "metadata": {},
   "outputs": [],
   "source": []
  },
  {
   "cell_type": "code",
   "execution_count": null,
   "id": "8a30e9ea",
   "metadata": {},
   "outputs": [],
   "source": []
  }
 ],
 "metadata": {
  "kernelspec": {
   "display_name": "Python 3 (ipykernel)",
   "language": "python",
   "name": "python3"
  },
  "language_info": {
   "codemirror_mode": {
    "name": "ipython",
    "version": 3
   },
   "file_extension": ".py",
   "mimetype": "text/x-python",
   "name": "python",
   "nbconvert_exporter": "python",
   "pygments_lexer": "ipython3",
   "version": "3.9.7"
  }
 },
 "nbformat": 4,
 "nbformat_minor": 5
}
