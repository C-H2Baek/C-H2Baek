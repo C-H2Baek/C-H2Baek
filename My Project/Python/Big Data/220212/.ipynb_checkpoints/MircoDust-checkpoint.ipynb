{
 "cells": [
  {
   "cell_type": "markdown",
   "id": "f088c307",
   "metadata": {},
   "source": [
    "### 시도별 실시간 측정정보 조회\n",
    "\n",
    "##### "
   ]
  },
  {
   "cell_type": "markdown",
   "id": "cd003742",
   "metadata": {},
   "source": [
    "# Encoding 인증키\n",
    "##### (Encoding)GOQiQ27BnuZN53uefNOPIoiBCRIdmoTvoB0ymegckf8IPIbSKaSDxeWVVBj3MFmk6WTEHpgnvThOOGS6jnXeyw%3D%3D\n",
    "# Decoding 인증키\n",
    "##### Decoding)GOQiQ27BnuZN53uefNOPIoiBCRIdmoTvoB0ymegckf8IPIbSKaSDxeWVVBj3MFmk6WTEHpgnvThOOGS6jnXeyw=="
   ]
  },
  {
   "cell_type": "code",
   "execution_count": null,
   "id": "23f34118",
   "metadata": {},
   "outputs": [],
   "source": [
    "http://apis.data.go.kr/B552584/ArpltnInforInqireSvc/getCtprvnRltmMesureDnsty?sidoName=대구&pageNo=1&numOfRows=1000&returnType=json&serviceKey=서비스키&ver=1.0 "
   ]
  },
  {
   "cell_type": "code",
   "execution_count": null,
   "id": "9fae9299",
   "metadata": {},
   "outputs": [],
   "source": [
    "http://apis.data.go.kr/B552584/ArpltnInforInqireSvc/getCtprvnRltmMesureDnsty?sidoName=대구&pageNo=1&numOfRows=1000&returnType=json&serviceKey=GOQiQ27BnuZN53uefNOPIoiBCRIdmoTvoB0ymegckf8IPIbSKaSDxeWVVBj3MFmk6WTEHpgnvThOOGS6jnXeyw%3D%3D&ver=1.0 "
   ]
  },
  {
   "cell_type": "code",
   "execution_count": 1,
   "id": "e8cdcd31",
   "metadata": {},
   "outputs": [],
   "source": [
    "import requests\n",
    "from bs4 import BeautifulSoup"
   ]
  },
  {
   "cell_type": "code",
   "execution_count": 4,
   "id": "7a8ca827",
   "metadata": {},
   "outputs": [],
   "source": [
    "# paras로 서비스키를 입력 할 경우 Decoding 된 key을 입력 할것\n",
    "url = 'http://apis.data.go.kr/B552584/ArpltnInforInqireSvc/getCtprvnRltmMesureDnsty'\n",
    "\n",
    "param_data = {'sidoName' : '대구',\n",
    "             'pageNo' : '1',\n",
    "             'numOfRows' : '1000',\n",
    "             'returnType' : 'json',\n",
    "             'serviceKey' : 'GOQiQ27BnuZN53uefNOPIoiBCRIdmoTvoB0ymegckf8IPIbSKaSDxeWVVBj3MFmk6WTEHpgnvThOOGS6jnXeyw==',\n",
    "             'ver' : '1.0'}\n",
    "res = requests.get(url, params=param_data)"
   ]
  },
  {
   "cell_type": "code",
   "execution_count": 6,
   "id": "b9158907",
   "metadata": {},
   "outputs": [
    {
     "name": "stdout",
     "output_type": "stream",
     "text": [
      "http://apis.data.go.kr/B552584/ArpltnInforInqireSvc/getCtprvnRltmMesureDnsty?sidoName=%EB%8C%80%EA%B5%AC&pageNo=1&numOfRows=1000&returnType=json&serviceKey=GOQiQ27BnuZN53uefNOPIoiBCRIdmoTvoB0ymegckf8IPIbSKaSDxeWVVBj3MFmk6WTEHpgnvThOOGS6jnXeyw%3D%3D&ver=1.0\n"
     ]
    }
   ],
   "source": [
    "# service ket가 Encoding\n",
    "print(res.url)"
   ]
  },
  {
   "cell_type": "code",
   "execution_count": 14,
   "id": "70584095",
   "metadata": {
    "scrolled": true
   },
   "outputs": [
    {
     "name": "stdout",
     "output_type": "stream",
     "text": [
      "{\"response\":{\"body\":{\"totalCount\":20,\"items\":[{\"so2Grade\":\"1\",\"coFlag\":null,\"khaiValue\":\"61\",\"so2Value\":\"0.002\",\"coValue\":\"0.6\",\"pm25Flag\":null,\"pm10Flag\":null,\"o3Grade\":\"2\",\"pm10Value\":\"21\",\"khaiGrade\":\"2\",\"pm25Value\":\"5\",\"sidoName\":\"대구\",\"no2Flag\":null,\"no2Grade\":\"1\",\"o3Flag\":null,\"pm25Grade\":\"1\",\"so2Flag\":null,\"dataTime\":\"2022-02-05 15:00\",\"coGrade\":\"1\",\"no2Value\":\"0.003\",\"stationName\":\"유가읍\",\"pm10Grade\":\"1\",\"o3Value\":\"0.043\"},{\"so2Grade\":\"1\",\"coFlag\":null,\"khaiValue\":\"61\",\"so2Value\":\"0.002\",\"coValue\":\"0.1\",\"pm25Flag\":null,\"pm10Flag\":null,\"o3Grade\":\"2\",\"pm10Value\":\"26\",\"khaiGrade\":\"2\",\"pm25Value\":\"9\",\"sidoName\":\"대구\",\"no2Flag\":null,\"no2Grade\":\"1\",\"o3Flag\":null,\"pm25Grade\":\"1\",\"so2Flag\":null,\"dataTime\":\"2022-02-05 15:00\",\"coGrade\":\"1\",\"no2Value\":\"0.006\",\"stationName\":\"이곡동\",\"pm10Grade\":\"1\",\"o3Value\":\"0.043\"},{\"so2Grade\":\"1\",\"coFlag\":null,\"khaiValue\":\"59\",\"so2Value\":\"0.002\",\"coValue\":\"0.3\",\"pm25Flag\":null,\"pm10Flag\":null,\"o3Grade\":\"2\",\"pm10Value\":\"30\",\"khaiGrade\":\"2\",\"pm25Value\":\"6\",\"sidoName\":\"대구\",\"no2Flag\":null,\"no2Grade\":\"1\",\"o3Flag\":null,\"pm25Grade\":\"1\",\"so2Flag\":null,\"dataTime\":\"2022-02-05 15:00\",\"coGrade\":\"1\",\"no2Value\":\"0.005\",\"stationName\":\"시지동\",\"pm10Grade\":\"1\",\"o3Value\":\"0.041\"},{\"so2Grade\":\"1\",\"coFlag\":null,\"khaiValue\":\"54\",\"so2Value\":\"0.001\",\"coValue\":\"0.3\",\"pm25Flag\":null,\"pm10Flag\":null,\"o3Grade\":\"1\",\"pm10Value\":\"43\",\"khaiGrade\":\"2\",\"pm25Value\":\"5\",\"sidoName\":\"대구\",\"no2Flag\":null,\"no2Grade\":\"1\",\"o3Flag\":null,\"pm25Grade\":\"1\",\"so2Flag\":null,\"dataTime\":\"2022-02-05 15:00\",\"coGrade\":\"1\",\"no2Value\":\"0.011\",\"stationName\":\"진천동\",\"pm10Grade\":\"2\",\"o3Value\":\"0.027\"},{\"so2Grade\":null,\"coFlag\":null,\"khaiValue\":\"61\",\"so2Value\":\"-\",\"coValue\":\"0.3\",\"pm25Flag\":null,\"pm10Flag\":null,\"o3Grade\":\"2\",\"pm10Value\":\"28\",\"khaiGrade\":\"2\",\"pm25Value\":\"7\",\"sidoName\":\"대구\",\"no2Flag\":null,\"no2Grade\":\"1\",\"o3Flag\":null,\"pm25Grade\":\"1\",\"so2Flag\":\"자료이상\",\"dataTime\":\"2022-02-05 15:00\",\"coGrade\":\"1\",\"no2Value\":\"0.003\",\"stationName\":\"다사읍\",\"pm10Grade\":\"1\",\"o3Value\":\"0.043\"},{\"so2Grade\":\"1\",\"coFlag\":null,\"khaiValue\":\"59\",\"so2Value\":\"0.001\",\"coValue\":\"0.1\",\"pm25Flag\":null,\"pm10Flag\":null,\"o3Grade\":\"2\",\"pm10Value\":\"45\",\"khaiGrade\":\"2\",\"pm25Value\":\"6\",\"sidoName\":\"대구\",\"no2Flag\":null,\"no2Grade\":\"1\",\"o3Flag\":null,\"pm25Grade\":\"1\",\"so2Flag\":null,\"dataTime\":\"2022-02-05 15:00\",\"coGrade\":\"1\",\"no2Value\":\"0.009\",\"stationName\":\"본동\",\"pm10Grade\":\"2\",\"o3Value\":\"0.037\"},{\"so2Grade\":\"1\",\"coFlag\":null,\"khaiValue\":\"60\",\"so2Value\":\"0.002\",\"coValue\":\"0.3\",\"pm25Flag\":null,\"pm10Flag\":null,\"o3Grade\":\"2\",\"pm10Value\":\"29\",\"khaiGrade\":\"2\",\"pm25Value\":\"5\",\"sidoName\":\"대구\",\"no2Flag\":null,\"no2Grade\":\"1\",\"o3Flag\":null,\"pm25Grade\":\"1\",\"so2Flag\":null,\"dataTime\":\"2022-02-05 15:00\",\"coGrade\":\"1\",\"no2Value\":\"0.004\",\"stationName\":\"내당동\",\"pm10Grade\":\"1\",\"o3Value\":\"0.042\"},{\"so2Grade\":\"1\",\"coFlag\":null,\"khaiValue\":\"58\",\"so2Value\":\"0.002\",\"coValue\":\"0.2\",\"pm25Flag\":null,\"pm10Flag\":null,\"o3Grade\":\"2\",\"pm10Value\":\"43\",\"khaiGrade\":\"2\",\"pm25Value\":\"10\",\"sidoName\":\"대구\",\"no2Flag\":null,\"no2Grade\":\"1\",\"o3Flag\":null,\"pm25Grade\":\"1\",\"so2Flag\":null,\"dataTime\":\"2022-02-05 15:00\",\"coGrade\":\"1\",\"no2Value\":\"0.005\",\"stationName\":\"침산동\",\"pm10Grade\":\"1\",\"o3Value\":\"0.039\"},{\"so2Grade\":\"1\",\"coFlag\":null,\"khaiValue\":\"59\",\"so2Value\":\"0.002\",\"coValue\":\"0.2\",\"pm25Flag\":null,\"pm10Flag\":null,\"o3Grade\":\"2\",\"pm10Value\":\"32\",\"khaiGrade\":\"2\",\"pm25Value\":\"9\",\"sidoName\":\"대구\",\"no2Flag\":null,\"no2Grade\":\"1\",\"o3Flag\":null,\"pm25Grade\":\"1\",\"so2Flag\":null,\"dataTime\":\"2022-02-05 15:00\",\"coGrade\":\"1\",\"no2Value\":\"0.005\",\"stationName\":\"화원읍\",\"pm10Grade\":\"1\",\"o3Value\":\"0.041\"},{\"so2Grade\":\"1\",\"coFlag\":null,\"khaiValue\":\"60\",\"so2Value\":\"0.002\",\"coValue\":\"0.2\",\"pm25Flag\":null,\"pm10Flag\":null,\"o3Grade\":\"2\",\"pm10Value\":\"37\",\"khaiGrade\":\"2\",\"pm25Value\":\"5\",\"sidoName\":\"대구\",\"no2Flag\":null,\"no2Grade\":\"1\",\"o3Flag\":null,\"pm25Grade\":\"1\",\"so2Flag\":null,\"dataTime\":\"2022-02-05 15:00\",\"coGrade\":\"1\",\"no2Value\":\"0.008\",\"stationName\":\"수창동\",\"pm10Grade\":\"1\",\"o3Value\":\"0.042\"},{\"so2Grade\":\"1\",\"coFlag\":null,\"khaiValue\":\"53\",\"so2Value\":\"0.004\",\"coValue\":\"0.3\",\"pm25Flag\":null,\"pm10Flag\":null,\"o3Grade\":\"2\",\"pm10Value\":\"33\",\"khaiGrade\":\"2\",\"pm25Value\":\"10\",\"sidoName\":\"대구\",\"no2Flag\":null,\"no2Grade\":\"1\",\"o3Flag\":null,\"pm25Grade\":\"1\",\"so2Flag\":null,\"dataTime\":\"2022-02-05 15:00\",\"coGrade\":\"1\",\"no2Value\":\"0.007\",\"stationName\":\"지산동\",\"pm10Grade\":\"2\",\"o3Value\":\"0.033\"},{\"so2Grade\":\"1\",\"coFlag\":null,\"khaiValue\":\"-\",\"so2Value\":\"0.002\",\"coValue\":\"0.3\",\"pm25Flag\":null,\"pm10Flag\":null,\"o3Grade\":\"2\",\"pm10Value\":\"37\",\"khaiGrade\":null,\"pm25Value\":\"8\",\"sidoName\":\"대구\",\"no2Flag\":null,\"no2Grade\":\"1\",\"o3Flag\":null,\"pm25Grade\":null,\"so2Flag\":null,\"dataTime\":\"2022-02-05 15:00\",\"coGrade\":\"1\",\"no2Value\":\"0.007\",\"stationName\":\"서호동\",\"pm10Grade\":null,\"o3Value\":\"0.037\"},{\"so2Grade\":\"1\",\"coFlag\":null,\"khaiValue\":\"62\",\"so2Value\":\"0.002\",\"coValue\":\"0.3\",\"pm25Flag\":null,\"pm10Flag\":null,\"o3Grade\":\"2\",\"pm10Value\":\"26\",\"khaiGrade\":\"2\",\"pm25Value\":\"7\",\"sidoName\":\"대구\",\"no2Flag\":null,\"no2Grade\":\"1\",\"o3Flag\":null,\"pm25Grade\":\"1\",\"so2Flag\":null,\"dataTime\":\"2022-02-05 15:00\",\"coGrade\":\"1\",\"no2Value\":\"0.005\",\"stationName\":\"이현동\",\"pm10Grade\":\"1\",\"o3Value\":\"0.044\"},{\"so2Grade\":\"1\",\"coFlag\":null,\"khaiValue\":\"60\",\"so2Value\":\"0.002\",\"coValue\":\"0.3\",\"pm25Flag\":null,\"pm10Flag\":null,\"o3Grade\":\"2\",\"pm10Value\":\"43\",\"khaiGrade\":\"2\",\"pm25Value\":\"8\",\"sidoName\":\"대구\",\"no2Flag\":null,\"no2Grade\":\"1\",\"o3Flag\":null,\"pm25Grade\":\"1\",\"so2Flag\":null,\"dataTime\":\"2022-02-05 15:00\",\"coGrade\":\"1\",\"no2Value\":\"0.010\",\"stationName\":\"평리동\",\"pm10Grade\":\"2\",\"o3Value\":\"0.039\"},{\"so2Grade\":\"1\",\"coFlag\":null,\"khaiValue\":\"59\",\"so2Value\":\"0.002\",\"coValue\":\"0.3\",\"pm25Flag\":null,\"pm10Flag\":null,\"o3Grade\":\"2\",\"pm10Value\":\"27\",\"khaiGrade\":\"2\",\"pm25Value\":\"7\",\"sidoName\":\"대구\",\"no2Flag\":null,\"no2Grade\":\"1\",\"o3Flag\":null,\"pm25Grade\":\"1\",\"so2Flag\":null,\"dataTime\":\"2022-02-05 15:00\",\"coGrade\":\"1\",\"no2Value\":\"0.004\",\"stationName\":\"대명동\",\"pm10Grade\":\"1\",\"o3Value\":\"0.041\"},{\"so2Grade\":\"1\",\"coFlag\":null,\"khaiValue\":\"60\",\"so2Value\":\"0.001\",\"coValue\":\"0.5\",\"pm25Flag\":null,\"pm10Flag\":null,\"o3Grade\":\"2\",\"pm10Value\":\"39\",\"khaiGrade\":\"2\",\"pm25Value\":\"6\",\"sidoName\":\"대구\",\"no2Flag\":null,\"no2Grade\":\"1\",\"o3Flag\":null,\"pm25Grade\":\"1\",\"so2Flag\":null,\"dataTime\":\"2022-02-05 15:00\",\"coGrade\":\"1\",\"no2Value\":\"0.005\",\"stationName\":\"신암동\",\"pm10Grade\":\"1\",\"o3Value\":\"0.042\"},{\"so2Grade\":\"1\",\"coFlag\":null,\"khaiValue\":\"60\",\"so2Value\":\"0.002\",\"coValue\":\"0.4\",\"pm25Flag\":null,\"pm10Flag\":null,\"o3Grade\":\"2\",\"pm10Value\":\"34\",\"khaiGrade\":\"2\",\"pm25Value\":\"7\",\"sidoName\":\"대구\",\"no2Flag\":null,\"no2Grade\":\"1\",\"o3Flag\":null,\"pm25Grade\":\"1\",\"so2Flag\":null,\"dataTime\":\"2022-02-05 15:00\",\"coGrade\":\"1\",\"no2Value\":\"0.002\",\"stationName\":\"태전동\",\"pm10Grade\":\"1\",\"o3Value\":\"0.042\"},{\"so2Grade\":\"1\",\"coFlag\":null,\"khaiValue\":\"61\",\"so2Value\":\"0.002\",\"coValue\":\"0.2\",\"pm25Flag\":null,\"pm10Flag\":null,\"o3Grade\":\"2\",\"pm10Value\":\"27\",\"khaiGrade\":\"2\",\"pm25Value\":\"7\",\"sidoName\":\"대구\",\"no2Flag\":null,\"no2Grade\":\"1\",\"o3Flag\":null,\"pm25Grade\":\"1\",\"so2Flag\":null,\"dataTime\":\"2022-02-05 15:00\",\"coGrade\":\"1\",\"no2Value\":\"0.003\",\"stationName\":\"산격동\",\"pm10Grade\":\"1\",\"o3Value\":\"0.043\"},{\"so2Grade\":\"1\",\"coFlag\":null,\"khaiValue\":\"59\",\"so2Value\":\"0.003\",\"coValue\":\"0.4\",\"pm25Flag\":null,\"pm10Flag\":null,\"o3Grade\":\"2\",\"pm10Value\":\"35\",\"khaiGrade\":\"2\",\"pm25Value\":\"2\",\"sidoName\":\"대구\",\"no2Flag\":null,\"no2Grade\":\"1\",\"o3Flag\":null,\"pm25Grade\":\"1\",\"so2Flag\":null,\"dataTime\":\"2022-02-05 15:00\",\"coGrade\":\"1\",\"no2Value\":\"0.009\",\"stationName\":\"만촌동\",\"pm10Grade\":\"1\",\"o3Value\":\"0.041\"},{\"so2Grade\":\"1\",\"coFlag\":null,\"khaiValue\":\"59\",\"so2Value\":\"0.002\",\"coValue\":\"0.3\",\"pm25Flag\":null,\"pm10Flag\":null,\"o3Grade\":\"2\",\"pm10Value\":\"27\",\"khaiGrade\":\"2\",\"pm25Value\":\"8\",\"sidoName\":\"대구\",\"no2Flag\":null,\"no2Grade\":\"1\",\"o3Flag\":null,\"pm25Grade\":\"1\",\"so2Flag\":null,\"dataTime\":\"2022-02-05 15:00\",\"coGrade\":\"1\",\"no2Value\":\"0.005\",\"stationName\":\"호림동\",\"pm10Grade\":\"1\",\"o3Value\":\"0.041\"}],\"pageNo\":1,\"numOfRows\":1000},\"header\":{\"resultMsg\":\"NORMAL_CODE\",\"resultCode\":\"00\"}}}\n",
      "<class 'requests.models.Response'>\n"
     ]
    }
   ],
   "source": [
    "# Json형태\n",
    "print(res.text)\n",
    "print(type(res))"
   ]
  },
  {
   "cell_type": "code",
   "execution_count": 11,
   "id": "6fa5747d",
   "metadata": {},
   "outputs": [],
   "source": [
    "data = res.json()"
   ]
  },
  {
   "cell_type": "code",
   "execution_count": 13,
   "id": "16a20494",
   "metadata": {
    "scrolled": true
   },
   "outputs": [
    {
     "name": "stdout",
     "output_type": "stream",
     "text": [
      "<class 'dict'>\n",
      "{'response': {'body': {'totalCount': 20, 'items': [{'so2Grade': '1', 'coFlag': None, 'khaiValue': '61', 'so2Value': '0.002', 'coValue': '0.6', 'pm25Flag': None, 'pm10Flag': None, 'o3Grade': '2', 'pm10Value': '21', 'khaiGrade': '2', 'pm25Value': '5', 'sidoName': '대구', 'no2Flag': None, 'no2Grade': '1', 'o3Flag': None, 'pm25Grade': '1', 'so2Flag': None, 'dataTime': '2022-02-05 15:00', 'coGrade': '1', 'no2Value': '0.003', 'stationName': '유가읍', 'pm10Grade': '1', 'o3Value': '0.043'}, {'so2Grade': '1', 'coFlag': None, 'khaiValue': '61', 'so2Value': '0.002', 'coValue': '0.1', 'pm25Flag': None, 'pm10Flag': None, 'o3Grade': '2', 'pm10Value': '26', 'khaiGrade': '2', 'pm25Value': '9', 'sidoName': '대구', 'no2Flag': None, 'no2Grade': '1', 'o3Flag': None, 'pm25Grade': '1', 'so2Flag': None, 'dataTime': '2022-02-05 15:00', 'coGrade': '1', 'no2Value': '0.006', 'stationName': '이곡동', 'pm10Grade': '1', 'o3Value': '0.043'}, {'so2Grade': '1', 'coFlag': None, 'khaiValue': '59', 'so2Value': '0.002', 'coValue': '0.3', 'pm25Flag': None, 'pm10Flag': None, 'o3Grade': '2', 'pm10Value': '30', 'khaiGrade': '2', 'pm25Value': '6', 'sidoName': '대구', 'no2Flag': None, 'no2Grade': '1', 'o3Flag': None, 'pm25Grade': '1', 'so2Flag': None, 'dataTime': '2022-02-05 15:00', 'coGrade': '1', 'no2Value': '0.005', 'stationName': '시지동', 'pm10Grade': '1', 'o3Value': '0.041'}, {'so2Grade': '1', 'coFlag': None, 'khaiValue': '54', 'so2Value': '0.001', 'coValue': '0.3', 'pm25Flag': None, 'pm10Flag': None, 'o3Grade': '1', 'pm10Value': '43', 'khaiGrade': '2', 'pm25Value': '5', 'sidoName': '대구', 'no2Flag': None, 'no2Grade': '1', 'o3Flag': None, 'pm25Grade': '1', 'so2Flag': None, 'dataTime': '2022-02-05 15:00', 'coGrade': '1', 'no2Value': '0.011', 'stationName': '진천동', 'pm10Grade': '2', 'o3Value': '0.027'}, {'so2Grade': None, 'coFlag': None, 'khaiValue': '61', 'so2Value': '-', 'coValue': '0.3', 'pm25Flag': None, 'pm10Flag': None, 'o3Grade': '2', 'pm10Value': '28', 'khaiGrade': '2', 'pm25Value': '7', 'sidoName': '대구', 'no2Flag': None, 'no2Grade': '1', 'o3Flag': None, 'pm25Grade': '1', 'so2Flag': '자료이상', 'dataTime': '2022-02-05 15:00', 'coGrade': '1', 'no2Value': '0.003', 'stationName': '다사읍', 'pm10Grade': '1', 'o3Value': '0.043'}, {'so2Grade': '1', 'coFlag': None, 'khaiValue': '59', 'so2Value': '0.001', 'coValue': '0.1', 'pm25Flag': None, 'pm10Flag': None, 'o3Grade': '2', 'pm10Value': '45', 'khaiGrade': '2', 'pm25Value': '6', 'sidoName': '대구', 'no2Flag': None, 'no2Grade': '1', 'o3Flag': None, 'pm25Grade': '1', 'so2Flag': None, 'dataTime': '2022-02-05 15:00', 'coGrade': '1', 'no2Value': '0.009', 'stationName': '본동', 'pm10Grade': '2', 'o3Value': '0.037'}, {'so2Grade': '1', 'coFlag': None, 'khaiValue': '60', 'so2Value': '0.002', 'coValue': '0.3', 'pm25Flag': None, 'pm10Flag': None, 'o3Grade': '2', 'pm10Value': '29', 'khaiGrade': '2', 'pm25Value': '5', 'sidoName': '대구', 'no2Flag': None, 'no2Grade': '1', 'o3Flag': None, 'pm25Grade': '1', 'so2Flag': None, 'dataTime': '2022-02-05 15:00', 'coGrade': '1', 'no2Value': '0.004', 'stationName': '내당동', 'pm10Grade': '1', 'o3Value': '0.042'}, {'so2Grade': '1', 'coFlag': None, 'khaiValue': '58', 'so2Value': '0.002', 'coValue': '0.2', 'pm25Flag': None, 'pm10Flag': None, 'o3Grade': '2', 'pm10Value': '43', 'khaiGrade': '2', 'pm25Value': '10', 'sidoName': '대구', 'no2Flag': None, 'no2Grade': '1', 'o3Flag': None, 'pm25Grade': '1', 'so2Flag': None, 'dataTime': '2022-02-05 15:00', 'coGrade': '1', 'no2Value': '0.005', 'stationName': '침산동', 'pm10Grade': '1', 'o3Value': '0.039'}, {'so2Grade': '1', 'coFlag': None, 'khaiValue': '59', 'so2Value': '0.002', 'coValue': '0.2', 'pm25Flag': None, 'pm10Flag': None, 'o3Grade': '2', 'pm10Value': '32', 'khaiGrade': '2', 'pm25Value': '9', 'sidoName': '대구', 'no2Flag': None, 'no2Grade': '1', 'o3Flag': None, 'pm25Grade': '1', 'so2Flag': None, 'dataTime': '2022-02-05 15:00', 'coGrade': '1', 'no2Value': '0.005', 'stationName': '화원읍', 'pm10Grade': '1', 'o3Value': '0.041'}, {'so2Grade': '1', 'coFlag': None, 'khaiValue': '60', 'so2Value': '0.002', 'coValue': '0.2', 'pm25Flag': None, 'pm10Flag': None, 'o3Grade': '2', 'pm10Value': '37', 'khaiGrade': '2', 'pm25Value': '5', 'sidoName': '대구', 'no2Flag': None, 'no2Grade': '1', 'o3Flag': None, 'pm25Grade': '1', 'so2Flag': None, 'dataTime': '2022-02-05 15:00', 'coGrade': '1', 'no2Value': '0.008', 'stationName': '수창동', 'pm10Grade': '1', 'o3Value': '0.042'}, {'so2Grade': '1', 'coFlag': None, 'khaiValue': '53', 'so2Value': '0.004', 'coValue': '0.3', 'pm25Flag': None, 'pm10Flag': None, 'o3Grade': '2', 'pm10Value': '33', 'khaiGrade': '2', 'pm25Value': '10', 'sidoName': '대구', 'no2Flag': None, 'no2Grade': '1', 'o3Flag': None, 'pm25Grade': '1', 'so2Flag': None, 'dataTime': '2022-02-05 15:00', 'coGrade': '1', 'no2Value': '0.007', 'stationName': '지산동', 'pm10Grade': '2', 'o3Value': '0.033'}, {'so2Grade': '1', 'coFlag': None, 'khaiValue': '-', 'so2Value': '0.002', 'coValue': '0.3', 'pm25Flag': None, 'pm10Flag': None, 'o3Grade': '2', 'pm10Value': '37', 'khaiGrade': None, 'pm25Value': '8', 'sidoName': '대구', 'no2Flag': None, 'no2Grade': '1', 'o3Flag': None, 'pm25Grade': None, 'so2Flag': None, 'dataTime': '2022-02-05 15:00', 'coGrade': '1', 'no2Value': '0.007', 'stationName': '서호동', 'pm10Grade': None, 'o3Value': '0.037'}, {'so2Grade': '1', 'coFlag': None, 'khaiValue': '62', 'so2Value': '0.002', 'coValue': '0.3', 'pm25Flag': None, 'pm10Flag': None, 'o3Grade': '2', 'pm10Value': '26', 'khaiGrade': '2', 'pm25Value': '7', 'sidoName': '대구', 'no2Flag': None, 'no2Grade': '1', 'o3Flag': None, 'pm25Grade': '1', 'so2Flag': None, 'dataTime': '2022-02-05 15:00', 'coGrade': '1', 'no2Value': '0.005', 'stationName': '이현동', 'pm10Grade': '1', 'o3Value': '0.044'}, {'so2Grade': '1', 'coFlag': None, 'khaiValue': '60', 'so2Value': '0.002', 'coValue': '0.3', 'pm25Flag': None, 'pm10Flag': None, 'o3Grade': '2', 'pm10Value': '43', 'khaiGrade': '2', 'pm25Value': '8', 'sidoName': '대구', 'no2Flag': None, 'no2Grade': '1', 'o3Flag': None, 'pm25Grade': '1', 'so2Flag': None, 'dataTime': '2022-02-05 15:00', 'coGrade': '1', 'no2Value': '0.010', 'stationName': '평리동', 'pm10Grade': '2', 'o3Value': '0.039'}, {'so2Grade': '1', 'coFlag': None, 'khaiValue': '59', 'so2Value': '0.002', 'coValue': '0.3', 'pm25Flag': None, 'pm10Flag': None, 'o3Grade': '2', 'pm10Value': '27', 'khaiGrade': '2', 'pm25Value': '7', 'sidoName': '대구', 'no2Flag': None, 'no2Grade': '1', 'o3Flag': None, 'pm25Grade': '1', 'so2Flag': None, 'dataTime': '2022-02-05 15:00', 'coGrade': '1', 'no2Value': '0.004', 'stationName': '대명동', 'pm10Grade': '1', 'o3Value': '0.041'}, {'so2Grade': '1', 'coFlag': None, 'khaiValue': '60', 'so2Value': '0.001', 'coValue': '0.5', 'pm25Flag': None, 'pm10Flag': None, 'o3Grade': '2', 'pm10Value': '39', 'khaiGrade': '2', 'pm25Value': '6', 'sidoName': '대구', 'no2Flag': None, 'no2Grade': '1', 'o3Flag': None, 'pm25Grade': '1', 'so2Flag': None, 'dataTime': '2022-02-05 15:00', 'coGrade': '1', 'no2Value': '0.005', 'stationName': '신암동', 'pm10Grade': '1', 'o3Value': '0.042'}, {'so2Grade': '1', 'coFlag': None, 'khaiValue': '60', 'so2Value': '0.002', 'coValue': '0.4', 'pm25Flag': None, 'pm10Flag': None, 'o3Grade': '2', 'pm10Value': '34', 'khaiGrade': '2', 'pm25Value': '7', 'sidoName': '대구', 'no2Flag': None, 'no2Grade': '1', 'o3Flag': None, 'pm25Grade': '1', 'so2Flag': None, 'dataTime': '2022-02-05 15:00', 'coGrade': '1', 'no2Value': '0.002', 'stationName': '태전동', 'pm10Grade': '1', 'o3Value': '0.042'}, {'so2Grade': '1', 'coFlag': None, 'khaiValue': '61', 'so2Value': '0.002', 'coValue': '0.2', 'pm25Flag': None, 'pm10Flag': None, 'o3Grade': '2', 'pm10Value': '27', 'khaiGrade': '2', 'pm25Value': '7', 'sidoName': '대구', 'no2Flag': None, 'no2Grade': '1', 'o3Flag': None, 'pm25Grade': '1', 'so2Flag': None, 'dataTime': '2022-02-05 15:00', 'coGrade': '1', 'no2Value': '0.003', 'stationName': '산격동', 'pm10Grade': '1', 'o3Value': '0.043'}, {'so2Grade': '1', 'coFlag': None, 'khaiValue': '59', 'so2Value': '0.003', 'coValue': '0.4', 'pm25Flag': None, 'pm10Flag': None, 'o3Grade': '2', 'pm10Value': '35', 'khaiGrade': '2', 'pm25Value': '2', 'sidoName': '대구', 'no2Flag': None, 'no2Grade': '1', 'o3Flag': None, 'pm25Grade': '1', 'so2Flag': None, 'dataTime': '2022-02-05 15:00', 'coGrade': '1', 'no2Value': '0.009', 'stationName': '만촌동', 'pm10Grade': '1', 'o3Value': '0.041'}, {'so2Grade': '1', 'coFlag': None, 'khaiValue': '59', 'so2Value': '0.002', 'coValue': '0.3', 'pm25Flag': None, 'pm10Flag': None, 'o3Grade': '2', 'pm10Value': '27', 'khaiGrade': '2', 'pm25Value': '8', 'sidoName': '대구', 'no2Flag': None, 'no2Grade': '1', 'o3Flag': None, 'pm25Grade': '1', 'so2Flag': None, 'dataTime': '2022-02-05 15:00', 'coGrade': '1', 'no2Value': '0.005', 'stationName': '호림동', 'pm10Grade': '1', 'o3Value': '0.041'}], 'pageNo': 1, 'numOfRows': 1000}, 'header': {'resultMsg': 'NORMAL_CODE', 'resultCode': '00'}}}\n"
     ]
    }
   ],
   "source": [
    "print(type(data))\n",
    "print(data)"
   ]
  },
  {
   "cell_type": "code",
   "execution_count": 23,
   "id": "830f0957",
   "metadata": {
    "scrolled": true
   },
   "outputs": [
    {
     "data": {
      "text/plain": [
       "[{'so2Grade': '1',\n",
       "  'coFlag': None,\n",
       "  'khaiValue': '61',\n",
       "  'so2Value': '0.002',\n",
       "  'coValue': '0.6',\n",
       "  'pm25Flag': None,\n",
       "  'pm10Flag': None,\n",
       "  'o3Grade': '2',\n",
       "  'pm10Value': '21',\n",
       "  'khaiGrade': '2',\n",
       "  'pm25Value': '5',\n",
       "  'sidoName': '대구',\n",
       "  'no2Flag': None,\n",
       "  'no2Grade': '1',\n",
       "  'o3Flag': None,\n",
       "  'pm25Grade': '1',\n",
       "  'so2Flag': None,\n",
       "  'dataTime': '2022-02-05 15:00',\n",
       "  'coGrade': '1',\n",
       "  'no2Value': '0.003',\n",
       "  'stationName': '유가읍',\n",
       "  'pm10Grade': '1',\n",
       "  'o3Value': '0.043'},\n",
       " {'so2Grade': '1',\n",
       "  'coFlag': None,\n",
       "  'khaiValue': '61',\n",
       "  'so2Value': '0.002',\n",
       "  'coValue': '0.1',\n",
       "  'pm25Flag': None,\n",
       "  'pm10Flag': None,\n",
       "  'o3Grade': '2',\n",
       "  'pm10Value': '26',\n",
       "  'khaiGrade': '2',\n",
       "  'pm25Value': '9',\n",
       "  'sidoName': '대구',\n",
       "  'no2Flag': None,\n",
       "  'no2Grade': '1',\n",
       "  'o3Flag': None,\n",
       "  'pm25Grade': '1',\n",
       "  'so2Flag': None,\n",
       "  'dataTime': '2022-02-05 15:00',\n",
       "  'coGrade': '1',\n",
       "  'no2Value': '0.006',\n",
       "  'stationName': '이곡동',\n",
       "  'pm10Grade': '1',\n",
       "  'o3Value': '0.043'},\n",
       " {'so2Grade': '1',\n",
       "  'coFlag': None,\n",
       "  'khaiValue': '59',\n",
       "  'so2Value': '0.002',\n",
       "  'coValue': '0.3',\n",
       "  'pm25Flag': None,\n",
       "  'pm10Flag': None,\n",
       "  'o3Grade': '2',\n",
       "  'pm10Value': '30',\n",
       "  'khaiGrade': '2',\n",
       "  'pm25Value': '6',\n",
       "  'sidoName': '대구',\n",
       "  'no2Flag': None,\n",
       "  'no2Grade': '1',\n",
       "  'o3Flag': None,\n",
       "  'pm25Grade': '1',\n",
       "  'so2Flag': None,\n",
       "  'dataTime': '2022-02-05 15:00',\n",
       "  'coGrade': '1',\n",
       "  'no2Value': '0.005',\n",
       "  'stationName': '시지동',\n",
       "  'pm10Grade': '1',\n",
       "  'o3Value': '0.041'},\n",
       " {'so2Grade': '1',\n",
       "  'coFlag': None,\n",
       "  'khaiValue': '54',\n",
       "  'so2Value': '0.001',\n",
       "  'coValue': '0.3',\n",
       "  'pm25Flag': None,\n",
       "  'pm10Flag': None,\n",
       "  'o3Grade': '1',\n",
       "  'pm10Value': '43',\n",
       "  'khaiGrade': '2',\n",
       "  'pm25Value': '5',\n",
       "  'sidoName': '대구',\n",
       "  'no2Flag': None,\n",
       "  'no2Grade': '1',\n",
       "  'o3Flag': None,\n",
       "  'pm25Grade': '1',\n",
       "  'so2Flag': None,\n",
       "  'dataTime': '2022-02-05 15:00',\n",
       "  'coGrade': '1',\n",
       "  'no2Value': '0.011',\n",
       "  'stationName': '진천동',\n",
       "  'pm10Grade': '2',\n",
       "  'o3Value': '0.027'},\n",
       " {'so2Grade': None,\n",
       "  'coFlag': None,\n",
       "  'khaiValue': '61',\n",
       "  'so2Value': '-',\n",
       "  'coValue': '0.3',\n",
       "  'pm25Flag': None,\n",
       "  'pm10Flag': None,\n",
       "  'o3Grade': '2',\n",
       "  'pm10Value': '28',\n",
       "  'khaiGrade': '2',\n",
       "  'pm25Value': '7',\n",
       "  'sidoName': '대구',\n",
       "  'no2Flag': None,\n",
       "  'no2Grade': '1',\n",
       "  'o3Flag': None,\n",
       "  'pm25Grade': '1',\n",
       "  'so2Flag': '자료이상',\n",
       "  'dataTime': '2022-02-05 15:00',\n",
       "  'coGrade': '1',\n",
       "  'no2Value': '0.003',\n",
       "  'stationName': '다사읍',\n",
       "  'pm10Grade': '1',\n",
       "  'o3Value': '0.043'},\n",
       " {'so2Grade': '1',\n",
       "  'coFlag': None,\n",
       "  'khaiValue': '59',\n",
       "  'so2Value': '0.001',\n",
       "  'coValue': '0.1',\n",
       "  'pm25Flag': None,\n",
       "  'pm10Flag': None,\n",
       "  'o3Grade': '2',\n",
       "  'pm10Value': '45',\n",
       "  'khaiGrade': '2',\n",
       "  'pm25Value': '6',\n",
       "  'sidoName': '대구',\n",
       "  'no2Flag': None,\n",
       "  'no2Grade': '1',\n",
       "  'o3Flag': None,\n",
       "  'pm25Grade': '1',\n",
       "  'so2Flag': None,\n",
       "  'dataTime': '2022-02-05 15:00',\n",
       "  'coGrade': '1',\n",
       "  'no2Value': '0.009',\n",
       "  'stationName': '본동',\n",
       "  'pm10Grade': '2',\n",
       "  'o3Value': '0.037'},\n",
       " {'so2Grade': '1',\n",
       "  'coFlag': None,\n",
       "  'khaiValue': '60',\n",
       "  'so2Value': '0.002',\n",
       "  'coValue': '0.3',\n",
       "  'pm25Flag': None,\n",
       "  'pm10Flag': None,\n",
       "  'o3Grade': '2',\n",
       "  'pm10Value': '29',\n",
       "  'khaiGrade': '2',\n",
       "  'pm25Value': '5',\n",
       "  'sidoName': '대구',\n",
       "  'no2Flag': None,\n",
       "  'no2Grade': '1',\n",
       "  'o3Flag': None,\n",
       "  'pm25Grade': '1',\n",
       "  'so2Flag': None,\n",
       "  'dataTime': '2022-02-05 15:00',\n",
       "  'coGrade': '1',\n",
       "  'no2Value': '0.004',\n",
       "  'stationName': '내당동',\n",
       "  'pm10Grade': '1',\n",
       "  'o3Value': '0.042'},\n",
       " {'so2Grade': '1',\n",
       "  'coFlag': None,\n",
       "  'khaiValue': '58',\n",
       "  'so2Value': '0.002',\n",
       "  'coValue': '0.2',\n",
       "  'pm25Flag': None,\n",
       "  'pm10Flag': None,\n",
       "  'o3Grade': '2',\n",
       "  'pm10Value': '43',\n",
       "  'khaiGrade': '2',\n",
       "  'pm25Value': '10',\n",
       "  'sidoName': '대구',\n",
       "  'no2Flag': None,\n",
       "  'no2Grade': '1',\n",
       "  'o3Flag': None,\n",
       "  'pm25Grade': '1',\n",
       "  'so2Flag': None,\n",
       "  'dataTime': '2022-02-05 15:00',\n",
       "  'coGrade': '1',\n",
       "  'no2Value': '0.005',\n",
       "  'stationName': '침산동',\n",
       "  'pm10Grade': '1',\n",
       "  'o3Value': '0.039'},\n",
       " {'so2Grade': '1',\n",
       "  'coFlag': None,\n",
       "  'khaiValue': '59',\n",
       "  'so2Value': '0.002',\n",
       "  'coValue': '0.2',\n",
       "  'pm25Flag': None,\n",
       "  'pm10Flag': None,\n",
       "  'o3Grade': '2',\n",
       "  'pm10Value': '32',\n",
       "  'khaiGrade': '2',\n",
       "  'pm25Value': '9',\n",
       "  'sidoName': '대구',\n",
       "  'no2Flag': None,\n",
       "  'no2Grade': '1',\n",
       "  'o3Flag': None,\n",
       "  'pm25Grade': '1',\n",
       "  'so2Flag': None,\n",
       "  'dataTime': '2022-02-05 15:00',\n",
       "  'coGrade': '1',\n",
       "  'no2Value': '0.005',\n",
       "  'stationName': '화원읍',\n",
       "  'pm10Grade': '1',\n",
       "  'o3Value': '0.041'},\n",
       " {'so2Grade': '1',\n",
       "  'coFlag': None,\n",
       "  'khaiValue': '60',\n",
       "  'so2Value': '0.002',\n",
       "  'coValue': '0.2',\n",
       "  'pm25Flag': None,\n",
       "  'pm10Flag': None,\n",
       "  'o3Grade': '2',\n",
       "  'pm10Value': '37',\n",
       "  'khaiGrade': '2',\n",
       "  'pm25Value': '5',\n",
       "  'sidoName': '대구',\n",
       "  'no2Flag': None,\n",
       "  'no2Grade': '1',\n",
       "  'o3Flag': None,\n",
       "  'pm25Grade': '1',\n",
       "  'so2Flag': None,\n",
       "  'dataTime': '2022-02-05 15:00',\n",
       "  'coGrade': '1',\n",
       "  'no2Value': '0.008',\n",
       "  'stationName': '수창동',\n",
       "  'pm10Grade': '1',\n",
       "  'o3Value': '0.042'},\n",
       " {'so2Grade': '1',\n",
       "  'coFlag': None,\n",
       "  'khaiValue': '53',\n",
       "  'so2Value': '0.004',\n",
       "  'coValue': '0.3',\n",
       "  'pm25Flag': None,\n",
       "  'pm10Flag': None,\n",
       "  'o3Grade': '2',\n",
       "  'pm10Value': '33',\n",
       "  'khaiGrade': '2',\n",
       "  'pm25Value': '10',\n",
       "  'sidoName': '대구',\n",
       "  'no2Flag': None,\n",
       "  'no2Grade': '1',\n",
       "  'o3Flag': None,\n",
       "  'pm25Grade': '1',\n",
       "  'so2Flag': None,\n",
       "  'dataTime': '2022-02-05 15:00',\n",
       "  'coGrade': '1',\n",
       "  'no2Value': '0.007',\n",
       "  'stationName': '지산동',\n",
       "  'pm10Grade': '2',\n",
       "  'o3Value': '0.033'},\n",
       " {'so2Grade': '1',\n",
       "  'coFlag': None,\n",
       "  'khaiValue': '-',\n",
       "  'so2Value': '0.002',\n",
       "  'coValue': '0.3',\n",
       "  'pm25Flag': None,\n",
       "  'pm10Flag': None,\n",
       "  'o3Grade': '2',\n",
       "  'pm10Value': '37',\n",
       "  'khaiGrade': None,\n",
       "  'pm25Value': '8',\n",
       "  'sidoName': '대구',\n",
       "  'no2Flag': None,\n",
       "  'no2Grade': '1',\n",
       "  'o3Flag': None,\n",
       "  'pm25Grade': None,\n",
       "  'so2Flag': None,\n",
       "  'dataTime': '2022-02-05 15:00',\n",
       "  'coGrade': '1',\n",
       "  'no2Value': '0.007',\n",
       "  'stationName': '서호동',\n",
       "  'pm10Grade': None,\n",
       "  'o3Value': '0.037'},\n",
       " {'so2Grade': '1',\n",
       "  'coFlag': None,\n",
       "  'khaiValue': '62',\n",
       "  'so2Value': '0.002',\n",
       "  'coValue': '0.3',\n",
       "  'pm25Flag': None,\n",
       "  'pm10Flag': None,\n",
       "  'o3Grade': '2',\n",
       "  'pm10Value': '26',\n",
       "  'khaiGrade': '2',\n",
       "  'pm25Value': '7',\n",
       "  'sidoName': '대구',\n",
       "  'no2Flag': None,\n",
       "  'no2Grade': '1',\n",
       "  'o3Flag': None,\n",
       "  'pm25Grade': '1',\n",
       "  'so2Flag': None,\n",
       "  'dataTime': '2022-02-05 15:00',\n",
       "  'coGrade': '1',\n",
       "  'no2Value': '0.005',\n",
       "  'stationName': '이현동',\n",
       "  'pm10Grade': '1',\n",
       "  'o3Value': '0.044'},\n",
       " {'so2Grade': '1',\n",
       "  'coFlag': None,\n",
       "  'khaiValue': '60',\n",
       "  'so2Value': '0.002',\n",
       "  'coValue': '0.3',\n",
       "  'pm25Flag': None,\n",
       "  'pm10Flag': None,\n",
       "  'o3Grade': '2',\n",
       "  'pm10Value': '43',\n",
       "  'khaiGrade': '2',\n",
       "  'pm25Value': '8',\n",
       "  'sidoName': '대구',\n",
       "  'no2Flag': None,\n",
       "  'no2Grade': '1',\n",
       "  'o3Flag': None,\n",
       "  'pm25Grade': '1',\n",
       "  'so2Flag': None,\n",
       "  'dataTime': '2022-02-05 15:00',\n",
       "  'coGrade': '1',\n",
       "  'no2Value': '0.010',\n",
       "  'stationName': '평리동',\n",
       "  'pm10Grade': '2',\n",
       "  'o3Value': '0.039'},\n",
       " {'so2Grade': '1',\n",
       "  'coFlag': None,\n",
       "  'khaiValue': '59',\n",
       "  'so2Value': '0.002',\n",
       "  'coValue': '0.3',\n",
       "  'pm25Flag': None,\n",
       "  'pm10Flag': None,\n",
       "  'o3Grade': '2',\n",
       "  'pm10Value': '27',\n",
       "  'khaiGrade': '2',\n",
       "  'pm25Value': '7',\n",
       "  'sidoName': '대구',\n",
       "  'no2Flag': None,\n",
       "  'no2Grade': '1',\n",
       "  'o3Flag': None,\n",
       "  'pm25Grade': '1',\n",
       "  'so2Flag': None,\n",
       "  'dataTime': '2022-02-05 15:00',\n",
       "  'coGrade': '1',\n",
       "  'no2Value': '0.004',\n",
       "  'stationName': '대명동',\n",
       "  'pm10Grade': '1',\n",
       "  'o3Value': '0.041'},\n",
       " {'so2Grade': '1',\n",
       "  'coFlag': None,\n",
       "  'khaiValue': '60',\n",
       "  'so2Value': '0.001',\n",
       "  'coValue': '0.5',\n",
       "  'pm25Flag': None,\n",
       "  'pm10Flag': None,\n",
       "  'o3Grade': '2',\n",
       "  'pm10Value': '39',\n",
       "  'khaiGrade': '2',\n",
       "  'pm25Value': '6',\n",
       "  'sidoName': '대구',\n",
       "  'no2Flag': None,\n",
       "  'no2Grade': '1',\n",
       "  'o3Flag': None,\n",
       "  'pm25Grade': '1',\n",
       "  'so2Flag': None,\n",
       "  'dataTime': '2022-02-05 15:00',\n",
       "  'coGrade': '1',\n",
       "  'no2Value': '0.005',\n",
       "  'stationName': '신암동',\n",
       "  'pm10Grade': '1',\n",
       "  'o3Value': '0.042'},\n",
       " {'so2Grade': '1',\n",
       "  'coFlag': None,\n",
       "  'khaiValue': '60',\n",
       "  'so2Value': '0.002',\n",
       "  'coValue': '0.4',\n",
       "  'pm25Flag': None,\n",
       "  'pm10Flag': None,\n",
       "  'o3Grade': '2',\n",
       "  'pm10Value': '34',\n",
       "  'khaiGrade': '2',\n",
       "  'pm25Value': '7',\n",
       "  'sidoName': '대구',\n",
       "  'no2Flag': None,\n",
       "  'no2Grade': '1',\n",
       "  'o3Flag': None,\n",
       "  'pm25Grade': '1',\n",
       "  'so2Flag': None,\n",
       "  'dataTime': '2022-02-05 15:00',\n",
       "  'coGrade': '1',\n",
       "  'no2Value': '0.002',\n",
       "  'stationName': '태전동',\n",
       "  'pm10Grade': '1',\n",
       "  'o3Value': '0.042'},\n",
       " {'so2Grade': '1',\n",
       "  'coFlag': None,\n",
       "  'khaiValue': '61',\n",
       "  'so2Value': '0.002',\n",
       "  'coValue': '0.2',\n",
       "  'pm25Flag': None,\n",
       "  'pm10Flag': None,\n",
       "  'o3Grade': '2',\n",
       "  'pm10Value': '27',\n",
       "  'khaiGrade': '2',\n",
       "  'pm25Value': '7',\n",
       "  'sidoName': '대구',\n",
       "  'no2Flag': None,\n",
       "  'no2Grade': '1',\n",
       "  'o3Flag': None,\n",
       "  'pm25Grade': '1',\n",
       "  'so2Flag': None,\n",
       "  'dataTime': '2022-02-05 15:00',\n",
       "  'coGrade': '1',\n",
       "  'no2Value': '0.003',\n",
       "  'stationName': '산격동',\n",
       "  'pm10Grade': '1',\n",
       "  'o3Value': '0.043'},\n",
       " {'so2Grade': '1',\n",
       "  'coFlag': None,\n",
       "  'khaiValue': '59',\n",
       "  'so2Value': '0.003',\n",
       "  'coValue': '0.4',\n",
       "  'pm25Flag': None,\n",
       "  'pm10Flag': None,\n",
       "  'o3Grade': '2',\n",
       "  'pm10Value': '35',\n",
       "  'khaiGrade': '2',\n",
       "  'pm25Value': '2',\n",
       "  'sidoName': '대구',\n",
       "  'no2Flag': None,\n",
       "  'no2Grade': '1',\n",
       "  'o3Flag': None,\n",
       "  'pm25Grade': '1',\n",
       "  'so2Flag': None,\n",
       "  'dataTime': '2022-02-05 15:00',\n",
       "  'coGrade': '1',\n",
       "  'no2Value': '0.009',\n",
       "  'stationName': '만촌동',\n",
       "  'pm10Grade': '1',\n",
       "  'o3Value': '0.041'},\n",
       " {'so2Grade': '1',\n",
       "  'coFlag': None,\n",
       "  'khaiValue': '59',\n",
       "  'so2Value': '0.002',\n",
       "  'coValue': '0.3',\n",
       "  'pm25Flag': None,\n",
       "  'pm10Flag': None,\n",
       "  'o3Grade': '2',\n",
       "  'pm10Value': '27',\n",
       "  'khaiGrade': '2',\n",
       "  'pm25Value': '8',\n",
       "  'sidoName': '대구',\n",
       "  'no2Flag': None,\n",
       "  'no2Grade': '1',\n",
       "  'o3Flag': None,\n",
       "  'pm25Grade': '1',\n",
       "  'so2Flag': None,\n",
       "  'dataTime': '2022-02-05 15:00',\n",
       "  'coGrade': '1',\n",
       "  'no2Value': '0.005',\n",
       "  'stationName': '호림동',\n",
       "  'pm10Grade': '1',\n",
       "  'o3Value': '0.041'}]"
      ]
     },
     "execution_count": 23,
     "metadata": {},
     "output_type": "execute_result"
    }
   ],
   "source": [
    "data['response']['body']['items']"
   ]
  },
  {
   "cell_type": "code",
   "execution_count": 21,
   "id": "76bdad3a",
   "metadata": {},
   "outputs": [
    {
     "data": {
      "text/plain": [
       "dict_keys(['response'])"
      ]
     },
     "execution_count": 21,
     "metadata": {},
     "output_type": "execute_result"
    }
   ],
   "source": [
    "data.keys()"
   ]
  },
  {
   "cell_type": "code",
   "execution_count": null,
   "id": "50996f56",
   "metadata": {},
   "outputs": [],
   "source": []
  },
  {
   "cell_type": "code",
   "execution_count": null,
   "id": "2ba0b5af",
   "metadata": {},
   "outputs": [],
   "source": []
  },
  {
   "cell_type": "code",
   "execution_count": null,
   "id": "69bb8160",
   "metadata": {},
   "outputs": [],
   "source": []
  },
  {
   "cell_type": "code",
   "execution_count": null,
   "id": "cfa1eeb3",
   "metadata": {},
   "outputs": [],
   "source": []
  },
  {
   "cell_type": "code",
   "execution_count": 2,
   "id": "ecc96611",
   "metadata": {},
   "outputs": [],
   "source": [
    "import numpy as np"
   ]
  },
  {
   "cell_type": "markdown",
   "id": "cb81163f",
   "metadata": {},
   "source": [
    "##### shape(3,) 인 ndarray 생성"
   ]
  },
  {
   "cell_type": "code",
   "execution_count": 7,
   "id": "53f10316",
   "metadata": {},
   "outputs": [
    {
     "data": {
      "text/plain": [
       "array([0.56379781, 0.20339745, 0.64684544])"
      ]
     },
     "execution_count": 7,
     "metadata": {},
     "output_type": "execute_result"
    }
   ],
   "source": [
    "a = np.random.rand(3,)\n",
    "a"
   ]
  },
  {
   "cell_type": "code",
   "execution_count": 8,
   "id": "173b9e9d",
   "metadata": {},
   "outputs": [
    {
     "data": {
      "text/plain": [
       "array([[1., 1., 1.],\n",
       "       [1., 1., 1.]])"
      ]
     },
     "execution_count": 8,
     "metadata": {},
     "output_type": "execute_result"
    }
   ],
   "source": [
    "# shape (2,3) 인 ndarray\n",
    "b = np.ones((2,3))\n",
    "b\n",
    "# shape 형태, ndim 차원"
   ]
  },
  {
   "cell_type": "code",
   "execution_count": 42,
   "id": "55877e13",
   "metadata": {},
   "outputs": [
    {
     "data": {
      "text/plain": [
       "array([[[0.26106894, 0.74096221],\n",
       "        [0.34782218, 0.69184127],\n",
       "        [0.68661232, 0.51264172]],\n",
       "\n",
       "       [[0.0299653 , 0.55712884],\n",
       "        [0.28429917, 0.92890982],\n",
       "        [0.77344216, 0.08334582]]])"
      ]
     },
     "execution_count": 42,
     "metadata": {},
     "output_type": "execute_result"
    }
   ],
   "source": [
    "# shape (2,3,2) 인 ndarray\n",
    "c = np.random.rand(2,3,2)\n",
    "c"
   ]
  },
  {
   "cell_type": "code",
   "execution_count": 60,
   "id": "ce4c0c48",
   "metadata": {},
   "outputs": [],
   "source": [
    "import warnings\n",
    "warnings.filterwarnings(\"ignore\")"
   ]
  },
  {
   "cell_type": "code",
   "execution_count": 61,
   "id": "f61369d0",
   "metadata": {},
   "outputs": [
    {
     "data": {
      "text/plain": [
       "array([['1', '1']], dtype='<U1')"
      ]
     },
     "execution_count": 61,
     "metadata": {},
     "output_type": "execute_result"
    }
   ],
   "source": [
    "# type 이 문자열인 shape(1,2) 인 ndarray\n",
    "d = np.ones((1,2), dtype =np.str)\n",
    "d"
   ]
  },
  {
   "cell_type": "code",
   "execution_count": 62,
   "id": "389af6e3",
   "metadata": {},
   "outputs": [
    {
     "data": {
      "text/plain": [
       "array([[1.],\n",
       "       [1.]])"
      ]
     },
     "execution_count": 62,
     "metadata": {},
     "output_type": "execute_result"
    }
   ],
   "source": [
    "# type 이 float인 shape(2,1) 인 ndarray\n",
    "e = np.ones((2,1), dtype =np.float)\n",
    "e"
   ]
  },
  {
   "cell_type": "code",
   "execution_count": null,
   "id": "59bdbba9",
   "metadata": {},
   "outputs": [],
   "source": [
    "# 첫째행은 int , 둘째행은 float 인 (2,1)\n"
   ]
  },
  {
   "cell_type": "code",
   "execution_count": 69,
   "id": "487b7df4",
   "metadata": {},
   "outputs": [
    {
     "name": "stdout",
     "output_type": "stream",
     "text": [
      "[1. 2. 3.]\n"
     ]
    },
    {
     "data": {
      "text/plain": [
       "numpy.ndarray"
      ]
     },
     "execution_count": 69,
     "metadata": {},
     "output_type": "execute_result"
    }
   ],
   "source": [
    "# [1,2,3.0]으로 생성 했을때 타입\n",
    "h = np.array([1, 2, 3.0])\n",
    "print(h)\n",
    "type(h)"
   ]
  },
  {
   "cell_type": "code",
   "execution_count": 6,
   "id": "c16c3d77",
   "metadata": {},
   "outputs": [
    {
     "data": {
      "text/plain": [
       "array([   1,    2,    3,    4,    5,    6,    7,    8,    9,   10,   11,\n",
       "         12,   13,   14,   15,   16,   17,   18,   19,   20,   21,   22,\n",
       "         23,   24,   25,   26,   27,   28,   29,   30,   31,   32,   33,\n",
       "         34,   35,   36,   37,   38,   39,   40,   41,   42,   43,   44,\n",
       "         45,   46,   47,   48,   49,   50,   51,   52,   53,   54,   55,\n",
       "         56,   57,   58,   59,   60,   61,   62,   63,   64,   65,   66,\n",
       "         67,   68,   69,   70,   71,   72,   73,   74,   75,   76,   77,\n",
       "         78,   79,   80,   81,   82,   83,   84,   85,   86,   87,   88,\n",
       "         89,   90,   91,   92,   93,   94,   95,   96,   97,   98,   99,\n",
       "        100,  101,  102,  103,  104,  105,  106,  107,  108,  109,  110,\n",
       "        111,  112,  113,  114,  115,  116,  117,  118,  119,  120,  121,\n",
       "        122,  123,  124,  125,  126,  127,  128,  129,  130,  131,  132,\n",
       "        133,  134,  135,  136,  137,  138,  139,  140,  141,  142,  143,\n",
       "        144,  145,  146,  147,  148,  149,  150,  151,  152,  153,  154,\n",
       "        155,  156,  157,  158,  159,  160,  161,  162,  163,  164,  165,\n",
       "        166,  167,  168,  169,  170,  171,  172,  173,  174,  175,  176,\n",
       "        177,  178,  179,  180,  181,  182,  183,  184,  185,  186,  187,\n",
       "        188,  189,  190,  191,  192,  193,  194,  195,  196,  197,  198,\n",
       "        199,  200,  201,  202,  203,  204,  205,  206,  207,  208,  209,\n",
       "        210,  211,  212,  213,  214,  215,  216,  217,  218,  219,  220,\n",
       "        221,  222,  223,  224,  225,  226,  227,  228,  229,  230,  231,\n",
       "        232,  233,  234,  235,  236,  237,  238,  239,  240,  241,  242,\n",
       "        243,  244,  245,  246,  247,  248,  249,  250,  251,  252,  253,\n",
       "        254,  255,  256,  257,  258,  259,  260,  261,  262,  263,  264,\n",
       "        265,  266,  267,  268,  269,  270,  271,  272,  273,  274,  275,\n",
       "        276,  277,  278,  279,  280,  281,  282,  283,  284,  285,  286,\n",
       "        287,  288,  289,  290,  291,  292,  293,  294,  295,  296,  297,\n",
       "        298,  299,  300,  301,  302,  303,  304,  305,  306,  307,  308,\n",
       "        309,  310,  311,  312,  313,  314,  315,  316,  317,  318,  319,\n",
       "        320,  321,  322,  323,  324,  325,  326,  327,  328,  329,  330,\n",
       "        331,  332,  333,  334,  335,  336,  337,  338,  339,  340,  341,\n",
       "        342,  343,  344,  345,  346,  347,  348,  349,  350,  351,  352,\n",
       "        353,  354,  355,  356,  357,  358,  359,  360,  361,  362,  363,\n",
       "        364,  365,  366,  367,  368,  369,  370,  371,  372,  373,  374,\n",
       "        375,  376,  377,  378,  379,  380,  381,  382,  383,  384,  385,\n",
       "        386,  387,  388,  389,  390,  391,  392,  393,  394,  395,  396,\n",
       "        397,  398,  399,  400,  401,  402,  403,  404,  405,  406,  407,\n",
       "        408,  409,  410,  411,  412,  413,  414,  415,  416,  417,  418,\n",
       "        419,  420,  421,  422,  423,  424,  425,  426,  427,  428,  429,\n",
       "        430,  431,  432,  433,  434,  435,  436,  437,  438,  439,  440,\n",
       "        441,  442,  443,  444,  445,  446,  447,  448,  449,  450,  451,\n",
       "        452,  453,  454,  455,  456,  457,  458,  459,  460,  461,  462,\n",
       "        463,  464,  465,  466,  467,  468,  469,  470,  471,  472,  473,\n",
       "        474,  475,  476,  477,  478,  479,  480,  481,  482,  483,  484,\n",
       "        485,  486,  487,  488,  489,  490,  491,  492,  493,  494,  495,\n",
       "        496,  497,  498,  499,  500,  501,  502,  503,  504,  505,  506,\n",
       "        507,  508,  509,  510,  511,  512,  513,  514,  515,  516,  517,\n",
       "        518,  519,  520,  521,  522,  523,  524,  525,  526,  527,  528,\n",
       "        529,  530,  531,  532,  533,  534,  535,  536,  537,  538,  539,\n",
       "        540,  541,  542,  543,  544,  545,  546,  547,  548,  549,  550,\n",
       "        551,  552,  553,  554,  555,  556,  557,  558,  559,  560,  561,\n",
       "        562,  563,  564,  565,  566,  567,  568,  569,  570,  571,  572,\n",
       "        573,  574,  575,  576,  577,  578,  579,  580,  581,  582,  583,\n",
       "        584,  585,  586,  587,  588,  589,  590,  591,  592,  593,  594,\n",
       "        595,  596,  597,  598,  599,  600,  601,  602,  603,  604,  605,\n",
       "        606,  607,  608,  609,  610,  611,  612,  613,  614,  615,  616,\n",
       "        617,  618,  619,  620,  621,  622,  623,  624,  625,  626,  627,\n",
       "        628,  629,  630,  631,  632,  633,  634,  635,  636,  637,  638,\n",
       "        639,  640,  641,  642,  643,  644,  645,  646,  647,  648,  649,\n",
       "        650,  651,  652,  653,  654,  655,  656,  657,  658,  659,  660,\n",
       "        661,  662,  663,  664,  665,  666,  667,  668,  669,  670,  671,\n",
       "        672,  673,  674,  675,  676,  677,  678,  679,  680,  681,  682,\n",
       "        683,  684,  685,  686,  687,  688,  689,  690,  691,  692,  693,\n",
       "        694,  695,  696,  697,  698,  699,  700,  701,  702,  703,  704,\n",
       "        705,  706,  707,  708,  709,  710,  711,  712,  713,  714,  715,\n",
       "        716,  717,  718,  719,  720,  721,  722,  723,  724,  725,  726,\n",
       "        727,  728,  729,  730,  731,  732,  733,  734,  735,  736,  737,\n",
       "        738,  739,  740,  741,  742,  743,  744,  745,  746,  747,  748,\n",
       "        749,  750,  751,  752,  753,  754,  755,  756,  757,  758,  759,\n",
       "        760,  761,  762,  763,  764,  765,  766,  767,  768,  769,  770,\n",
       "        771,  772,  773,  774,  775,  776,  777,  778,  779,  780,  781,\n",
       "        782,  783,  784,  785,  786,  787,  788,  789,  790,  791,  792,\n",
       "        793,  794,  795,  796,  797,  798,  799,  800,  801,  802,  803,\n",
       "        804,  805,  806,  807,  808,  809,  810,  811,  812,  813,  814,\n",
       "        815,  816,  817,  818,  819,  820,  821,  822,  823,  824,  825,\n",
       "        826,  827,  828,  829,  830,  831,  832,  833,  834,  835,  836,\n",
       "        837,  838,  839,  840,  841,  842,  843,  844,  845,  846,  847,\n",
       "        848,  849,  850,  851,  852,  853,  854,  855,  856,  857,  858,\n",
       "        859,  860,  861,  862,  863,  864,  865,  866,  867,  868,  869,\n",
       "        870,  871,  872,  873,  874,  875,  876,  877,  878,  879,  880,\n",
       "        881,  882,  883,  884,  885,  886,  887,  888,  889,  890,  891,\n",
       "        892,  893,  894,  895,  896,  897,  898,  899,  900,  901,  902,\n",
       "        903,  904,  905,  906,  907,  908,  909,  910,  911,  912,  913,\n",
       "        914,  915,  916,  917,  918,  919,  920,  921,  922,  923,  924,\n",
       "        925,  926,  927,  928,  929,  930,  931,  932,  933,  934,  935,\n",
       "        936,  937,  938,  939,  940,  941,  942,  943,  944,  945,  946,\n",
       "        947,  948,  949,  950,  951,  952,  953,  954,  955,  956,  957,\n",
       "        958,  959,  960,  961,  962,  963,  964,  965,  966,  967,  968,\n",
       "        969,  970,  971,  972,  973,  974,  975,  976,  977,  978,  979,\n",
       "        980,  981,  982,  983,  984,  985,  986,  987,  988,  989,  990,\n",
       "        991,  992,  993,  994,  995,  996,  997,  998,  999, 1000])"
      ]
     },
     "execution_count": 6,
     "metadata": {},
     "output_type": "execute_result"
    }
   ],
   "source": [
    "# 1~1000까지의 값을 지님\n",
    "i =  np.arange(1000)+1\n",
    "i"
   ]
  },
  {
   "cell_type": "code",
   "execution_count": null,
   "id": "5d737cc5",
   "metadata": {},
   "outputs": [],
   "source": []
  }
 ],
 "metadata": {
  "kernelspec": {
   "display_name": "Python 3 (ipykernel)",
   "language": "python",
   "name": "python3"
  },
  "language_info": {
   "codemirror_mode": {
    "name": "ipython",
    "version": 3
   },
   "file_extension": ".py",
   "mimetype": "text/x-python",
   "name": "python",
   "nbconvert_exporter": "python",
   "pygments_lexer": "ipython3",
   "version": "3.9.7"
  }
 },
 "nbformat": 4,
 "nbformat_minor": 5
}
