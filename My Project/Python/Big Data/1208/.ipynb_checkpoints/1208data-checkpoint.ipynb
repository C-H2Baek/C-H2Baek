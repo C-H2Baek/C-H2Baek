{
 "cells": [
  {
   "cell_type": "markdown",
   "id": "7b6c39fe",
   "metadata": {},
   "source": [
    "<Step1. 탐색> : 데이터의 기초 정보 살펴보기"
   ]
  },
  {
   "cell_type": "markdown",
   "id": "889f970d",
   "metadata": {},
   "source": [
    "[Chipotle 데이터셋의 기본 정보]"
   ]
  },
  {
   "cell_type": "code",
   "execution_count": null,
   "id": "db935dbf",
   "metadata": {},
   "outputs": [],
   "source": [
    "# pandas 모듈 임포트\n",
    "import pandas as pd\n",
    "\n",
    "# read_csv() 함수로 데이터를 Dataframe 형태로 불러옵니다.\n",
    "# pd.read_csv(\"파일경로를 포함한 파일명\", sep=\"구분자\")\n",
    "# 로데이터를 상대 경로로 불러오기\n",
    "file_path = '../data/chipotle.tsv'\n",
    "chipo = pd_read_csv(file_path, sep='\\t')"
   ]
  }
 ],
 "metadata": {
  "kernelspec": {
   "display_name": "Python 3 (ipykernel)",
   "language": "python",
   "name": "python3"
  },
  "language_info": {
   "codemirror_mode": {
    "name": "ipython",
    "version": 3
   },
   "file_extension": ".py",
   "mimetype": "text/x-python",
   "name": "python",
   "nbconvert_exporter": "python",
   "pygments_lexer": "ipython3",
   "version": "3.9.7"
  }
 },
 "nbformat": 4,
 "nbformat_minor": 5
}
