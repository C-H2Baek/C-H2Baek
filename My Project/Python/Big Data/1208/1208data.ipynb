{
 "cells": [
  {
   "cell_type": "markdown",
   "id": "1ea1dcc4",
   "metadata": {},
   "source": [
    "# <Step1. 탐색> : 데이터의 기초 정보 살펴보기"
   ]
  },
  {
   "cell_type": "markdown",
   "id": "3faee956",
   "metadata": {},
   "source": [
    "# . csv\n",
    "행이 ',' 콤마로 구분된 파일\n",
    "# . tsv\n",
    "행이 '   ' tab로 구분된 파일\n",
    "# excel(.xlsx) 파일은 내보내기 후 csv 또는 tsv 로 전환"
   ]
  },
  {
   "cell_type": "markdown",
   "id": "0b0c4738",
   "metadata": {},
   "source": [
    "# 데이터의 외형적 분석\n",
    "1. 데이터의 출처\n",
    "2. 데이터의 크기\n",
    "3. 데이터의 구성요소\n",
    "\n",
    "샘플링 (sampleing) 어떤 자료로 부터 값을 추출하는 것"
   ]
  },
  {
   "cell_type": "markdown",
   "id": "4bb47fc0",
   "metadata": {},
   "source": [
    "# [Chipotle 데이터셋의 기본 정보]"
   ]
  },
  {
   "cell_type": "code",
   "execution_count": 12,
   "id": "e8df3276",
   "metadata": {},
   "outputs": [
    {
     "name": "stdout",
     "output_type": "stream",
     "text": [
      "(4622, 5)\n",
      "------------------------------------\n",
      "<class 'pandas.core.frame.DataFrame'>\n",
      "RangeIndex: 4622 entries, 0 to 4621\n",
      "Data columns (total 5 columns):\n",
      " #   Column              Non-Null Count  Dtype \n",
      "---  ------              --------------  ----- \n",
      " 0   order_id            4622 non-null   int64 \n",
      " 1   quantity            4622 non-null   int64 \n",
      " 2   item_name           4622 non-null   object\n",
      " 3   choice_description  3376 non-null   object\n",
      " 4   item_price          4622 non-null   object\n",
      "dtypes: int64(2), object(3)\n",
      "memory usage: 180.7+ KB\n",
      "None\n"
     ]
    }
   ],
   "source": [
    "# pandas 모듈 임포트\n",
    "import pandas as pd\n",
    "\n",
    "# read_csv() 함수로 데이터를 Dataframe 형태로 불러옵니다.\n",
    "# pd.read_csv(\"파일경로를 포함한 파일명\", sep=\"구분자\")\n",
    "# 로데이터를 상대 경로로 불러오기\n",
    "file_path = '../data/chipotle.tsv'\n",
    "chipo = pd.read_csv(file_path, sep='\\t')\n",
    "\n",
    "print(chipo.shape)\n",
    "print(\"------------------------------------\")\n",
    "print(chipo.info())"
   ]
  },
  {
   "cell_type": "markdown",
   "id": "082c1f6e",
   "metadata": {},
   "source": [
    "chipo 라는 Dataframe에서 순서대로 10개의 row 데이터를 보여줍니다.\n",
    "head() 함수에 인수를 생략하면 기본 5개의 데이터를 보여줌"
   ]
  },
  {
   "cell_type": "code",
   "execution_count": 13,
   "id": "5c8eedb0",
   "metadata": {},
   "outputs": [
    {
     "data": {
      "text/html": [
       "<div>\n",
       "<style scoped>\n",
       "    .dataframe tbody tr th:only-of-type {\n",
       "        vertical-align: middle;\n",
       "    }\n",
       "\n",
       "    .dataframe tbody tr th {\n",
       "        vertical-align: top;\n",
       "    }\n",
       "\n",
       "    .dataframe thead th {\n",
       "        text-align: right;\n",
       "    }\n",
       "</style>\n",
       "<table border=\"1\" class=\"dataframe\">\n",
       "  <thead>\n",
       "    <tr style=\"text-align: right;\">\n",
       "      <th></th>\n",
       "      <th>order_id</th>\n",
       "      <th>quantity</th>\n",
       "      <th>item_name</th>\n",
       "      <th>choice_description</th>\n",
       "      <th>item_price</th>\n",
       "    </tr>\n",
       "  </thead>\n",
       "  <tbody>\n",
       "    <tr>\n",
       "      <th>0</th>\n",
       "      <td>1</td>\n",
       "      <td>1</td>\n",
       "      <td>Chips and Fresh Tomato Salsa</td>\n",
       "      <td>NaN</td>\n",
       "      <td>$2.39</td>\n",
       "    </tr>\n",
       "    <tr>\n",
       "      <th>1</th>\n",
       "      <td>1</td>\n",
       "      <td>1</td>\n",
       "      <td>Izze</td>\n",
       "      <td>[Clementine]</td>\n",
       "      <td>$3.39</td>\n",
       "    </tr>\n",
       "    <tr>\n",
       "      <th>2</th>\n",
       "      <td>1</td>\n",
       "      <td>1</td>\n",
       "      <td>Nantucket Nectar</td>\n",
       "      <td>[Apple]</td>\n",
       "      <td>$3.39</td>\n",
       "    </tr>\n",
       "    <tr>\n",
       "      <th>3</th>\n",
       "      <td>1</td>\n",
       "      <td>1</td>\n",
       "      <td>Chips and Tomatillo-Green Chili Salsa</td>\n",
       "      <td>NaN</td>\n",
       "      <td>$2.39</td>\n",
       "    </tr>\n",
       "    <tr>\n",
       "      <th>4</th>\n",
       "      <td>2</td>\n",
       "      <td>2</td>\n",
       "      <td>Chicken Bowl</td>\n",
       "      <td>[Tomatillo-Red Chili Salsa (Hot), [Black Beans...</td>\n",
       "      <td>$16.98</td>\n",
       "    </tr>\n",
       "    <tr>\n",
       "      <th>5</th>\n",
       "      <td>3</td>\n",
       "      <td>1</td>\n",
       "      <td>Chicken Bowl</td>\n",
       "      <td>[Fresh Tomato Salsa (Mild), [Rice, Cheese, Sou...</td>\n",
       "      <td>$10.98</td>\n",
       "    </tr>\n",
       "    <tr>\n",
       "      <th>6</th>\n",
       "      <td>3</td>\n",
       "      <td>1</td>\n",
       "      <td>Side of Chips</td>\n",
       "      <td>NaN</td>\n",
       "      <td>$1.69</td>\n",
       "    </tr>\n",
       "    <tr>\n",
       "      <th>7</th>\n",
       "      <td>4</td>\n",
       "      <td>1</td>\n",
       "      <td>Steak Burrito</td>\n",
       "      <td>[Tomatillo Red Chili Salsa, [Fajita Vegetables...</td>\n",
       "      <td>$11.75</td>\n",
       "    </tr>\n",
       "    <tr>\n",
       "      <th>8</th>\n",
       "      <td>4</td>\n",
       "      <td>1</td>\n",
       "      <td>Steak Soft Tacos</td>\n",
       "      <td>[Tomatillo Green Chili Salsa, [Pinto Beans, Ch...</td>\n",
       "      <td>$9.25</td>\n",
       "    </tr>\n",
       "    <tr>\n",
       "      <th>9</th>\n",
       "      <td>5</td>\n",
       "      <td>1</td>\n",
       "      <td>Steak Burrito</td>\n",
       "      <td>[Fresh Tomato Salsa, [Rice, Black Beans, Pinto...</td>\n",
       "      <td>$9.25</td>\n",
       "    </tr>\n",
       "  </tbody>\n",
       "</table>\n",
       "</div>"
      ],
      "text/plain": [
       "   order_id  quantity                              item_name  \\\n",
       "0         1         1           Chips and Fresh Tomato Salsa   \n",
       "1         1         1                                   Izze   \n",
       "2         1         1                       Nantucket Nectar   \n",
       "3         1         1  Chips and Tomatillo-Green Chili Salsa   \n",
       "4         2         2                           Chicken Bowl   \n",
       "5         3         1                           Chicken Bowl   \n",
       "6         3         1                          Side of Chips   \n",
       "7         4         1                          Steak Burrito   \n",
       "8         4         1                       Steak Soft Tacos   \n",
       "9         5         1                          Steak Burrito   \n",
       "\n",
       "                                  choice_description item_price  \n",
       "0                                                NaN     $2.39   \n",
       "1                                       [Clementine]     $3.39   \n",
       "2                                            [Apple]     $3.39   \n",
       "3                                                NaN     $2.39   \n",
       "4  [Tomatillo-Red Chili Salsa (Hot), [Black Beans...    $16.98   \n",
       "5  [Fresh Tomato Salsa (Mild), [Rice, Cheese, Sou...    $10.98   \n",
       "6                                                NaN     $1.69   \n",
       "7  [Tomatillo Red Chili Salsa, [Fajita Vegetables...    $11.75   \n",
       "8  [Tomatillo Green Chili Salsa, [Pinto Beans, Ch...     $9.25   \n",
       "9  [Fresh Tomato Salsa, [Rice, Black Beans, Pinto...     $9.25   "
      ]
     },
     "execution_count": 13,
     "metadata": {},
     "output_type": "execute_result"
    }
   ],
   "source": [
    "chipo.head(10)"
   ]
  },
  {
   "cell_type": "code",
   "execution_count": 147,
   "id": "07023e34",
   "metadata": {},
   "outputs": [
    {
     "data": {
      "text/html": [
       "<div>\n",
       "<style scoped>\n",
       "    .dataframe tbody tr th:only-of-type {\n",
       "        vertical-align: middle;\n",
       "    }\n",
       "\n",
       "    .dataframe tbody tr th {\n",
       "        vertical-align: top;\n",
       "    }\n",
       "\n",
       "    .dataframe thead th {\n",
       "        text-align: right;\n",
       "    }\n",
       "</style>\n",
       "<table border=\"1\" class=\"dataframe\">\n",
       "  <thead>\n",
       "    <tr style=\"text-align: right;\">\n",
       "      <th></th>\n",
       "      <th>order_id</th>\n",
       "      <th>quantity</th>\n",
       "      <th>item_name</th>\n",
       "      <th>choice_description</th>\n",
       "      <th>item_price</th>\n",
       "    </tr>\n",
       "  </thead>\n",
       "  <tbody>\n",
       "    <tr>\n",
       "      <th>4612</th>\n",
       "      <td>1831</td>\n",
       "      <td>1</td>\n",
       "      <td>Carnitas Bowl</td>\n",
       "      <td>[Fresh Tomato Salsa, [Fajita Vegetables, Rice,...</td>\n",
       "      <td>$9.25</td>\n",
       "    </tr>\n",
       "    <tr>\n",
       "      <th>4613</th>\n",
       "      <td>1831</td>\n",
       "      <td>1</td>\n",
       "      <td>Chips</td>\n",
       "      <td>NaN</td>\n",
       "      <td>$2.15</td>\n",
       "    </tr>\n",
       "    <tr>\n",
       "      <th>4614</th>\n",
       "      <td>1831</td>\n",
       "      <td>1</td>\n",
       "      <td>Bottled Water</td>\n",
       "      <td>NaN</td>\n",
       "      <td>$1.50</td>\n",
       "    </tr>\n",
       "    <tr>\n",
       "      <th>4615</th>\n",
       "      <td>1832</td>\n",
       "      <td>1</td>\n",
       "      <td>Chicken Soft Tacos</td>\n",
       "      <td>[Fresh Tomato Salsa, [Rice, Cheese, Sour Cream]]</td>\n",
       "      <td>$8.75</td>\n",
       "    </tr>\n",
       "    <tr>\n",
       "      <th>4616</th>\n",
       "      <td>1832</td>\n",
       "      <td>1</td>\n",
       "      <td>Chips and Guacamole</td>\n",
       "      <td>NaN</td>\n",
       "      <td>$4.45</td>\n",
       "    </tr>\n",
       "    <tr>\n",
       "      <th>4617</th>\n",
       "      <td>1833</td>\n",
       "      <td>1</td>\n",
       "      <td>Steak Burrito</td>\n",
       "      <td>[Fresh Tomato Salsa, [Rice, Black Beans, Sour ...</td>\n",
       "      <td>$11.75</td>\n",
       "    </tr>\n",
       "    <tr>\n",
       "      <th>4618</th>\n",
       "      <td>1833</td>\n",
       "      <td>1</td>\n",
       "      <td>Steak Burrito</td>\n",
       "      <td>[Fresh Tomato Salsa, [Rice, Sour Cream, Cheese...</td>\n",
       "      <td>$11.75</td>\n",
       "    </tr>\n",
       "    <tr>\n",
       "      <th>4619</th>\n",
       "      <td>1834</td>\n",
       "      <td>1</td>\n",
       "      <td>Chicken Salad Bowl</td>\n",
       "      <td>[Fresh Tomato Salsa, [Fajita Vegetables, Pinto...</td>\n",
       "      <td>$11.25</td>\n",
       "    </tr>\n",
       "    <tr>\n",
       "      <th>4620</th>\n",
       "      <td>1834</td>\n",
       "      <td>1</td>\n",
       "      <td>Chicken Salad Bowl</td>\n",
       "      <td>[Fresh Tomato Salsa, [Fajita Vegetables, Lettu...</td>\n",
       "      <td>$8.75</td>\n",
       "    </tr>\n",
       "    <tr>\n",
       "      <th>4621</th>\n",
       "      <td>1834</td>\n",
       "      <td>1</td>\n",
       "      <td>Chicken Salad Bowl</td>\n",
       "      <td>[Fresh Tomato Salsa, [Fajita Vegetables, Pinto...</td>\n",
       "      <td>$8.75</td>\n",
       "    </tr>\n",
       "  </tbody>\n",
       "</table>\n",
       "</div>"
      ],
      "text/plain": [
       "     order_id  quantity            item_name  \\\n",
       "4612     1831         1        Carnitas Bowl   \n",
       "4613     1831         1                Chips   \n",
       "4614     1831         1        Bottled Water   \n",
       "4615     1832         1   Chicken Soft Tacos   \n",
       "4616     1832         1  Chips and Guacamole   \n",
       "4617     1833         1        Steak Burrito   \n",
       "4618     1833         1        Steak Burrito   \n",
       "4619     1834         1   Chicken Salad Bowl   \n",
       "4620     1834         1   Chicken Salad Bowl   \n",
       "4621     1834         1   Chicken Salad Bowl   \n",
       "\n",
       "                                     choice_description item_price  \n",
       "4612  [Fresh Tomato Salsa, [Fajita Vegetables, Rice,...     $9.25   \n",
       "4613                                                NaN     $2.15   \n",
       "4614                                                NaN     $1.50   \n",
       "4615   [Fresh Tomato Salsa, [Rice, Cheese, Sour Cream]]     $8.75   \n",
       "4616                                                NaN     $4.45   \n",
       "4617  [Fresh Tomato Salsa, [Rice, Black Beans, Sour ...    $11.75   \n",
       "4618  [Fresh Tomato Salsa, [Rice, Sour Cream, Cheese...    $11.75   \n",
       "4619  [Fresh Tomato Salsa, [Fajita Vegetables, Pinto...    $11.25   \n",
       "4620  [Fresh Tomato Salsa, [Fajita Vegetables, Lettu...     $8.75   \n",
       "4621  [Fresh Tomato Salsa, [Fajita Vegetables, Pinto...     $8.75   "
      ]
     },
     "execution_count": 147,
     "metadata": {},
     "output_type": "execute_result"
    }
   ],
   "source": [
    "chipo.tail(10)"
   ]
  },
  {
   "cell_type": "code",
   "execution_count": 18,
   "id": "07693141",
   "metadata": {},
   "outputs": [
    {
     "name": "stdout",
     "output_type": "stream",
     "text": [
      "Index(['order_id', 'quantity', 'item_name', 'choice_description',\n",
      "       'item_price'],\n",
      "      dtype='object')\n",
      "-------------------------\n",
      "RangeIndex(start=0, stop=4622, step=1)\n"
     ]
    }
   ],
   "source": [
    "# columns() 함수로 컴럼의 정보를 보여줌\n",
    "print(chipo.columns)\n",
    "print(\"-------------------------\")\n",
    "print(chipo.index)"
   ]
  },
  {
   "cell_type": "markdown",
   "id": "f7b0224b",
   "metadata": {},
   "source": [
    "[Chipotle 데이터셋의 수치적 특징 파악]"
   ]
  },
  {
   "cell_type": "markdown",
   "id": "94abb0ba",
   "metadata": {},
   "source": [
    "quantity와 item_price의 요약 통계"
   ]
  },
  {
   "cell_type": "markdown",
   "id": "cbe27067",
   "metadata": {},
   "source": [
    "describe() 함수로 요약 통계량 출력하기"
   ]
  },
  {
   "cell_type": "code",
   "execution_count": 20,
   "id": "ce92a5b2",
   "metadata": {
    "scrolled": true
   },
   "outputs": [
    {
     "data": {
      "text/html": [
       "<div>\n",
       "<style scoped>\n",
       "    .dataframe tbody tr th:only-of-type {\n",
       "        vertical-align: middle;\n",
       "    }\n",
       "\n",
       "    .dataframe tbody tr th {\n",
       "        vertical-align: top;\n",
       "    }\n",
       "\n",
       "    .dataframe thead th {\n",
       "        text-align: right;\n",
       "    }\n",
       "</style>\n",
       "<table border=\"1\" class=\"dataframe\">\n",
       "  <thead>\n",
       "    <tr style=\"text-align: right;\">\n",
       "      <th></th>\n",
       "      <th>quantity</th>\n",
       "    </tr>\n",
       "  </thead>\n",
       "  <tbody>\n",
       "    <tr>\n",
       "      <th>count</th>\n",
       "      <td>4622.000000</td>\n",
       "    </tr>\n",
       "    <tr>\n",
       "      <th>mean</th>\n",
       "      <td>1.075725</td>\n",
       "    </tr>\n",
       "    <tr>\n",
       "      <th>std</th>\n",
       "      <td>0.410186</td>\n",
       "    </tr>\n",
       "    <tr>\n",
       "      <th>min</th>\n",
       "      <td>1.000000</td>\n",
       "    </tr>\n",
       "    <tr>\n",
       "      <th>25%</th>\n",
       "      <td>1.000000</td>\n",
       "    </tr>\n",
       "    <tr>\n",
       "      <th>50%</th>\n",
       "      <td>1.000000</td>\n",
       "    </tr>\n",
       "    <tr>\n",
       "      <th>75%</th>\n",
       "      <td>1.000000</td>\n",
       "    </tr>\n",
       "    <tr>\n",
       "      <th>max</th>\n",
       "      <td>15.000000</td>\n",
       "    </tr>\n",
       "  </tbody>\n",
       "</table>\n",
       "</div>"
      ],
      "text/plain": [
       "          quantity\n",
       "count  4622.000000\n",
       "mean      1.075725\n",
       "std       0.410186\n",
       "min       1.000000\n",
       "25%       1.000000\n",
       "50%       1.000000\n",
       "75%       1.000000\n",
       "max      15.000000"
      ]
     },
     "execution_count": 20,
     "metadata": {},
     "output_type": "execute_result"
    }
   ],
   "source": [
    "# order_id는 숫자와 의미를 가지지 않기 때문에 str로 변환\n",
    "chipo['order_id'] = chipo['order_id'].astype(str)\n",
    "# chipo dataframe에서 수치형 피처들의 요약 통계량을 확인\n",
    "chipo.describe()"
   ]
  },
  {
   "cell_type": "markdown",
   "id": "2fdf7844",
   "metadata": {},
   "source": [
    "unique 함수로 범주형 피처의 개수 출력하기"
   ]
  },
  {
   "cell_type": "code",
   "execution_count": 21,
   "id": "6c9560a7",
   "metadata": {},
   "outputs": [
    {
     "data": {
      "text/plain": [
       "1834"
      ]
     },
     "execution_count": 21,
     "metadata": {},
     "output_type": "execute_result"
    }
   ],
   "source": [
    "# order_id의 개수를 출력\n",
    "len(chipo['order_id'].unique())"
   ]
  },
  {
   "cell_type": "code",
   "execution_count": 56,
   "id": "dde0e3be",
   "metadata": {},
   "outputs": [
    {
     "data": {
      "text/plain": [
       "50"
      ]
     },
     "execution_count": 56,
     "metadata": {},
     "output_type": "execute_result"
    }
   ],
   "source": [
    "# item_name의 개수를 출력\n",
    "len(chipo['item_name'].unique())"
   ]
  },
  {
   "cell_type": "code",
   "execution_count": 57,
   "id": "252a8084",
   "metadata": {
    "scrolled": true
   },
   "outputs": [
    {
     "name": "stdout",
     "output_type": "stream",
     "text": [
      "Top 1 : Chicken Bowl 726\n",
      "Top 2 : Chicken Burrito 553\n",
      "Top 3 : Chips and Guacamole 479\n",
      "Top 4 : Steak Burrito 368\n",
      "Top 5 : Canned Soft Drink 301\n",
      "Top 6 : Steak Bowl 211\n",
      "Top 7 : Chips 211\n",
      "Top 8 : Bottled Water 162\n",
      "Top 9 : Chicken Soft Tacos 115\n",
      "Top 10 : Chips and Fresh Tomato Salsa 110\n"
     ]
    }
   ],
   "source": [
    "# 가장 많이 주문한 item : top 10을 출력합니다.\n",
    "item_count = chipo['item_name'].value_counts()[:10]\n",
    "for idx, (val, cnt) in enumerate(item_count.iteritems(),1):\n",
    "    print(\"Top\" , idx , \":\", val, cnt)"
   ]
  },
  {
   "cell_type": "markdown",
   "id": "55b778bf",
   "metadata": {},
   "source": [
    "[item당 주문 개수와 총량 구하기]"
   ]
  },
  {
   "cell_type": "code",
   "execution_count": 58,
   "id": "44055c9d",
   "metadata": {},
   "outputs": [
    {
     "data": {
      "text/plain": [
       "item_name\n",
       "6 Pack Soft Drink         54\n",
       "Barbacoa Bowl             66\n",
       "Barbacoa Burrito          91\n",
       "Barbacoa Crispy Tacos     11\n",
       "Barbacoa Salad Bowl       10\n",
       "Barbacoa Soft Tacos       25\n",
       "Bottled Water            162\n",
       "Bowl                       2\n",
       "Burrito                    6\n",
       "Canned Soda              104\n",
       "Name: order_id, dtype: int64"
      ]
     },
     "execution_count": 58,
     "metadata": {},
     "output_type": "execute_result"
    }
   ],
   "source": [
    "# 아이템별 주문 개수를 출력합니다.\n",
    "order_count = chipo.groupby('item_name')['order_id'].count()\n",
    "order_count[:10] # 아이템별 주문 개수를 출력"
   ]
  },
  {
   "cell_type": "code",
   "execution_count": 59,
   "id": "051991dd",
   "metadata": {},
   "outputs": [
    {
     "data": {
      "text/plain": [
       "item_name\n",
       "6 Pack Soft Drink         55\n",
       "Barbacoa Bowl             66\n",
       "Barbacoa Burrito          91\n",
       "Barbacoa Crispy Tacos     12\n",
       "Barbacoa Salad Bowl       10\n",
       "Barbacoa Soft Tacos       25\n",
       "Bottled Water            211\n",
       "Bowl                       4\n",
       "Burrito                    6\n",
       "Canned Soda              126\n",
       "Name: quantity, dtype: int64"
      ]
     },
     "execution_count": 59,
     "metadata": {},
     "output_type": "execute_result"
    }
   ],
   "source": [
    "# 아이템별 주문 총량을 계산합니다.\n",
    "item_quantity = chipo.groupby('item_name')['quantity'].sum()\n",
    "item_quantity[:10] # 아이템별 주문 총량을 출력"
   ]
  },
  {
   "cell_type": "markdown",
   "id": "b5579c12",
   "metadata": {},
   "source": [
    "# 시각화로 분석 결과 살펴보기"
   ]
  },
  {
   "cell_type": "code",
   "execution_count": 81,
   "id": "783591fe",
   "metadata": {
    "scrolled": true
   },
   "outputs": [
    {
     "data": {
      "image/png": "[encoded data removed]",
      "text/plain": [
       "<Figure size 432x288 with 1 Axes>"
      ]
     },
     "metadata": {
      "needs_background": "light"
     },
     "output_type": "display_data"
    }
   ],
   "source": [
    "# %matplotlib inline\n",
    "import numpy as np\n",
    "import matplotlib.pyplot as plt\n",
    "\n",
    "# 아이템별 주문의 총량을 막대 그래프로 시각화\n",
    "item_name_list = item_quantity.index.tolist()\n",
    "\n",
    "# numpy.arange(시작, 끝, 간격) 으로 배열 만들기\n",
    "x_pos = np.arange(len(item_name_list))\n",
    "order_cnt = item_quantity.values.tolist()\n",
    "\n",
    "# bar()는 막대 그래프를 출력 하는 함수\n",
    "plt.bar(x_pos, order_cnt, align='center')\n",
    "plt.ylabel('ordered_item_count')\n",
    "plt.title('Distribution of all orderd item')\n",
    "\n",
    "plt.show()"
   ]
  },
  {
   "cell_type": "markdown",
   "id": "bf1a89af",
   "metadata": {},
   "source": [
    "아이템의 주문 개수를 출력"
   ]
  },
  {
   "cell_type": "code",
   "execution_count": 144,
   "id": "b746f87d",
   "metadata": {},
   "outputs": [
    {
     "data": {
      "image/png": "[encoded data removed]",
      "text/plain": [
       "<Figure size 432x288 with 1 Axes>"
      ]
     },
     "metadata": {
      "needs_background": "light"
     },
     "output_type": "display_data"
    }
   ],
   "source": [
    "# oo = order_count.index.tolist()\n",
    "# oo\n",
    "x_pos = np.arange(len(oo))\n",
    "tt = order_count.values.tolist()\n",
    "plt.bar(x_pos, tt, align='center')\n",
    "plt.ylabel('order_count')\n",
    "plt.title('Distribution of count item')\n",
    "plt.show()"
   ]
  },
  {
   "cell_type": "markdown",
   "id": "d0735b2a",
   "metadata": {},
   "source": [
    "item_pruce 피처 살펴보기"
   ]
  },
  {
   "cell_type": "code",
   "execution_count": 143,
   "id": "dc1264cc",
   "metadata": {},
   "outputs": [
    {
     "data": {
      "image/png": "[encoded data removed]",
      "text/plain": [
       "<Figure size 432x288 with 1 Axes>"
      ]
     },
     "metadata": {
      "needs_background": "light"
     },
     "output_type": "display_data"
    }
   ],
   "source": [
    "# scatter piot\n",
    "plt.scatter(x_pos, tt, label=\"count\", c =\"black\", marker=5 )\n",
    "plt.xlabel('count')\n",
    "plt.ylabel('order_count')\n",
    "plt.title('Distribution of count item')\n",
    "plt.legend(loc='upper right')\n",
    "plt.show()"
   ]
  },
  {
   "cell_type": "code",
   "execution_count": 141,
   "id": "c86b5110",
   "metadata": {},
   "outputs": [
    {
     "data": {
      "image/png": "[encoded data removed]",
      "text/plain": [
       "<Figure size 432x288 with 1 Axes>"
      ]
     },
     "metadata": {
      "needs_background": "light"
     },
     "output_type": "display_data"
    }
   ],
   "source": [
    "# scatter piot\n",
    "plt.scatter(x_pos, tt, label=\"count\")\n",
    "plt.xlabel('count')\n",
    "plt.ylabel('order_count')\n",
    "plt.title('distribution of count item')\n",
    "plt.legend(loc='best')\n",
    "plt.show()"
   ]
  },
  {
   "cell_type": "code",
   "execution_count": 145,
   "id": "c0d5a684",
   "metadata": {},
   "outputs": [
    {
     "name": "stdout",
     "output_type": "stream",
     "text": [
      "<class 'pandas.core.frame.DataFrame'>\n",
      "RangeIndex: 4622 entries, 0 to 4621\n",
      "Data columns (total 5 columns):\n",
      " #   Column              Non-Null Count  Dtype \n",
      "---  ------              --------------  ----- \n",
      " 0   order_id            4622 non-null   object\n",
      " 1   quantity            4622 non-null   int64 \n",
      " 2   item_name           4622 non-null   object\n",
      " 3   choice_description  3376 non-null   object\n",
      " 4   item_price          4622 non-null   object\n",
      "dtypes: int64(1), object(4)\n",
      "memory usage: 180.7+ KB\n",
      "---------\n"
     ]
    },
    {
     "data": {
      "text/plain": [
       "0     $2.39 \n",
       "1     $3.39 \n",
       "2     $3.39 \n",
       "3     $2.39 \n",
       "4    $16.98 \n",
       "Name: item_price, dtype: object"
      ]
     },
     "execution_count": 145,
     "metadata": {},
     "output_type": "execute_result"
    }
   ],
   "source": [
    "chipo.info()\n",
    "print('---------')\n",
    "chipo['item_price'].head()"
   ]
  },
  {
   "cell_type": "code",
   "execution_count": 133,
   "id": "ddd06314",
   "metadata": {},
   "outputs": [
    {
     "data": {
      "text/plain": [
       "Chicken Bowl                    726\n",
       "Chicken Burrito                 553\n",
       "Chips and Guacamole             479\n",
       "Steak Burrito                   368\n",
       "Canned Soft Drink               301\n",
       "Steak Bowl                      211\n",
       "Chips                           211\n",
       "Bottled Water                   162\n",
       "Chicken Soft Tacos              115\n",
       "Chips and Fresh Tomato Salsa    110\n",
       "Name: item_name, dtype: int64"
      ]
     },
     "execution_count": 133,
     "metadata": {},
     "output_type": "execute_result"
    }
   ],
   "source": [
    "chipo['item_name'].value_counts()[:10]"
   ]
  },
  {
   "cell_type": "code",
   "execution_count": 134,
   "id": "2110c049",
   "metadata": {},
   "outputs": [
    {
     "data": {
      "text/plain": [
       "['Chips and Fresh Tomato Salsa',\n",
       " 'Izze',\n",
       " 'Nantucket Nectar',\n",
       " 'Chips and Tomatillo-Green Chili Salsa',\n",
       " 'Chicken Bowl',\n",
       " 'Side of Chips',\n",
       " 'Steak Burrito',\n",
       " 'Steak Soft Tacos',\n",
       " 'Chips and Guacamole',\n",
       " 'Chicken Crispy Tacos']"
      ]
     },
     "execution_count": 134,
     "metadata": {},
     "output_type": "execute_result"
    }
   ],
   "source": [
    "chipo['item_name'].unique().tolist()[:10]"
   ]
  },
  {
   "cell_type": "code",
   "execution_count": null,
   "id": "c6b825c4",
   "metadata": {},
   "outputs": [],
   "source": []
  }
 ],
 "metadata": {
  "kernelspec": {
   "display_name": "Python 3 (ipykernel)",
   "language": "python",
   "name": "python3"
  },
  "language_info": {
   "codemirror_mode": {
    "name": "ipython",
    "version": 3
   },
   "file_extension": ".py",
   "mimetype": "text/x-python",
   "name": "python",
   "nbconvert_exporter": "python",
   "pygments_lexer": "ipython3",
   "version": "3.9.7"
  }
 },
 "nbformat": 4,
 "nbformat_minor": 5
}
