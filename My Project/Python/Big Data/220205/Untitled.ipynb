{
 "cells": [
  {
   "cell_type": "markdown",
   "id": "9272a24a",
   "metadata": {},
   "source": [
    "### "
   ]
  },
  {
   "cell_type": "markdown",
   "id": "f4e53961",
   "metadata": {},
   "source": [
    "# Encoding 인증키\n",
    "(Encoding)\t\n",
    "GOQiQ27BnuZN53uefNOPIoiBCRIdmoTvoB0ymegckf8IPIbSKaSDxeWVVBj3MFmk6WTEHpgnvThOOGS6jnXeyw%3D%3D\n",
    "\n",
    "# Decoding 인증키\n",
    "(Decoding)\t\n",
    "GOQiQ27BnuZN53uefNOPIoiBCRIdmoTvoB0ymegckf8IPIbSKaSDxeWVVBj3MFmk6WTEHpgnvThOOGS6jnXeyw=="
   ]
  },
  {
   "cell_type": "code",
   "execution_count": null,
   "id": "d7effd4c",
   "metadata": {},
   "outputs": [],
   "source": [
    "http://apis.data.go.kr/B552584/ArpltnInforInqireSvc/getCtprvnRltmMesureDnsty?sidoName=대구&pageNo=1&numOfRows=1000&returnType=json&serviceKey=서비스키&ver=1.0 "
   ]
  },
  {
   "cell_type": "code",
   "execution_count": null,
   "id": "c9ef3344",
   "metadata": {},
   "outputs": [],
   "source": [
    "http://apis.data.go.kr/B552584/ArpltnInforInqireSvc/getCtprvnRltmMesureDnsty?sidoName=대구&pageNo=1&numOfRows=1000&returnType=json&serviceKey=GOQiQ27BnuZN53uefNOPIoiBCRIdmoTvoB0ymegckf8IPIbSKaSDxeWVVBj3MFmk6WTEHpgnvThOOGS6jnXeyw%3D%3D&ver=1.0 "
   ]
  },
  {
   "cell_type": "code",
   "execution_count": null,
   "id": "b93a76eb",
   "metadata": {},
   "outputs": [],
   "source": []
  },
  {
   "cell_type": "code",
   "execution_count": null,
   "id": "6f96be76",
   "metadata": {},
   "outputs": [],
   "source": []
  },
  {
   "cell_type": "code",
   "execution_count": null,
   "id": "37b07786",
   "metadata": {},
   "outputs": [],
   "source": []
  },
  {
   "cell_type": "code",
   "execution_count": null,
   "id": "97bf6644",
   "metadata": {},
   "outputs": [],
   "source": []
  },
  {
   "cell_type": "code",
   "execution_count": null,
   "id": "31e0d0b5",
   "metadata": {},
   "outputs": [],
   "source": []
  }
 ],
 "metadata": {
  "kernelspec": {
   "display_name": "Python 3 (ipykernel)",
   "language": "python",
   "name": "python3"
  },
  "language_info": {
   "codemirror_mode": {
    "name": "ipython",
    "version": 3
   },
   "file_extension": ".py",
   "mimetype": "text/x-python",
   "name": "python",
   "nbconvert_exporter": "python",
   "pygments_lexer": "ipython3",
   "version": "3.9.7"
  }
 },
 "nbformat": 4,
 "nbformat_minor": 5
}
