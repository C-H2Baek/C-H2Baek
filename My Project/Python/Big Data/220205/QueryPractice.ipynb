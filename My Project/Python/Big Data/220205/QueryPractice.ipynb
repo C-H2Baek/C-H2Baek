{
 "cells": [
  {
   "cell_type": "code",
   "execution_count": 1,
   "id": "ebfcc701",
   "metadata": {},
   "outputs": [],
   "source": [
    "from pymongo import MongoClient"
   ]
  },
  {
   "cell_type": "code",
   "execution_count": 7,
   "id": "bb1e81c7",
   "metadata": {},
   "outputs": [],
   "source": [
    "client = MongoClient('localhost', 27017)\n",
    "# client = MongoClient('mongodb://localhost:27017')"
   ]
  },
  {
   "cell_type": "code",
   "execution_count": 8,
   "id": "eded21a1",
   "metadata": {},
   "outputs": [],
   "source": [
    "db = client['test-database']\n",
    "# db = client.test_database"
   ]
  },
  {
   "cell_type": "code",
   "execution_count": 9,
   "id": "00886269",
   "metadata": {},
   "outputs": [],
   "source": [
    "collection = db['test-collection']\n",
    "# collection = db.test-collection"
   ]
  },
  {
   "cell_type": "code",
   "execution_count": 10,
   "id": "09b560c0",
   "metadata": {},
   "outputs": [],
   "source": [
    "data_dic = {'name':'gggg' , 'age' : 12}"
   ]
  },
  {
   "cell_type": "code",
   "execution_count": 13,
   "id": "af4c2197",
   "metadata": {
    "collapsed": true
   },
   "outputs": [
    {
     "ename": "DuplicateKeyError",
     "evalue": "E11000 duplicate key error collection: test-database.test-collection index: _id_ dup key: { _id: ObjectId('61fde3d395c156655bc819b0') }, full error: {'index': 0, 'code': 11000, 'keyPattern': {'_id': 1}, 'keyValue': {'_id': ObjectId('61fde3d395c156655bc819b0')}, 'errmsg': \"E11000 duplicate key error collection: test-database.test-collection index: _id_ dup key: { _id: ObjectId('61fde3d395c156655bc819b0') }\"}",
     "output_type": "error",
     "traceback": [
      "\u001b[1;31m---------------------------------------------------------------------------\u001b[0m",
      "\u001b[1;31mDuplicateKeyError\u001b[0m                         Traceback (most recent call last)",
      "\u001b[1;32m~\\AppData\\Local\\Temp/ipykernel_9040/2288456628.py\u001b[0m in \u001b[0;36m<module>\u001b[1;34m\u001b[0m\n\u001b[1;32m----> 1\u001b[1;33m \u001b[0mre_data_dic\u001b[0m \u001b[1;33m=\u001b[0m \u001b[0mcollection\u001b[0m\u001b[1;33m.\u001b[0m\u001b[0minsert_one\u001b[0m\u001b[1;33m(\u001b[0m\u001b[0mdata_dic\u001b[0m\u001b[1;33m)\u001b[0m\u001b[1;33m\u001b[0m\u001b[1;33m\u001b[0m\u001b[0m\n\u001b[0m",
      "\u001b[1;32m~\\anaconda3\\lib\\site-packages\\pymongo\\collection.py\u001b[0m in \u001b[0;36minsert_one\u001b[1;34m(self, document, bypass_document_validation, session)\u001b[0m\n\u001b[0;32m    522\u001b[0m         \u001b[0mwrite_concern\u001b[0m \u001b[1;33m=\u001b[0m \u001b[0mself\u001b[0m\u001b[1;33m.\u001b[0m\u001b[0m_write_concern_for\u001b[0m\u001b[1;33m(\u001b[0m\u001b[0msession\u001b[0m\u001b[1;33m)\u001b[0m\u001b[1;33m\u001b[0m\u001b[1;33m\u001b[0m\u001b[0m\n\u001b[0;32m    523\u001b[0m         return InsertOneResult(\n\u001b[1;32m--> 524\u001b[1;33m             self._insert_one(\n\u001b[0m\u001b[0;32m    525\u001b[0m                 \u001b[0mdocument\u001b[0m\u001b[1;33m,\u001b[0m \u001b[0mordered\u001b[0m\u001b[1;33m=\u001b[0m\u001b[1;32mTrue\u001b[0m\u001b[1;33m,\u001b[0m \u001b[0mcheck_keys\u001b[0m\u001b[1;33m=\u001b[0m\u001b[1;32mFalse\u001b[0m\u001b[1;33m,\u001b[0m\u001b[1;33m\u001b[0m\u001b[1;33m\u001b[0m\u001b[0m\n\u001b[0;32m    526\u001b[0m                 \u001b[0mwrite_concern\u001b[0m\u001b[1;33m=\u001b[0m\u001b[0mwrite_concern\u001b[0m\u001b[1;33m,\u001b[0m \u001b[0mop_id\u001b[0m\u001b[1;33m=\u001b[0m\u001b[1;32mNone\u001b[0m\u001b[1;33m,\u001b[0m\u001b[1;33m\u001b[0m\u001b[1;33m\u001b[0m\u001b[0m\n",
      "\u001b[1;32m~\\anaconda3\\lib\\site-packages\\pymongo\\collection.py\u001b[0m in \u001b[0;36m_insert_one\u001b[1;34m(self, doc, ordered, check_keys, write_concern, op_id, bypass_doc_val, session)\u001b[0m\n\u001b[0;32m    472\u001b[0m             \u001b[0m_check_write_command_response\u001b[0m\u001b[1;33m(\u001b[0m\u001b[0mresult\u001b[0m\u001b[1;33m)\u001b[0m\u001b[1;33m\u001b[0m\u001b[1;33m\u001b[0m\u001b[0m\n\u001b[0;32m    473\u001b[0m \u001b[1;33m\u001b[0m\u001b[0m\n\u001b[1;32m--> 474\u001b[1;33m         self.__database.client._retryable_write(\n\u001b[0m\u001b[0;32m    475\u001b[0m             acknowledged, _insert_command, session)\n\u001b[0;32m    476\u001b[0m \u001b[1;33m\u001b[0m\u001b[0m\n",
      "\u001b[1;32m~\\anaconda3\\lib\\site-packages\\pymongo\\mongo_client.py\u001b[0m in \u001b[0;36m_retryable_write\u001b[1;34m(self, retryable, func, session)\u001b[0m\n\u001b[0;32m   1338\u001b[0m         \u001b[1;34m\"\"\"Internal retryable write helper.\"\"\"\u001b[0m\u001b[1;33m\u001b[0m\u001b[1;33m\u001b[0m\u001b[0m\n\u001b[0;32m   1339\u001b[0m         \u001b[1;32mwith\u001b[0m \u001b[0mself\u001b[0m\u001b[1;33m.\u001b[0m\u001b[0m_tmp_session\u001b[0m\u001b[1;33m(\u001b[0m\u001b[0msession\u001b[0m\u001b[1;33m)\u001b[0m \u001b[1;32mas\u001b[0m \u001b[0ms\u001b[0m\u001b[1;33m:\u001b[0m\u001b[1;33m\u001b[0m\u001b[1;33m\u001b[0m\u001b[0m\n\u001b[1;32m-> 1340\u001b[1;33m             \u001b[1;32mreturn\u001b[0m \u001b[0mself\u001b[0m\u001b[1;33m.\u001b[0m\u001b[0m_retry_with_session\u001b[0m\u001b[1;33m(\u001b[0m\u001b[0mretryable\u001b[0m\u001b[1;33m,\u001b[0m \u001b[0mfunc\u001b[0m\u001b[1;33m,\u001b[0m \u001b[0ms\u001b[0m\u001b[1;33m,\u001b[0m \u001b[1;32mNone\u001b[0m\u001b[1;33m)\u001b[0m\u001b[1;33m\u001b[0m\u001b[1;33m\u001b[0m\u001b[0m\n\u001b[0m\u001b[0;32m   1341\u001b[0m \u001b[1;33m\u001b[0m\u001b[0m\n\u001b[0;32m   1342\u001b[0m     \u001b[1;32mdef\u001b[0m \u001b[0m__eq__\u001b[0m\u001b[1;33m(\u001b[0m\u001b[0mself\u001b[0m\u001b[1;33m,\u001b[0m \u001b[0mother\u001b[0m\u001b[1;33m)\u001b[0m\u001b[1;33m:\u001b[0m\u001b[1;33m\u001b[0m\u001b[1;33m\u001b[0m\u001b[0m\n",
      "\u001b[1;32m~\\anaconda3\\lib\\site-packages\\pymongo\\mongo_client.py\u001b[0m in \u001b[0;36m_retry_with_session\u001b[1;34m(self, retryable, func, session, bulk)\u001b[0m\n\u001b[0;32m   1227\u001b[0m         retryable = (retryable and self.options.retry_writes\n\u001b[0;32m   1228\u001b[0m                      and session and not session.in_transaction)\n\u001b[1;32m-> 1229\u001b[1;33m         \u001b[1;32mreturn\u001b[0m \u001b[0mself\u001b[0m\u001b[1;33m.\u001b[0m\u001b[0m_retry_internal\u001b[0m\u001b[1;33m(\u001b[0m\u001b[0mretryable\u001b[0m\u001b[1;33m,\u001b[0m \u001b[0mfunc\u001b[0m\u001b[1;33m,\u001b[0m \u001b[0msession\u001b[0m\u001b[1;33m,\u001b[0m \u001b[0mbulk\u001b[0m\u001b[1;33m)\u001b[0m\u001b[1;33m\u001b[0m\u001b[1;33m\u001b[0m\u001b[0m\n\u001b[0m\u001b[0;32m   1230\u001b[0m \u001b[1;33m\u001b[0m\u001b[0m\n\u001b[0;32m   1231\u001b[0m     \u001b[1;32mdef\u001b[0m \u001b[0m_retry_internal\u001b[0m\u001b[1;33m(\u001b[0m\u001b[0mself\u001b[0m\u001b[1;33m,\u001b[0m \u001b[0mretryable\u001b[0m\u001b[1;33m,\u001b[0m \u001b[0mfunc\u001b[0m\u001b[1;33m,\u001b[0m \u001b[0msession\u001b[0m\u001b[1;33m,\u001b[0m \u001b[0mbulk\u001b[0m\u001b[1;33m)\u001b[0m\u001b[1;33m:\u001b[0m\u001b[1;33m\u001b[0m\u001b[1;33m\u001b[0m\u001b[0m\n",
      "\u001b[1;32m~\\anaconda3\\lib\\site-packages\\pymongo\\mongo_client.py\u001b[0m in \u001b[0;36m_retry_internal\u001b[1;34m(self, retryable, func, session, bulk)\u001b[0m\n\u001b[0;32m   1259\u001b[0m                             \u001b[1;32mraise\u001b[0m \u001b[0mlast_error\u001b[0m\u001b[1;33m\u001b[0m\u001b[1;33m\u001b[0m\u001b[0m\n\u001b[0;32m   1260\u001b[0m                         \u001b[0mretryable\u001b[0m \u001b[1;33m=\u001b[0m \u001b[1;32mFalse\u001b[0m\u001b[1;33m\u001b[0m\u001b[1;33m\u001b[0m\u001b[0m\n\u001b[1;32m-> 1261\u001b[1;33m                     \u001b[1;32mreturn\u001b[0m \u001b[0mfunc\u001b[0m\u001b[1;33m(\u001b[0m\u001b[0msession\u001b[0m\u001b[1;33m,\u001b[0m \u001b[0msock_info\u001b[0m\u001b[1;33m,\u001b[0m \u001b[0mretryable\u001b[0m\u001b[1;33m)\u001b[0m\u001b[1;33m\u001b[0m\u001b[1;33m\u001b[0m\u001b[0m\n\u001b[0m\u001b[0;32m   1262\u001b[0m             \u001b[1;32mexcept\u001b[0m \u001b[0mServerSelectionTimeoutError\u001b[0m\u001b[1;33m:\u001b[0m\u001b[1;33m\u001b[0m\u001b[1;33m\u001b[0m\u001b[0m\n\u001b[0;32m   1263\u001b[0m                 \u001b[1;32mif\u001b[0m \u001b[0mis_retrying\u001b[0m\u001b[1;33m(\u001b[0m\u001b[1;33m)\u001b[0m\u001b[1;33m:\u001b[0m\u001b[1;33m\u001b[0m\u001b[1;33m\u001b[0m\u001b[0m\n",
      "\u001b[1;32m~\\anaconda3\\lib\\site-packages\\pymongo\\collection.py\u001b[0m in \u001b[0;36m_insert_command\u001b[1;34m(session, sock_info, retryable_write)\u001b[0m\n\u001b[0;32m    470\u001b[0m                 retryable_write=retryable_write)\n\u001b[0;32m    471\u001b[0m \u001b[1;33m\u001b[0m\u001b[0m\n\u001b[1;32m--> 472\u001b[1;33m             \u001b[0m_check_write_command_response\u001b[0m\u001b[1;33m(\u001b[0m\u001b[0mresult\u001b[0m\u001b[1;33m)\u001b[0m\u001b[1;33m\u001b[0m\u001b[1;33m\u001b[0m\u001b[0m\n\u001b[0m\u001b[0;32m    473\u001b[0m \u001b[1;33m\u001b[0m\u001b[0m\n\u001b[0;32m    474\u001b[0m         self.__database.client._retryable_write(\n",
      "\u001b[1;32m~\\anaconda3\\lib\\site-packages\\pymongo\\helpers.py\u001b[0m in \u001b[0;36m_check_write_command_response\u001b[1;34m(result)\u001b[0m\n\u001b[0;32m    207\u001b[0m     \u001b[0mwrite_errors\u001b[0m \u001b[1;33m=\u001b[0m \u001b[0mresult\u001b[0m\u001b[1;33m.\u001b[0m\u001b[0mget\u001b[0m\u001b[1;33m(\u001b[0m\u001b[1;34m\"writeErrors\"\u001b[0m\u001b[1;33m)\u001b[0m\u001b[1;33m\u001b[0m\u001b[1;33m\u001b[0m\u001b[0m\n\u001b[0;32m    208\u001b[0m     \u001b[1;32mif\u001b[0m \u001b[0mwrite_errors\u001b[0m\u001b[1;33m:\u001b[0m\u001b[1;33m\u001b[0m\u001b[1;33m\u001b[0m\u001b[0m\n\u001b[1;32m--> 209\u001b[1;33m         \u001b[0m_raise_last_write_error\u001b[0m\u001b[1;33m(\u001b[0m\u001b[0mwrite_errors\u001b[0m\u001b[1;33m)\u001b[0m\u001b[1;33m\u001b[0m\u001b[1;33m\u001b[0m\u001b[0m\n\u001b[0m\u001b[0;32m    210\u001b[0m \u001b[1;33m\u001b[0m\u001b[0m\n\u001b[0;32m    211\u001b[0m     \u001b[0mwce\u001b[0m \u001b[1;33m=\u001b[0m \u001b[0m_get_wce_doc\u001b[0m\u001b[1;33m(\u001b[0m\u001b[0mresult\u001b[0m\u001b[1;33m)\u001b[0m\u001b[1;33m\u001b[0m\u001b[1;33m\u001b[0m\u001b[0m\n",
      "\u001b[1;32m~\\anaconda3\\lib\\site-packages\\pymongo\\helpers.py\u001b[0m in \u001b[0;36m_raise_last_write_error\u001b[1;34m(write_errors)\u001b[0m\n\u001b[0;32m    176\u001b[0m     \u001b[0merror\u001b[0m \u001b[1;33m=\u001b[0m \u001b[0mwrite_errors\u001b[0m\u001b[1;33m[\u001b[0m\u001b[1;33m-\u001b[0m\u001b[1;36m1\u001b[0m\u001b[1;33m]\u001b[0m\u001b[1;33m\u001b[0m\u001b[1;33m\u001b[0m\u001b[0m\n\u001b[0;32m    177\u001b[0m     \u001b[1;32mif\u001b[0m \u001b[0merror\u001b[0m\u001b[1;33m.\u001b[0m\u001b[0mget\u001b[0m\u001b[1;33m(\u001b[0m\u001b[1;34m\"code\"\u001b[0m\u001b[1;33m)\u001b[0m \u001b[1;33m==\u001b[0m \u001b[1;36m11000\u001b[0m\u001b[1;33m:\u001b[0m\u001b[1;33m\u001b[0m\u001b[1;33m\u001b[0m\u001b[0m\n\u001b[1;32m--> 178\u001b[1;33m         \u001b[1;32mraise\u001b[0m \u001b[0mDuplicateKeyError\u001b[0m\u001b[1;33m(\u001b[0m\u001b[0merror\u001b[0m\u001b[1;33m.\u001b[0m\u001b[0mget\u001b[0m\u001b[1;33m(\u001b[0m\u001b[1;34m\"errmsg\"\u001b[0m\u001b[1;33m)\u001b[0m\u001b[1;33m,\u001b[0m \u001b[1;36m11000\u001b[0m\u001b[1;33m,\u001b[0m \u001b[0merror\u001b[0m\u001b[1;33m)\u001b[0m\u001b[1;33m\u001b[0m\u001b[1;33m\u001b[0m\u001b[0m\n\u001b[0m\u001b[0;32m    179\u001b[0m     \u001b[1;32mraise\u001b[0m \u001b[0mWriteError\u001b[0m\u001b[1;33m(\u001b[0m\u001b[0merror\u001b[0m\u001b[1;33m.\u001b[0m\u001b[0mget\u001b[0m\u001b[1;33m(\u001b[0m\u001b[1;34m\"errmsg\"\u001b[0m\u001b[1;33m)\u001b[0m\u001b[1;33m,\u001b[0m \u001b[0merror\u001b[0m\u001b[1;33m.\u001b[0m\u001b[0mget\u001b[0m\u001b[1;33m(\u001b[0m\u001b[1;34m\"code\"\u001b[0m\u001b[1;33m)\u001b[0m\u001b[1;33m,\u001b[0m \u001b[0merror\u001b[0m\u001b[1;33m)\u001b[0m\u001b[1;33m\u001b[0m\u001b[1;33m\u001b[0m\u001b[0m\n\u001b[0;32m    180\u001b[0m \u001b[1;33m\u001b[0m\u001b[0m\n",
      "\u001b[1;31mDuplicateKeyError\u001b[0m: E11000 duplicate key error collection: test-database.test-collection index: _id_ dup key: { _id: ObjectId('61fde3d395c156655bc819b0') }, full error: {'index': 0, 'code': 11000, 'keyPattern': {'_id': 1}, 'keyValue': {'_id': ObjectId('61fde3d395c156655bc819b0')}, 'errmsg': \"E11000 duplicate key error collection: test-database.test-collection index: _id_ dup key: { _id: ObjectId('61fde3d395c156655bc819b0') }\"}"
     ]
    }
   ],
   "source": [
    "re_data_dic = collection.insert_one(data_dic)"
   ]
  },
  {
   "cell_type": "code",
   "execution_count": 12,
   "id": "9382e397",
   "metadata": {},
   "outputs": [
    {
     "name": "stdout",
     "output_type": "stream",
     "text": [
      "<pymongo.results.InsertOneResult object at 0x00000225F48A1900>\n"
     ]
    }
   ],
   "source": [
    "print(re_data_dic)"
   ]
  },
  {
   "cell_type": "code",
   "execution_count": 15,
   "id": "0ea9be49",
   "metadata": {},
   "outputs": [
    {
     "name": "stdout",
     "output_type": "stream",
     "text": [
      "61fde3d395c156655bc819b0\n"
     ]
    }
   ],
   "source": [
    "print(re_data_dic.inserted_id)"
   ]
  },
  {
   "cell_type": "code",
   "execution_count": 16,
   "id": "ad206234",
   "metadata": {},
   "outputs": [],
   "source": [
    "data_dic2 = {'name':'kkgk','age':34}"
   ]
  },
  {
   "cell_type": "code",
   "execution_count": 19,
   "id": "be93c982",
   "metadata": {},
   "outputs": [],
   "source": [
    "re_data_dic2 = collection.insert_one(data_dic2)"
   ]
  },
  {
   "cell_type": "code",
   "execution_count": 20,
   "id": "294aef4a",
   "metadata": {},
   "outputs": [
    {
     "name": "stdout",
     "output_type": "stream",
     "text": [
      "<pymongo.results.InsertOneResult object at 0x00000225F4225AC0>\n"
     ]
    }
   ],
   "source": [
    "print(re_data_dic2)"
   ]
  },
  {
   "cell_type": "code",
   "execution_count": 21,
   "id": "cd16ce39",
   "metadata": {},
   "outputs": [
    {
     "name": "stdout",
     "output_type": "stream",
     "text": [
      "61fde4e595c156655bc819b1\n"
     ]
    }
   ],
   "source": [
    "print(re_data_dic2.inserted_id)"
   ]
  },
  {
   "cell_type": "code",
   "execution_count": 25,
   "id": "6b661ade",
   "metadata": {},
   "outputs": [],
   "source": [
    "data_list = [{'name':'ABCD', 'age':11},\n",
    "                    {'name':'EFGH', 'age':22},\n",
    "                    {'name':'IJKL', 'age':33}]"
   ]
  },
  {
   "cell_type": "code",
   "execution_count": 27,
   "id": "07674f02",
   "metadata": {},
   "outputs": [],
   "source": [
    "re_data_dic3 = collection.insert_many(data_list)"
   ]
  },
  {
   "cell_type": "code",
   "execution_count": 28,
   "id": "5044d757",
   "metadata": {},
   "outputs": [
    {
     "data": {
      "text/plain": [
       "<pymongo.results.InsertManyResult at 0x225f43722c0>"
      ]
     },
     "execution_count": 28,
     "metadata": {},
     "output_type": "execute_result"
    }
   ],
   "source": [
    "re_data_dic3"
   ]
  },
  {
   "cell_type": "code",
   "execution_count": 31,
   "id": "5cbb665a",
   "metadata": {},
   "outputs": [
    {
     "data": {
      "text/plain": [
       "[ObjectId('61fde5fe95c156655bc819b2'),\n",
       " ObjectId('61fde5fe95c156655bc819b3'),\n",
       " ObjectId('61fde5fe95c156655bc819b4')]"
      ]
     },
     "execution_count": 31,
     "metadata": {},
     "output_type": "execute_result"
    }
   ],
   "source": [
    "re_data_dic3.inserted_ids"
   ]
  },
  {
   "cell_type": "code",
   "execution_count": 35,
   "id": "9d64597d",
   "metadata": {},
   "outputs": [],
   "source": [
    "search_results = collection.find_one()"
   ]
  },
  {
   "cell_type": "code",
   "execution_count": 36,
   "id": "676eb672",
   "metadata": {},
   "outputs": [
    {
     "data": {
      "text/plain": [
       "{'_id': ObjectId('61fde3d395c156655bc819b0'), 'name': 'gggg', 'age': 12}"
      ]
     },
     "execution_count": 36,
     "metadata": {},
     "output_type": "execute_result"
    }
   ],
   "source": [
    "search_results"
   ]
  },
  {
   "cell_type": "code",
   "execution_count": 38,
   "id": "f1f6c691",
   "metadata": {},
   "outputs": [],
   "source": [
    "search_results = collection.find()"
   ]
  },
  {
   "cell_type": "code",
   "execution_count": 39,
   "id": "1fb8823c",
   "metadata": {},
   "outputs": [
    {
     "name": "stdout",
     "output_type": "stream",
     "text": [
      "{'_id': ObjectId('61fde3d395c156655bc819b0'), 'name': 'gggg', 'age': 12}\n",
      "{'_id': ObjectId('61fde4e595c156655bc819b1'), 'name': 'kkgk', 'age': 34}\n",
      "{'_id': ObjectId('61fde5fe95c156655bc819b2'), 'name': 'ABCD', 'age': 11}\n",
      "{'_id': ObjectId('61fde5fe95c156655bc819b3'), 'name': 'EFGH', 'age': 22}\n",
      "{'_id': ObjectId('61fde5fe95c156655bc819b4'), 'name': 'IJKL', 'age': 33}\n"
     ]
    }
   ],
   "source": [
    "for search_result in search_results:\n",
    "    print(search_result)"
   ]
  },
  {
   "cell_type": "code",
   "execution_count": 48,
   "id": "c1a29aa6",
   "metadata": {},
   "outputs": [
    {
     "name": "stdout",
     "output_type": "stream",
     "text": [
      "{'_id': ObjectId('61fde3d395c156655bc819b0'), 'name': 'gggg', 'age': 12}\n"
     ]
    }
   ],
   "source": [
    "# where name = 'gggg'\n",
    "search_results  = collection.find({'name':'gggg'})\n",
    "for search_result in search_results:\n",
    "    print(search_result)"
   ]
  },
  {
   "cell_type": "code",
   "execution_count": 50,
   "id": "43fe7de6",
   "metadata": {},
   "outputs": [
    {
     "name": "stdout",
     "output_type": "stream",
     "text": [
      "{'_id': ObjectId('61fde4e595c156655bc819b1'), 'name': 'kkgk', 'age': 34}\n",
      "{'_id': ObjectId('61fde5fe95c156655bc819b3'), 'name': 'EFGH', 'age': 22}\n",
      "{'_id': ObjectId('61fde5fe95c156655bc819b4'), 'name': 'IJKL', 'age': 33}\n"
     ]
    }
   ],
   "source": [
    "# where age > 17\n",
    "search_results = collection.find({'age':{'$gt':17}})\n",
    "for search_result in search_results:\n",
    "    print(search_result)"
   ]
  },
  {
   "cell_type": "code",
   "execution_count": 56,
   "id": "d6aeba49",
   "metadata": {},
   "outputs": [
    {
     "name": "stdout",
     "output_type": "stream",
     "text": [
      "{'_id': ObjectId('61fde4e595c156655bc819b1'), 'name': 'kkgk', 'age': 34}\n",
      "{'_id': ObjectId('61fde5fe95c156655bc819b3'), 'name': 'EFGH', 'age': 22}\n",
      "{'_id': ObjectId('61fde5fe95c156655bc819b4'), 'name': 'IJKL', 'age': 33}\n"
     ]
    }
   ],
   "source": [
    "# where age >= 17\n",
    "search_results = collection.find({'age':{'$gte':17}})\n",
    "for search_result in search_results:\n",
    "    print(search_result)"
   ]
  },
  {
   "cell_type": "code",
   "execution_count": 68,
   "id": "c26c48b6",
   "metadata": {},
   "outputs": [
    {
     "name": "stdout",
     "output_type": "stream",
     "text": [
      "{'_id': ObjectId('61fde3d395c156655bc819b0'), 'name': 'gggg', 'age': 12}\n",
      "{'_id': ObjectId('61fde5fe95c156655bc819b2'), 'name': 'ABCD', 'age': 11}\n",
      "{'_id': ObjectId('61fde5fe95c156655bc819b3'), 'name': 'EFGH', 'age': 22}\n"
     ]
    }
   ],
   "source": [
    "# where age < 28\n",
    "search_results = collection.find({'age':{'$lt':28}})\n",
    "for search_result in search_results:\n",
    "    print(search_result)"
   ]
  },
  {
   "cell_type": "code",
   "execution_count": 80,
   "id": "d75b731c",
   "metadata": {},
   "outputs": [
    {
     "name": "stdout",
     "output_type": "stream",
     "text": [
      "{'_id': ObjectId('61fde3d395c156655bc819b0'), 'name': 'QWER', 'age': 12}\n",
      "{'_id': ObjectId('61fde4e595c156655bc819b1'), 'name': 'kkgk', 'age': 34}\n",
      "{'_id': ObjectId('61fde5fe95c156655bc819b3'), 'name': 'EFGH', 'age': 22}\n",
      "{'_id': ObjectId('61fde5fe95c156655bc819b4'), 'name': 'IJKL', 'age': 33}\n"
     ]
    }
   ],
   "source": [
    "# where age != 'ABCD'\n",
    "search_results = collection.find({'name':{'$ne':'ABCD'}})\n",
    "for search_result in search_results:\n",
    "    print(search_result)"
   ]
  },
  {
   "cell_type": "code",
   "execution_count": 90,
   "id": "0cb37815",
   "metadata": {},
   "outputs": [
    {
     "name": "stdout",
     "output_type": "stream",
     "text": [
      "{'name': 'QWER', 'age': 20}\n",
      "{'name': 'kkgk', 'age': 34}\n",
      "{'name': 'EFGH', 'age': 22}\n",
      "{'name': 'IJKL', 'age': 33}\n"
     ]
    }
   ],
   "source": [
    "# select name from ___ where age > 17\n",
    "search_results = collection.find({'age':{'$gt':17}}, {'name':1, 'age':1, '_id':0})\n",
    "for select in search_results:\n",
    "    print(select)"
   ]
  },
  {
   "cell_type": "code",
   "execution_count": 89,
   "id": "baf3bf54",
   "metadata": {},
   "outputs": [
    {
     "name": "stdout",
     "output_type": "stream",
     "text": [
      "{'name': 'QWER', 'age': 20}\n"
     ]
    }
   ],
   "source": [
    "collection.update_one({'name':'QWER'}, {'$set':{'age':20}})\n",
    "search_results = collection.find({'name':'QWER'}, {'_id':0})\n",
    "for update in search_results:\n",
    "    print(update)"
   ]
  },
  {
   "cell_type": "code",
   "execution_count": 112,
   "id": "4f7f8e1a",
   "metadata": {},
   "outputs": [
    {
     "name": "stdout",
     "output_type": "stream",
     "text": [
      "{'name': 'IJKL', 'age': 99}\n"
     ]
    }
   ],
   "source": [
    "collection.update_many({'age':{'$gt':30}},{'$set':{'age':99}})\n",
    "search_results = collection.find({'age':{'$gt':30}}, {'_id':0})\n",
    "for update in search_results:\n",
    "    print(update)"
   ]
  },
  {
   "cell_type": "code",
   "execution_count": 113,
   "id": "d9fd4bcf",
   "metadata": {},
   "outputs": [
    {
     "name": "stdout",
     "output_type": "stream",
     "text": [
      "{'_id': ObjectId('61fde5fe95c156655bc819b4'), 'name': 'IJKL', 'age': 99}\n"
     ]
    }
   ],
   "source": [
    "collection.delete_one({'name':'kkgk'})\n",
    "search_results = collection.find()\n",
    "for delete in search_results:\n",
    "    print(delete)"
   ]
  },
  {
   "cell_type": "code",
   "execution_count": 114,
   "id": "a6a0a897",
   "metadata": {},
   "outputs": [
    {
     "name": "stdout",
     "output_type": "stream",
     "text": [
      "{'_id': ObjectId('61fde5fe95c156655bc819b4'), 'name': 'IJKL', 'age': 99}\n"
     ]
    }
   ],
   "source": [
    "collection.delete_many({'age':{'$lte':23}})\n",
    "search_results = collection.find()\n",
    "for delete in search_results:\n",
    "    print(delete)"
   ]
  },
  {
   "cell_type": "code",
   "execution_count": null,
   "id": "ff4e669f",
   "metadata": {},
   "outputs": [],
   "source": []
  }
 ],
 "metadata": {
  "kernelspec": {
   "display_name": "Python 3 (ipykernel)",
   "language": "python",
   "name": "python3"
  },
  "language_info": {
   "codemirror_mode": {
    "name": "ipython",
    "version": 3
   },
   "file_extension": ".py",
   "mimetype": "text/x-python",
   "name": "python",
   "nbconvert_exporter": "python",
   "pygments_lexer": "ipython3",
   "version": "3.9.7"
  }
 },
 "nbformat": 4,
 "nbformat_minor": 5
}
