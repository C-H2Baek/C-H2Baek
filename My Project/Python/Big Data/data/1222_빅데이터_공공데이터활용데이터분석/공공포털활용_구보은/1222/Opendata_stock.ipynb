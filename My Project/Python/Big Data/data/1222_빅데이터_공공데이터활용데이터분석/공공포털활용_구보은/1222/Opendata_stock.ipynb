{
 "cells": [
  {
   "cell_type": "markdown",
   "id": "40d30d1e",
   "metadata": {},
   "source": [
    "# 국민연금공단_해외주식 투자정보_20201231"
   ]
  },
  {
   "cell_type": "code",
   "execution_count": 122,
   "id": "32324f06",
   "metadata": {},
   "outputs": [
    {
     "name": "stdout",
     "output_type": "stream",
     "text": [
      "<class 'pandas.core.frame.DataFrame'>\n",
      "RangeIndex: 3463 entries, 0 to 3462\n",
      "Data columns (total 5 columns):\n",
      " #   Column       Non-Null Count  Dtype  \n",
      "---  ------       --------------  -----  \n",
      " 0   번호           3463 non-null   int64  \n",
      " 1   종목명          3463 non-null   object \n",
      " 2   평가액(억원)      3463 non-null   float64\n",
      " 3   자산군 내 비중(%)  3463 non-null   float64\n",
      " 4   지분율(%)       3463 non-null   float64\n",
      "dtypes: float64(3), int64(1), object(1)\n",
      "memory usage: 135.4+ KB\n"
     ]
    }
   ],
   "source": [
    "import pandas as pd\n",
    "import numpy as np\n",
    "import matplotlib.pyplot as plt\n",
    "import seaborn as sns\n",
    "\n",
    "plt.rc(\"font\", family=\"Malgun Gothic\")\n",
    "file_path='../data/stock_super.csv'\n",
    "stock=pd.read_csv(file_path, encoding='CP949')\n",
    "stock.info()"
   ]
  },
  {
   "cell_type": "code",
   "execution_count": 123,
   "id": "2878c196",
   "metadata": {},
   "outputs": [
    {
     "data": {
      "text/html": [
       "<div>\n",
       "<style scoped>\n",
       "    .dataframe tbody tr th:only-of-type {\n",
       "        vertical-align: middle;\n",
       "    }\n",
       "\n",
       "    .dataframe tbody tr th {\n",
       "        vertical-align: top;\n",
       "    }\n",
       "\n",
       "    .dataframe thead th {\n",
       "        text-align: right;\n",
       "    }\n",
       "</style>\n",
       "<table border=\"1\" class=\"dataframe\">\n",
       "  <thead>\n",
       "    <tr style=\"text-align: right;\">\n",
       "      <th></th>\n",
       "      <th>번호</th>\n",
       "      <th>종목명</th>\n",
       "      <th>평가액(억원)</th>\n",
       "      <th>자산군 내 비중(%)</th>\n",
       "      <th>지분율(%)</th>\n",
       "    </tr>\n",
       "  </thead>\n",
       "  <tbody>\n",
       "    <tr>\n",
       "      <th>0</th>\n",
       "      <td>1</td>\n",
       "      <td>APPLE INC</td>\n",
       "      <td>50237.39</td>\n",
       "      <td>2.61</td>\n",
       "      <td>0.20</td>\n",
       "    </tr>\n",
       "    <tr>\n",
       "      <th>1</th>\n",
       "      <td>2</td>\n",
       "      <td>MICROSOFT CORP</td>\n",
       "      <td>43004.50</td>\n",
       "      <td>2.23</td>\n",
       "      <td>0.24</td>\n",
       "    </tr>\n",
       "    <tr>\n",
       "      <th>2</th>\n",
       "      <td>3</td>\n",
       "      <td>AMAZON.COM INC</td>\n",
       "      <td>38917.92</td>\n",
       "      <td>2.02</td>\n",
       "      <td>0.22</td>\n",
       "    </tr>\n",
       "    <tr>\n",
       "      <th>3</th>\n",
       "      <td>4</td>\n",
       "      <td>FACEBOOK INC CLASS A</td>\n",
       "      <td>24096.60</td>\n",
       "      <td>1.25</td>\n",
       "      <td>0.34</td>\n",
       "    </tr>\n",
       "    <tr>\n",
       "      <th>4</th>\n",
       "      <td>5</td>\n",
       "      <td>TESLA INC</td>\n",
       "      <td>22223.83</td>\n",
       "      <td>1.15</td>\n",
       "      <td>0.31</td>\n",
       "    </tr>\n",
       "    <tr>\n",
       "      <th>5</th>\n",
       "      <td>6</td>\n",
       "      <td>ALPHABET INC CL C</td>\n",
       "      <td>21603.63</td>\n",
       "      <td>1.12</td>\n",
       "      <td>0.34</td>\n",
       "    </tr>\n",
       "    <tr>\n",
       "      <th>6</th>\n",
       "      <td>7</td>\n",
       "      <td>ALPHABET INC CL A</td>\n",
       "      <td>18555.28</td>\n",
       "      <td>0.96</td>\n",
       "      <td>0.32</td>\n",
       "    </tr>\n",
       "    <tr>\n",
       "      <th>7</th>\n",
       "      <td>8</td>\n",
       "      <td>TENCENT HOLDINGS LTD</td>\n",
       "      <td>18449.22</td>\n",
       "      <td>0.96</td>\n",
       "      <td>0.24</td>\n",
       "    </tr>\n",
       "    <tr>\n",
       "      <th>8</th>\n",
       "      <td>9</td>\n",
       "      <td>TAIWAN SEMICONDUCTOR SP ADR</td>\n",
       "      <td>15604.99</td>\n",
       "      <td>0.81</td>\n",
       "      <td>0.25</td>\n",
       "    </tr>\n",
       "    <tr>\n",
       "      <th>9</th>\n",
       "      <td>10</td>\n",
       "      <td>ALIBABA GROUP HOLDING SP ADR</td>\n",
       "      <td>15587.03</td>\n",
       "      <td>0.81</td>\n",
       "      <td>0.23</td>\n",
       "    </tr>\n",
       "  </tbody>\n",
       "</table>\n",
       "</div>"
      ],
      "text/plain": [
       "   번호                           종목명   평가액(억원)  자산군 내 비중(%)  지분율(%)\n",
       "0   1                     APPLE INC  50237.39         2.61    0.20\n",
       "1   2                MICROSOFT CORP  43004.50         2.23    0.24\n",
       "2   3                AMAZON.COM INC  38917.92         2.02    0.22\n",
       "3   4          FACEBOOK INC CLASS A  24096.60         1.25    0.34\n",
       "4   5                     TESLA INC  22223.83         1.15    0.31\n",
       "5   6             ALPHABET INC CL C  21603.63         1.12    0.34\n",
       "6   7             ALPHABET INC CL A  18555.28         0.96    0.32\n",
       "7   8          TENCENT HOLDINGS LTD  18449.22         0.96    0.24\n",
       "8   9   TAIWAN SEMICONDUCTOR SP ADR  15604.99         0.81    0.25\n",
       "9  10  ALIBABA GROUP HOLDING SP ADR  15587.03         0.81    0.23"
      ]
     },
     "execution_count": 123,
     "metadata": {},
     "output_type": "execute_result"
    }
   ],
   "source": [
    "stock.head(10)"
   ]
  },
  {
   "cell_type": "code",
   "execution_count": 124,
   "id": "d32f0741",
   "metadata": {},
   "outputs": [
    {
     "data": {
      "text/html": [
       "<div>\n",
       "<style scoped>\n",
       "    .dataframe tbody tr th:only-of-type {\n",
       "        vertical-align: middle;\n",
       "    }\n",
       "\n",
       "    .dataframe tbody tr th {\n",
       "        vertical-align: top;\n",
       "    }\n",
       "\n",
       "    .dataframe thead th {\n",
       "        text-align: right;\n",
       "    }\n",
       "</style>\n",
       "<table border=\"1\" class=\"dataframe\">\n",
       "  <thead>\n",
       "    <tr style=\"text-align: right;\">\n",
       "      <th></th>\n",
       "      <th>번호</th>\n",
       "      <th>평가액(억원)</th>\n",
       "      <th>자산군 내 비중(%)</th>\n",
       "      <th>지분율(%)</th>\n",
       "    </tr>\n",
       "  </thead>\n",
       "  <tbody>\n",
       "    <tr>\n",
       "      <th>count</th>\n",
       "      <td>3463.000000</td>\n",
       "      <td>3463.000000</td>\n",
       "      <td>3463.000000</td>\n",
       "      <td>3463.000000</td>\n",
       "    </tr>\n",
       "    <tr>\n",
       "      <th>mean</th>\n",
       "      <td>1732.000000</td>\n",
       "      <td>547.237072</td>\n",
       "      <td>0.027626</td>\n",
       "      <td>0.186549</td>\n",
       "    </tr>\n",
       "    <tr>\n",
       "      <th>std</th>\n",
       "      <td>999.826318</td>\n",
       "      <td>1947.146229</td>\n",
       "      <td>0.101289</td>\n",
       "      <td>0.439109</td>\n",
       "    </tr>\n",
       "    <tr>\n",
       "      <th>min</th>\n",
       "      <td>1.000000</td>\n",
       "      <td>10.010000</td>\n",
       "      <td>0.000000</td>\n",
       "      <td>0.000000</td>\n",
       "    </tr>\n",
       "    <tr>\n",
       "      <th>25%</th>\n",
       "      <td>866.500000</td>\n",
       "      <td>24.185000</td>\n",
       "      <td>0.000000</td>\n",
       "      <td>0.050000</td>\n",
       "    </tr>\n",
       "    <tr>\n",
       "      <th>50%</th>\n",
       "      <td>1732.000000</td>\n",
       "      <td>61.060000</td>\n",
       "      <td>0.000000</td>\n",
       "      <td>0.110000</td>\n",
       "    </tr>\n",
       "    <tr>\n",
       "      <th>75%</th>\n",
       "      <td>2597.500000</td>\n",
       "      <td>379.800000</td>\n",
       "      <td>0.020000</td>\n",
       "      <td>0.220000</td>\n",
       "    </tr>\n",
       "    <tr>\n",
       "      <th>max</th>\n",
       "      <td>3463.000000</td>\n",
       "      <td>50237.390000</td>\n",
       "      <td>2.610000</td>\n",
       "      <td>21.210000</td>\n",
       "    </tr>\n",
       "  </tbody>\n",
       "</table>\n",
       "</div>"
      ],
      "text/plain": [
       "                번호       평가액(억원)  자산군 내 비중(%)       지분율(%)\n",
       "count  3463.000000   3463.000000  3463.000000  3463.000000\n",
       "mean   1732.000000    547.237072     0.027626     0.186549\n",
       "std     999.826318   1947.146229     0.101289     0.439109\n",
       "min       1.000000     10.010000     0.000000     0.000000\n",
       "25%     866.500000     24.185000     0.000000     0.050000\n",
       "50%    1732.000000     61.060000     0.000000     0.110000\n",
       "75%    2597.500000    379.800000     0.020000     0.220000\n",
       "max    3463.000000  50237.390000     2.610000    21.210000"
      ]
     },
     "execution_count": 124,
     "metadata": {},
     "output_type": "execute_result"
    }
   ],
   "source": [
    "stock.describe()"
   ]
  },
  {
   "cell_type": "markdown",
   "id": "cab453d7",
   "metadata": {},
   "source": [
    "## 종목다 평균 투자금액"
   ]
  },
  {
   "cell_type": "code",
   "execution_count": 125,
   "id": "48198625",
   "metadata": {},
   "outputs": [
    {
     "data": {
      "text/plain": [
       "547.2370719029757"
      ]
     },
     "execution_count": 125,
     "metadata": {},
     "output_type": "execute_result"
    }
   ],
   "source": [
    "stock['평가액(억원)'].mean()"
   ]
  },
  {
   "cell_type": "markdown",
   "id": "7b015ff7",
   "metadata": {},
   "source": [
    "## - 가장 적은 금액을 투자한 종목"
   ]
  },
  {
   "cell_type": "code",
   "execution_count": 126,
   "id": "c7abbd32",
   "metadata": {},
   "outputs": [
    {
     "data": {
      "text/html": [
       "<div>\n",
       "<style scoped>\n",
       "    .dataframe tbody tr th:only-of-type {\n",
       "        vertical-align: middle;\n",
       "    }\n",
       "\n",
       "    .dataframe tbody tr th {\n",
       "        vertical-align: top;\n",
       "    }\n",
       "\n",
       "    .dataframe thead th {\n",
       "        text-align: right;\n",
       "    }\n",
       "</style>\n",
       "<table border=\"1\" class=\"dataframe\">\n",
       "  <thead>\n",
       "    <tr style=\"text-align: right;\">\n",
       "      <th></th>\n",
       "      <th>번호</th>\n",
       "      <th>종목명</th>\n",
       "      <th>평가액(억원)</th>\n",
       "      <th>자산군 내 비중(%)</th>\n",
       "      <th>지분율(%)</th>\n",
       "    </tr>\n",
       "  </thead>\n",
       "  <tbody>\n",
       "    <tr>\n",
       "      <th>3462</th>\n",
       "      <td>3463</td>\n",
       "      <td>GULF BANK</td>\n",
       "      <td>10.01</td>\n",
       "      <td>0.0</td>\n",
       "      <td>0.04</td>\n",
       "    </tr>\n",
       "  </tbody>\n",
       "</table>\n",
       "</div>"
      ],
      "text/plain": [
       "        번호        종목명  평가액(억원)  자산군 내 비중(%)  지분율(%)\n",
       "3462  3463  GULF BANK    10.01          0.0    0.04"
      ]
     },
     "execution_count": 126,
     "metadata": {},
     "output_type": "execute_result"
    }
   ],
   "source": [
    "stock.sort_values(by='평가액(억원)',ascending=True)[:1]"
   ]
  },
  {
   "cell_type": "markdown",
   "id": "9dd5e044",
   "metadata": {},
   "source": [
    "##  - 총 몇개의 종목에 투자했는가?"
   ]
  },
  {
   "cell_type": "code",
   "execution_count": 127,
   "id": "465db110",
   "metadata": {},
   "outputs": [
    {
     "data": {
      "text/plain": [
       "3463"
      ]
     },
     "execution_count": 127,
     "metadata": {},
     "output_type": "execute_result"
    }
   ],
   "source": [
    "stock['번호'].count()"
   ]
  },
  {
   "cell_type": "code",
   "execution_count": 128,
   "id": "ef7914c5",
   "metadata": {},
   "outputs": [
    {
     "data": {
      "text/plain": [
       "[50237.39,\n",
       " 43004.5,\n",
       " 38917.92,\n",
       " 24096.6,\n",
       " 22223.83,\n",
       " 21603.63,\n",
       " 18555.28,\n",
       " 18449.22,\n",
       " 15604.99,\n",
       " 15587.03]"
      ]
     },
     "execution_count": 128,
     "metadata": {},
     "output_type": "execute_result"
    }
   ],
   "source": [
    "label=stock['평가액(억원)'].head(10)\n",
    "money=label.values.tolist()\n",
    "money\n"
   ]
  },
  {
   "cell_type": "code",
   "execution_count": 129,
   "id": "b36b1d65",
   "metadata": {
    "scrolled": true
   },
   "outputs": [
    {
     "data": {
      "text/plain": [
       "['ISHARES MSCI SPAIN ETF',\n",
       " 'LYXOR FTSE MIB UCITS ETF',\n",
       " 'LYXOR CAC 40 DR UCITS ETF',\n",
       " 'ISHARES S+P/TSX 60 INDEX ETF',\n",
       " 'SEAWORLD ENTERTAINMENT INC',\n",
       " 'ISS A/S',\n",
       " 'INCITEC PIVOT LTD',\n",
       " 'TENET HEALTHCARE CORP',\n",
       " 'TRADEWEB MARKETS INC CLASS A',\n",
       " 'TRAVIS PERKINS PLC']"
      ]
     },
     "execution_count": 129,
     "metadata": {},
     "output_type": "execute_result"
    }
   ],
   "source": [
    "\n",
    "top_asset=stock.sort_values(by='지분율(%)',ascending=False)[:10]\n",
    "top_company=top_asset['종목명']\n",
    "Top_company=top_company.values.tolist()\n",
    "Top_company\n"
   ]
  },
  {
   "cell_type": "code",
   "execution_count": 130,
   "id": "da604e31",
   "metadata": {},
   "outputs": [
    {
     "data": {
      "text/plain": [
       "[21.21, 6.05, 5.19, 3.05, 2.97, 2.44, 2.38, 2.14, 1.91, 1.68]"
      ]
     },
     "execution_count": 130,
     "metadata": {},
     "output_type": "execute_result"
    }
   ],
   "source": [
    "aa=top_asset['지분율(%)'].values.tolist()\n",
    "aa"
   ]
  },
  {
   "cell_type": "markdown",
   "id": "ef3dc347",
   "metadata": {},
   "source": [
    "## Top10 지분율 구해보기"
   ]
  },
  {
   "cell_type": "code",
   "execution_count": 131,
   "id": "5421f857",
   "metadata": {},
   "outputs": [],
   "source": [
    "company=fracs=stock['종목명'].head(10).values.tolist()\n",
    "x_pos=np.arange(0,len(company),1)"
   ]
  },
  {
   "cell_type": "code",
   "execution_count": 132,
   "id": "af3eea20",
   "metadata": {
    "scrolled": true
   },
   "outputs": [
    {
     "data": {
      "text/plain": [
       "[Text(0, 0, 'ISHARES MSCI SPAIN ETF'),\n",
       " Text(1, 0, 'LYXOR FTSE MIB UCITS ETF'),\n",
       " Text(2, 0, 'LYXOR CAC 40 DR UCITS ETF'),\n",
       " Text(3, 0, 'ISHARES S+P/TSX 60 INDEX ETF'),\n",
       " Text(4, 0, 'SEAWORLD ENTERTAINMENT INC'),\n",
       " Text(5, 0, 'ISS A/S'),\n",
       " Text(6, 0, 'INCITEC PIVOT LTD'),\n",
       " Text(7, 0, 'TENET HEALTHCARE CORP'),\n",
       " Text(8, 0, 'TRADEWEB MARKETS INC CLASS A'),\n",
       " Text(9, 0, 'TRAVIS PERKINS PLC')]"
      ]
     },
     "execution_count": 132,
     "metadata": {},
     "output_type": "execute_result"
    },
    {
     "data": {
      "image/png": "[encoded data removed]",
      "text/plain": [
       "<Figure size 432x288 with 1 Axes>"
      ]
     },
     "metadata": {
      "needs_background": "light"
     },
     "output_type": "display_data"
    }
   ],
   "source": [
    "colors = sns.color_palette('Set2',len(company))\n",
    "plt.bar(Top_company,aa,align='center', alpha=0.7,color=colors)\n",
    "\n",
    "plt.ylabel('지분율(%)')\n",
    "plt.xlabel('종목명')\n",
    "plt.title('Top 10 지분율 종목')\n",
    "\n",
    "ax=plt.subplot()\n",
    "ax.set_xticks(x_pos)\n",
    "ax.set_xticklabels(Top_company,rotation=90)\n",
    "\n"
   ]
  },
  {
   "cell_type": "markdown",
   "id": "8a562e29",
   "metadata": {},
   "source": [
    "##  국민연금공단의 Top10 투자 종목"
   ]
  },
  {
   "cell_type": "code",
   "execution_count": 133,
   "id": "1336a5d1",
   "metadata": {},
   "outputs": [
    {
     "data": {
      "text/plain": [
       "[Text(0, 0, 'APPLE INC'),\n",
       " Text(1, 0, 'MICROSOFT CORP'),\n",
       " Text(2, 0, 'AMAZON.COM INC'),\n",
       " Text(3, 0, 'FACEBOOK INC CLASS A'),\n",
       " Text(4, 0, 'TESLA INC'),\n",
       " Text(5, 0, 'ALPHABET INC CL C'),\n",
       " Text(6, 0, 'ALPHABET INC CL A'),\n",
       " Text(7, 0, 'TENCENT HOLDINGS LTD'),\n",
       " Text(8, 0, 'TAIWAN SEMICONDUCTOR SP ADR'),\n",
       " Text(9, 0, 'ALIBABA GROUP HOLDING SP ADR')]"
      ]
     },
     "execution_count": 133,
     "metadata": {},
     "output_type": "execute_result"
    },
    {
     "data": {
      "image/png": "[encoded data removed]",
      "text/plain": [
       "<Figure size 432x288 with 1 Axes>"
      ]
     },
     "metadata": {
      "needs_background": "light"
     },
     "output_type": "display_data"
    }
   ],
   "source": [
    "colors = sns.color_palette('hls',len(company))\n",
    "plt.bar(company,money,align='center', alpha=0.7,color=colors)\n",
    "\n",
    "plt.ylabel('평가액(억원)')\n",
    "plt.xlabel('종목명')\n",
    "plt.title('국민연금공단_해외주식 투자정보_20201231')\n",
    "\n",
    "ax=plt.subplot()\n",
    "ax.set_xticks(x_pos)\n",
    "ax.set_xticklabels(company,rotation=90)\n",
    "\n"
   ]
  }
 ],
 "metadata": {
  "kernelspec": {
   "display_name": "Python 3 (ipykernel)",
   "language": "python",
   "name": "python3"
  },
  "language_info": {
   "codemirror_mode": {
    "name": "ipython",
    "version": 3
   },
   "file_extension": ".py",
   "mimetype": "text/x-python",
   "name": "python",
   "nbconvert_exporter": "python",
   "pygments_lexer": "ipython3",
   "version": "3.9.7"
  }
 },
 "nbformat": 4,
 "nbformat_minor": 5
}
