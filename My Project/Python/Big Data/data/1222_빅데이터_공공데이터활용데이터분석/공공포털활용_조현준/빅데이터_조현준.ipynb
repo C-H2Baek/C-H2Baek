{
 "cells": [
  {
   "cell_type": "markdown",
   "metadata": {
    "collapsed": true,
    "pycharm": {
     "name": "#%% md\n"
    }
   },
   "source": [
    "# 함수 정리\n",
    "[소스코드](https://github.com/nopecho/learning-python/tree/main/BigData)\n",
    "\n",
    "## 1.pandas\n",
    "****\n",
    "> <판다스의 데이터 구조>\n",
    "> **시리즈** : 1차원의 데이터를 가지고 있는 데이터 타입 (1차원 배열)\n",
    "> **데이터 프레임** : 2차원 데이터를 가지고 있는 데이터 타입 (2차원 배열, 여러 시리즈가 모여 데이터 프레임 생성)\n",
    "<br>\n",
    "\n",
    "- **pd.read_csv('파일 경로를 포함한 파일명' , sep='구분자')** : pandas의 `read_'파일확장자'( )` 함수로 데이터를 **DataFrame형태**로 불러옴\n",
    "\n",
    "<br>\n",
    "\n",
    "- **데이터프레임.shape()** : 데이터 프레임의 **행,열** 정보 출력 (테이블의 레코드,필드 갯수 정보 출력)\n",
    "\n",
    "<br>\n",
    "\n",
    "- **데이터프레임.info()** : 데이터 프레임의 정보 출력\n",
    "\n",
    "<br>\n",
    "\n",
    "- **데이터프레임.index()** : 데이터 프레임의 컬럼 갯수에 대한 정보를 보여줌\n",
    "\n",
    "<br>\n",
    "\n",
    "- **데이터프레임.columns** : 데이터 프레임의 모든 컬럼(열)의 컬럼명 출력\n",
    "\n",
    "<br>\n",
    "\n",
    "- **데이터프레임.head()** : 데이터 프레임에서 순서대로 5개의 데이터 정보를 보여줌\n",
    "\n",
    "<br>\n",
    "\n",
    "- **데이터프레임.describe()** : 데이터 프레임에서 수치형 컬럼의 기초 통계량 정보\n",
    "\n",
    "<br>\n",
    "\n",
    "- **데이터프레임.['컬럼명'].unique()** : 중복을 제거한 시리즈 객체 반환\n",
    ">**데이터프레임['컬럼명']** : 시리즈(**index** 와 **value**를 가지는 객체) 반환\n",
    "데이터프레임['컬럼명']으로 추출하면 **항상 시리즈 객체 반환**, (기본 index = 0,1,2 ... n / value = 해당 **컬럼명에 대한 필드값**들)\n",
    "\n",
    "- **시리즈객체.apply()** : min().max()등 함수를 매개변수로 받아 호출한 시리즈 객체에 적용\n",
    ">**lambda** : 람다 함수는 일종의 간편식으로 `lambda '매개변수' : '매개변수'에 대한 리턴값` 의 형태로 사용\n",
    "\n",
    "- **데이터프레임.groupby('기준 컬럼')['그룹으로 묶일 컬럼']** : '기준 컬럼'으로 '그룹으로 묶일 컬럼'들을 그룹으로 새로운 시리즈 객체 생성\n",
    "\n",
    "<br>\n",
    "\n",
    "- **데이터프레임.sort_index()** : 인덱스나 컬럼명으로 데이터 프레임 정렬\n",
    "\n",
    "<br>\n",
    "\n",
    "- **데이터프레임.sort_values()** : 매개변수 데이터 값으로 데이터 프레임 정렬\n",
    "\n"
   ]
  },
  {
   "cell_type": "markdown",
   "source": [
    "## 2.Numpy\n",
    "****\n",
    "\n",
    "- **np.arange()** : 일정 간격에 따라 값을 가지는 배열 생성\n",
    "\n",
    "<br>\n",
    "\n",
    "- **np.array()** : 넘파이 배열 생성\n",
    "\n"
   ],
   "metadata": {
    "collapsed": false
   }
  },
  {
   "cell_type": "markdown",
   "source": [
    "## 3. Matplotlip\n",
    "****\n",
    "\n",
    ">matplotlip.pylot : Matplotlip 시각화 모듈\n",
    "\n",
    "- **pylot.bar()** : 막대그래프 형태로 데이터 시각화\n",
    "\n",
    "<br>\n",
    "\n",
    "- **pylot.show()** : 시각화한 그래프 출력\n"
   ],
   "metadata": {
    "collapsed": false,
    "pycharm": {
     "name": "#%% md\n"
    }
   }
  }
 ],
 "metadata": {
  "kernelspec": {
   "display_name": "Python 3",
   "language": "python",
   "name": "python3"
  },
  "language_info": {
   "codemirror_mode": {
    "name": "ipython",
    "version": 2
   },
   "file_extension": ".py",
   "mimetype": "text/x-python",
   "name": "python",
   "nbconvert_exporter": "python",
   "pygments_lexer": "ipython2",
   "version": "2.7.6"
  }
 },
 "nbformat": 4,
 "nbformat_minor": 0
}