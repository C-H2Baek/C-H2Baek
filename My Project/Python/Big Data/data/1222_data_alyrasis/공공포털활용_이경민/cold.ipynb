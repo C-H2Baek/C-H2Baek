{
 "cells": [
  {
   "cell_type": "code",
   "execution_count": 1,
   "id": "398e196f",
   "metadata": {},
   "outputs": [
    {
     "data": {
      "text/html": [
       "<div>\n",
       "<style scoped>\n",
       "    .dataframe tbody tr th:only-of-type {\n",
       "        vertical-align: middle;\n",
       "    }\n",
       "\n",
       "    .dataframe tbody tr th {\n",
       "        vertical-align: top;\n",
       "    }\n",
       "\n",
       "    .dataframe thead th {\n",
       "        text-align: right;\n",
       "    }\n",
       "</style>\n",
       "<table border=\"1\" class=\"dataframe\">\n",
       "  <thead>\n",
       "    <tr style=\"text-align: right;\">\n",
       "      <th></th>\n",
       "      <th>일시</th>\n",
       "      <th>지점</th>\n",
       "      <th>일최저체감온도</th>\n",
       "      <th>일최고기온</th>\n",
       "      <th>일평균기온</th>\n",
       "      <th>일최저기온</th>\n",
       "      <th>일평균상대습도</th>\n",
       "      <th>일평균풍속</th>\n",
       "      <th>일최대풍속</th>\n",
       "      <th>한파특보</th>\n",
       "    </tr>\n",
       "  </thead>\n",
       "  <tbody>\n",
       "    <tr>\n",
       "      <th>0</th>\n",
       "      <td>2021-12-01</td>\n",
       "      <td>서울(108)</td>\n",
       "      <td>-9.5</td>\n",
       "      <td>1.5</td>\n",
       "      <td>-1.3</td>\n",
       "      <td>-3.0</td>\n",
       "      <td>51.8</td>\n",
       "      <td>4.2</td>\n",
       "      <td>7.2</td>\n",
       "      <td>X</td>\n",
       "    </tr>\n",
       "    <tr>\n",
       "      <th>1</th>\n",
       "      <td>2021-12-01</td>\n",
       "      <td>인천(112)</td>\n",
       "      <td>-8.8</td>\n",
       "      <td>1.1</td>\n",
       "      <td>-0.7</td>\n",
       "      <td>-1.8</td>\n",
       "      <td>43.5</td>\n",
       "      <td>6.8</td>\n",
       "      <td>12.3</td>\n",
       "      <td>X</td>\n",
       "    </tr>\n",
       "    <tr>\n",
       "      <th>2</th>\n",
       "      <td>2021-12-01</td>\n",
       "      <td>대전(133)</td>\n",
       "      <td>-4.6</td>\n",
       "      <td>3.8</td>\n",
       "      <td>0.9</td>\n",
       "      <td>-2.6</td>\n",
       "      <td>59.9</td>\n",
       "      <td>2.8</td>\n",
       "      <td>5.3</td>\n",
       "      <td>X</td>\n",
       "    </tr>\n",
       "    <tr>\n",
       "      <th>3</th>\n",
       "      <td>2021-12-01</td>\n",
       "      <td>대구(143)</td>\n",
       "      <td>-5.8</td>\n",
       "      <td>4.8</td>\n",
       "      <td>2.4</td>\n",
       "      <td>-0.5</td>\n",
       "      <td>39.6</td>\n",
       "      <td>6.3</td>\n",
       "      <td>9.8</td>\n",
       "      <td>X</td>\n",
       "    </tr>\n",
       "    <tr>\n",
       "      <th>4</th>\n",
       "      <td>2021-12-01</td>\n",
       "      <td>광주(156)</td>\n",
       "      <td>-3.6</td>\n",
       "      <td>5.0</td>\n",
       "      <td>2.4</td>\n",
       "      <td>0.1</td>\n",
       "      <td>81.1</td>\n",
       "      <td>1.7</td>\n",
       "      <td>3.4</td>\n",
       "      <td>X</td>\n",
       "    </tr>\n",
       "    <tr>\n",
       "      <th>...</th>\n",
       "      <td>...</td>\n",
       "      <td>...</td>\n",
       "      <td>...</td>\n",
       "      <td>...</td>\n",
       "      <td>...</td>\n",
       "      <td>...</td>\n",
       "      <td>...</td>\n",
       "      <td>...</td>\n",
       "      <td>...</td>\n",
       "      <td>...</td>\n",
       "    </tr>\n",
       "    <tr>\n",
       "      <th>121</th>\n",
       "      <td>2021-12-21</td>\n",
       "      <td>인천(112)</td>\n",
       "      <td>-4.1</td>\n",
       "      <td>7.5</td>\n",
       "      <td>5.2</td>\n",
       "      <td>1.0</td>\n",
       "      <td>69.5</td>\n",
       "      <td>3.0</td>\n",
       "      <td>5.7</td>\n",
       "      <td>X</td>\n",
       "    </tr>\n",
       "    <tr>\n",
       "      <th>122</th>\n",
       "      <td>2021-12-21</td>\n",
       "      <td>대전(133)</td>\n",
       "      <td>0.3</td>\n",
       "      <td>14.1</td>\n",
       "      <td>7.9</td>\n",
       "      <td>1.7</td>\n",
       "      <td>72.9</td>\n",
       "      <td>1.4</td>\n",
       "      <td>3.2</td>\n",
       "      <td>X</td>\n",
       "    </tr>\n",
       "    <tr>\n",
       "      <th>123</th>\n",
       "      <td>2021-12-21</td>\n",
       "      <td>대구(143)</td>\n",
       "      <td>-0.4</td>\n",
       "      <td>14.2</td>\n",
       "      <td>6.3</td>\n",
       "      <td>-0.6</td>\n",
       "      <td>67.5</td>\n",
       "      <td>1.0</td>\n",
       "      <td>3.3</td>\n",
       "      <td>X</td>\n",
       "    </tr>\n",
       "    <tr>\n",
       "      <th>124</th>\n",
       "      <td>2021-12-21</td>\n",
       "      <td>광주(156)</td>\n",
       "      <td>2.4</td>\n",
       "      <td>14.1</td>\n",
       "      <td>7.0</td>\n",
       "      <td>2.4</td>\n",
       "      <td>82.9</td>\n",
       "      <td>0.7</td>\n",
       "      <td>2.4</td>\n",
       "      <td>X</td>\n",
       "    </tr>\n",
       "    <tr>\n",
       "      <th>125</th>\n",
       "      <td>2021-12-21</td>\n",
       "      <td>부산(159)</td>\n",
       "      <td>5.0</td>\n",
       "      <td>14.3</td>\n",
       "      <td>10.2</td>\n",
       "      <td>7.4</td>\n",
       "      <td>59.1</td>\n",
       "      <td>3.1</td>\n",
       "      <td>6.9</td>\n",
       "      <td>X</td>\n",
       "    </tr>\n",
       "  </tbody>\n",
       "</table>\n",
       "<p>126 rows × 10 columns</p>\n",
       "</div>"
      ],
      "text/plain": [
       "             일시       지점  일최저체감온도  일최고기온  일평균기온  일최저기온  일평균상대습도  일평균풍속  일최대풍속  \\\n",
       "0    2021-12-01  서울(108)     -9.5    1.5   -1.3   -3.0     51.8    4.2    7.2   \n",
       "1    2021-12-01  인천(112)     -8.8    1.1   -0.7   -1.8     43.5    6.8   12.3   \n",
       "2    2021-12-01  대전(133)     -4.6    3.8    0.9   -2.6     59.9    2.8    5.3   \n",
       "3    2021-12-01  대구(143)     -5.8    4.8    2.4   -0.5     39.6    6.3    9.8   \n",
       "4    2021-12-01  광주(156)     -3.6    5.0    2.4    0.1     81.1    1.7    3.4   \n",
       "..          ...      ...      ...    ...    ...    ...      ...    ...    ...   \n",
       "121  2021-12-21  인천(112)     -4.1    7.5    5.2    1.0     69.5    3.0    5.7   \n",
       "122  2021-12-21  대전(133)      0.3   14.1    7.9    1.7     72.9    1.4    3.2   \n",
       "123  2021-12-21  대구(143)     -0.4   14.2    6.3   -0.6     67.5    1.0    3.3   \n",
       "124  2021-12-21  광주(156)      2.4   14.1    7.0    2.4     82.9    0.7    2.4   \n",
       "125  2021-12-21  부산(159)      5.0   14.3   10.2    7.4     59.1    3.1    6.9   \n",
       "\n",
       "    한파특보  \n",
       "0      X  \n",
       "1      X  \n",
       "2      X  \n",
       "3      X  \n",
       "4      X  \n",
       "..   ...  \n",
       "121    X  \n",
       "122    X  \n",
       "123    X  \n",
       "124    X  \n",
       "125    X  \n",
       "\n",
       "[126 rows x 10 columns]"
      ]
     },
     "execution_count": 1,
     "metadata": {},
     "output_type": "execute_result"
    }
   ],
   "source": [
    "# 라이브러리 임포트\n",
    "import pandas as pd\n",
    "import numpy as np\n",
    "import matplotlib.pyplot as plt\n",
    "\n",
    "file_path = '../data/coldWave.csv'\n",
    "pd.read_csv(file_path, encoding='euc-kr') \n",
    "# 파일에 한글이 들어가있는 경우 encoding='cp949' 또는 encoding='euc-kr 를 해줘야함 안해주면 오류남 "
   ]
  },
  {
   "cell_type": "code",
   "execution_count": 2,
   "id": "f0672b4f",
   "metadata": {},
   "outputs": [
    {
     "name": "stdout",
     "output_type": "stream",
     "text": [
      "<class 'pandas.core.frame.DataFrame'>\n",
      "RangeIndex: 126 entries, 0 to 125\n",
      "Data columns (total 10 columns):\n",
      " #   Column   Non-Null Count  Dtype  \n",
      "---  ------   --------------  -----  \n",
      " 0   일시       126 non-null    object \n",
      " 1   지점       126 non-null    object \n",
      " 2   일최저체감온도  125 non-null    float64\n",
      " 3   일최고기온    126 non-null    float64\n",
      " 4   일평균기온    126 non-null    float64\n",
      " 5   일최저기온    126 non-null    float64\n",
      " 6   일평균상대습도  126 non-null    float64\n",
      " 7   일평균풍속    126 non-null    float64\n",
      " 8   일최대풍속    126 non-null    float64\n",
      " 9   한파특보     126 non-null    object \n",
      "dtypes: float64(7), object(3)\n",
      "memory usage: 10.0+ KB\n",
      "None\n"
     ]
    }
   ],
   "source": [
    "coldWave = pd.read_csv(file_path, encoding='euc-kr')\n",
    "print(coldWave.info())"
   ]
  },
  {
   "cell_type": "code",
   "execution_count": 3,
   "id": "1f45c71c",
   "metadata": {},
   "outputs": [
    {
     "data": {
      "text/html": [
       "<div>\n",
       "<style scoped>\n",
       "    .dataframe tbody tr th:only-of-type {\n",
       "        vertical-align: middle;\n",
       "    }\n",
       "\n",
       "    .dataframe tbody tr th {\n",
       "        vertical-align: top;\n",
       "    }\n",
       "\n",
       "    .dataframe thead th {\n",
       "        text-align: right;\n",
       "    }\n",
       "</style>\n",
       "<table border=\"1\" class=\"dataframe\">\n",
       "  <thead>\n",
       "    <tr style=\"text-align: right;\">\n",
       "      <th></th>\n",
       "      <th>일최저체감온도</th>\n",
       "      <th>일최고기온</th>\n",
       "      <th>일평균기온</th>\n",
       "      <th>일최저기온</th>\n",
       "      <th>일평균상대습도</th>\n",
       "      <th>일평균풍속</th>\n",
       "      <th>일최대풍속</th>\n",
       "    </tr>\n",
       "    <tr>\n",
       "      <th>지점</th>\n",
       "      <th></th>\n",
       "      <th></th>\n",
       "      <th></th>\n",
       "      <th></th>\n",
       "      <th></th>\n",
       "      <th></th>\n",
       "      <th></th>\n",
       "    </tr>\n",
       "  </thead>\n",
       "  <tbody>\n",
       "    <tr>\n",
       "      <th>광주(156)</th>\n",
       "      <td>-0.647619</td>\n",
       "      <td>10.733333</td>\n",
       "      <td>5.438095</td>\n",
       "      <td>1.257143</td>\n",
       "      <td>75.047619</td>\n",
       "      <td>1.080952</td>\n",
       "      <td>2.942857</td>\n",
       "    </tr>\n",
       "    <tr>\n",
       "      <th>대구(143)</th>\n",
       "      <td>-4.028571</td>\n",
       "      <td>10.338095</td>\n",
       "      <td>4.423810</td>\n",
       "      <td>-0.985714</td>\n",
       "      <td>60.347619</td>\n",
       "      <td>2.266667</td>\n",
       "      <td>5.000000</td>\n",
       "    </tr>\n",
       "    <tr>\n",
       "      <th>대전(133)</th>\n",
       "      <td>-3.528571</td>\n",
       "      <td>9.252381</td>\n",
       "      <td>3.647619</td>\n",
       "      <td>-1.390476</td>\n",
       "      <td>73.880952</td>\n",
       "      <td>1.309524</td>\n",
       "      <td>3.357143</td>\n",
       "    </tr>\n",
       "    <tr>\n",
       "      <th>부산(159)</th>\n",
       "      <td>-1.170000</td>\n",
       "      <td>12.090476</td>\n",
       "      <td>7.361905</td>\n",
       "      <td>3.180952</td>\n",
       "      <td>54.319048</td>\n",
       "      <td>2.933333</td>\n",
       "      <td>6.557143</td>\n",
       "    </tr>\n",
       "    <tr>\n",
       "      <th>서울(108)</th>\n",
       "      <td>-5.223810</td>\n",
       "      <td>7.366667</td>\n",
       "      <td>2.819048</td>\n",
       "      <td>-1.266667</td>\n",
       "      <td>64.861905</td>\n",
       "      <td>2.204762</td>\n",
       "      <td>4.414286</td>\n",
       "    </tr>\n",
       "    <tr>\n",
       "      <th>인천(112)</th>\n",
       "      <td>-4.780952</td>\n",
       "      <td>7.580952</td>\n",
       "      <td>3.609524</td>\n",
       "      <td>-0.066667</td>\n",
       "      <td>56.590476</td>\n",
       "      <td>3.242857</td>\n",
       "      <td>6.690476</td>\n",
       "    </tr>\n",
       "  </tbody>\n",
       "</table>\n",
       "</div>"
      ],
      "text/plain": [
       "          일최저체감온도      일최고기온     일평균기온     일최저기온    일평균상대습도     일평균풍속  \\\n",
       "지점                                                                      \n",
       "광주(156) -0.647619  10.733333  5.438095  1.257143  75.047619  1.080952   \n",
       "대구(143) -4.028571  10.338095  4.423810 -0.985714  60.347619  2.266667   \n",
       "대전(133) -3.528571   9.252381  3.647619 -1.390476  73.880952  1.309524   \n",
       "부산(159) -1.170000  12.090476  7.361905  3.180952  54.319048  2.933333   \n",
       "서울(108) -5.223810   7.366667  2.819048 -1.266667  64.861905  2.204762   \n",
       "인천(112) -4.780952   7.580952  3.609524 -0.066667  56.590476  3.242857   \n",
       "\n",
       "            일최대풍속  \n",
       "지점                 \n",
       "광주(156)  2.942857  \n",
       "대구(143)  5.000000  \n",
       "대전(133)  3.357143  \n",
       "부산(159)  6.557143  \n",
       "서울(108)  4.414286  \n",
       "인천(112)  6.690476  "
      ]
     },
     "execution_count": 3,
     "metadata": {},
     "output_type": "execute_result"
    }
   ],
   "source": [
    "#지점별 평균 \n",
    "coldWave.groupby('지점').mean()"
   ]
  },
  {
   "cell_type": "code",
   "execution_count": 4,
   "id": "5dec1de1",
   "metadata": {},
   "outputs": [],
   "source": [
    "df=coldWave.groupby('지점').mean()"
   ]
  },
  {
   "cell_type": "markdown",
   "id": "4c52af26",
   "metadata": {},
   "source": [
    "[인사이트 도출 1: 지점별 일평균기온의 평균보다 낮은 지역] "
   ]
  },
  {
   "cell_type": "code",
   "execution_count": 5,
   "id": "f8ad7965",
   "metadata": {
    "scrolled": true
   },
   "outputs": [
    {
     "name": "stdout",
     "output_type": "stream",
     "text": [
      "['대구(143)', '대전(133)', '서울(108)', '인천(112)']\n"
     ]
    }
   ],
   "source": [
    "# 전체 일평균기온의 평균보다 낮은 일평균기온을 기록한 지점\n",
    "전체일평균 = coldWave.일평균기온.mean()\n",
    "\n",
    "# 지점별 일평균기온의 평균\n",
    "지점일평균 = coldWave.groupby('지점')['일평균기온'].mean()\n",
    "일평균이하 = 지점일평균[지점일평균 <= 전체일평균].index.tolist()\n",
    "print(일평균이하)"
   ]
  },
  {
   "cell_type": "markdown",
   "id": "655f0354",
   "metadata": {},
   "source": [
    "[# 지점별 일평균기온의 평균 시각화 그래프 1]"
   ]
  },
  {
   "cell_type": "code",
   "execution_count": 22,
   "id": "ba7c8372",
   "metadata": {},
   "outputs": [
    {
     "data": {
      "image/png": "[encoded data removed]",
      "text/plain": [
       "<Figure size 432x288 with 1 Axes>"
      ]
     },
     "metadata": {
      "needs_background": "light"
     },
     "output_type": "display_data"
    }
   ],
   "source": [
    "지점수 = 지점일평균.index.tolist()\n",
    "지점수.append('전체평균기온')\n",
    "지점수\n",
    "\n",
    "지점전체일평균 = 지점일평균.tolist()\n",
    "지점전체일평균.append(전체일평균) #지점별 일평균기온의 평균 리스트 마지막에 전체 평균을 추가 \n",
    "지점전체일평균\n",
    "\n",
    "plt.rc('font', family='Malgun Gothic')\n",
    "\n",
    "\n",
    "x_pos = np.arange(len(지점수))\n",
    "plt.plot(x_pos, 지점전체일평균,marker='o', ms=3)\n",
    "plt.ylabel('지점일평균') # y축 이름\n",
    "plt.xlabel('지점') #x축 이름\n",
    "plt.title('지점별 12월 일평균기온의 평균')  # 말그대로 타이틀\n",
    "\n",
    "plt.plot([0, 6], [전체일평균, 전체일평균],'k--') #평균 수치 선을 생성해줌\n",
    "plt.xticks(x_pos, 지점수)\n",
    "\n",
    "\n",
    "plt.show()"
   ]
  },
  {
   "cell_type": "markdown",
   "id": "f4492c31",
   "metadata": {},
   "source": [
    "[인사이트 도출 2 : 일최저체감온도 지점별 평균과 순위]"
   ]
  },
  {
   "cell_type": "code",
   "execution_count": 7,
   "id": "62a9a09d",
   "metadata": {},
   "outputs": [
    {
     "name": "stdout",
     "output_type": "stream",
     "text": [
      "지점\n",
      "광주(156)   -0.647619\n",
      "대구(143)   -4.028571\n",
      "대전(133)   -3.528571\n",
      "부산(159)   -1.170000\n",
      "서울(108)   -5.223810\n",
      "인천(112)   -4.780952\n",
      "Name: 일최저체감온도, dtype: float64\n"
     ]
    }
   ],
   "source": [
    "# 지점별 일최저체감온도의 평균\n",
    "일최저체감온도평균 = coldWave.groupby('지점')['일최저체감온도'].mean()\n",
    "print(일최저체감온도평균)"
   ]
  },
  {
   "cell_type": "code",
   "execution_count": 8,
   "id": "710b3546",
   "metadata": {
    "scrolled": true
   },
   "outputs": [
    {
     "data": {
      "text/html": [
       "<div>\n",
       "<style scoped>\n",
       "    .dataframe tbody tr th:only-of-type {\n",
       "        vertical-align: middle;\n",
       "    }\n",
       "\n",
       "    .dataframe tbody tr th {\n",
       "        vertical-align: top;\n",
       "    }\n",
       "\n",
       "    .dataframe thead th {\n",
       "        text-align: right;\n",
       "    }\n",
       "</style>\n",
       "<table border=\"1\" class=\"dataframe\">\n",
       "  <thead>\n",
       "    <tr style=\"text-align: right;\">\n",
       "      <th></th>\n",
       "      <th>지점</th>\n",
       "      <th>평균온도</th>\n",
       "    </tr>\n",
       "  </thead>\n",
       "  <tbody>\n",
       "    <tr>\n",
       "      <th>0</th>\n",
       "      <td>광주(156)</td>\n",
       "      <td>-0.647619</td>\n",
       "    </tr>\n",
       "    <tr>\n",
       "      <th>1</th>\n",
       "      <td>대구(143)</td>\n",
       "      <td>-4.028571</td>\n",
       "    </tr>\n",
       "    <tr>\n",
       "      <th>2</th>\n",
       "      <td>대전(133)</td>\n",
       "      <td>-3.528571</td>\n",
       "    </tr>\n",
       "    <tr>\n",
       "      <th>3</th>\n",
       "      <td>부산(159)</td>\n",
       "      <td>-1.170000</td>\n",
       "    </tr>\n",
       "    <tr>\n",
       "      <th>4</th>\n",
       "      <td>서울(108)</td>\n",
       "      <td>-5.223810</td>\n",
       "    </tr>\n",
       "    <tr>\n",
       "      <th>5</th>\n",
       "      <td>인천(112)</td>\n",
       "      <td>-4.780952</td>\n",
       "    </tr>\n",
       "  </tbody>\n",
       "</table>\n",
       "</div>"
      ],
      "text/plain": [
       "        지점      평균온도\n",
       "0  광주(156) -0.647619\n",
       "1  대구(143) -4.028571\n",
       "2  대전(133) -3.528571\n",
       "3  부산(159) -1.170000\n",
       "4  서울(108) -5.223810\n",
       "5  인천(112) -4.780952"
      ]
     },
     "execution_count": 8,
     "metadata": {},
     "output_type": "execute_result"
    }
   ],
   "source": [
    "df1 = pd.DataFrame(\n",
    "    {'지점': 일최저체감온도평균.index.tolist(),\n",
    "     '평균온도': 일최저체감온도평균.values.tolist()})\n",
    "df1"
   ]
  },
  {
   "cell_type": "code",
   "execution_count": 9,
   "id": "d8534a1d",
   "metadata": {},
   "outputs": [
    {
     "name": "stdout",
     "output_type": "stream",
     "text": [
      "        지점      평균온도  순위\n",
      "0  광주(156) -0.647619   1\n",
      "3  부산(159) -1.170000   2\n",
      "2  대전(133) -3.528571   3\n",
      "1  대구(143) -4.028571   4\n",
      "5  인천(112) -4.780952   5\n",
      "4  서울(108) -5.223810   6\n"
     ]
    }
   ],
   "source": [
    "df1['순위'] = df1['평균온도'].rank(ascending=False)\n",
    "df1['순위'] = df1['순위'].astype(int)\n",
    "순위1=df1.sort_values(by='순위')\n",
    "print(순위1)"
   ]
  },
  {
   "cell_type": "markdown",
   "id": "d982abad",
   "metadata": {},
   "source": [
    "[인사이트 도출 3 : 지점별 일교차와 순위]"
   ]
  },
  {
   "cell_type": "code",
   "execution_count": 10,
   "id": "0eb83986",
   "metadata": {},
   "outputs": [],
   "source": [
    "일교차 = df['일최고기온'] - df['일최저기온']"
   ]
  },
  {
   "cell_type": "code",
   "execution_count": 11,
   "id": "b9dcb2ad",
   "metadata": {},
   "outputs": [
    {
     "data": {
      "text/html": [
       "<div>\n",
       "<style scoped>\n",
       "    .dataframe tbody tr th:only-of-type {\n",
       "        vertical-align: middle;\n",
       "    }\n",
       "\n",
       "    .dataframe tbody tr th {\n",
       "        vertical-align: top;\n",
       "    }\n",
       "\n",
       "    .dataframe thead th {\n",
       "        text-align: right;\n",
       "    }\n",
       "</style>\n",
       "<table border=\"1\" class=\"dataframe\">\n",
       "  <thead>\n",
       "    <tr style=\"text-align: right;\">\n",
       "      <th></th>\n",
       "      <th>지점</th>\n",
       "      <th>일교차</th>\n",
       "    </tr>\n",
       "  </thead>\n",
       "  <tbody>\n",
       "    <tr>\n",
       "      <th>0</th>\n",
       "      <td>광주(156)</td>\n",
       "      <td>9.476190</td>\n",
       "    </tr>\n",
       "    <tr>\n",
       "      <th>1</th>\n",
       "      <td>대구(143)</td>\n",
       "      <td>11.323810</td>\n",
       "    </tr>\n",
       "    <tr>\n",
       "      <th>2</th>\n",
       "      <td>대전(133)</td>\n",
       "      <td>10.642857</td>\n",
       "    </tr>\n",
       "    <tr>\n",
       "      <th>3</th>\n",
       "      <td>부산(159)</td>\n",
       "      <td>8.909524</td>\n",
       "    </tr>\n",
       "    <tr>\n",
       "      <th>4</th>\n",
       "      <td>서울(108)</td>\n",
       "      <td>8.633333</td>\n",
       "    </tr>\n",
       "    <tr>\n",
       "      <th>5</th>\n",
       "      <td>인천(112)</td>\n",
       "      <td>7.647619</td>\n",
       "    </tr>\n",
       "  </tbody>\n",
       "</table>\n",
       "</div>"
      ],
      "text/plain": [
       "        지점        일교차\n",
       "0  광주(156)   9.476190\n",
       "1  대구(143)  11.323810\n",
       "2  대전(133)  10.642857\n",
       "3  부산(159)   8.909524\n",
       "4  서울(108)   8.633333\n",
       "5  인천(112)   7.647619"
      ]
     },
     "execution_count": 11,
     "metadata": {},
     "output_type": "execute_result"
    }
   ],
   "source": [
    "df2 = pd.DataFrame(\n",
    "    {'지점': 일교차.index.tolist(),\n",
    "     '일교차': 일교차.values.tolist()})\n",
    "df2"
   ]
  },
  {
   "cell_type": "code",
   "execution_count": 12,
   "id": "d691536f",
   "metadata": {},
   "outputs": [
    {
     "name": "stdout",
     "output_type": "stream",
     "text": [
      "        지점        일교차  순위\n",
      "1  대구(143)  11.323810   1\n",
      "2  대전(133)  10.642857   2\n",
      "0  광주(156)   9.476190   3\n",
      "3  부산(159)   8.909524   4\n",
      "4  서울(108)   8.633333   5\n",
      "5  인천(112)   7.647619   6\n"
     ]
    }
   ],
   "source": [
    "df2['순위'] = df2['일교차'].rank(ascending=False)\n",
    "df2['순위'] = df2['순위'].astype(int)\n",
    "순위2=df2.sort_values(by='순위')\n",
    "print(순위2)"
   ]
  },
  {
   "cell_type": "markdown",
   "id": "f2c49f67",
   "metadata": {},
   "source": [
    "[#지점별 일최고기온과 일최저기온 그리고 일교차 시각화 그래프 2]"
   ]
  },
  {
   "cell_type": "code",
   "execution_count": 13,
   "id": "44d76309",
   "metadata": {},
   "outputs": [
    {
     "data": {
      "text/html": [
       "<div>\n",
       "<style scoped>\n",
       "    .dataframe tbody tr th:only-of-type {\n",
       "        vertical-align: middle;\n",
       "    }\n",
       "\n",
       "    .dataframe tbody tr th {\n",
       "        vertical-align: top;\n",
       "    }\n",
       "\n",
       "    .dataframe thead th {\n",
       "        text-align: right;\n",
       "    }\n",
       "</style>\n",
       "<table border=\"1\" class=\"dataframe\">\n",
       "  <thead>\n",
       "    <tr style=\"text-align: right;\">\n",
       "      <th></th>\n",
       "      <th>지점</th>\n",
       "      <th>일교차</th>\n",
       "      <th>일최고기온</th>\n",
       "      <th>일최저기온</th>\n",
       "    </tr>\n",
       "  </thead>\n",
       "  <tbody>\n",
       "    <tr>\n",
       "      <th>0</th>\n",
       "      <td>광주(156)</td>\n",
       "      <td>9.476190</td>\n",
       "      <td>10.733333</td>\n",
       "      <td>1.257143</td>\n",
       "    </tr>\n",
       "    <tr>\n",
       "      <th>1</th>\n",
       "      <td>대구(143)</td>\n",
       "      <td>11.323810</td>\n",
       "      <td>10.338095</td>\n",
       "      <td>-0.985714</td>\n",
       "    </tr>\n",
       "    <tr>\n",
       "      <th>2</th>\n",
       "      <td>대전(133)</td>\n",
       "      <td>10.642857</td>\n",
       "      <td>9.252381</td>\n",
       "      <td>-1.390476</td>\n",
       "    </tr>\n",
       "    <tr>\n",
       "      <th>3</th>\n",
       "      <td>부산(159)</td>\n",
       "      <td>8.909524</td>\n",
       "      <td>12.090476</td>\n",
       "      <td>3.180952</td>\n",
       "    </tr>\n",
       "    <tr>\n",
       "      <th>4</th>\n",
       "      <td>서울(108)</td>\n",
       "      <td>8.633333</td>\n",
       "      <td>7.366667</td>\n",
       "      <td>-1.266667</td>\n",
       "    </tr>\n",
       "    <tr>\n",
       "      <th>5</th>\n",
       "      <td>인천(112)</td>\n",
       "      <td>7.647619</td>\n",
       "      <td>7.580952</td>\n",
       "      <td>-0.066667</td>\n",
       "    </tr>\n",
       "  </tbody>\n",
       "</table>\n",
       "</div>"
      ],
      "text/plain": [
       "        지점        일교차      일최고기온     일최저기온\n",
       "0  광주(156)   9.476190  10.733333  1.257143\n",
       "1  대구(143)  11.323810  10.338095 -0.985714\n",
       "2  대전(133)  10.642857   9.252381 -1.390476\n",
       "3  부산(159)   8.909524  12.090476  3.180952\n",
       "4  서울(108)   8.633333   7.366667 -1.266667\n",
       "5  인천(112)   7.647619   7.580952 -0.066667"
      ]
     },
     "execution_count": 13,
     "metadata": {},
     "output_type": "execute_result"
    }
   ],
   "source": [
    "df3 = pd.DataFrame(\n",
    "    {'지점': 일교차.index.tolist(),\n",
    "     '일교차': 일교차.values.tolist(),\n",
    "     '일최고기온': df['일최고기온'].values.tolist(),\n",
    "     '일최저기온': df['일최저기온'].values.tolist()})\n",
    "df3"
   ]
  },
  {
   "cell_type": "code",
   "execution_count": 24,
   "id": "2a89c7b3",
   "metadata": {},
   "outputs": [
    {
     "name": "stderr",
     "output_type": "stream",
     "text": [
      "D:\\LKM\\anaconda\\envs\\pybook\\lib\\site-packages\\IPython\\core\\pylabtools.py:151: UserWarning: Glyph 8722 (\\N{MINUS SIGN}) missing from current font.\n",
      "  fig.canvas.print_figure(bytes_io, **kw)\n"
     ]
    },
    {
     "data": {
      "image/png": "[encoded data removed]",
      "text/plain": [
       "<Figure size 720x432 with 1 Axes>"
      ]
     },
     "metadata": {
      "needs_background": "light"
     },
     "output_type": "display_data"
    }
   ],
   "source": [
    "%matplotlib inline \n",
    "\n",
    "\n",
    "df3.plot('지점', y=['일교차', '일최고기온','일최저기온'],\n",
    "         figsize=(10, 6),\n",
    "         grid=True,\n",
    "         marker='o', \n",
    "         ms=3)\n",
    "\n",
    "plt.ylabel('온도') \n",
    "plt.xlabel('지점') \n",
    "plt.title('지점별 12월 기온') \n",
    "\n",
    "plt.show()"
   ]
  },
  {
   "cell_type": "markdown",
   "id": "07b6293b",
   "metadata": {},
   "source": [
    "[인사이트 도출 4 : 일최대풍속 평균과 평균보다 높은 지점]"
   ]
  },
  {
   "cell_type": "code",
   "execution_count": 27,
   "id": "d8868fd6",
   "metadata": {},
   "outputs": [
    {
     "name": "stdout",
     "output_type": "stream",
     "text": [
      "4.826984126984127\n",
      "['대구(143)', '부산(159)', '인천(112)']\n"
     ]
    }
   ],
   "source": [
    "전체풍속평균 = coldWave.일최대풍속.mean()\n",
    "print(전체풍속평균)\n",
    "\n",
    "지점풍속평균 = coldWave.groupby('지점')['일최대풍속'].mean()\n",
    "풍속평균이상 = 지점풍속평균[지점풍속평균 >= 전체풍속평균].index.tolist()\n",
    "print(풍속평균이상)"
   ]
  },
  {
   "cell_type": "markdown",
   "id": "7e444c50",
   "metadata": {},
   "source": [
    "[인사이트 도출 5 : 일평균상대습도 평균과 평귬보다 높은 지점]"
   ]
  },
  {
   "cell_type": "code",
   "execution_count": 26,
   "id": "bcad15d2",
   "metadata": {},
   "outputs": [
    {
     "name": "stdout",
     "output_type": "stream",
     "text": [
      "64.17460317460316\n",
      "['광주(156)', '대전(133)', '서울(108)']\n"
     ]
    }
   ],
   "source": [
    "전체습도평균 = coldWave.일평균상대습도.mean()\n",
    "print(전체습도평균)\n",
    "\n",
    "지점습도평균 = coldWave.groupby('지점')['일평균상대습도'].mean()\n",
    "습도평균이상 = 지점습도평균[지점습도평균 >= 전체습도평균].index.tolist()\n",
    "print(습도평균이상)"
   ]
  },
  {
   "cell_type": "code",
   "execution_count": null,
   "id": "9d788b36",
   "metadata": {},
   "outputs": [],
   "source": []
  }
 ],
 "metadata": {
  "kernelspec": {
   "display_name": "Python 3 (ipykernel)",
   "language": "python",
   "name": "python3"
  },
  "language_info": {
   "codemirror_mode": {
    "name": "ipython",
    "version": 3
   },
   "file_extension": ".py",
   "mimetype": "text/x-python",
   "name": "python",
   "nbconvert_exporter": "python",
   "pygments_lexer": "ipython3",
   "version": "3.8.12"
  }
 },
 "nbformat": 4,
 "nbformat_minor": 5
}
