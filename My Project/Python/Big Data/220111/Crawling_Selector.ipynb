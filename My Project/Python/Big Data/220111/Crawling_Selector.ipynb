{
 "cells": [
  {
   "cell_type": "code",
   "execution_count": 10,
   "id": "1d854fac",
   "metadata": {},
   "outputs": [],
   "source": [
    "import matplotlib.pyplot as plt\n",
    "import requests\n",
    "from bs4 import BeautifulSoup"
   ]
  },
  {
   "cell_type": "code",
   "execution_count": 11,
   "id": "17fc7a16",
   "metadata": {},
   "outputs": [],
   "source": [
    "from matplotlib import font_manager, rc # font_manager을 import\n",
    "font_path = \"C:/Windows/Fonts/H2HDRM.TTF\" # font의 지정 경로\n",
    "font = font_manager.FontProperties(fname=font_path).get_name()\n",
    "rc('font', family=font)"
   ]
  },
  {
   "cell_type": "code",
   "execution_count": 12,
   "id": "bd9dc340",
   "metadata": {},
   "outputs": [],
   "source": [
    "response = requests.get(\"https://movie.naver.com/movie/running/current.naver#\")"
   ]
  },
  {
   "cell_type": "code",
   "execution_count": 13,
   "id": "56957944",
   "metadata": {},
   "outputs": [],
   "source": [
    "ancient_text = response.text"
   ]
  },
  {
   "cell_type": "code",
   "execution_count": 14,
   "id": "9f41470f",
   "metadata": {},
   "outputs": [
    {
     "name": "stdout",
     "output_type": "stream",
     "text": [
      "1 . 씽2게더 / 별점:  9.41\n",
      "2 . 스파이더맨: 노 웨이 홈 / 별점:  8.92\n",
      "3 . 특송 / 별점:  8.35\n",
      "4 . 웨스트 사이드 스토리 / 별점:  7.05\n",
      "5 . 경관의 피 / 별점:  7.68\n",
      "6 . 하우스 오브 구찌 / 별점:  8.12\n",
      "7 . 드라이브 마이 카 / 별점:  8.66\n",
      "8 . 클리포드 더 빅 레드 독 / 별점:  8.67\n",
      "9 . 라임크라임 / 별점:  8.58\n",
      "10 . 청춘적니 / 별점:  7.20\n"
     ]
    }
   ],
   "source": [
    "soup_text = BeautifulSoup(ancient_text, 'html.parser')\n",
    "movie_title = soup_text.select('dt > a')\n",
    "movie_score = soup_text.select('a span.num')\n",
    "\n",
    "title_list = []\n",
    "score_list = []\n",
    "for i in range(10):\n",
    "    print(i+1, \".\" , movie_title[i].text, \"/ 별점: \" , movie_score[i].text)\n",
    "    title_list.append(movie_title[i].text)\n",
    "    score_list.append(float(movie_score[i].text))"
   ]
  },
  {
   "cell_type": "code",
   "execution_count": 15,
   "id": "85862713",
   "metadata": {},
   "outputs": [
    {
     "data": {
      "text/plain": [
       "[<a href=\"/movie/bi/mi/basic.naver?code=187320\">씽2게더</a>,\n",
       " <a href=\"/movie/bi/mi/basic.naver?code=208077\">스파이더맨: 노 웨이 홈</a>,\n",
       " <a href=\"/movie/bi/mi/basic.naver?code=186233\">특송</a>,\n",
       " <a href=\"/movie/bi/mi/basic.naver?code=180429\">웨스트 사이드 스토리</a>,\n",
       " <a href=\"/movie/bi/mi/basic.naver?code=190400\">경관의 피</a>,\n",
       " <a href=\"/movie/bi/mi/basic.naver?code=200892\">하우스 오브 구찌</a>,\n",
       " <a href=\"/movie/bi/mi/basic.naver?code=205623\">드라이브 마이 카</a>,\n",
       " <a href=\"/movie/bi/mi/basic.naver?code=210806\">클리포드 더 빅 레드 독</a>,\n",
       " <a href=\"/movie/bi/mi/basic.naver?code=198621\">라임크라임</a>,\n",
       " <a href=\"/movie/bi/mi/basic.naver?code=210853\">청춘적니</a>,\n",
       " <a href=\"/movie/bi/mi/basic.naver?code=16064\">해탄적일천</a>,\n",
       " <a href=\"/movie/bi/mi/basic.naver?code=159893\">킹스맨: 퍼스트 에이전트</a>,\n",
       " <a href=\"/movie/bi/mi/basic.naver?code=206654\">프랑스</a>,\n",
       " <a href=\"/movie/bi/mi/basic.naver?code=196548\">노웨어 스페셜</a>,\n",
       " <a href=\"/movie/bi/mi/basic.naver?code=203715\">너에게 가는 길</a>,\n",
       " <a href=\"/movie/bi/mi/basic.naver?code=118333\">사울 레이터: 인 노 그레이트 허리</a>,\n",
       " <a href=\"/movie/bi/mi/basic.naver?code=206641\">티탄</a>,\n",
       " <a href=\"/movie/bi/mi/basic.naver?code=201073\">코다</a>,\n",
       " <a href=\"/movie/bi/mi/basic.naver?code=32588\">아멜리에</a>,\n",
       " <a href=\"/movie/bi/mi/basic.naver?code=144935\">은판 위의 여인</a>,\n",
       " <a href=\"/movie/bi/mi/basic.naver?code=194838\">전장의 피아니스트</a>,\n",
       " <a href=\"/movie/bi/mi/basic.naver?code=188872\">사막을 건너 호수를 지나</a>,\n",
       " <a href=\"/movie/bi/mi/basic.naver?code=212879\">걸즈 앤 판처 최종장 제3화</a>,\n",
       " <a href=\"/movie/bi/mi/basic.naver?code=208857\">비욘드라이브 더 무비 : 엔시티 레조넌스</a>,\n",
       " <a href=\"/movie/bi/mi/basic.naver?code=88723\">비올레타</a>,\n",
       " <a href=\"/movie/bi/mi/basic.naver?code=213205\">바이올렛 에버가든 오케스트라 콘서트 2021</a>,\n",
       " <a href=\"/movie/bi/mi/basic.naver?code=208872\">극장판 소드 아트 온라인 -프로그레시브- 별 없는 밤의 아리아</a>,\n",
       " <a href=\"/movie/bi/mi/basic.naver?code=211095\">백조의 호수</a>,\n",
       " <a href=\"/movie/bi/mi/basic.naver?code=204649\">해피 뉴 이어</a>,\n",
       " <a href=\"/movie/bi/mi/basic.naver?code=205625\">램</a>,\n",
       " <a href=\"/movie/bi/mi/basic.naver?code=213204\">천년의 노래, 리버스</a>,\n",
       " <a href=\"/movie/bi/mi/basic.naver?code=188351\">밀라노 두오모 콘서트</a>,\n",
       " <a href=\"/movie/bi/mi/basic.naver?code=19031\">러브레터</a>,\n",
       " <a href=\"/movie/bi/mi/basic.naver?code=182362\">유체이탈자</a>,\n",
       " <a href=\"/movie/bi/mi/basic.naver?code=210895\">타이거마스크</a>,\n",
       " <a href=\"/movie/bi/mi/basic.naver?code=195631\">레전더리 콘서트: 헤르베르트 폰 카라얀</a>,\n",
       " <a href=\"/movie/bi/mi/basic.naver?code=201692\">숏버스 배우행</a>,\n",
       " <a href=\"/movie/bi/mi/basic.naver?code=187312\">프렌치 디스패치</a>,\n",
       " <a href=\"/movie/bi/mi/basic.naver?code=142855\">해피 아워</a>,\n",
       " <a href=\"/movie/bi/mi/basic.naver?code=197555\">레전더리 콘서트: 카를로스 클라이버</a>,\n",
       " <a href=\"/movie/bi/mi/basic.naver?code=191600\">매트릭스: 리저렉션</a>,\n",
       " <a href=\"/movie/bi/mi/basic.naver?code=211612\">신데렐라 2: 마법에 걸린 왕자</a>,\n",
       " <a href=\"/movie/bi/mi/basic.naver?code=187729\">노트르담</a>,\n",
       " <a href=\"/movie/bi/mi/basic.naver?code=208462\">로그 인 벨지움</a>,\n",
       " <a href=\"/movie/bi/mi/basic.naver?code=208980\">뱅드림! 필름 라이브 세컨드 스테이지</a>,\n",
       " <a href=\"/movie/bi/mi/basic.naver?code=210282\">엔칸토: 마법의 세계</a>,\n",
       " <a href=\"/movie/bi/mi/basic.naver?code=193857\">파워 오브 도그</a>,\n",
       " <a href=\"/movie/bi/mi/basic.naver?code=190763\">퍼스트 카우</a>,\n",
       " <a href=\"/movie/bi/mi/basic.naver?code=196557\">피부를 판 남자</a>,\n",
       " <a href=\"/movie/bi/mi/basic.naver?code=31607\">고양이를 부탁해</a>,\n",
       " <a href=\"/movie/bi/mi/basic.naver?code=26539\">그 여름 가장 조용한 바다</a>,\n",
       " <a href=\"/movie/bi/mi/basic.naver?code=27350\">기쿠지로의 여름</a>,\n",
       " <a href=\"/movie/bi/mi/basic.naver?code=188058\">끝없음에 관하여</a>,\n",
       " <a href=\"/movie/bi/mi/basic.naver?code=197063\">나는 조선사람입니다</a>,\n",
       " <a href=\"/movie/bi/mi/basic.naver?code=206608\">당신얼굴 앞에서</a>,\n",
       " <a href=\"/movie/bi/mi/basic.naver?code=192614\">돈 룩 업</a>,\n",
       " <a href=\"/movie/bi/mi/basic.naver?code=210266\">보는 것을 사랑한다</a>,\n",
       " <a href=\"/movie/bi/mi/basic.naver?code=75237\">아웃레이지</a>,\n",
       " <a href=\"/movie/bi/mi/basic.naver?code=73558\">장 미쉘 바스키아: 더 레이디언트 차일드</a>,\n",
       " <a href=\"/movie/bi/mi/basic.naver?code=198497\">최선의 삶</a>,\n",
       " <a href=\"/movie/bi/mi/basic.naver?code=210808\">틱, 틱... 붐!</a>,\n",
       " <a href=\"/movie/bi/mi/basic.naver?code=198171\">필로포비아</a>,\n",
       " <a href=\"/movie/bi/mi/basic.naver?code=198471\">행복의 속도</a>]"
      ]
     },
     "execution_count": 15,
     "metadata": {},
     "output_type": "execute_result"
    }
   ],
   "source": [
    "movie_title"
   ]
  },
  {
   "cell_type": "code",
   "execution_count": 16,
   "id": "69c9c8e3",
   "metadata": {},
   "outputs": [
    {
     "data": {
      "text/plain": [
       "[<span class=\"num\">9.41</span>,\n",
       " <span class=\"num\">8.92</span>,\n",
       " <span class=\"num\">8.35</span>,\n",
       " <span class=\"num\">7.05</span>,\n",
       " <span class=\"num\">7.68</span>,\n",
       " <span class=\"num\">8.12</span>,\n",
       " <span class=\"num\">8.66</span>,\n",
       " <span class=\"num\">8.67</span>,\n",
       " <span class=\"num\">8.58</span>,\n",
       " <span class=\"num\">7.20</span>,\n",
       " <span class=\"num\">8.42</span>,\n",
       " <span class=\"num\">8.08</span>,\n",
       " <span class=\"num\">7.95</span>,\n",
       " <span class=\"num\">8.55</span>,\n",
       " <span class=\"num\">9.25</span>,\n",
       " <span class=\"num\">6.50</span>,\n",
       " <span class=\"num\">6.99</span>,\n",
       " <span class=\"num\">9.24</span>,\n",
       " <span class=\"num\">8.81</span>,\n",
       " <span class=\"num\">5.91</span>,\n",
       " <span class=\"num\">8.67</span>,\n",
       " <span class=\"num\">8.50</span>,\n",
       " <span class=\"num\">9.00</span>,\n",
       " <span class=\"num\">10.00</span>,\n",
       " <span class=\"num\">7.38</span>,\n",
       " <span class=\"num\">10.00</span>,\n",
       " <span class=\"num\">8.12</span>,\n",
       " <span class=\"num\">0.00</span>,\n",
       " <span class=\"num\">7.08</span>,\n",
       " <span class=\"num\">6.43</span>,\n",
       " <span class=\"num\">0.00</span>,\n",
       " <span class=\"num\">10.00</span>,\n",
       " <span class=\"num\">9.12</span>,\n",
       " <span class=\"num\">7.57</span>,\n",
       " <span class=\"num\">5.81</span>,\n",
       " <span class=\"num\">8.00</span>,\n",
       " <span class=\"num\">9.00</span>,\n",
       " <span class=\"num\">8.00</span>,\n",
       " <span class=\"num\">8.95</span>,\n",
       " <span class=\"num\">0.00</span>,\n",
       " <span class=\"num\">5.50</span>,\n",
       " <span class=\"num\">4.55</span>,\n",
       " <span class=\"num\">6.33</span>,\n",
       " <span class=\"num\">7.76</span>,\n",
       " <span class=\"num\">8.86</span>,\n",
       " <span class=\"num\">8.29</span>,\n",
       " <span class=\"num\">7.74</span>,\n",
       " <span class=\"num\">8.27</span>,\n",
       " <span class=\"num\">7.87</span>,\n",
       " <span class=\"num\">8.80</span>,\n",
       " <span class=\"num\">8.72</span>,\n",
       " <span class=\"num\">8.91</span>,\n",
       " <span class=\"num\">7.45</span>,\n",
       " <span class=\"num\">9.27</span>,\n",
       " <span class=\"num\">7.44</span>,\n",
       " <span class=\"num\">8.71</span>,\n",
       " <span class=\"num\">9.67</span>,\n",
       " <span class=\"num\">7.84</span>,\n",
       " <span class=\"num\">8.92</span>,\n",
       " <span class=\"num\">8.14</span>,\n",
       " <span class=\"num\">8.76</span>,\n",
       " <span class=\"num\">5.67</span>,\n",
       " <span class=\"num\">8.91</span>]"
      ]
     },
     "execution_count": 16,
     "metadata": {},
     "output_type": "execute_result"
    }
   ],
   "source": [
    "movie_score"
   ]
  },
  {
   "cell_type": "code",
   "execution_count": null,
   "id": "c96b14a1",
   "metadata": {},
   "outputs": [],
   "source": []
  },
  {
   "cell_type": "code",
   "execution_count": null,
   "id": "2a770668",
   "metadata": {},
   "outputs": [],
   "source": []
  },
  {
   "cell_type": "code",
   "execution_count": null,
   "id": "cfb82cf1",
   "metadata": {},
   "outputs": [],
   "source": []
  },
  {
   "cell_type": "code",
   "execution_count": null,
   "id": "137f7d29",
   "metadata": {},
   "outputs": [],
   "source": []
  },
  {
   "cell_type": "code",
   "execution_count": null,
   "id": "ac9de2ce",
   "metadata": {},
   "outputs": [],
   "source": []
  },
  {
   "cell_type": "code",
   "execution_count": null,
   "id": "599008f1",
   "metadata": {},
   "outputs": [],
   "source": []
  },
  {
   "cell_type": "code",
   "execution_count": null,
   "id": "680d77fc",
   "metadata": {},
   "outputs": [],
   "source": []
  },
  {
   "cell_type": "code",
   "execution_count": null,
   "id": "73abc333",
   "metadata": {},
   "outputs": [],
   "source": []
  },
  {
   "cell_type": "code",
   "execution_count": null,
   "id": "00036f87",
   "metadata": {},
   "outputs": [],
   "source": []
  },
  {
   "cell_type": "code",
   "execution_count": 7,
   "id": "e768fbf0",
   "metadata": {},
   "outputs": [
    {
     "data": {
      "image/png": "[encoded data removed]",
      "text/plain": [
       "<Figure size 720x432 with 1 Axes>"
      ]
     },
     "metadata": {},
     "output_type": "display_data"
    }
   ],
   "source": [
    "x = title_list\n",
    "y = score_list\n",
    "\n",
    "plt.figure(figsize=(10,6))\n",
    "plt.bar(x, y, color =['r', 'c' , 'c' , 'c' , 'c' , 'c' , 'c' , 'c' , 'c' , 'c'], \n",
    "        edgecolor = 'w', width = 0.5 , linewidth= 2.5)\n",
    "plt.xlabel('영화 제목')\n",
    "plt.ylabel('평점')\n",
    "plt.xticks(rotation=90)\n",
    "plt.style.use('ggplot')\n",
    "plt.title(\"영화 평점\")\n",
    "for i, v in enumerate(x):\n",
    "    plt.text(v, y[i], y[i],            \n",
    "             fontsize = 9, \n",
    "             color='k',\n",
    "             horizontalalignment='center',\n",
    "             verticalalignment='bottom')\n",
    "plt.show()"
   ]
  },
  {
   "cell_type": "code",
   "execution_count": null,
   "id": "bd68c13f",
   "metadata": {},
   "outputs": [],
   "source": []
  },
  {
   "cell_type": "code",
   "execution_count": null,
   "id": "43e8afa6",
   "metadata": {},
   "outputs": [],
   "source": []
  },
  {
   "cell_type": "code",
   "execution_count": null,
   "id": "bf92caca",
   "metadata": {},
   "outputs": [],
   "source": []
  },
  {
   "cell_type": "code",
   "execution_count": null,
   "id": "5bbcd425",
   "metadata": {},
   "outputs": [],
   "source": []
  },
  {
   "cell_type": "code",
   "execution_count": null,
   "id": "506b4c7b",
   "metadata": {},
   "outputs": [],
   "source": []
  },
  {
   "cell_type": "code",
   "execution_count": null,
   "id": "08360239",
   "metadata": {},
   "outputs": [],
   "source": []
  },
  {
   "cell_type": "code",
   "execution_count": null,
   "id": "3c3e36d2",
   "metadata": {},
   "outputs": [],
   "source": []
  },
  {
   "cell_type": "code",
   "execution_count": null,
   "id": "52e75445",
   "metadata": {},
   "outputs": [],
   "source": []
  },
  {
   "cell_type": "code",
   "execution_count": null,
   "id": "6d6f1b4c",
   "metadata": {},
   "outputs": [],
   "source": []
  }
 ],
 "metadata": {
  "kernelspec": {
   "display_name": "Python 3 (ipykernel)",
   "language": "python",
   "name": "python3"
  },
  "language_info": {
   "codemirror_mode": {
    "name": "ipython",
    "version": 3
   },
   "file_extension": ".py",
   "mimetype": "text/x-python",
   "name": "python",
   "nbconvert_exporter": "python",
   "pygments_lexer": "ipython3",
   "version": "3.9.7"
  }
 },
 "nbformat": 4,
 "nbformat_minor": 5
}
