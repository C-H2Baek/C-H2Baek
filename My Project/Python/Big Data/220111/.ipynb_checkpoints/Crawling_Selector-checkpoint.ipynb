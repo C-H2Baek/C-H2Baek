{
 "cells": [
  {
   "cell_type": "code",
   "execution_count": 119,
   "id": "c42342bc",
   "metadata": {},
   "outputs": [],
   "source": [
    "import pandas as pd\n",
    "import numpy as np\n",
    "import matplotlib.pyplot as plt\n",
    "import requests\n",
    "from bs4 import BeautifulSoup"
   ]
  },
  {
   "cell_type": "code",
   "execution_count": 120,
   "id": "c8f1cd1e",
   "metadata": {},
   "outputs": [],
   "source": [
    "from matplotlib import font_manager, rc # font_manager을 import\n",
    "font_path = \"C:/Windows/Fonts/H2HDRM.TTF\" # font의 지정 경로\n",
    "font = font_manager.FontProperties(fname=font_path).get_name()\n",
    "rc('font', family=font)"
   ]
  },
  {
   "cell_type": "code",
   "execution_count": 121,
   "id": "f029707f",
   "metadata": {},
   "outputs": [],
   "source": [
    "response = requests.get(\"https://movie.naver.com/movie/running/current.naver#\")"
   ]
  },
  {
   "cell_type": "code",
   "execution_count": 122,
   "id": "2dd76555",
   "metadata": {},
   "outputs": [],
   "source": [
    "ancient_text = response.text"
   ]
  },
  {
   "cell_type": "code",
   "execution_count": 123,
   "id": "c07720b0",
   "metadata": {},
   "outputs": [
    {
     "name": "stdout",
     "output_type": "stream",
     "text": [
      "1 . 씽2게더 / 별점:  9.41\n",
      "2 . 경관의 피 / 별점:  7.72\n",
      "3 . 스파이더맨: 노 웨이 홈 / 별점:  8.92\n",
      "4 . 킹스맨: 퍼스트 에이전트 / 별점:  8.09\n",
      "5 . 드라이브 마이 카 / 별점:  8.73\n",
      "6 . 라임크라임 / 별점:  8.62\n",
      "7 . 해탄적일천 / 별점:  8.48\n",
      "8 . 해피 뉴 이어 / 별점:  7.12\n",
      "9 . 해피 아워 / 별점:  9.10\n",
      "10 . 코다 / 별점:  9.23\n"
     ]
    }
   ],
   "source": [
    "soup_text = BeautifulSoup(ancient_text, 'html.parser')\n",
    "movie_title = soup_text.select('dt > a')\n",
    "movie_score = soup_text.select('a span.num')\n",
    "\n",
    "title_list = []\n",
    "score_list = []\n",
    "for i in range(10):\n",
    "    print(i+1, \".\" , movie_title[i].text, \"/ 별점: \" , movie_score[i].text)\n",
    "    title_list.append(movie_title[i].text)\n",
    "    score_list.append(float(movie_score[i].text))"
   ]
  },
  {
   "cell_type": "code",
   "execution_count": 174,
   "id": "4b45e686",
   "metadata": {},
   "outputs": [
    {
     "data": {
      "image/png": "[encoded data removed]",
      "text/plain": [
       "<Figure size 720x432 with 1 Axes>"
      ]
     },
     "metadata": {},
     "output_type": "display_data"
    }
   ],
   "source": [
    "x = title_list\n",
    "y = score_list\n",
    "\n",
    "plt.figure(figsize=(10,6))\n",
    "plt.bar(x, y, color =['r', 'c' , 'c' , 'c' , 'c' , 'c' , 'c' , 'c' , 'c' , 'c'], \n",
    "        edgecolor = 'w', width = 0.5 , linewidth= 2.5)\n",
    "plt.xlabel('Movie Name')\n",
    "plt.ylabel('평점')\n",
    "plt.xticks(rotation=90)\n",
    "plt.style.use('ggplot')\n",
    "plt.title(\"영화 제목\")\n",
    "plt.show()"
   ]
  },
  {
   "cell_type": "code",
   "execution_count": 116,
   "id": "26863e6f",
   "metadata": {},
   "outputs": [
    {
     "data": {
      "text/plain": [
       "['코다']"
      ]
     },
     "execution_count": 116,
     "metadata": {},
     "output_type": "execute_result"
    }
   ],
   "source": []
  },
  {
   "cell_type": "code",
   "execution_count": 96,
   "id": "9e09ed66",
   "metadata": {},
   "outputs": [
    {
     "name": "stdout",
     "output_type": "stream",
     "text": [
      "1. 씽2게더 / 별점:9.41\n",
      "2. 경관의 피 / 별점:7.72\n",
      "3. 스파이더맨: 노 웨이 홈 / 별점:8.92\n",
      "4. 킹스맨: 퍼스트 에이전트 / 별점:8.09\n",
      "5. 드라이브 마이 카 / 별점:8.73\n",
      "6. 라임크라임 / 별점:8.62\n",
      "7. 해탄적일천 / 별점:8.48\n",
      "8. 해피 뉴 이어 / 별점:7.12\n",
      "9. 해피 아워 / 별점:9.10\n",
      "10. 코다 / 별점:9.23\n"
     ]
    }
   ],
   "source": [
    "movies = soup_text.select('.lst_dsc')\n",
    "num = 0\n",
    "\n",
    "movieList = {}\n",
    "\n",
    "for movie in movies:\n",
    "    movie_name = movie.select_one('dt > a').text\n",
    "    if(movie_name != None):\n",
    "        score = movie.select_one('.num').text\n",
    "        print(f'{num+1}. {movie_name} / 별점:{ score}')\n",
    "        num += 1\n",
    "        movieList[movie_name] = score\n",
    "        if(num == 10):\n",
    "            break;\n"
   ]
  },
  {
   "cell_type": "code",
   "execution_count": 87,
   "id": "afbaa80d",
   "metadata": {},
   "outputs": [],
   "source": []
  },
  {
   "cell_type": "code",
   "execution_count": 124,
   "id": "6c747c1f",
   "metadata": {},
   "outputs": [
    {
     "data": {
      "text/plain": [
       "['씽2게더',\n",
       " '경관의 피',\n",
       " '스파이더맨: 노 웨이 홈',\n",
       " '킹스맨: 퍼스트 에이전트',\n",
       " '드라이브 마이 카',\n",
       " '라임크라임',\n",
       " '해탄적일천',\n",
       " '해피 뉴 이어',\n",
       " '해피 아워',\n",
       " '코다']"
      ]
     },
     "execution_count": 124,
     "metadata": {},
     "output_type": "execute_result"
    }
   ],
   "source": []
  },
  {
   "cell_type": "code",
   "execution_count": 92,
   "id": "945bb109",
   "metadata": {},
   "outputs": [
    {
     "data": {
      "image/png": "[encoded data removed]",
      "text/plain": [
       "<Figure size 432x288 with 1 Axes>"
      ]
     },
     "metadata": {
      "needs_background": "light"
     },
     "output_type": "display_data"
    }
   ],
   "source": []
  },
  {
   "cell_type": "code",
   "execution_count": null,
   "id": "33ff7ae5",
   "metadata": {},
   "outputs": [],
   "source": []
  }
 ],
 "metadata": {
  "kernelspec": {
   "display_name": "Python 3 (ipykernel)",
   "language": "python",
   "name": "python3"
  },
  "language_info": {
   "codemirror_mode": {
    "name": "ipython",
    "version": 3
   },
   "file_extension": ".py",
   "mimetype": "text/x-python",
   "name": "python",
   "nbconvert_exporter": "python",
   "pygments_lexer": "ipython3",
   "version": "3.9.7"
  }
 },
 "nbformat": 4,
 "nbformat_minor": 5
}
